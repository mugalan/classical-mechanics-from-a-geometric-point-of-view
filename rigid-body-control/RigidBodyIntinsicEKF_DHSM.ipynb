{
  "nbformat": 4,
  "nbformat_minor": 0,
  "metadata": {
    "colab": {
      "provenance": [],
      "include_colab_link": true
    },
    "kernelspec": {
      "name": "python3",
      "display_name": "Python 3"
    },
    "language_info": {
      "name": "python"
    }
  },
  "cells": [
    {
      "cell_type": "markdown",
      "metadata": {
        "id": "view-in-github",
        "colab_type": "text"
      },
      "source": [
        "<a href=\"https://colab.research.google.com/github/mugalan/classical-mechanics-from-a-geometric-point-of-view/blob/main/rigid-body-control/RigidBodyIntinsicEKF_DHSM.ipynb\" target=\"_parent\"><img src=\"https://colab.research.google.com/assets/colab-badge.svg\" alt=\"Open In Colab\"/></a>"
      ]
    },
    {
      "cell_type": "markdown",
      "source": [
        "# Rigid Body Intrinsic EKF"
      ],
      "metadata": {
        "id": "xKy4CKmkJ5vG"
      }
    },
    {
      "cell_type": "code",
      "metadata": {
        "id": "TqSk1gQrwgIR"
      },
      "source": [
        "import numpy as np\n",
        "import scipy as sp\n",
        "from scipy.integrate import odeint\n",
        "import math\n",
        "from numpy import linalg\n",
        "import sympy\n",
        "from sympy import symbols\n",
        "from sympy import *\n",
        "\n",
        "import plotly.graph_objects as go\n",
        "import plotly.express as px\n",
        "from sympy.physics.mechanics import dynamicsymbols, init_vprinting\n",
        "from IPython.display import display, Math, Latex"
      ],
      "execution_count": null,
      "outputs": []
    },
    {
      "cell_type": "code",
      "source": [
        "!pip install --quiet \"git+https://github.com/mugalan/classical-mechanics-from-a-geometric-point-of-view.git#egg=rigid-body-sim\"\n",
        "import sims\n",
        "mr = sims.RigidBodySim()"
      ],
      "metadata": {
        "id": "v-5Ku-WGuw55"
      },
      "execution_count": null,
      "outputs": []
    },
    {
      "cell_type": "markdown",
      "source": [
        "# The Kalman Filter on $\\mathbb{R}^n$"
      ],
      "metadata": {
        "id": "VV5RTSCwuEB8"
      }
    },
    {
      "cell_type": "markdown",
      "source": [
        "Consider a system modelled by a Markov process\n",
        "\\begin{align}\n",
        "x_k &= A_k\\,x_{k-1} + G_k\\,w_{k-1}, \\qquad\\\\\n",
        "y_k & = H_k\\,x_k + z_k. \\qquad\n",
        "\\end{align}\n",
        "We assume $p(w_k)=\\mathscr{N}(0,\\Sigma_p)$ and $p(z_k)=\\mathscr{N}(0,\\Sigma_m)$, where $\\mathscr{N}(\\mu,\\Sigma)$ denotes a multivariate Gaussian with mean $\\mu$ and covariance $\\Sigma$.\n",
        "\n",
        "Let $Y_k$ denote the event corresponding to a realization of $\\{y_1,\\dots,y_k\\}$. Define\n",
        "\\begin{align}\n",
        "\\widehat{x}_k^+ &\\triangleq x_k|Y_k,\\qquad\\\\\n",
        "\\widehat{x}_k^- &\\triangleq x_k|Y_{k-1},\\qquad\\\\\n",
        "y_k^- &\\triangleq y_k|Y_{k-1}.\\\\\n",
        "\\end{align}\n",
        "Assume the model\n",
        "\\begin{align}\n",
        "\\widehat{x}_k^- &= A_k\\,x_{k-1}^+ + G_{k-1}\\,w_{k-1}, \\qquad\\\\\n",
        "y_k^- &= H_k\\,\\widehat{x}_k^- + z_k. \\qquad\n",
        "\\end{align}\n",
        "If $p(x_0^-)=\\mathscr{N}(m_0,P_0)$, then since $p(w_k)=\\mathscr{N}(0,\\Sigma_p)$, the linear system above implies\n",
        "$p(x_k|Y_{k-1})=p(\\widehat{x}_k^-)=\\mathscr{N}(m_k^-,P_k^-)$,\n",
        "with predicted mean and covariance\n",
        "\\begin{align}\n",
        "m_k^- &= A_k\\,m_{k-1}, \\qquad\\\\\n",
        "P_k^- &= A_k\\,P_{k-1}\\,A_k^{T} + G_k\\,\\Sigma_p\\,G_k^{T}. \\qquad\n",
        "\\end{align}\n",
        "Here $p(x_k|Y_k)=p(\\widehat{x}_k^+)=\\mathscr{N}(m_k,P_k)$.  \n",
        "\n",
        "Furthermore, since $p(z_k)=\\mathscr{N}(0,\\Sigma_m)$ we have,\n",
        "\\begin{align}\n",
        "p(y_k|Y_{k-1})=\\mathscr{N}\\big(H_k m_k^-,\\; H_k P_k^- H_k^{T}+\\Sigma_m\\big),\n",
        "\\end{align}\n",
        "so the joint distribution is\n",
        "\\begin{align}\n",
        "p\n",
        "\\begin{pmatrix}x_k|Y_{k-1}\\\\[2pt] y_k|Y_{k-1}\\end{pmatrix}\n",
        "=\n",
        "\\mathscr{N}\\left(\n",
        "\\begin{bmatrix}\n",
        "m_k^- \\\\\n",
        "H_k m_k^-\n",
        "\\end{bmatrix},\n",
        "\\begin{bmatrix}\n",
        "P_k^- & P_k^- H_k^{T} \\\\\n",
        "H_k P_k^- & H_k P_k^- H_k^{T} + \\Sigma_m\n",
        "\\end{bmatrix}\n",
        "\\right).\n",
        "\\end{align}\n",
        "Then from the properties of multivariate normals, the conditional distribution $p(x_k|Y_k)$ is\n",
        "\\begin{align}\n",
        "p(x_k|Y_k)=\\mathscr{N}\\Big(\n",
        "m_k^- + P_k^- H_k^{T}\\!\\big(H_k P_k^- H_k^{T}+\\Sigma_m\\big)^{-1}\\!(y_k - H_k m_k^-),\\;\n",
        "P_k^- - P_k^- H_k^{T}\\!\\big(H_k P_k^- H_k^{T}+\\Sigma_m\\big)^{-1}\\!H_k P_k^-\n",
        "\\Big). \\quad\n",
        "\\end{align}\n",
        "\n",
        "Thus the updated mean and covariance are\n",
        "\\begin{align}\n",
        "K_k &\\triangleq P_k^- H_k^{T}\\!\\big(H_k P_k^- H_k^{T}+\\Sigma_m\\big)^{-1}, \\qquad \\\\\n",
        "m_k &= m_k^- + K_k\\,(y_k - H_k m_k^-), \\qquad \\\\\n",
        "P_k &= (I - K_k H_k)\\,P_k^-. \\qquad\n",
        "\\end{align}\n",
        "Here $\\Sigma_p = \\mathbb{E}(w_k w_k^{T})$ and $\\Sigma_m=\\mathbb{E}(z_k z_k^{T})$. Defining the estimation error $e_k \\triangleq x_k - m_k$, we have\n",
        "\\begin{align}\n",
        "e_k &= (I-K_k H_k) A_k e_{k-1} + (I-K_k H_k) w_{k-1} - K_k z_k,\\\\\n",
        "P_k &= (I-K_k H_k)\\big(A_k P_{k-1} A_k^{T} + \\Sigma_p\\big).\n",
        "\\end{align}"
      ],
      "metadata": {
        "id": "Pkq2EdvFlAGk"
      }
    },
    {
      "cell_type": "markdown",
      "source": [
        "### SImulation example"
      ],
      "metadata": {
        "id": "lMFQfzDKLh4X"
      }
    },
    {
      "cell_type": "code",
      "source": [
        "# 2D position-only measurements (p=2), CV model in x & y\n",
        "def make_cv2d(\n",
        "    dt=0.1,\n",
        "    q=1e-2,\n",
        "    r=0.5,\n",
        "    x0=(0, 0, 1, 0.5),\n",
        "    seed=0,\n",
        "    *,\n",
        "    use_G=True,\n",
        "    noise_model=\"accel_white\",\n",
        "):\n",
        "    \"\"\"\n",
        "    Build a 2D constant-velocity (CV) linear-Gaussian system.\n",
        "\n",
        "    States: x = [x, y, vx, vy]^T\n",
        "      A = [[1, 0, dt, 0 ],\n",
        "           [0, 1, 0 , dt],\n",
        "           [0, 0, 1 , 0 ],\n",
        "           [0, 0, 0 , 1 ]]\n",
        "\n",
        "    Measurements: y = [x, y]^T  (position only)\n",
        "\n",
        "    Process-noise options\n",
        "    ---------------------\n",
        "    - use_G=True, noise_model='accel_white'  (default):\n",
        "        Uses an explicit G that maps a 2D white acceleration noise (w ~ N(0, q I_2))\n",
        "        into the state:\n",
        "            G = [[dt^2/2,     0   ],\n",
        "                 [   0  ,  dt^2/2],\n",
        "                 [  dt ,     0   ],\n",
        "                 [   0 ,    dt   ]]\n",
        "        Sigma_p = q * I_2   (in w-space)\n",
        "        → State-space covariance is G Sigma_p G^T\n",
        "        (This is the common “white-acceleration” CV model.)\n",
        "\n",
        "    - use_G=False:\n",
        "        Legacy behavior (no G). We provide the classic state-space Q directly\n",
        "        corresponding to (velocity random-walk discretization):\n",
        "            Q_block = [[dt^3/3, dt^2/2],\n",
        "                       [dt^2/2, dt     ]] * q\n",
        "        Q = blockdiag(Q_block, Q_block)\n",
        "        Sigma_p = Q  (already in state space), G=None\n",
        "\n",
        "    Notes\n",
        "    -----\n",
        "    The two variants imply slightly different discrete-time process covariances.\n",
        "    Pick the one that matches your physical assumption / reference text.\n",
        "    \"\"\"\n",
        "    A = np.array([\n",
        "        [1, 0, dt,  0],\n",
        "        [0, 1,  0, dt],\n",
        "        [0, 0,  1,  0],\n",
        "        [0, 0,  0,  1],\n",
        "    ])\n",
        "    H = np.array([\n",
        "        [1, 0, 0, 0],\n",
        "        [0, 1, 0, 0],\n",
        "    ])\n",
        "    R = np.eye(2) * (r**2)\n",
        "\n",
        "    if use_G:\n",
        "        if noise_model != \"accel_white\":\n",
        "            raise ValueError(\"When use_G=True, supported noise_model is only 'accel_white'.\")\n",
        "        # White acceleration injected into vx, vy\n",
        "        G = np.array([\n",
        "            [0.5*dt*dt, 0.0       ],\n",
        "            [0.0      , 0.5*dt*dt],\n",
        "            [dt       , 0.0       ],\n",
        "            [0.0      , dt        ],\n",
        "        ])\n",
        "        Sigma_p = q * np.eye(2)  # w-space covariance (2x2)\n",
        "        return sims.LinearGaussianSystemSyms(\n",
        "            A=A, H=H, Sigma_p=Sigma_p, Sigma_m=R,\n",
        "            x0=np.asarray(x0, float),\n",
        "            rng=np.random.default_rng(seed),\n",
        "            G=G\n",
        "        )\n",
        "    else:\n",
        "        # Legacy/state-space Q (velocity random-walk discretization)\n",
        "        Q_block = np.array([[dt**3/3, dt**2/2],\n",
        "                            [dt**2/2, dt      ]], dtype=float) * q\n",
        "        Q = np.block([\n",
        "            [Q_block,               np.zeros((2, 2))],\n",
        "            [np.zeros((2, 2)),      Q_block        ],\n",
        "        ])\n",
        "        return sims.LinearGaussianSystemSyms(\n",
        "            A=A, H=H, Sigma_p=Q, Sigma_m=R,\n",
        "            x0=np.asarray(x0, float),\n",
        "            rng=np.random.default_rng(seed),\n",
        "            G=G\n",
        "        )"
      ],
      "metadata": {
        "id": "5OT1oykWxfYm"
      },
      "execution_count": null,
      "outputs": []
    },
    {
      "cell_type": "code",
      "source": [
        "sys = make_cv2d(dt=0.1, q=1e-2, r=0.5, x0=(0,0, 0.5, -0.2), seed=7)\n",
        "X2, Y2 = sys.simulate(T=300)\n",
        "sys.plot_y(Y2, nbins=40, component_labels=[\"pos_x\", \"pos_y\"])"
      ],
      "metadata": {
        "id": "hjtKTlXxxi2f"
      },
      "execution_count": null,
      "outputs": []
    },
    {
      "cell_type": "code",
      "source": [
        "# Option A: simulate 300 steps internally, starting from broad prior\n",
        "M, Yhat= sys.filter_with_kf_and_plot(T=300, m0=np.array([0,0, 0,0]), P0=np.eye(4)*100,\n",
        "                                      component_labels=[\"pos_x\",\"pos_y\"], show=True)\n",
        "\n",
        "# Option B: if you already have measurements Y, just pass them:\n",
        "# X, Y = sys.simulate(T=300)\n",
        "# M, Yhat = sys.filter_with_kf_and_plot(Y=Y, m0=np.array([0,0, 0,0]), P0=np.eye(4)*100,\n",
        "#                                       component_labels=[\"pos_x\",\"pos_y\"])"
      ],
      "metadata": {
        "id": "V3E_2SVWxtwo"
      },
      "execution_count": null,
      "outputs": []
    },
    {
      "cell_type": "markdown",
      "source": [
        "## 1-D Example"
      ],
      "metadata": {
        "id": "ewQ8JDxPIyFZ"
      }
    },
    {
      "cell_type": "markdown",
      "source": [
        "Let the scalar linear–Gaussian model be\n",
        "\\begin{aligned}\n",
        "x_k &= a\\,x_{k-1} + w_{k-1},\\qquad w_{k-1}\\sim\\mathscr N(0,q),\\\\\n",
        "y_k &= h\\,x_k + z_k,\\qquad\\;\\;\\;\\; z_k\\sim\\mathscr N(0,r),\n",
        "\\end{aligned}\n",
        "with prior $x_0\\sim \\mathscr{N}(m_0,P_0)$. Define $Y_{k-1}=\\{y_1,\\dots,y_{k-1}\\}$.\n",
        "\n",
        "Prediction:\n",
        "\n",
        "\\begin{aligned}\n",
        "m_k^- &= a\\,m_{k-1},\\\\[2pt]\n",
        "P_k^- &= a^2 P_{k-1} + q.\n",
        "\\end{aligned}\n",
        "\n",
        "Innovation (measurement) model and variance:\n",
        "\\begin{aligned}\n",
        "v_k &\\triangleq y_k - h\\,m_k^-,\\\\[2pt]\n",
        "S_k &= h^2 P_k^- + r.\n",
        "\\end{aligned}\n",
        "\n",
        "Kalman gain:\n",
        "\\begin{align}\n",
        "K_k = \\dfrac{P_k^-\\,h}{S_k}.\n",
        "\\end{align}\n",
        "\n",
        "Update:\n",
        "\\begin{aligned}\n",
        "m_k &= m_k^- + K_k\\,v_k\n",
        "= m_k^- + \\frac{P_k^- h}{S_k}\\bigl(y_k - h\\,m_k^-\\bigr),\\\\[6pt]\n",
        "P_k &= (1 - K_k h)\\,P_k^-\n",
        "= \\Bigl(1 - \\frac{P_k^- h^2}{S_k}\\Bigr) P_k^- .\n",
        "\\end{aligned}\n",
        "\n",
        "Predictive measurement distribution (before seeing y_k):\n",
        "\\begin{align}\n",
        "p(y_k | Y_{k-1})=\\mathscr N\\bigl(h\\,m_k^-,\\; h^2 P_k^- + r\\bigr).\n",
        "\\end{align}\n",
        "\n",
        "Posterior-predictive measurement distribution (after filtering on y_k):\n",
        "\\begin{align}\n",
        "p(y_k\\mid Y_k)=\\mathscr N\\bigl(h\\,m_k,\\; h^2 P_k + r\\bigr).\n",
        "\\end{align}\n",
        "\n"
      ],
      "metadata": {
        "id": "fD8rDxlhIpnd"
      }
    },
    {
      "cell_type": "code",
      "source": [
        "import numpy as np\n",
        "\n",
        "def make_cv1d(dt: float = 0.1,\n",
        "              q: float = 1e-2,\n",
        "              r: float = 1e-1,\n",
        "              x0=(0.0, 1.0),\n",
        "              seed: int | None = None) -> sims.LinearGaussianSystemSyms:\n",
        "    \"\"\"\n",
        "    Build a 1D constant-velocity linear Gaussian system:\n",
        "\n",
        "        x_k = A x_{k-1} + w_{k-1},      w ~ N(0, Q)\n",
        "        y_k = H x_k       + z_k,        z ~ N(0, R)\n",
        "\n",
        "    State: x = [position, velocity]^T  (n=2)\n",
        "    Measurement: y = position (scalar, p=1)\n",
        "\n",
        "    Parameters\n",
        "    ----------\n",
        "    dt : float\n",
        "        Sampling period Δt.\n",
        "    q : float\n",
        "        Continuous white-acceleration noise intensity (process noise scale).\n",
        "        Discrete-time Q = q * [[dt^3/3, dt^2/2],\n",
        "                               [dt^2/2, dt     ]].\n",
        "    r : float\n",
        "        Measurement noise std. R = [[r^2]] (scalar variance).\n",
        "    x0 : tuple[float, float]\n",
        "        Initial state (position, velocity).\n",
        "    seed : int | None\n",
        "        Seed for reproducible randomness.\n",
        "\n",
        "    Returns\n",
        "    -------\n",
        "    LinearGaussianSystemSyms\n",
        "        System with A, H, Sigma_p (Q), Sigma_m (R), and initial state x0.\n",
        "    \"\"\"\n",
        "    A = np.array([[1.0, dt],\n",
        "                  [0.0, 1.0]], dtype=float)\n",
        "\n",
        "    # Measure position only (scalar)\n",
        "    H = np.array([[1.0, 0.0]], dtype=float)  # shape (1,2)\n",
        "\n",
        "    # Discrete CV process noise covariance (from white-acceleration model)\n",
        "    Q = q * np.array([[dt**3/3.0, dt**2/2.0],\n",
        "                      [dt**2/2.0, dt      ]], dtype=float)\n",
        "\n",
        "    # Measurement noise covariance (scalar)\n",
        "    R = np.array([[r**2]], dtype=float)\n",
        "\n",
        "    x0 = np.asarray(x0, dtype=float)\n",
        "    if x0.shape != (2,):\n",
        "        raise ValueError(f\"`x0` must be shape (2,), got {x0.shape}.\")\n",
        "\n",
        "    rng = np.random.default_rng(seed)\n",
        "    return sims.LinearGaussianSystemSyms(A=A, H=H, Sigma_p=Q, Sigma_m=R, x0=x0, rng=rng)\n",
        "\n",
        "# Must have p=1 in your system (scalar measurement). n can be >1.\n",
        "sys = make_cv1d(dt=0.1, q=5e-2, r=1.0, x0=(0.0, 0.5), seed=7)  # p=1\n",
        "# Run with simulated Y (T provided)\n",
        "sys.animate_measurement_gaussians_scalar(T=80, m0=np.zeros(sys.n), P0=np.eye(sys.n)*100,\n",
        "                                         frame_ms=120, save_html_path=None, show=True)\n",
        "\n",
        "# Or if you've already collected Y (shape (T,) or (T,1)):\n",
        "# _, Y = sys.simulate(T=100)\n",
        "# sys.animate_measurement_gaussians_scalar(Y=Y, m0=np.zeros(sys.n), P0=np.eye(sys.n)*100,\n",
        "#                                          save_html_path=\"kf_scalar_y_gaussians.html\", auto_play=False)"
      ],
      "metadata": {
        "id": "5qiffju6qWEH"
      },
      "execution_count": null,
      "outputs": []
    },
    {
      "cell_type": "markdown",
      "source": [
        "#Discrete time pre-observers on Lie Groups with time invariant error dynamics"
      ],
      "metadata": {
        "id": "UaUiYuhCsBlc"
      }
    },
    {
      "cell_type": "markdown",
      "source": [
        "\n",
        "Let $G$ be an $n$-dimensional Lie group with Lie algebra $G$. Let $(g,\\zeta)\\in G\\times G$ and let $\\phi:G\\times M\\to M$ be a left- or right-invariant action on an $m$-dimensional manifold $M$. We consider the kinematic system\n",
        "\\begin{align}\n",
        "\\dot g &= g\\cdot \\zeta,  \\tag{1}\\\\\n",
        "y &= \\phi_g(\\gamma), \\tag{2}\n",
        "\\end{align}\n",
        "where $\\zeta(t)\\in G$ is a known input and $\\gamma\\in M$ is a known constant. A standard discrete-time approximation is\n",
        "\\begin{align}\n",
        "g_k &= g_{k-1}\\exp(\\Delta T\\zeta_{k-1}), \\tag{3}\n",
        "\\end{align}\n",
        "with sampling period $\\Delta T$. (This discretization is classical.)\n",
        "\n"
      ],
      "metadata": {
        "id": "3sW8LMmErCnz"
      }
    },
    {
      "cell_type": "markdown",
      "source": [
        "## For left-invariant outputs"
      ],
      "metadata": {
        "id": "PnzheVgHsylz"
      }
    },
    {
      "cell_type": "markdown",
      "source": [
        "Consider the pre-observer\n",
        "\\begin{align}\n",
        "\\widetilde g_k^- &= \\widetilde g_{k-1}\\exp(\\Delta T,\\zeta_{k-1}), \\tag{4}\\\\\n",
        "\\widetilde g_k &= \\widetilde g_k^-\\exp{\\big(\\Delta T,L(y_k,\\widetilde y_k)\\big)}, \\tag{5}\\\\\n",
        "\\widetilde y_k &= \\phi_{\\widetilde g_k}(\\gamma), \\tag{6}\n",
        "\\end{align}\n",
        "where $L:M\\times M\\to G$ is the innovation term. Define $u_{k-1}\\triangleq \\exp(\\Delta T\\zeta_{k-1})$, the a priori error $e_k^-\\triangleq (\\widetilde g_k^-)^{-1}g_k$, and the a posteriori error $e_k\\triangleq \\widetilde g_k^{-1}g_k$. Then\n",
        "\\begin{align}\n",
        "e_k^- &= (\\widetilde g_k^-)^{-1} g_k = u_{k-1}^{-1}\\widetilde g_{k-1}^{-1} g_{k-1}u_{k-1}\n",
        "= u_{k-1}^{-1}e_{k-1}u_{k-1},\\\\\n",
        "e_k &= \\widetilde g_k^{-1} g_k = \\exp{\\big(-\\Delta TL(y_k,\\widetilde y_k)\\big)}e_k^-.\n",
        "\\end{align}\n",
        "\n",
        "If $L$ is $G$-invariant, i.e., $L\\big(\\phi_g(y_1),\\phi_g(y_2)\\big)=L(y_1,y_2)$ for all $g\\in G$, then using $y_k=\\phi_{g_k}(\\gamma)$ and $\\widetilde y_k=\\phi_{\\widetilde g_k}(\\gamma)$ one obtains $L(y_k,\\widetilde y_k)=L\\big(\\phi_{e_k}(\\gamma),\\gamma\\big)$, so the error dynamics are autonomous (time invariant).\n",
        "\n"
      ],
      "metadata": {
        "id": "VL5W5HdNspRd"
      }
    },
    {
      "cell_type": "markdown",
      "source": [
        "## For right-invariant outputs"
      ],
      "metadata": {
        "id": "0YU3xg1ztC98"
      }
    },
    {
      "cell_type": "markdown",
      "source": [
        "Consider the pre-observer\n",
        "\\begin{align}\n",
        "\\widetilde g_k^- &= \\widetilde g_{k-1}\\exp(\\Delta T\\zeta_{k-1}), \\tag{7}\\\\\n",
        "\\widetilde g_k &= \\exp{\\big(\\Delta TL(y_k,\\widetilde y_k)\\big)}\\widetilde g_k^-, \\tag{8}\\\\\n",
        "\\widetilde y_k &= \\phi_{\\widetilde g_k}(\\gamma). \\tag{9}\n",
        "\\end{align}\n",
        "With $u_{k-1}\\triangleq \\exp(\\Delta T\\zeta_{k-1})$ and the right-invariant errors $e_k^-\\triangleq g_k(\\widetilde g_k^-)^{-1}$ and $e_k\\triangleq g_k\\widetilde g_k^{-1}$, the error dynamics satisfy\n",
        "\\begin{align}\n",
        "e_k^- &= g_k(\\widetilde g_k^-)^{-1} = g_{k-1}u_{k-1}u_{k-1}^{-1}\\widetilde g_{k-1}^{-1} = e_{k-1},\\\\\n",
        "e_k &= g_k\\widetilde g_k^{-1} = e_k^-\\exp{\\big(-\\Delta TL(y_k,\\widetilde y_k)\\big)}.\n",
        "\\end{align}\n",
        "If $L$ is $G$-invariant, one similarly gets $L(y_k,\\widetilde y_k)=L\\big(\\phi_{e_k}(\\gamma),\\gamma\\big)$, hence the error dynamics are autonomous.\n",
        "\n"
      ],
      "metadata": {
        "id": "SXEecNQGssay"
      }
    },
    {
      "cell_type": "markdown",
      "source": [
        "## The IMU+GNSS sensor fusion problem"
      ],
      "metadata": {
        "id": "pv16-uuXtW6P"
      }
    },
    {
      "cell_type": "markdown",
      "source": [
        "A representative application is rigid-body orientation/pose estimation with IMU and GNSS. Gyroscopes measure body-frame angular velocity $\\Omega$, accelerometers measure $A_m$ (specific force), and GNSS provides $o,\\dot o$. A convenient reformulation introduces\n",
        "\\begin{align}\n",
        "o_s(t)&\\triangleq o(t)+\\tfrac{1}{2}gt^2 e_3,\\qquad\\\\\n",
        "v_s(t)&\\triangleq \\dot o_s(t)=\\dot o(t)+g t\\,e_3,\\qquad\\\\\n",
        "R\\,A_m&=\\ddot o_s(t)=\\ddot o(t)+g e_3,\n",
        "\\end{align}\n",
        "giving the continuous-time model\n",
        "\\begin{align}\n",
        "\\dot R &= R,\\widehat\\Omega, \\tag{21}\\\\\n",
        "\\dot v_s &= R,A_m, \\tag{22}\\\\\n",
        "\\dot o_s &= v_s, \\tag{23}\\\\\n",
        "y_o &= o_s, \\tag{24}\\\\\n",
        "y_v &= v_s. \\tag{25}\n",
        "\\end{align}\n",
        "Defining the homogeneous state\n",
        "\\begin{align}\n",
        "X &\\triangleq\\;\n",
        "\\begin{bmatrix}\n",
        "R & v_s\\\\[2pt]\n",
        "0 & 1\n",
        "\\end{bmatrix},\\qquad\\\\\n",
        "\\zeta &\\triangleq\n",
        "\\begin{bmatrix}\n",
        "\\widehat\\Omega & A_m\\\\[2pt]\n",
        "0 & 0\n",
        "\\end{bmatrix},\\qquad\\\\\n",
        "\\gamma_v &\\triangleq\\;\n",
        "\\begin{bmatrix}\n",
        "0_{3\\times 1}\\\\[2pt]\n",
        "1\n",
        "\\end{bmatrix},\n",
        "\\end{align}\n",
        "the dynamics/output compactly read\n",
        "\\begin{align}\n",
        "\\dot X &= X\\,\\zeta, \\tag{26}\\\\\n",
        "y_v &= X\\,\\gamma_v. \\tag{27}\n",
        "\\end{align}\n",
        "\n",
        "\\begin{align}\n",
        "\\dot o_s &= v_s= X\\,\\gamma_v, \\tag{28}\\\\\n",
        "y_o &= o_s. \\tag{29}\n",
        "\\end{align}\n",
        "\n",
        "A first-order discretization of $ \\dot X = X\\zeta $ gives\n",
        "\\begin{align}\n",
        "X_{k+1} &= X_k \\exp{\\big(\\Delta t\\zeta_k\\big)}. \\tag{30}\n",
        "\\end{align}\n",
        "\n",
        "With the block structure of $\\zeta_k$, the matrix exponential splits as\n",
        "\\begin{align}\n",
        "\\exp{\\big(\\Delta t\\zeta_k\\big)}\n",
        "&=\n",
        "\\begin{bmatrix}\n",
        "\\exp{\\big(\\Delta t\\widehat\\Omega_k\\big)} & \\Delta t A^m_k\\\\\n",
        "0 & 1\n",
        "\\end{bmatrix}.\n",
        "\\end{align}\n",
        "\n",
        "Therefore, the discrete updates in these shifted variables are\n",
        "\\begin{align}\n",
        "R_{k+1} &= R_k\\exp{\\big(\\Delta t\\widehat\\Omega_k\\big)},\\\\\n",
        "v_{s,k+1} &= v_{s,k} + \\Delta tR_k,A^m_k,\\\\\n",
        "o_{s,k+1} &= o_{s,k} + \\Delta tv_{s,k}.\n",
        "\\end{align}\n",
        "\n",
        "Returning to the original $(o,v)$ variables (with gravity $g$ along $e_3$), one obtains\n",
        "\\begin{align}\n",
        "R_{k+1} &\\approx R_k\\exp{\\big(\\Delta t\\widehat\\Omega_k\\big)},\\\\\n",
        "v_{k+1} &= v_k - g\\Delta t\\,e_3 + \\Delta tR_kA^m_k,\\\\\n",
        "o_{k+1} &= o_k + \\Delta t\\,v_k - \\frac{g(\\Delta t)^2}{2}\\,e_3.\n",
        "\\end{align}\n",
        "\n",
        "Notes: $\\widehat\\Omega_k$ denotes the skew-symmetric matrix of the angular velocity sample $\\Omega_k$, $A^m_k$ is the measured specific force at step $k$, $e_3=(0,0,1)^\\top$.\n"
      ],
      "metadata": {
        "id": "PM7TZwYbtSq5"
      }
    },
    {
      "cell_type": "markdown",
      "source": [
        "# Intrinsic Extended Kalman Filter on Lie Groups"
      ],
      "metadata": {
        "id": "Fbt5jF-bw7UC"
      }
    },
    {
      "cell_type": "markdown",
      "source": [
        "Let $G$ be an $n$-dimensional Lie group with Lie algebra $G$. Let $(g,\\zeta)\\in G\\times G$ and let $\\phi:G\\times M\\to M$ be a left-invariant linear action on an $m$-dimensional vector space $M$ (so, for each $g\\in G$, $\\phi_g\\in \\mathrm{GL}(M)$ is linear). We recall the identities\n",
        "\\begin{align}\n",
        "g\\exp(\\zeta)g^{-1} &= \\exp{\\big(\\mathrm{Ad}g\\cdot \\zeta\\big)}, \\tag{31}\\\\\n",
        "\\phi_{\\exp(\\zeta)} &= \\exp{\\big(T_e\\phi \\circ \\zeta\\big)}. \\tag{32}\n",
        "\\end{align}\n",
        "In particular, if $M=G$ and $\\phi=\\mathrm{Ad}$ then $\\mathrm{Ad}\\,{\\exp(\\zeta)}=\\exp(\\mathrm{ad}\\zeta)$.\n",
        "\n",
        "We consider left-invariant Markov processes $g(t)\\in G$ and $y(t)\\in M$ given by\n",
        "\\begin{align}\n",
        "\\dot g &= g\\cdot\\big(\\zeta + n_\\zeta\\big), \\tag{33}\\\\\n",
        "y &= \\phi_{g^{-1}}(\\gamma) + n, \\tag{34}\n",
        "\\end{align}\n",
        "where $\\zeta(t)$ and $\\gamma\\in M$ are known, while $n_\\zeta(t)$ and $n(t)$ are zero-mean Gaussian white noises with covariances $\\Sigma_g$ and $\\Sigma_y$, respectively.\n",
        "\n",
        "Define\n",
        "\\begin{align}\n",
        "A(t) &\\triangleq -\\,\\mathrm{ad}{\\zeta(t)},\\qquad\\\\\n",
        "H(t) &\\triangleq -\\,\\phi_{\\widetilde g^{-1}}\\!\\big( (T_e\\phi \\circ \\mathrm{Ad}{\\widetilde g})\\,\\eta_e(\\gamma)\\big),\n",
        "\\end{align}\n",
        "and consider the intrinsic EKF\n",
        "\\begin{align}\n",
        "\\dot{\\widetilde{g}} &= \\widetilde{g}\\cdot\\big(\\zeta + K(t)(y-\\widetilde{y})\\big), \\tag{35}\\\\\n",
        "\\widetilde y &= \\phi_{\\widetilde{g}^{-1}}(\\gamma), \\tag{36}\n",
        "\\end{align}\n",
        "with Riccati and gain\n",
        "\\begin{align}\n",
        "\\dot P &= A^\\top P + P A - P H^\\top \\Sigma_y^{-1} H P + \\Sigma_\\zeta,\\qquad\\\\\n",
        "K &= P H^\\top \\Sigma_y^{-1}.\n",
        "\\end{align}\n",
        "If $(A(t),H(t))$ is uniformly observable, the above filter ensures convergence in the sense stated below.\n",
        "\n",
        "Introduce the log-error $\\eta_e$ and the corresponding output error $y_e$. One obtains the exact error dynamics\n",
        "\\begin{align}\n",
        "\\dot\\eta_e &= -\\mathrm{ad}\\zeta\\eta_e\n",
        "-\\Big(\\tfrac{\\mathrm{ad}{\\eta_e}}{\\exp(\\mathrm{ad}{\\eta_e})-I}\\Big)K(t)y_e\n",
        "+\\Big(\\tfrac{\\exp(\\mathrm{ad}{\\eta_e})\\mathrm{ad}{\\eta_e}}{\\exp(\\mathrm{ad}{\\eta_e})-I}\\Big)n_\\zeta, \\tag{41}\\\\\n",
        "y_e &= \\phi_{\\widetilde g^{-1}}\\Big(\\big(\\exp(-T_e\\phi \\circ \\mathrm{Ad}{\\widetilde g}\\cdot \\eta_e)-I\\big)\\gamma\\Big) + n. \\tag{42}\n",
        "\\end{align}\n",
        "Linearizing for small $|\\eta_e|$ gives\n",
        "\\begin{align}\n",
        "\\dot\\eta_e &= \\big(A(t)-K(t)H(t)\\big)\\eta_e + n\\zeta - K(t)n\n",
        "+\\Big(\\tfrac{1}{2}\\mathrm{ad}{\\eta_e}+O(|\\eta_e|^2)\\Big)n\\zeta + O(|\\eta_e|^2)n, \\tag{43}\\\\\n",
        "y_e &= H(t)\\eta_e + n + O(|\\eta_e|^2), \\tag{44}\n",
        "\\end{align}\n",
        "so that the mean $m_{\\eta_e}(t)=\\mathbb{E}[\\eta_e(t)]$ and covariance $P(t)=\\mathbb{E}[\\eta_e\\eta_e^\\top]$ evolve as\n",
        "\\begin{align}\n",
        "\\dot m_{\\eta_e} &= \\big(A(t)-K(t)H(t)\\big)m_{\\eta_e} + \\mathbb{E}[O(|\\eta_e|^2)], \\tag{45}\\\\\n",
        "\\dot P &= \\big(A(t)-K(t)H(t)\\big)P + P\\big(A(t)-K(t)H(t)\\big)^\\top\n",
        "P H^\\top \\Sigma_y^{-1} H P + \\Sigma_\\zeta \\\\\n",
        "&\\quad + \\tfrac{1}{4}\\mathbb{E}\\big(\\mathrm{ad}{\\eta_e}\\Sigma\\zeta\\mathrm{ad}_{\\eta_e}^\\top\\big)\n",
        "\\mathbb{E}[O(|\\eta_e|^3)]. \\tag{46}\n",
        "\\end{align}\n",
        "\n",
        "Under uniform observability and with $K(t)$ the Kalman gain for $(A(t),H(t),\\Sigma_p,\\Sigma)$, we have $m_{\\eta_e}(t)\\to 0$ and, writing $\\varepsilon\\triangleq \\eta_e-m_{\\eta_e}$ (mean zero, small covariance), the  Kalman filter property ensures that\n",
        "that the covariance of $\\varepsilon(t)$ converges to a constant and is small. Thus since $e_g = e^{\\eta_e} = e^{(m_{\\eta_e}+\\varepsilon)} \\approx e^{m_{\\eta_e}}e^{\\varepsilon}$ we have that\n",
        "$\\lim_{t\\to\\infty}e^{g(t)} = e^{\\varepsilon}$ and hence that\n",
        "group error converges to\n",
        "\\begin{align}\n",
        "\\lim_{t\\to\\infty}\\widetilde g = g(t)e^{-\\varepsilon(t)}. \\tag{47}\n",
        "\\end{align}\n"
      ],
      "metadata": {
        "id": "Hc7EzXejw9LQ"
      }
    },
    {
      "cell_type": "markdown",
      "source": [
        "## Discretized EKF on Lie Groups"
      ],
      "metadata": {
        "id": "RMQLw9UeP92d"
      }
    },
    {
      "cell_type": "markdown",
      "source": [
        "We consider a Lie group $G$ with Lie algebra $\\mathfrak{g}$ and a left-invariant linear action $\\phi:G\\times M\\to M$ on a vector space $M$ (so each $\\phi_g\\in \\mathrm{GL}(M)$).\n",
        "\n",
        "Define the discrete-time linearizations and noise covariances as\n",
        "\\begin{align}\n",
        "A_k &= I - \\Delta T\\mathrm{ad}{\\zeta_k},\\\\\n",
        "H_k &=\n",
        "\\begin{bmatrix}\n",
        "-\\phi_{\\widetilde g_k^{-1}}\\circ\\big(T_e\\phi \\circ \\mathrm{Ad}{\\widetilde g_k}(\\cdot)\\big)(\\gamma_1)\\\\\n",
        "-\\phi_{\\widetilde g_k^{-1}}\\circ\\big(T_e\\phi \\circ \\mathrm{Ad}{\\widetilde g_k}(\\cdot)\\big)(\\gamma_2)\\\\\n",
        "\\vdots\\\\\n",
        "-\\phi_{\\widetilde g_k^{-1}}\\circ\\big(T_e\\phi \\circ \\mathrm{Ad}{\\widetilde g_k}(\\cdot)\\big)(\\gamma_m)\n",
        "\\end{bmatrix},\\\\\n",
        "G_k &= \\sqrt{\\Delta T},I,\\\\\n",
        "\\Sigma_m &= \\mathbb{E}\\big[n_k n_k^{\\top}\\big],\\qquad\n",
        "\\Sigma_p = \\mathbb{E}\\big[n_{\\zeta_k} n_{\\zeta_k}^{\\top}\\big].\n",
        "\\end{align}\n",
        "Here $\\mathrm{ad}$ is the adjoint map on $\\mathfrak{g}$, $\\mathrm{Ad}$ is the group adjoint, and $T_e\\phi$ is the differential of $\\phi$ at the identity.\n",
        "\n",
        "Prediction (state on the group and covariance):\n",
        "\\begin{align}\n",
        "\\widetilde g_k^- &= \\widetilde g_{k-1}\\exp{\\big(\\Delta T\\zeta_{k-1}\\big)}, \\tag{48}\\\\\n",
        "P_k^- &= A_{k-1} P_{k-1} A_{k-1}^{!\\top} + G_k\\Sigma_q,G_k^{\\top}. \\tag{51}\n",
        "\\end{align}\n",
        "In (51), $\\Sigma_q$ denotes the process noise covariance (same role as $\\Sigma_p$ defined above).\n",
        "\n",
        "Predicted output: consistent with the continuous-time relation $\\widetilde y=\\phi_{\\widetilde g^{-1}}(\\gamma)$, we use\n",
        "\\begin{align}\n",
        "\\widetilde y_k^- = \\phi_{\\widetilde g_k^{-1}}(\\gamma). \\tag{50}\n",
        "\\end{align}\n",
        "(Equation (36) gives $\\widetilde y=\\phi_{\\widetilde g^{-1}}(\\gamma)$; applying it at step $k$ yields the discrete predicted output.)\n",
        "\n",
        "Correction (group update and covariance update):\n",
        "\\begin{align}\n",
        "\\widetilde g_k &= \\widetilde g_k^-\\exp{\\Big(\\Delta TK_k\\big(y_k-\\widetilde y_k^-\\big)\\Big)}, \\tag{49}\\\\\n",
        "K_k &= P_k^- H_k^{\\top}\\big(H_k P_k^- H_k^{\\top} + \\Sigma_m\\big)^{-1}, \\tag{52}\\\\\n",
        "P_k &= \\big(I - K_k H_k\\big)P_k^-. \\tag{53}\n",
        "\\end{align}\n",
        "These are the standard EKF gain and covariance update written with the intrinsic linearizations on $G$.  \n",
        "\n",
        "Notes.\n",
        "\n",
        "1.\tThe map $\\exp:\\mathfrak{g}\\mapsto G$ is the Lie exponential; the state update composes the prediction with a right-multiplicative innovation on the group.\n",
        "\n",
        "2. The measurement model is $y=\\phi_{g^{-1}}(\\gamma)+n$, leading to the sign and placement of $\\phi $ in $H_k$ and $\\widetilde y_k^-$."
      ],
      "metadata": {
        "id": "p_6QYsdbP-cO"
      }
    },
    {
      "cell_type": "markdown",
      "source": [
        "### Application to rigid body motion"
      ],
      "metadata": {
        "id": "nWQD2JG1ZyLM"
      }
    },
    {
      "cell_type": "markdown",
      "source": [
        "Rigid-body kinematics on $SE(3)$ are given by\n",
        "\\begin{align}\n",
        "\\dot g = g \\cdot \\zeta, \\tag{54}\n",
        "\\end{align}\n",
        "where $g\\in SE(3)=SO(3)\\rtimes\\mathbb{R}^3$ and $\\zeta\\in\\mathfrak{se}(3)$. Writing out the blocks,\n",
        "\\begin{align}\n",
        "g &=\n",
        "\\begin{bmatrix}\n",
        "R & o\\\\\n",
        "0 & 1\n",
        "\\end{bmatrix},\\qquad\n",
        "\\zeta =\n",
        "\\begin{bmatrix}\n",
        "\\widehat{\\Omega} & V\\\\\n",
        "0 & 0\n",
        "\\end{bmatrix},\n",
        "\\end{align}\n",
        "with $R\\in SO(3)$, $o,V\\in\\mathbb{R}^3$, and $\\widehat{\\Omega}\\in\\mathfrak{so}(3)$. The dot “$\\cdot$” denotes ordinary matrix multiplication; $g$ represents the change of frame from a fixed frame $e$ to a body-fixed frame $b$.  \n",
        "\n",
        "For $\\zeta=(\\Omega,V)$ and $\\xi=(\\Phi,U)$ in $\\mathfrak{se}(3)$, the adjoint action is\n",
        "\\begin{align}\n",
        "\\operatorname{ad}_{\\zeta} \\xi = (\\Omega\\times\\Phi, \\Omega\\times U - \\Phi\\times V),\n",
        "\\end{align}\n",
        "so that, in block form,\n",
        "\\begin{align}\n",
        "\\operatorname{ad}\\zeta =\n",
        "\\begin{bmatrix}\n",
        "\\widehat{\\Omega} & 0\\\\\n",
        "\\widehat{V} & \\widehat{\\Omega}\n",
        "\\end{bmatrix}.\n",
        "\\end{align}\n",
        "\n",
        "The left action $\\phi:SE(3)\\times\\mathbb{R}^3\\to\\mathbb{R}^3$ is simple homogeneous multiplication:\n",
        "\\begin{align}\n",
        "\\phi_g(x) &=\n",
        "\\begin{bmatrix}\n",
        "R & o\\\\\n",
        "0 & 1\n",
        "\\end{bmatrix}\n",
        "\\begin{bmatrix}\n",
        "x\\\\\n",
        "\\alpha\n",
        "\\end{bmatrix},\n",
        "\\quad\n",
        "\\text{with } g=(R,o)\\in SE(3),\\; x\\in\\mathbb{R}^3,\\; \\alpha\\in\\mathbb{R}.\n",
        "\\end{align}\n",
        "\n",
        "Points $\\gamma=[x;1]^\\top$ represent a fixed physical point's homogeneous coordinates; the orbit $\\phi_g(\\gamma)$ collects its different perspectives. For $\\zeta=(\\Omega,V)$,\n",
        "\\begin{align}\n",
        "(T_e\\phi\\circ \\zeta)(\\gamma) =\n",
        "\\begin{bmatrix}\n",
        "\\widehat{\\Omega} & V\\\\\n",
        "0 & 0\n",
        "\\end{bmatrix}\n",
        "\\begin{bmatrix}\n",
        "x\\\\\n",
        "1\n",
        "\\end{bmatrix}.\n",
        "\\end{align}\n",
        "\n",
        "A key term that appears in the intrinsic linearization is\n",
        "\\begin{align}\n",
        "\\phi_{\\widetilde g^{-1}}\\!\\big( (T_e\\phi\\circ \\operatorname{Ad}_{\\widetilde g})\\,\\zeta \\big)(\\gamma)\n",
        "=\n",
        "\\zeta\\widetilde g^{-1}\\gamma\n",
        "=\n",
        "\\begin{bmatrix}\n",
        "-\\widetilde R^\\top \\widehat{(x-\\widetilde o)}\\widetilde R & I\n",
        "\\end{bmatrix}\n",
        "\\begin{bmatrix}\n",
        "\\Omega\\\\\n",
        "V\n",
        "\\end{bmatrix},\n",
        "\\end{align}\n",
        "with $\\widetilde g=(\\widetilde R,\\widetilde o)$. This leads directly to the explicit structure used in $H_k$ for the SLAM example below.\n",
        "\n"
      ],
      "metadata": {
        "id": "88Fu6gOSZyhk"
      }
    },
    {
      "cell_type": "markdown",
      "source": [
        "### SLAM"
      ],
      "metadata": {
        "id": "zKYwxqUxGV0F"
      }
    },
    {
      "cell_type": "markdown",
      "source": [
        "Let $e$ be a fixed world frame and $p_i$ for $i=1,\\dots,N$ be fixed landmarks. Write $\\gamma_i=[x_i\\:\\:1]^\\top\\in\\mathbb{R}^4$ for their homogeneous coordinates in $e$, and let $X_i$ denote the coordinates in the body frame related by $g\\in SE(3)$. The SLAM model is\n",
        "\\begin{align}\n",
        "\\dot g = g\\cdot(\\zeta + n_p), \\qquad\n",
        "y_i = \\phi_{g^{-1}}(\\gamma_i) + n_m,\n",
        "\\end{align}\n",
        "with $y_i=[X_i;1]^\\top$, $n_p\\sim\\mathscr{N}(0,\\Sigma_p)$, $n_m\\sim\\mathscr{N}(0,\\Sigma_m)$. (Velocity biases can be added if needed.)\n",
        "\n",
        "From the intrinsic linearization on $SE(3)$ one obtains the discrete EKF matrices (for sample time $\\Delta T$):\n",
        "\\begin{align}\n",
        "A_k\n",
        "&=\n",
        "\\Bigl(I_{6\\times 6} - \\Delta T\n",
        "\\begin{bmatrix}\n",
        "\\widehat{\\Omega}_k & 0\\\\\n",
        "\\widehat{V}_k & \\widehat{\\Omega}_k\n",
        "\\end{bmatrix}\n",
        "\\Bigr),\n",
        "\\\\\n",
        "H_k\n",
        "&=\n",
        "\\begin{bmatrix}\n",
        "\\widetilde R_k^\\top \\,\\widehat{(x_1-\\widetilde o_k)}\\,\\widetilde R_k & -I_{3\\times 3}\\\\\n",
        "\\widetilde R_k^\\top \\,\\widehat{(x_2-\\widetilde o_k)}\\,\\widetilde R_k & -I_{3\\times 3}\\\\\n",
        "\\vdots & \\vdots\\\\\n",
        "\\widetilde R_k^\\top \\,\\widehat{(x_m-\\widetilde o_k)}\\,\\widetilde R_k & -I_{3\\times 3}\n",
        "\\end{bmatrix},\n",
        "\\qquad\n",
        "G_k = \\sqrt{\\Delta T}\\,I.\n",
        "\\end{align}\n",
        "These plug into the intrinsic discrete EKF update\n",
        "\\begin{align}\n",
        "\\widetilde g_k^-&=\\widetilde g_{k-1}\\exp(\\Delta T\\,\\zeta_{k-1}),\\\\\n",
        "\\widetilde g_k&=\\widetilde g_k^- \\exp{\\big(\\Delta T\\,K_k(y_k-\\widetilde y_k)\\big)},\n",
        "\\end{align}\n",
        "with the usual $K_k$, $P_k$ recursions defined earlier."
      ],
      "metadata": {
        "id": "RmmWsNpfZ3_6"
      }
    },
    {
      "cell_type": "markdown",
      "source": [
        "### Attitude Estimation from IMUs"
      ],
      "metadata": {
        "id": "4JTfPa8VIdEh"
      }
    },
    {
      "cell_type": "markdown",
      "source": [
        "In this case take $G=SO(3)$, $M=\\mathfrak{g}\\simeq\\mathbb{R}^3$, and let the action be the adjoint $\\phi=\\mathrm{Ad}$ so that $\\mathrm{Ad}R x = R,x$ for $R\\in SO(3)$, $x\\in\\mathbb{R}^3$.\n",
        "\n",
        "The Lie bracket is $ \\mathrm{ad}_\\Omega \\Phi = \\widehat{\\Omega}\\Phi = \\Omega\\times \\Phi$. The measurement stacks two known inertial directions $e_1,e_2\\in\\mathbb{R}^3$:\n",
        "\\begin{align}\n",
        "y_k =\n",
        "\\begin{bmatrix}\n",
        "R_k^{T} e_1\\\\\n",
        "R_k^{T} e_2\n",
        "\\end{bmatrix}.\n",
        "\\end{align}\n",
        "Using $\\phi_{R^{T}}\\circ (T_e\\phi\\circ \\mathrm{Ad}R)(\\Omega)$, one finds the key identity (acting on any $x\\in\\mathbb{R}^3$):\n",
        "\\begin{align}\n",
        "\\big(\\phi{R^{T}}\\circ T_e\\phi\\circ \\mathrm{Ad}_R\\cdot \\Omega\\big)x\n",
        "= -(R^{T}\\widehat{x}\\,R)\\Omega,\n",
        "\\end{align}\n",
        "which yields the linearization used in $H_k$.  ￼\n",
        "\n",
        "Discrete intrinsic EKF on $SO(3)$ (specialization of (48)–(53)):\n",
        "\\begin{align}\n",
        "\\widetilde R_k^{-} &= \\widetilde R_{k-1}\\exp{\\big(\\Delta T\\widehat{\\Omega}_{k-1}\\big)}, \\tag{55}\\\\\n",
        "\\widetilde R_k &= \\widetilde R_k^{-}\\exp{\\Big(\\Delta TK_k\\big(y_k-\\widetilde y_k\\big)\\Big)}, \\tag{56}\n",
        "\\end{align}\n",
        "with covariance prediction/gain update\n",
        "\\begin{align}\n",
        "P_k^{-} &= A_{k-1} P_{k-1} A_{k-1}^{T} + G_k\\Sigma_qG_k^{T}, \\tag{57}\\\\\n",
        "K_k &= P_k^{-} H_k^{T}\\big(H_k P_k^{-} H_k^{T} + \\Sigma_m\\big)^{-1}, \\tag{58}\n",
        "\\end{align}\n",
        "and the discrete linearizations\n",
        "\\begin{align}\n",
        "A_k = I_3 - \\Delta T\\widehat{\\Omega}_k,\\qquad\n",
        "G_k = \\sqrt{\\Delta T}\\,I_3,\\qquad\n",
        "H_k =\n",
        "\\begin{bmatrix}\n",
        "-\\widetilde R_k^{T}\\widehat{e_1}\\widetilde R_k\\\\\n",
        "-\\widetilde R_k^{T}\\widehat{e_2}\\widetilde R_k\n",
        "\\end{bmatrix}.\n",
        "\\end{align}\n",
        "The predicted output stacks the two directions in the estimated/body frame:\n",
        "\\begin{align}\n",
        "\\widetilde y_k =\n",
        "\\begin{bmatrix}\n",
        "\\widetilde R_k^{T} e_1\\\\\n",
        "\\widetilde R_k^{T} e_2\n",
        "\\end{bmatrix}.\n",
        "\\end{align}\n",
        "These equations are the attitude-only instance of the intrinsic discrete EKF on Lie groups specialized to $SO(3)$ with two vector measurements.  "
      ],
      "metadata": {
        "id": "fLMkbPhYIeUe"
      }
    },
    {
      "cell_type": "markdown",
      "source": [
        "#Simulation"
      ],
      "metadata": {
        "id": "nzKUlzIUqO4J"
      }
    },
    {
      "cell_type": "code",
      "source": [
        "#Add the force model\n",
        "def externalForceModel(qq,parameters,X):\n",
        "    #Heavy Top Object\n",
        "    M=parameters['M']; II=parameters['II']; g=parameters['g']; CM=parameters['CM'];\n",
        "    R=X[0][0]; omega=X[1]; spi=R@ II@ R.T @ omega\n",
        "    taue=(-M*g*qq.hat_matrix(R@CM) @ [0,0,1])-0*spi;\n",
        "    fe=np.array([0.,0.,0.]);\n",
        "    return [taue,fe]\n",
        "\n",
        "def actuator(qq,parameters, t, X, taue,fe):\n",
        "    Omega_km1, A_g, A_n = IMU_sensor_reading(qq,g=9.806)\n",
        "    DeltaT=parameters.get('dt',1)\n",
        "    tilde_R_km1=qq.state[0][0]\n",
        "    A_k, G_km1, H_m1 = rigid_body_linearization(qq,DeltaT,tilde_R_km1, Omega_km1)\n",
        "    tauu=np.array([0,0,0]);\n",
        "    fu=np.array([0,0,0]);\n",
        "    print(A_k, G_km1, H_m1)\n",
        "    return [tauu,fu]\n",
        "\n",
        "def IMU_sensor_reading(qq,g=9.806):\n",
        "    R=mr.state[0][0]\n",
        "    o=mr.state[0][1]\n",
        "    omega=mr.state[1]\n",
        "    p=mr.state[2]\n",
        "    Omega=R.T@omega\n",
        "    A_g=R.T@np.array([0,0,1])\n",
        "    A_n=R.T@np.array([1,0,0])\n",
        "    # print(Omega)\n",
        "    return Omega, A_g, A_n\n",
        "\n",
        "def rigid_body_linearization(qq,DeltaT,Omega):\n",
        "    e1=np.array([1.0,0.0,0.0])\n",
        "    e3=np.array([0.0,0.0,0.1])\n",
        "    identity_matrix = np.eye(3)\n",
        "    H1 = R.T @ mr.hat_matrix(e1) @ R\n",
        "    H3 = R.T @ mr.hat_matrix(e3) @ R\n",
        "    H_km1 = -np.vstack([H1, H3])\n",
        "    A_km1 = identity_matrix - DeltaT * qq.hat_matrix(Omega)\n",
        "    G_km1 = np.sqrt(DeltaT) * identity_matrix\n",
        "    return A_km1, G_km1, H_km1\n",
        "\n",
        "class KFShapeError(ValueError):\n",
        "    pass\n",
        "\n",
        "class KFValueError(ValueError):\n",
        "    pass\n",
        "\n",
        "def predict_update(qq, R_prev, P_prev, DeltaT, Omega, y, y_pred, Q, R):\n",
        "    R_pred_minus = R_prev @ qq.exp_map(DeltaT*Omega)\n",
        "    A_km1, G_km1, H_km1 = rigid_body_linearization(qq,DeltaT,Omega)\n",
        "\n",
        "    P_pred_minus = A_km1 @ P_prev @ A_km1.T + G_km1 @ Q @ G_km1.T\n",
        "    K=P_pred_minus @ H_km1.T @ np.linalg.inv(H_km1 @ P_pred_minus @ H_km1.T + G_km1 @ R @ G_km1.T)\n",
        "\n",
        "    R_pred = R_pred_minus @ qq.exp_map(DeltaT*K @ (y - y_pred))\n",
        "    P_pred = (np.eye(3) - K @ H_km1) @ P_pred_minus\n",
        "\n",
        "    return R_pred, P_pred\n",
        "\n",
        "\n",
        "def innovation(qq, K):\n",
        "\n",
        "    return v, S\n",
        "\n",
        "mr.set_external_force_model(externalForceModel)\n",
        "mr.set_actuator(actuator)"
      ],
      "metadata": {
        "id": "PvHnPOs9qQtc"
      },
      "execution_count": null,
      "outputs": []
    },
    {
      "cell_type": "code",
      "metadata": {
        "id": "3bfe4305"
      },
      "source": [
        "import numpy as np\n",
        "\n",
        "# Create a 3x3 identity matrix\n",
        "identity_matrix = np.eye(3)\n",
        "print(0.3*identity_matrix)"
      ],
      "execution_count": null,
      "outputs": []
    },
    {
      "cell_type": "code",
      "source": [
        "mr.exp_map(np.array([1,0,0]))"
      ],
      "metadata": {
        "id": "84ZrDI9fGAve"
      },
      "execution_count": null,
      "outputs": []
    },
    {
      "cell_type": "code",
      "source": [
        "DeltaT=0.1\n",
        "cubeDimensions={'l':2.,'w':2.,'h':4.,'xp':0.,'yp':0.,'zp':0.,};\n",
        "parameters={'':DeltaT,'CM':np.array([cubeDimensions['l']/2-cubeDimensions['xp'],cubeDimensions['w']/2-cubeDimensions['yp'],cubeDimensions['h']/2-cubeDimensions['zp']]), 'g':1, 'M':1, 'II':np.array([[1.,0.,0.],[0.,1.,0.],[0.,0.,1.]])};\n",
        "ICq=mr.q_from_axis_angles(np.pi/18,np.array([1,0,0])); ICR=mr.r_from_quaternions(ICq);\n",
        "IComega=np.array([0.,0.,0.]); ICo=np.array([0.,0.,0.]); ICp=np.array([0.,0.,0.]);\n",
        "ICXC=np.array([0,0,0]);\n",
        "ICs=[[ICR,ICo],IComega,ICp,ICXC]"
      ],
      "metadata": {
        "id": "_3ubyvvQqWaG"
      },
      "execution_count": null,
      "outputs": []
    },
    {
      "cell_type": "code",
      "source": [
        "aa4=mr.simulating_a_cube(DeltaT, 15., cubeDimensions, parameters,ICs)\n",
        "fig1=mr.animated_cube_flat_shading(aa4,'Cube Pivoted at a Vertex')"
      ],
      "metadata": {
        "id": "DdAdNXNuqXGR"
      },
      "execution_count": null,
      "outputs": []
    },
    {
      "cell_type": "code",
      "source": [
        "aa4"
      ],
      "metadata": {
        "id": "2kPVLau5s6ly"
      },
      "execution_count": null,
      "outputs": []
    },
    {
      "cell_type": "code",
      "source": [
        "R=mr.state[0][0]"
      ],
      "metadata": {
        "id": "2Ts9EXT9sz1d"
      },
      "execution_count": null,
      "outputs": []
    },
    {
      "cell_type": "code",
      "source": [
        "mr.state[0][0].T"
      ],
      "metadata": {
        "id": "fYPjafiV3Tpe"
      },
      "execution_count": null,
      "outputs": []
    },
    {
      "cell_type": "code",
      "source": [
        "mr.state[0][0].T@np.array([0.0,0.0,1.0])"
      ],
      "metadata": {
        "id": "lk8besk22sC4"
      },
      "execution_count": null,
      "outputs": []
    },
    {
      "cell_type": "code",
      "source": [
        "e1=np.array([1.0,0.0,0.0])\n",
        "e3=np.array([0.0,0.0,1.0])"
      ],
      "metadata": {
        "id": "UNztDy9v-CKM"
      },
      "execution_count": null,
      "outputs": []
    },
    {
      "cell_type": "code",
      "source": [
        "np.array([mr.hat_matrix(e1),mr.hat_matrix(e3)])"
      ],
      "metadata": {
        "id": "67M62wwr-HQJ"
      },
      "execution_count": null,
      "outputs": []
    },
    {
      "cell_type": "markdown",
      "source": [
        "# References"
      ],
      "metadata": {
        "id": "Nm-7c-B8lJXf"
      }
    },
    {
      "cell_type": "markdown",
      "source": [
        "[1] K. C. Wolfe, M. Mashner, and G. S. Chirikjian, “Bayesian fusion on Lie groups,” *Journal of Algebraic Statistics*, 2(1):75–97, 2011. [Link](https://rpk.lcsr.jhu.edu/publications/)\n",
        "\n",
        "[2] S. Bonnable, P. Martin, and E. Salan, “Invariant extended Kalman filter: theory and application to a velocity-aided attitude estimation problem,” *Proc. 48th IEEE CDC/28th CCC*, pp. 1297–1304, Dec 2009. [Link](https://doi.org/10.1109/CDC.2009.5399990)\n",
        "\n",
        "[3] S. Bonnabel, “Left-invariant extended Kalman filter and attitude estimation,” *Proc. 46th IEEE CDC*, pp. 1027–1032, Dec 2007. [Link](https://doi.org/10.1109/CDC.2007.4434662)\n",
        "\n",
        "[4] G. Bourmaud, R. Mégret, A. Giremus, and Y. Berthoumieu, “Discrete extended Kalman filter on Lie groups,” *EUSIPCO 2013*, pp. 1–5, Sept 2013. [Link](https://hal.science/hal-00903252/document)\n",
        "\n",
        "[5] G. S. Chirikjian, “Information theory on Lie groups and mobile robotics applications,” *Proc. 2010 IEEE ICRA*, pp. 2751–2757, May 2010. [Link](https://rpk.lcsr.jhu.edu/publications/)\n",
        "\n",
        "[6] Y. Wang and G. S. Chirikjian, “Error propagation on the Euclidean group with applications to manipulator kinematics,” *IEEE Trans. Robotics*, 22(4):591–602, Aug 2006. [Link](https://ieeexplore.ieee.org/document/1673946)\n",
        "\n",
        "[7] M. J. Piggott and V. Solo, “Stochastic numerical analysis for Brownian motion on SO(3),” *Proc. 53rd IEEE CDC*, pp. 3420–3425, Dec 2014. [Link](https://doi.org/10.1109/CDC.2014.7039919)\n",
        "\n",
        "[8] O. Tuzel, F. Porikli, and P. Meer, “Learning on Lie groups for invariant detection and tracking,” *Proc. 2008 IEEE CVPR*, pp. 1–8, June 2008. [Link](https://doi.org/10.1109/CVPR.2008.4587521)\n",
        "\n",
        "[9] A. Barrau and S. Bonnabel, “Intrinsic filtering on Lie groups with applications to attitude estimation,” *IEEE Trans. Automatic Control*, 60(2):436–449, Feb 2015. [Link](https://doi.org/10.1109/TAC.2014.2342911)\n",
        "\n",
        "[10] S. Bonnabel and A. Barrau, “An intrinsic Cramér–Rao bound on SO(3) for (dynamic) attitude filtering,” *Proc. 54th IEEE CDC*, pp. 2158–2163, Dec 2015. [Link](https://dblp.org/rec/conf/cdc/BonnabelB15)\n",
        "\n",
        "[11] A. Barrau and S. Bonnabel, “The invariant extended Kalman filter as a stable observer,” *IEEE Trans. Automatic Control*, 62(4):1797–1812, Apr 2017. [Link](https://doi.org/10.1109/TAC.2016.2594085)\n",
        "\n",
        "[12] C. Lageman, J. Trumpf, and R. Mahony, “Gradient-like observers for invariant dynamics on a Lie group,” *IEEE Trans. Automatic Control*, 55(2):367–377, Feb 2010. [Link](https://doi.org/10.1109/TAC.2009.2034937)\n",
        "\n",
        "[13] S. Bonnabel, P. Martin, and P. Rouchon, “Non-linear symmetry-preserving observers on Lie groups,” *IEEE Trans. Automatic Control*, 54(7):1709–1713, July 2009. [Link](https://doi.org/10.1109/TAC.2009.2020646)\n",
        "\n",
        "[14] M. Izadi and A. K. Sanyal, “Rigid body attitude estimation based on the Lagrange–d’Alembert principle,” *Automatica*, 50(10):2570–2577, 2014. [Link](https://doi.org/10.1016/j.automatica.2014.08.010)\n",
        "\n",
        "[15] S. Bonnabel and J. J. Slotine, “A contraction theory-based analysis of the stability of the deterministic extended Kalman filter,” *IEEE Trans. Automatic Control*, 60(2):565–569, Feb 2015. [Link](https://doi.org/10.1109/TAC.2014.2336991)\n"
      ],
      "metadata": {
        "id": "GRmtfWDYt4PH"
      }
    }
  ]
}