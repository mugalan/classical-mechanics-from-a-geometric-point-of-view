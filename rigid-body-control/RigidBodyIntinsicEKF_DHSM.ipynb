{
  "nbformat": 4,
  "nbformat_minor": 0,
  "metadata": {
    "colab": {
      "provenance": [],
      "include_colab_link": true
    },
    "kernelspec": {
      "name": "python3",
      "display_name": "Python 3"
    },
    "language_info": {
      "name": "python"
    }
  },
  "cells": [
    {
      "cell_type": "markdown",
      "metadata": {
        "id": "view-in-github",
        "colab_type": "text"
      },
      "source": [
        "<a href=\"https://colab.research.google.com/github/mugalan/classical-mechanics-from-a-geometric-point-of-view/blob/main/rigid-body-control/RigidBodyIntinsicEKF_DHSM.ipynb\" target=\"_parent\"><img src=\"https://colab.research.google.com/assets/colab-badge.svg\" alt=\"Open In Colab\"/></a>"
      ]
    },
    {
      "cell_type": "markdown",
      "source": [
        "#Rigid Body Intrinsic EKF"
      ],
      "metadata": {
        "id": "xKy4CKmkJ5vG"
      }
    },
    {
      "cell_type": "code",
      "metadata": {
        "id": "TqSk1gQrwgIR"
      },
      "source": [
        "import numpy as np\n",
        "import scipy as sp\n",
        "from scipy.integrate import odeint\n",
        "import math\n",
        "from numpy import linalg\n",
        "import sympy\n",
        "from sympy import symbols\n",
        "from sympy import *\n",
        "\n",
        "import plotly.graph_objects as go\n",
        "import plotly.express as px\n",
        "from sympy.physics.mechanics import dynamicsymbols, init_vprinting\n",
        "from IPython.display import display, Math, Latex"
      ],
      "execution_count": null,
      "outputs": []
    },
    {
      "cell_type": "markdown",
      "source": [
        "# The Kalman Filter on $\\mathbb{R}^n$"
      ],
      "metadata": {
        "id": "6oFzSDDmlQUQ"
      }
    },
    {
      "cell_type": "markdown",
      "source": [
        "Consider a system modelled by a Markov process\n",
        "\\begin{align}\n",
        "x_k &= A_k\\,x_{k-1} + G_k\\,w_{k-1}, \\qquad\\\\\n",
        "y_k & = H_k\\,x_k + z_k. \\qquad\n",
        "\\end{align}\n",
        "We assume $p(w_k)=\\mathscr{N}(0,\\Sigma_p)$ and $p(z_k)=\\mathscr{N}(0,\\Sigma_m)$, where $\\mathscr{N}(\\mu,\\Sigma)$ denotes a multivariate Gaussian with mean $\\mu$ and covariance $\\Sigma$.\n",
        "\n",
        "Let $Y_k$ denote the event corresponding to a realization of $\\{y_1,\\dots,y_k\\}$. Define\n",
        "\\begin{align}\n",
        "\\widehat{x}_k^+ &\\triangleq x_k|Y_k,\\qquad\\\\\n",
        "\\widehat{x}_k^- &\\triangleq x_k|Y_{k-1},\\qquad\\\\\n",
        "y_k^- &\\triangleq y_k|Y_{k-1}.\\\\\n",
        "\\end{align}\n",
        "Assume the model\n",
        "\\begin{align}\n",
        "\\widehat{x}_k^- &= A_k\\,x_{k-1}^+ + G_{k-1}\\,w_{k-1}, \\qquad\\\\\n",
        "y_k^- &= H_k\\,\\widehat{x}_k- + z_k. \\qquad\n",
        "\\end{align}\n",
        "If $p(x_0^-)=\\mathscr{N}(m_0,P_0)$, then since $p(w_k)=\\mathscr{N}(0,\\Sigma_p)$, the linear system above implies\n",
        "$p(x_k|Y_{k-1})=p(\\widehat{x}_k^-)=N(m_k^-,P_k^-)$,\n",
        "with predicted mean and covariance\n",
        "\\begin{align}\n",
        "m_k^- &= A_k\\,m_{k-1}, \\qquad\\\\\n",
        "P_k^- &= A_k\\,P_{k-1}\\,A_k^{T} + G_k\\,\\Sigma_p\\,G_k^{T}. \\qquad\n",
        "\\end{align}\n",
        "Here $p(x_k|Y_k)=p(\\widehat{x}_k^+)=\\mathscr{N}(m_k,P_k)$.  ￼\n",
        "\n",
        "Furthermore, since $p(z_k)=N(0,\\Sigma_m)$ we have,\n",
        "\\begin{align}\n",
        "p(y_k|Y_{k-1})=N\\big(H_k m_k^-,\\; H_k P_k^- H_k^{T}+\\Sigma_m\\big),\n",
        "\\end{align}\n",
        "so the joint distribution is\n",
        "\\begin{align}\n",
        "p\n",
        "\\begin{pmatrix}x_k|Y_{k-1}\\\\[2pt] y_k|Y_{k-1}\\end{pmatrix}\n",
        "=\n",
        "\\mathscr{N}\\left(\n",
        "\\begin{bmatrix}\n",
        "m_k^- \\\\\n",
        "H_k m_k^-\n",
        "\\end{bmatrix},\n",
        "\\begin{bmatrix}\n",
        "P_k^- & P_k^- H_k^{\\!T} \\\\\n",
        "H_k P_k^- & H_k P_k^- H_k^{\\!T} + \\Sigma_m\n",
        "\\end{bmatrix}\n",
        "\\right).\n",
        "\\end{align}\n",
        "Then from the properties of multivariate normals, the conditional distribution $p(x_k|Y_k)$ is\n",
        "\\begin{align}\n",
        "p(x_k|Y_k)=\\mathscr{N}\\Big(\n",
        "m_k^- + P_k^- H_k^{\\!T}\\!\\big(H_k P_k^- H_k^{\\!T}+\\Sigma_m\\big)^{-1}\\!(y_k - H_k m_k^-),\\;\n",
        "P_k^- - P_k^- H_k^{\\!T}\\!\\big(H_k P_k^- H_k^{\\!T}+\\Sigma_m\\big)^{-1}\\!H_k P_k^-\n",
        "\\Big). \\quad\n",
        "\\end{align}\n",
        "\n",
        "Thus the updated mean and covariance are\n",
        "\\begin{align}\n",
        "K_k &\\triangleq P_k^- H_k^{\\!T}\\!\\big(H_k P_k^- H_k^{\\!T}+\\Sigma_m\\big)^{-1}, \\qquad \\\\\n",
        "m_k &= m_k^- + K_k\\,(y_k - H_k m_k^-), \\qquad \\\\\n",
        "P_k &= (I - K_k H_k)\\,P_k^-. \\qquad\n",
        "\\end{align}\n",
        "Here $\\Sigma_p = \\mathbb{E}(w_k w_k^{T})$ and $\\Sigma_m=\\mathbb{E}(z_k z_k^{T})$. Defining the estimation error $e_k \\triangleq x_k - m_k$, we have\n",
        "\\begin{align}\n",
        "e_k &= (I-K_k H_k) A_k e_{k-1} + (I-K_k H_k) w_{k-1} - K_k z_k,\\\\\n",
        "P_k &= (I-K_k H_k)\\big(A_k P_{k-1} A_k^{\\!T} + \\Sigma_p\\big).\n",
        "\\end{align}\n",
        "\n",
        "⸻\n",
        "\n"
      ],
      "metadata": {
        "id": "Pkq2EdvFlAGk"
      }
    },
    {
      "cell_type": "markdown",
      "source": [
        "# References"
      ],
      "metadata": {
        "id": "Nm-7c-B8lJXf"
      }
    },
    {
      "cell_type": "markdown",
      "source": [
        "References\n",
        "\n",
        "[1] K. C. Wolfe, M. Mashner, and G. S. Chirikjian, “Bayesian fusion on Lie groups,” Journal of Algebraic Statistics, 2(1):75–97, 2011.\n",
        "[2] S. Bonnable, P. Martin, and E. Salan, “Invariant extended Kalman filter: theory and application to a velocity-aided attitude estimation problem,” Proc. 48th IEEE CDC/28th CCC, pp. 1297–1304, Dec 2009.\n",
        "[3] S. Bonnabel, “Left-invariant extended Kalman filter and attitude estimation,” Proc. 46th IEEE CDC, pp. 1027–1032, Dec 2007.\n",
        "[4] G. Bourmaud, R. Mégret, A. Giremus, and Y. Berthoumieu, “Discrete extended Kalman filter on Lie groups,” EUSIPCO 2013, pp. 1–5, Sept 2013.\n",
        "[5] G. S. Chirikjian, “Information theory on Lie groups and mobile robotics applications,” Proc. 2010 IEEE ICRA, pp. 2751–2757, May 2010.\n",
        "[6] Y. Wang and G. S. Chirikjian, “Error propagation on the Euclidean group with applications to manipulator kinematics,” IEEE Trans. Robotics, 22(4):591–602, Aug 2006.\n",
        "[7] M. J. Piggott and V. Solo, “Stochastic numerical analysis for Brownian motion on SO(3),” Proc. 53rd IEEE CDC, pp. 3420–3425, Dec 2014.\n",
        "[8] O. Tuzel, F. Porikli, and P. Meer, “Learning on Lie groups for invariant detection and tracking,” Proc. 2008 IEEE CVPR, pp. 1–8, June 2008.\n",
        "[9] A. Barrau and S. Bonnabel, “Intrinsic filtering on Lie groups with applications to attitude estimation,” IEEE Trans. Automatic Control, 60(2):436–449, Feb 2015.\n",
        "[10] S. Bonnabel and A. Barrau, “An intrinsic Cramér–Rao bound on SO(3) for (dynamic) attitude filtering,” Proc. 54th IEEE CDC, pp. 2158–2163, Dec 2015.\n",
        "[11] A. Barrau and S. Bonnabel, “The invariant extended Kalman filter as a stable observer,” IEEE Trans. Automatic Control, 62(4):1797–1812, Apr 2017.\n",
        "[12] C. Lageman, J. Trumpf, and R. Mahony, “Gradient-like observers for invariant dynamics on a Lie group,” IEEE Trans. Automatic Control, 55(2):367–377, Feb 2010.\n",
        "[13] S. Bonnabel, P. Martin, and P. Rouchon, “Non-linear symmetry-preserving observers on Lie groups,” IEEE Trans. Automatic Control, 54(7):1709–1713, July 2009.\n",
        "[14] M. Izadi and A. K. Sanyal, “Rigid body attitude estimation based on the Lagrange–d’Alembert principle,” Automatica, 50(10):2570–2577, 2014.\n",
        "[15] S. Bonnabel and J. J. Slotine, “A contraction theory-based analysis of the stability of the deterministic extended Kalman filter,” IEEE Trans. Automatic Control, 60(2):565–569, Feb 2015.  ￼  ￼\n",
        "\n",
        "Source: “Intrinsic Extended Kalman Filter on Lie Groups (No Bias), 25-03-2019.”  ￼"
      ],
      "metadata": {
        "id": "dsEf8awulIP2"
      }
    }
  ]
}