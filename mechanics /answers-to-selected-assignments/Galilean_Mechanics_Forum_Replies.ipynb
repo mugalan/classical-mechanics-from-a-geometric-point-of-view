{
  "nbformat": 4,
  "nbformat_minor": 0,
  "metadata": {
    "colab": {
      "provenance": [],
      "authorship_tag": "ABX9TyMM7lBEwDpNTWAA56TKFVdW",
      "include_colab_link": true
    },
    "kernelspec": {
      "name": "python3",
      "display_name": "Python 3"
    },
    "language_info": {
      "name": "python"
    }
  },
  "cells": [
    {
      "cell_type": "markdown",
      "metadata": {
        "id": "view-in-github",
        "colab_type": "text"
      },
      "source": [
        "<a href=\"https://colab.research.google.com/github/mugalan/classical-mechanics-from-a-geometric-point-of-view/blob/main/mechanics%20/answers-to-selected-assignments/Galilean_Mechanics_Forum_Replies.ipynb\" target=\"_parent\"><img src=\"https://colab.research.google.com/assets/colab-badge.svg\" alt=\"Open In Colab\"/></a>"
      ]
    },
    {
      "cell_type": "code",
      "execution_count": null,
      "metadata": {
        "id": "cAL-vgcyI3-q"
      },
      "outputs": [],
      "source": []
    },
    {
      "cell_type": "markdown",
      "source": [
        "Consider two ortho normal parallel frames $\\mathbf{e}$ and $\\mathbf{b}$.\n",
        "\n",
        "Here $x_i$ and $X_i$ be the representation of the position of a point $P_i$ in the two frames respectively.\n",
        "\n",
        "Also let $\\bar{x}$ be the presentation of the origin of the $\\mathbf{b}$ frame with respect to the $\\mathbf{b}$ frame.\n",
        "\n",
        "The quantity\n",
        "\\(\n",
        "\\begin{align*}\n",
        "\\mathbb{I}_i &\\triangleq m_i\\left(||X_i||^2I_{3\\times 3} - X_iX_i^T\\right),\n",
        "\\end{align*}\n",
        "\\)\n",
        "is defined as the *moment of inertia* of the particle $P$ about the point $O'$ in a frame frame $\\mathbf{b}$.\n",
        "\n",
        "Here $X_i$ is the representation of the position of the point $P$ in the frame $\\mathbf{b}$.\n",
        "\n",
        "When you consider a set of particles $P_1,P_2,\\cdots P_n$ to total moment of inertia is give by the sum over all particles.\n",
        "\n",
        "\\(\n",
        "\\begin{align*}\n",
        "\\mathbb{I} &\\triangleq \\sum_{i=1}^n\\mathbb{I}_i =\\sum_{i=1}^n m_i\\left(||X_i||^2I_{3\\times 3} - X_iX_i^T\\right),\n",
        "\\end{align*}\n",
        "\\)"
      ],
      "metadata": {
        "id": "Bvob-MCDJA0w"
      }
    },
    {
      "cell_type": "code",
      "source": [],
      "metadata": {
        "id": "5RLtm665KNIy"
      },
      "execution_count": null,
      "outputs": []
    }
  ]
}