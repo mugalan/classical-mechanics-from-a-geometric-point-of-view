{
  "nbformat": 4,
  "nbformat_minor": 0,
  "metadata": {
    "colab": {
      "provenance": [],
      "include_colab_link": true
    },
    "kernelspec": {
      "name": "python3",
      "display_name": "Python 3"
    },
    "language_info": {
      "name": "python"
    }
  },
  "cells": [
    {
      "cell_type": "markdown",
      "metadata": {
        "id": "view-in-github",
        "colab_type": "text"
      },
      "source": [
        "<a href=\"https://colab.research.google.com/github/mugalan/classical-mechanics-from-a-geometric-point-of-view/blob/main/mechanics/assignments/Classical_Mechanics_Assignment_1.ipynb\" target=\"_parent\"><img src=\"https://colab.research.google.com/assets/colab-badge.svg\" alt=\"Open In Colab\"/></a>"
      ]
    },
    {
      "cell_type": "markdown",
      "metadata": {
        "id": "Qjok-BOpu75u"
      },
      "source": [
        "# Assignment #1: Inertial Observers\n",
        "\n",
        "* This is Assignment#1 on Classical Mechanics. It is intended to get you to relate our standard notions of physical space and time to the laws of Galileo Galilei.\n",
        "\n",
        "\n",
        "* These assignments supplement the note:\n",
        "\n",
        "https://github.com/mugalan/lessons/blob/main/mechanics/class-notes/Mugas_Classical_Mechanics.ipynb"
      ]
    },
    {
      "cell_type": "markdown",
      "source": [
        "#Q1 - Using plotly plot an orthonormal frame\n",
        "https://plotly.com/python/"
      ],
      "metadata": {
        "id": "u1HLKACFht9D"
      }
    },
    {
      "cell_type": "markdown",
      "metadata": {
        "id": "NR_nS8_Mvs6P"
      },
      "source": [
        "# Q2 - A point $P$ in space has the Euclidean representations $P\\equiv (1,1,1)$ with respect to some inertial frame $\\mathbf{e}$ with origin coinciding with a point $O$ in space. Find the angle that $OP$ makes with the plane spanned by the $\\mathbf{e}_1$, $\\mathbf{e}_2$ directions. Verify your answer and using plotly plot an orthonormal frame and the point $P$ in that frame.\n"
      ]
    },
    {
      "cell_type": "markdown",
      "metadata": {
        "id": "jq41romZv71V"
      },
      "source": [
        "# Q3 - **(Extra Credit Question)** Let $\\mathbf{e}$ and $\\mathbf{e}'$ be two inertial observers and let $A$ be some space-time event. Let the quadruple $(t,x)\\in \\mathbb{R}^4$, where $t\\in \\mathbb{R}$ and  $x\\in \\mathbb{R}^3$, be the representation of the space-time event $A$ that corresponds to $\\mathbf{e}$ while let  $(\\tau,\\xi)\\in \\mathbb{R}^4$ where $\\tau\\in \\mathbb{R}$ and  $\\xi\\in \\mathbb{R}^3$ be the representation of the space-time event $A$ that corresponds to $\\mathbf{e}'$.\n",
        "When comparing the motion described in the two frames we need to know how the two representations (coordinates) are related to each other. Specifically we will show that inertial observers must necessarily be translating at constant velocity with respect to each other without rotations. We do this by showing the following:\n",
        "\n",
        "* The assumption that time is homogeneous and that all intervals of time are inertial observer invariant means that necessarily $\\tau=t+a$ where $a$ is a constant.\n",
        "\n",
        "* Homogeneity of space implies that necessarily  $\\xi=\\beta t+R x$ where $\\beta$ is a constant $3\\times 1$ matrix and $R$ is a constant $3\\times 3$ matrix.\n",
        "\n",
        "* The assumption that space intervals are inertial observer independent implies that $R$ is an orthonormal constant transformation (that is $R^TR=RR^T=I$).\n",
        "\n",
        "* Let $O'$ be the origin of the orthonormal frame used by $\\mathbf{e}'$ to make spatial measurements. If the space-time event $O'$ has the representation $(t,o)$ according to the observer $\\mathbf{e}$ then since $v=\\dot{o}=-R^{T}\\beta=\\mathrm{constant}$ we see that the velocity of the $\\mathbf{e}'$ frame with respect to the $\\mathbf{e}$ given by $v=\\dot{o}$ must be a constant.  If both clocks of $\\mathbf{e}$ and $\\mathbf{e}'$ are synchronized (that is $a=0$) and if a certain space-time event $A$ has the representation $(t,x)$ according to $\\mathbf{e}$ then the space-time event $A$ has the representation $(t,R(x-vt))$ according to $\\mathbf{e}'$.\n"
      ]
    },
    {
      "cell_type": "markdown",
      "metadata": {
        "id": "Rdkx26gwwal_"
      },
      "source": [
        "# Q4 -  An inertial observer $\\mathbf{e}$ notices that an object is moving in a straight line at a constant velocity. Show that all other inertial observers will also agree that the object is moving in a straight line at a constant velocity."
      ]
    },
    {
      "cell_type": "markdown",
      "metadata": {
        "id": "-CkbnlE-wkx5"
      },
      "source": [
        "# Q5 - An inertial observer $\\mathbf{e}$ notices that an object is moving in a straight line at a constant acceleration (for example such as the free falling object under gravity). Show that other inertial observers need not agree that the object is moving in a straight line.\n"
      ]
    },
    {
      "cell_type": "markdown",
      "metadata": {
        "id": "v3Ld4QKFi4JA"
      },
      "source": [
        "# Q6 - An inertial observer $\\mathbf{e}$ notices that an object is moving in a circle at a constant rate in the $\\mathbf{e}_1,\\mathbf{e}_2$ frame with the center coniciding with the center of a the $\\mathbf{e}$ frame. Show that other inertial observers need not agree that the object is moving in a circle.\n"
      ]
    }
  ]
}