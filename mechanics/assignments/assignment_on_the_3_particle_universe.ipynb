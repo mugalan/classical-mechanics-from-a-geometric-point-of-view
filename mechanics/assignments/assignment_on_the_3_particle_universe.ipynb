{
  "nbformat": 4,
  "nbformat_minor": 0,
  "metadata": {
    "colab": {
      "provenance": [],
      "include_colab_link": true
    },
    "kernelspec": {
      "name": "python3",
      "display_name": "Python 3"
    },
    "language_info": {
      "name": "python"
    }
  },
  "cells": [
    {
      "cell_type": "markdown",
      "metadata": {
        "id": "view-in-github",
        "colab_type": "text"
      },
      "source": [
        "<a href=\"https://colab.research.google.com/github/mugalan/classical-mechanics-from-a-geometric-point-of-view/blob/main/mechanics/assignments/assignment_on_the_3_particle_universe.ipynb\" target=\"_parent\"><img src=\"https://colab.research.google.com/assets/colab-badge.svg\" alt=\"Open In Colab\"/></a>"
      ]
    },
    {
      "cell_type": "markdown",
      "source": [
        "#The 3-Particle Universe"
      ],
      "metadata": {
        "id": "TK_nVBmLC2BC"
      }
    },
    {
      "cell_type": "markdown",
      "source": [
        "Consider the example of mutually interacting, but otherwise isolated, three particles $P_1, P_2, P_3$, each of mass $m_1,m_2,m_3$ respectively (a 3-particle universe). Note that the relative position between the particles may vary with time. Let $x_1,x_2,x_3$ be the representation of these three particles with respect to some inertial frame $\\mathbf{e}$. This also models the instance where $P_1$ and $P_2$ are two particles of interest and $P_3$ represents the interaction that these two have with the rest of the universe. Use $f_{ij}$ to denote the force on $i$ due to its interaction with $j$ for $i,j\\in \\{1,2,3\\}$.\n",
        "\n",
        "* Write down the equations of motion  of the center of mass of the two particles $P_1, P_2$.\n",
        "* Write down the rate of change of total angular momentum of the two particles $P_1$ and $P_2$ with respect to the center of mass of the two particles.\n",
        "* Let $f_{13} + f_{23} = 0_{3\\times 1}$.\n",
        "Assuming that mutual particle interactions align along the line joining the two particles show with clear justification the followings:\n",
        "\n",
        "    * The center of mass of the two particles is either at rest or is moving in a straight line with respect to  $\\mathbf{e}$.\n",
        "    * The two particles are rotating (moving at constant angular momentum) with respect to the center of mass of the two particles.\n"
      ],
      "metadata": {
        "id": "QBoBQhD7tr7q"
      }
    }
  ]
}