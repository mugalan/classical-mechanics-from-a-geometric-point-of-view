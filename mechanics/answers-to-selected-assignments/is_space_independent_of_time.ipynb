{
  "nbformat": 4,
  "nbformat_minor": 0,
  "metadata": {
    "colab": {
      "provenance": [],
      "include_colab_link": true
    },
    "kernelspec": {
      "name": "python3",
      "display_name": "Python 3"
    },
    "language_info": {
      "name": "python"
    }
  },
  "cells": [
    {
      "cell_type": "markdown",
      "metadata": {
        "id": "view-in-github",
        "colab_type": "text"
      },
      "source": [
        "<a href=\"https://colab.research.google.com/github/mugalan/classical-mechanics-from-a-geometric-point-of-view/blob/main/mechanics/answers-to-selected-assignments/is_space_independent_of_time.ipynb\" target=\"_parent\"><img src=\"https://colab.research.google.com/assets/colab-badge.svg\" alt=\"Open In Colab\"/></a>"
      ]
    },
    {
      "cell_type": "markdown",
      "source": [
        "#Is space independent of time?"
      ],
      "metadata": {
        "id": "bTUINvXLQA9W"
      }
    },
    {
      "cell_type": "markdown",
      "source": [
        "### 1. **Common Perception vs. Galilean Relativity**:\n",
        "   - The common perception is that space and time are independent: space is where events happen, and time tells when they happen, without any direct interplay between the two.\n",
        "   - In Galilean relativity, the relationships between the coordinates of space and time as seen by different inertial observers show that this separation is not as clear-cut as commonly perceived.\n",
        "\n",
        "### 2. **Space-Time Coordinates**:\n",
        "   - The observers $\\mathbf{e}$ and $\\mathbf{e}'$ are two Galilean inertial observers. Observer $\\mathbf{e}$ uses coordinates $(t, x)$, where $t$ is the time and $x$ is the spatial position, to describe an event. Similarly, observer $\\mathbf{e}'$ uses coordinates $(\\tau, \\xi)$ for the same event.\n",
        "   - The task is to find how these coordinates relate to each other.\n",
        "\n",
        "### 3. **Transformation of Time**:\n",
        "   - The argument begins by asserting that time is homogeneous and intervals of time are invariant across inertial observers. This assumption leads to the conclusion that $\\tau = t + a$, where $a$ is a constant. This means that the time coordinates of the two observers differ only by a constant shift.\n",
        "\n",
        "### 4. **Transformation of Space**:\n",
        "   - The spatial coordinates are assumed to transform as $\\xi = \\beta t + R x$, where $\\beta$ is a constant matrix (representing a velocity vector) and $R$ is a constant matrix (representing a rotation or possibly a reflection).\n",
        "   - The homogeneity of space leads to this linear transformation, where the matrix $R$ must be orthonormal (i.e., $R^T R = RR^T = I$) to preserve the lengths and angles, as these should be invariant under a change of inertial frame.\n",
        "\n",
        "### 5. **Relative Velocity**:\n",
        "   - The key result here is that if you consider the origin of $\\mathbf{e}'$ as observed by $\\mathbf{e}$, the relative velocity between the two frames $v$ is constant. This is derived from the fact that $v = \\dot{o} = -R^T \\beta$, meaning the velocity vector $v$ does not change over time.\n",
        "   - Hence, the frames $\\mathbf{e}$ and $\\mathbf{e}'$ must be translating at a constant velocity with respect to each other.\n",
        "\n",
        "### 6. **Galilean Transformation**:\n",
        "   - The final step is to express how the coordinates of an event in one frame translate to the other. The transformation $(t, x) \\rightarrow (t, R(x - vt))$ shows that space and time are intertwined: the spatial coordinates $\\xi$ in the frame $\\mathbf{e}'$ depend not only on the spatial coordinates $x$ in the frame $\\mathbf{e}$ but also on time $t$ and the relative velocity $v$.\n",
        "\n",
        "### 7. **Conclusion**:\n",
        "   - The Galilean transformation $x' = R(x - vt)$ clearly demonstrates that spatial coordinates in one inertial frame depend on both the spatial coordinates and the time in another frame. Therefore, this transformation suggests that space and time are not entirely independent, as the common perception would have it. Instead, they are interconnected in the context of relative motion.\n",
        "\n",
        "### **Summary**:\n",
        "This argument effectively shows that under Galilean relativity, space and time cannot be considered entirely independent. The transformation laws governing the relationship between coordinates in different inertial frames imply that spatial coordinates in one frame are influenced by both the spatial and temporal coordinates in another frame. Thus, the idea that spatial properties are independent of time is challenged, at least within the realm of classical mechanics and Galilean relativity."
      ],
      "metadata": {
        "id": "pgcAOXHWQEWx"
      }
    },
    {
      "cell_type": "markdown",
      "source": [
        "## Example"
      ],
      "metadata": {
        "id": "9HW9x6FbQKtP"
      }
    },
    {
      "cell_type": "markdown",
      "source": [
        "### Setup:\n",
        "- Consider two inertial observers $\\mathbf{e}$ and $\\mathbf{e}'$.\n",
        "- The origins of both frames $O$ and $O'$ coincide at time $t = 0$, i.e., $O = O'$ at $t = 0$.\n",
        "- $O'$ is moving with a constant velocity $v$ relative to $O$ along the $x$-axis.\n",
        "- A light flash occurs at the origin of $O'$ at $t = 0$, and this is event $A_1$.\n",
        "- Another light flash occurs at the origin of $O'$ at time $t = T$, and this is event $A_2$.\n",
        "\n",
        "### Events in the $ \\mathbf{e}' $ Frame:\n",
        "- **Event $A_1$**:\n",
        "  - In the $ \\mathbf{e}' $ frame, the coordinates are $(\\tau_1, \\xi_1)$.\n",
        "  - Since $O'$ is the origin in $ \\mathbf{e}' $, and the flash happens at $t = 0$, we have $\\tau_1 = 0$ and $\\xi_1 = 0$.\n",
        "\n",
        "- **Event $A_2$**:\n",
        "  - The second flash also occurs at the origin of $O'$, but at time $t = T$ in the $ \\mathbf{e} $ frame.\n",
        "  - In the $ \\mathbf{e}' $ frame, the coordinates of this event are $(\\tau_2, \\xi_2)$.\n",
        "  - Again, $\\xi_2 = 0$ since the flash happens at the origin of $O'$, and $\\tau_2 = T$.\n",
        "\n",
        "### Transforming to the $ \\mathbf{e} $ Frame:\n",
        "We now transform these events into the $ \\mathbf{e} $ frame using the Galilean transformation:\n",
        "\\begin{align*}\n",
        "\\tau = t \\quad \\text{and} \\quad \\xi = x - vt\n",
        "\\end{align*}\n",
        "For both events, we have:\n",
        "\n",
        "- **Event $A_1$**:\n",
        "  - In the $ \\mathbf{e} $ frame, the event occurs at time $t = 0$ and at the origin $x = 0$.\n",
        "  - Using the transformation:\n",
        "    \\begin{align*}\n",
        "    x_1 = \\xi_1 + vt_1 = 0 + v \\cdot 0 = 0\n",
        "    \\end{align*}\n",
        "  - So, in the $ \\mathbf{e} $ frame, $A_1$ is at $(t_1, x_1) = (0, 0)$.\n",
        "\n",
        "- **Event $A_2$**:\n",
        "  - In the $ \\mathbf{e} $ frame, the second flash occurs at time $t = T$.\n",
        "  - Since $O'$ is moving with velocity $v$, the position of $O'$ at time $T$ is $x = vT$.\n",
        "  - Therefore, in the $ \\mathbf{e} $ frame, the coordinates of event $A_2$ are:\n",
        "    \\begin{align*}\n",
        "    x_2 = \\xi_2 + vt_2 = 0 + vT = vT\n",
        "    \\end{align*}\n",
        "  - So, in the $ \\mathbf{e} $ frame, $A_2$ is at $(t_2, x_2) = (T, vT)$.\n",
        "\n",
        "### Spatial Distance Between Events:\n",
        "- In the $ \\mathbf{e}' $ frame, both events $A_1$ and $A_2$ occur at the same spatial location, so the spatial distance between them is zero:\n",
        "  \\begin{align*}\n",
        "  \\text{Spatial distance in } \\mathbf{e}': |\\xi_2 - \\xi_1| = 0\n",
        "  \\end{align*}\n",
        "  \n",
        "- In the $ \\mathbf{e} $ frame, however, the spatial distance between these two events is:\n",
        "  \\begin{align*}\n",
        "  \\text{Spatial distance in } \\mathbf{e}: |x_2 - x_1| = |vT - 0| = vT\n",
        "  \\end{align*}\n",
        "\n",
        "### Conclusion:\n",
        "This example clearly demonstrates that the spatial distance between the two events $A_1$ and $A_2$ is zero in the frame $ \\mathbf{e}' $, but non-zero (and equal to $vT$) in the frame $ \\mathbf{e} $. This shows that the concept of spatial distance is not invariant under a change of inertial reference frames in Galilean relativity.\n",
        "\n",
        "Thus, the perception that spatial properties are independent of time is indeed incorrect, as this example illustrates how the spatial separation between two events depends on the relative motion between the observers. This dependence on the relative velocity $v$ indicates that space and time are interlinked, even in the realm of classical mechanics."
      ],
      "metadata": {
        "id": "-0dnYB51QMXS"
      }
    },
    {
      "cell_type": "markdown",
      "source": [
        "### Simulaion"
      ],
      "metadata": {
        "id": "AsahLhQIRaXT"
      }
    },
    {
      "cell_type": "code",
      "source": [
        "import matplotlib.pyplot as plt\n",
        "import numpy as np\n",
        "\n",
        "# Parameters\n",
        "T = 10          # Time interval between two events\n",
        "v = 2           # Relative velocity of O' with respect to O\n",
        "\n",
        "# Event coordinates in frame e'\n",
        "tau1, xi1 = 0, 0\n",
        "tau2, xi2 = T, 0\n",
        "\n",
        "# Transform to frame e\n",
        "t1, x1 = tau1, xi1 + v * tau1\n",
        "t2, x2 = tau2, xi2 + v * tau2\n",
        "\n",
        "# Plotting\n",
        "plt.figure(figsize=(10, 6))\n",
        "\n",
        "# Plot the events in the e' frame\n",
        "plt.plot([xi1, xi2], [tau1, tau2], 'bo-', label=\"Frame e'\", markersize=10)\n",
        "for i, txt in enumerate(['A1', 'A2']):\n",
        "    plt.annotate(txt, (0, [0, T][i]), textcoords=\"offset points\", xytext=(10,-10), ha='center', fontsize=12)\n",
        "\n",
        "# Plot the events in the e frame\n",
        "plt.plot([x1, x2], [t1, t2], 'ro-', label=\"Frame e\", markersize=10)\n",
        "for i, txt in enumerate(['A1', 'A2']):\n",
        "    plt.annotate(txt, ([0, v * T][i], [0, T][i]), textcoords=\"offset points\", xytext=(-15,10), ha='center', fontsize=12)\n",
        "\n",
        "# Annotations\n",
        "plt.axhline(0, color='black', linewidth=0.5)\n",
        "plt.axvline(0, color='black', linewidth=0.5)\n",
        "plt.xlabel(\"Space (x)\", fontsize=14)\n",
        "plt.ylabel(\"Time (t)\", fontsize=14)\n",
        "plt.title(\"Simulation of Events in Two Inertial Frames\", fontsize=16)\n",
        "plt.legend()\n",
        "plt.grid(True)\n",
        "plt.xlim(-1, max(v*T, 1) + 1)\n",
        "plt.ylim(-1, T + 1)\n",
        "plt.show()\n"
      ],
      "metadata": {
        "id": "BA3gGn4HReZv"
      },
      "execution_count": null,
      "outputs": []
    },
    {
      "cell_type": "markdown",
      "source": [
        "#The 3-Particle Universe"
      ],
      "metadata": {
        "id": "TK_nVBmLC2BC"
      }
    },
    {
      "cell_type": "markdown",
      "source": [
        "Consider the example of mutually interacting three interacting particles $P_1, P_2, P_3$ each of mass $m_1,m_2,m_3$ respectively. Let $x_1,x_2,x_3$ be the representation of these three particles with respect to some inertial frame $\\mathbf{e}$. This models the instance where $P_1$ and $P_2$ are two particles of interest and $P_3$ represents the interaction that these two have with the rest of the universe."
      ],
      "metadata": {
        "id": "IIwgS4uNT96K"
      }
    },
    {
      "cell_type": "markdown",
      "source": [
        "## The Center of Mass Motion of all the 3 Particles"
      ],
      "metadata": {
        "id": "cRWzTc5T94o6"
      }
    },
    {
      "cell_type": "markdown",
      "source": [
        "Consider the example of mutually interacting three interacting particles $P_1, P_2, P_3$ each of mass $m_1,m_2,m_3$ respectively. Let $x_1,x_2,x_3$ be the representation of these three particles with respect to some inertial frame $\\mathbf{e}$. This models the instance where $P_1$ and $P_2$ are two particles of interest and $P_3$ represents the interaction that these two have with the rest of the universe.\n",
        "\n",
        "The principle of conservation of momentum for these three particles in the inertial frame $\\mathbf{e}$ implies that:\n",
        "\n",
        "\\begin{align}\n",
        "m_1\\dot{x}_1+m_2\\dot{x}_2+m_3\\dot{x}_3= \\mathrm{constant}_{3\\times 1}.\n",
        "\\end{align}\n",
        "\n",
        "Differentiating this expression with respect to time we have:\n",
        "\n",
        "\\begin{align}\n",
        "m_1\\ddot{x}_1+m_2\\ddot{x}_2+m_3\\ddot{x}_3= 0_{3\\times 1}.\n",
        "\\end{align}\n",
        "\n",
        "Let $\\bar{x}_u$ be the center of mass of the 3-particle universe that is given by\n",
        "\n",
        "\\begin{align}\n",
        "m_1x_1+m_2x_2+m_3x_3=(m_1+m_2+m_3)\\bar{x}_u.\n",
        "\\end{align}\n",
        "\n",
        "Differentiating this twice we find\n",
        "\n",
        "\\begin{align}\n",
        "M_u\\ddot{\\bar{x}}_u&=0_{3\\times 1}\n",
        "\\end{align}\n",
        "\n",
        "where $(m_1+m_2+m_3)=M_u$.\n",
        "\n",
        "This shows that the center of mass of the 3 particle Universe is either at rest or is moving at constant velocity with respect to $\\mathbf{e}$ and any other inertial observer."
      ],
      "metadata": {
        "id": "L26hEM5E94o6"
      }
    },
    {
      "cell_type": "code",
      "source": [],
      "metadata": {
        "id": "2FaIjIGg93gq"
      },
      "execution_count": null,
      "outputs": []
    },
    {
      "cell_type": "markdown",
      "source": [
        "## The Center of Mass Motion of Two Particles Due to the Influence of a Third in the 3 Particle Universe"
      ],
      "metadata": {
        "id": "MFKS-sk5T-9g"
      }
    },
    {
      "cell_type": "markdown",
      "source": [
        "Consider the example of mutually interacting (but otherwise isolated) three interacting particles $P_1, P_2, P_3$ each of mass $m_1,m_2,m_3$ respectively. Let $x_1,x_2,x_3$ be the representation of these three particles with respect to some inertial frame $\\mathbf{e}$. This models the instance where $P_1$ and $P_2$ are two particles of interest and $P_3$ represents the interaction that these two have with the rest of the universe.\n",
        "\n",
        "The principle of conservation of momentum for these three particles in the inertial frame $\\mathbf{e}$ implies that:\n",
        "\n",
        "\\begin{align}\n",
        "m_1\\dot{x}_1+m_2\\dot{x}_2+m_3\\dot{x}_3= \\mathrm{constant}_{3\\times 1}.\n",
        "\\end{align}\n",
        "\n",
        "Differentiating this expression with respect to time we have:\n",
        "\n",
        "\\begin{align}\n",
        "m_1\\ddot{x}_1+m_2\\ddot{x}_2+m_3\\ddot{x}_3= 0_{3\\times 1}\n",
        "\\end{align}\n",
        "and hence\n",
        "\\begin{align}\n",
        "m_1\\ddot{x}_1=-m_2\\ddot{x}_2-m_3\\ddot{x}_3\n",
        "\\end{align}\n",
        "\n",
        "Lets define\n",
        "\n",
        "\\begin{align}\n",
        "f_{1}≜-m_2\\ddot{x}_2-m_3\\ddot{x}_3\n",
        "\\end{align}\n",
        "to be the force acting on $P_1$ due to the interaction with $P_2,P_3$.\n",
        "\n",
        "This should be true for all the other two poarticles as well. Thus we have\n",
        "\\begin{align}\n",
        "m_i\\ddot{x}_i=f_i\n",
        "\\end{align}\n",
        "where\n",
        "\\begin{align}\n",
        "f_i=\\sum_{j\\neq i}^3 f_{ij}\n",
        "\\end{align}\n",
        "with $f_{ij}$ representing the interaction of $P_j$ on $P_i$. Recall that\n",
        "pair wise particle interactions (two-particle Universe) tells us that:\n",
        "\\begin{align}\n",
        "f_{ij}≜-f_{ji}.\n",
        "\\end{align}\n",
        "Summarizing we have\n",
        "\n",
        "\\begin{align}\n",
        "m_i\\ddot{x}_i=\\sum_{j\\neq i}^3 f_{ij}.\n",
        "\\end{align}"
      ],
      "metadata": {
        "id": "tl7qrAl3C-et"
      }
    },
    {
      "cell_type": "markdown",
      "source": [
        "Lets assume our system of interest is $P_1,P_2$ and that $P_3$ represents the rest of the universe.\n",
        "\n",
        "Then we have\n",
        "\n",
        "\\begin{align}\n",
        "m_1\\ddot{x}_1=f_{12}+f_{13}\\\\\n",
        "m_2\\ddot{x}_2=f_{21}+f_{23}\\\\\n",
        "\\end{align}\n",
        "\n",
        "Making note of\n",
        "\n",
        "\\begin{align}\n",
        "f_{ij}≜-f_{ji}.\n",
        "\\end{align}\n",
        "\n",
        "we have\n",
        "\\begin{align}\n",
        "m_1\\ddot{x}_1+m_2\\ddot{x}_2=f_{13}+f_{23}.\n",
        "\\end{align}\n",
        "\n",
        "Let $\\bar{x}$ to be the center of mass of $P_1,P_2$. Then\n",
        "\\begin{align}\n",
        "m_1{x}_1+m_2{x}_2=(m_1+m_2)\\bar{x}=M\\bar{x}.\n",
        "\\end{align}\n",
        "where $M\\triangleq (m_1+m_2)$.\n",
        "\n",
        "Differentiating this we have\n",
        "\\begin{align}\n",
        "M\\ddot{\\bar{x}}=m_1\\ddot{x}_1+m_2\\ddot{x}_2=f_{13}+f_{23}.\n",
        "\\end{align}\n",
        "\n",
        "Thus we have\n",
        "\\begin{align}\n",
        "M\\ddot{\\bar{x}}=f_{13}+f_{23}=\\mathrm{resultant\\:interaction \\: on\\: 1 \\: and \\: 2\\: due \\: to \\: 3}.\n",
        "\\end{align}"
      ],
      "metadata": {
        "id": "zylqaorVbiPz"
      }
    },
    {
      "cell_type": "markdown",
      "source": [
        "## Total Angular Momentum"
      ],
      "metadata": {
        "id": "AlNRHG2xUKtV"
      }
    },
    {
      "cell_type": "markdown",
      "source": [
        "Let $O'$ be some point with representation $o_{3\\times 1}$ with respect to $\\mathbf{e}$. The angular momentum of the point $P_i$ about $O'$ with respect to $\\mathbf{e}$ is defined by\n",
        "\n",
        "\\begin{align}\n",
        "\\pi_i  \\triangleq (x_i-o)\\times m_i\\dot{x}_i\n",
        "\\end{align}\n",
        "\n",
        "The total angular momentum of the three particles is then\n",
        "\\begin{align}\n",
        "\\pi  \\triangleq \\sum_{i=1}^3(x_i-o)\\times m_i\\dot{x}_i.\n",
        "\\end{align}\n",
        "\n",
        "The rate of change of the total angular momentum of the 3 particle system is\n",
        "\n",
        "\\begin{align}\n",
        "\\dot{\\pi}  &\\triangleq \\sum_{i=1}^3(\\dot{x}_i-\\dot{o})\\times m_i\\dot{x}_i+(x_i-o)\\times m_i\\ddot{x}_i,\\\\\n",
        "&=\\sum_{i=1}^3-\\dot{o}\\times m_i\\dot{x}_i+(x_i-o)\\times m_i\\ddot{x}_i\\\\\n",
        "&=-\\dot{o}\\times \\sum_{i=1}^3 m_i\\dot{x}_i+\\sum_{i=1}^3(x_i-o)\\times {f}_i\\\\\n",
        "&=-\\dot{o}\\times \\sum_{i=1}^3 m_i\\dot{x}_i+\\sum_{i=1}^3(x_i-o)\\times \\sum_{j\\neq i}^3 f_{ij}\\\\\n",
        "&=-\\dot{o}\\times \\sum_{i=1}^3 m_i\\dot{x}_i+\\sum_{i=1}^3\\sum_{j\\neq i}^3(x_i-o)\\times  f_{ij}\\\\\n",
        "\\end{align}\n",
        "Notice that the 6 terms the last double summation can be re arranged to yield pariwise sums of the form\n",
        "\\begin{align}\n",
        "\\sum_{i=1}^3\\sum_{j\\neq i}^3(x_i-o)\\times  f_{ij}=\\left((x_1-o)\\times  f_{12}+(x_2-o)\\times  f_{21}\\right)+\n",
        "\\left((x_2-o)\\times  f_{23}+(x_3-o)\\times  f_{32}\\right)+\n",
        "\\left((x_3-o)\\times  f_{31}+(x_1-o)\\times  f_{13}\\right).\n",
        "\\end{align}\n"
      ],
      "metadata": {
        "id": "rubvtRi8UQVt"
      }
    },
    {
      "cell_type": "markdown",
      "source": [
        "Since $f_{ij}=-f_{ji}$ and if we assume that **mutual particle interactions lie along the direction of the line joining the two particles** we see that each of the pairs in the aobve summation become zero. For instance\n",
        "\\begin{align}\n",
        "\\left((x_1-o)\\times  f_{12}+(x_2-o)\\times  f_{21}\\right)=0_{3\\times 1}\n",
        "\\end{align}"
      ],
      "metadata": {
        "id": "pwFMJK_paATb"
      }
    },
    {
      "cell_type": "markdown",
      "source": [
        "Thus if we make the additional assumption that **mutual particle interactions lie along the direction of the line joining the two particles** we have"
      ],
      "metadata": {
        "id": "uOHnbcAHa3EX"
      }
    },
    {
      "cell_type": "markdown",
      "source": [
        "\\begin{align}\n",
        "\\dot{\\pi}  &=-\\dot{o}\\times \\sum_{i=1}^3 m_i\\dot{x}_i\\\\\n",
        "\\end{align}"
      ],
      "metadata": {
        "id": "GBOuwWv-a_qG"
      }
    },
    {
      "cell_type": "markdown",
      "source": [
        "From the principle of the conservation of momentum we have\n",
        "\\begin{align}\n",
        "\\sum_{i=1}^3m_i\\dot{x}_i=M_u\\dot{\\bar{x}}_u\n",
        "\\end{align}\n",
        "where $M_u$ is the total mass of the 3 particle universe and $\\bar{x}_u$ is the center of mass of the 3 particle universe.\n",
        "\n",
        "Then we have"
      ],
      "metadata": {
        "id": "jClVaskQbTL8"
      }
    },
    {
      "cell_type": "markdown",
      "source": [
        "\\begin{align}\n",
        "\\dot{\\pi}  &=-\\dot{o}\\times M_u\\dot{\\bar{x}}_u\\\\\n",
        "\\end{align}\n",
        "\n",
        "In particlular if we take the angular momentum with respect to the center of mass of the 3 particle universe then $o=\\bar{x}_u$ and hence\n",
        "\\begin{align}\n",
        "\\dot{\\pi}  &=-\\dot{\\bar{x}}_u\\times M_u\\dot{\\bar{x}}_u=0_{3\\times 1}\\\\\n",
        "\\end{align}\n",
        "and we have the conclusion that the total angular momentum of the 3 particle universe about its center of mass is conserved."
      ],
      "metadata": {
        "id": "97e27cGscOv0"
      }
    },
    {
      "cell_type": "markdown",
      "source": [
        "##Rate of Change of Angular Momentum of the Two Particles Due to the Influnece of the Third Paricle"
      ],
      "metadata": {
        "id": "mC9M1siqduhU"
      }
    },
    {
      "cell_type": "markdown",
      "source": [
        "Let us consider the case were our interest is in the behavior of $P_1$ and $P_2$ due the influence of $P_3$ on them."
      ],
      "metadata": {
        "id": "ulb1NicFd9EN"
      }
    },
    {
      "cell_type": "markdown",
      "source": [
        "The total angular momentum of the two particles is then\n",
        "\\begin{align}\n",
        "\\pi  \\triangleq \\sum_{i=1}^2(x_i-o)\\times m_i\\dot{x}_i.\n",
        "\\end{align}\n",
        "\n",
        "The rate of change of the total angular momentum of the 2 particlesis\n",
        "\n",
        "\\begin{align}\n",
        "\\dot{\\pi}  &=-\\dot{o}\\times \\sum_{i=1}^2 m_i\\dot{x}_i+\\sum_{i=1}^2\\sum_{j\\neq i}^3(x_i-o)\\times  f_{ij}\\\\\n",
        "\\end{align}\n",
        "Notice that the 4 terms the last double summation can be re arranged to yield pariwise sums of the form\n",
        "\\begin{align}\n",
        "\\sum_{i=1}^2\\sum_{j\\neq i}^3(x_i-o)\\times  f_{ij}&=\\left((x_1-o)\\times  f_{12}+(x_2-o)\\times  f_{21}\\right)+\n",
        "\\left((x_2-o)\\times  f_{23}+(x_1-o)\\times  f_{13}\\right)\\\\\n",
        "&=\\left((x_2-o)\\times  f_{23}+(x_1-o)\\times  f_{13}\\right)\n",
        "\\end{align}\n",
        "\\begin{align}\n",
        "\\dot{\\pi}  &=-\\dot{o}\\times M\\dot{\\bar{x}}+\\left((x_2-o)\\times  f_{23}+(x_1-o)\\times  f_{13}\\right)\n",
        "\\end{align}\n",
        "Here $M=(m_1+m_2)$ and $(m_1+m_2)\\bar{x}=(m_1x_1+m_2x_2)$.\n",
        "\n",
        "\n",
        "Notice that $(x_2-o)\\times  f_{23}$ is the moment of the interaction force of particle $P_3$ (the rest of the universe) on $P_2$ about $o$ and $(x_1-o)\\times  f_{13}$ is the moment of the interaction force of particle $P_3$ (the rest of the universe) on $P_1$ about $o$.\n",
        "\n",
        "Again if we take the moments about the center of mass of the two particles we have\n",
        "\n",
        "\\begin{align}\n",
        "\\dot{\\pi}  &=\\left((x_2-\\bar{x})\\times  f_{23}+(x_1-\\bar{x})\\times  f_{13}\\right).\n",
        "\\end{align}\n",
        "\n",
        "This states that the total rate of change of anglular momentum of the two particles $P_1,P_2$ about the center of mass of the two particles is equal to the total resultant of the moments of the external interactions acting on the two particles."
      ],
      "metadata": {
        "id": "W7rGVs1pehXZ"
      }
    },
    {
      "cell_type": "markdown",
      "source": [
        "## Simulation Example"
      ],
      "metadata": {
        "id": "pwWIQOjWGa6a"
      }
    },
    {
      "cell_type": "markdown",
      "source": [
        "\\begin{align}\n",
        "\\pi  \\triangleq (x_1-\\bar{x})\\times m_1\\dot{x}_1+(x_2-\\bar{x})\\times m_2\\dot{x}_2.\n",
        "\\end{align}"
      ],
      "metadata": {
        "id": "iQ6FVNINY6vc"
      }
    },
    {
      "cell_type": "markdown",
      "source": [
        "Consider the example where\n",
        "\n",
        "\\begin{align}\n",
        "f_{13} + f_{23} &= 0_{3\\times 1}.\n",
        "\\end{align}\n",
        "\n",
        "Then we see that\n",
        "\\begin{align}\n",
        "M\\ddot{\\bar{x}}=f_{13}+f_{23}=0_{3\\times 1}.\n",
        "\\end{align}\n",
        "and\n",
        "\\begin{align}\n",
        "\\dot{\\pi} &= (x_1 - \\bar{x}) \\times f_{13} + (x_2 - \\bar{x}) \\times f_{23}\\\\\n",
        "&= (x_1 - \\bar{x}) \\times f_{13} - (x_2 - \\bar{x}) \\times f_{13},\\\\\n",
        "&= (x_1 - \\bar{x} - x_2 + \\bar{x}) \\times f_{13},\\\\\n",
        "&= (x_1 - x_2) \\times f_{13}.\n",
        "\\end{align}\n",
        "\n",
        "Since we **assume that mutual particle interactions align along the line joining the two particles** we have that $f_{13}$ must be of the form:\n",
        "\n",
        "\\begin{align}\n",
        "f_{13}=\\gamma (x_1-x_3).\n",
        "\\end{align}\n",
        "\n",
        "Then we have:\n",
        "\\begin{align}\n",
        "\\tau &= \\gamma (x_1 - x_2) \\times (x_1 - x_3).\n",
        "\\end{align}\n",
        "\n",
        "Now since $f_{23}=-f_{13}$\n",
        "\n",
        "\\begin{align}\n",
        "(x_2-x_3)=-(x_1-x_3),\n",
        "\\end{align}\n",
        "and hence\n",
        "\\begin{align}\n",
        "x_3=\\frac{x_1+x_2}{2},\n",
        "\\end{align}\n",
        "and thus all three particles must lie along the same line and the 3rd particle is in the middle of the line joining the two particles.\n",
        "\n",
        "Furthermore we have\n",
        "\\begin{align}\n",
        "f_{13}=\\gamma (x_1-x_3)=\\frac{\\gamma}{2} (2x_1-x_1-x_2)=\\frac{\\gamma}{2} (x_1-x_2),\n",
        "\\end{align}\n",
        "and hence\n",
        "\\begin{align}\n",
        "\\dot{\\pi} &= (x_1 - x_2) \\times f_{13}=0_{3\\times 1}.\n",
        "\\end{align}\n",
        "\n",
        "Thus we can conclude that **the cneter of mass of the two particels** is either at rest or is moving in a straight line with respect to $\\mathbf{e}$ and that **the two particles are rotating (moving at constant angular momentum)** with respect to the center of mass of the two particles."
      ],
      "metadata": {
        "id": "_9CxS19eHXD3"
      }
    },
    {
      "cell_type": "markdown",
      "source": [
        "# Sample Answer to the example of an oscillatory motion of a bead in a moving frame"
      ],
      "metadata": {
        "id": "l3gPLX__2R2V"
      }
    },
    {
      "cell_type": "markdown",
      "source": [
        "Consider three orthonormal frames $\\mathbf{e}$, $\\mathbf{c}$ and $\\mathbf{b}$ with coinciding origins. At any given time instant $t$ the frame $\\mathbf{c}$ is related to the frame $\\mathbf{e}$ by a counter clockwise rotation about the third axis by an angle $\\phi=\\alpha\\, t$ and the frame $\\mathbf{b}$ is related to the frame $\\mathbf{c}$ by a counter clockwise rotation about the first axis by an angle $\\theta=\\beta \\, t$ where $\\alpha$ and $\\beta$ are constant. Let $\\mathbf{b}=\\mathbf{e}R(t)$ where $R(t)\\in SO(3)$.\n",
        "\n",
        "A particle $P$ of mass $m$ is moving in space in such a way that it oscillates about the origin of the frames along the $\\mathbf{b}_2$ axis at a frequency of $\\omega$ rad/s with an amplitude of $r$ m. That is if $y$ is the displacement of $P$ along the $\\mathbf{b}_2$ axis then $y(t)=r\\cos(\\omega t)$."
      ],
      "metadata": {
        "id": "qBZXeDJ72XKX"
      }
    },
    {
      "cell_type": "markdown",
      "source": [
        "$\\mathbf{c}=\\mathbf{e}R_3(\\phi)$ and $\\mathbf{b}=\\mathbf{c}R_1(\\theta)$.\n",
        "\n",
        "Hence\n",
        "\\begin{align}\n",
        "\\mathbf{b}=\\mathbf{c}R_1(\\theta)=\\mathbf{e}R_3(\\phi)R_1(\\theta)\n",
        "\\end{align}"
      ],
      "metadata": {
        "id": "khkrMlx44xYn"
      }
    },
    {
      "cell_type": "markdown",
      "source": [
        "The angular velocity of the frame $\\mathbf{b}$ with respect to $\\mathbf{e}$ is the $\\mathbb{R}^3$ version of $\\widehat{\\Omega}=R^T\\dot{R}$.\n",
        "\n",
        "\\begin{align}\n",
        "\\widehat{\\Omega}&=R_1^TR_3^T(\\dot{R}_3R_1+R_3\\dot{R}_1)\\\\\n",
        "=&R_1^T(R_3^T\\dot{R}_3R_1+\\dot{R}_1)\\\\\n",
        "=&R_1(R_3^T\\dot{R}_3)R_1+R_1^T\\dot{R}_1\\\\\n",
        "\\end{align}\n",
        "which gives\n",
        "\\begin{align}\n",
        "\\Omega=&\\dot{\\phi}\\:R_1^T{e}_3+\\dot{\\theta}\\:{e}_1\\\\\n",
        "\\end{align}\n",
        "where\n",
        "$e_1=[1,0,0]^T$ and $e_3=[0,0,1]^T$."
      ],
      "metadata": {
        "id": "85Y7pgpv-qqU"
      }
    },
    {
      "cell_type": "markdown",
      "source": [
        "The motion variables of the particles in the $\\mathbf{e}$:\n",
        "\n",
        "\\begin{align}\n",
        "x&=RX\\\\\n",
        "\\dot{x}&=R\\left(\\widehat{\\Omega}X+\\dot{X}\\right)\\\\\n",
        "\\ddot{x}&=R\\left(\\widehat{\\Omega}^2X+2\\widehat{\\Omega}\\dot{X}+\\widehat{\\dot{\\Omega}}X+\\ddot{X}\\right)\n",
        "\\end{align}\n",
        "\n",
        "The angular momentum of the particle about the origin of the frames:\n",
        "\\begin{align}\n",
        "\\pi&=x\\times m\\dot{x}\\\\\n",
        "&=mR\\left(X\\times\\left(\\widehat{\\Omega}X+\\dot{X}\\right)\\right)\\\\\n",
        "&=R\\left(-m\\widehat{X}^2\\Omega+mX\\times\\dot{X}\\right)\\\\\n",
        "&=R\\left(\\mathbb{I}_p\\Omega+mX\\times\\dot{X}\\right)\n",
        "\\end{align}\n",
        "where $\\mathbb{I}_p\\triangleq-m\\widehat{X}^2$\n",
        "\n",
        "The rate of change of angular mometum is:\n",
        "\\begin{align}\n",
        "\\dot{\\pi}&=x\\times f\\\\\n",
        "&=R(X\\times F)\n",
        "\\end{align}\n",
        "where $f$ is the representation of the forces acting on the particle in the $\\mathbf{e}$ frame and $F$ is the representation of the forces acting on the particle in the $\\mathbf{b}$ frame."
      ],
      "metadata": {
        "id": "CXmQUzTZ6IBA"
      }
    },
    {
      "cell_type": "markdown",
      "source": [
        "If $F$ is the forces acting on the particle and represented in the $\\mathbf{b}$ frame we have from Newtons equations (assuming that the $\\mathbf{b}$ frame is an inertial frame):\n",
        "\\begin{align}\n",
        "m\\ddot{x}&=RF\n",
        "\\end{align}\n",
        "which gives\n",
        "\\begin{align}\n",
        "m\\left(\\widehat{\\Omega}^2X+2\\widehat{\\Omega}\\dot{X}+\\widehat{\\dot{\\Omega}}X+\\ddot{X}\\right)&=F\n",
        "\\end{align}"
      ],
      "metadata": {
        "id": "w4DeecTd7PW_"
      }
    },
    {
      "cell_type": "markdown",
      "source": [
        "## Symbolic computation"
      ],
      "metadata": {
        "id": "UmoYa1qpT3qT"
      }
    },
    {
      "cell_type": "code",
      "source": [
        "init_vprinting()\n",
        "m, r, t, alpha, beta, omega=symbols('m, r, t, alpha, beta, omega')\n",
        "y, phi, theta=dynamicsymbols('y, phi, theta',real=True)"
      ],
      "metadata": {
        "id": "EeDPvAbk2sFn"
      },
      "execution_count": null,
      "outputs": []
    },
    {
      "cell_type": "code",
      "source": [
        "X=Matrix([0,y,0])"
      ],
      "metadata": {
        "id": "KFR8C_mGG1gF"
      },
      "execution_count": null,
      "outputs": []
    },
    {
      "cell_type": "code",
      "source": [
        "R1_theta=Matrix([[1,0,0],[0,cos(theta),-sin(theta)],[0,sin(theta),cos(theta)]])\n",
        "R3_phi=Matrix([[cos(phi),-sin(phi),0],[sin(phi),cos(phi),0],[0,0,1]])\n",
        "R=R3_phi @ R1_theta"
      ],
      "metadata": {
        "id": "_xSMvNHd38Zc"
      },
      "execution_count": null,
      "outputs": []
    },
    {
      "cell_type": "code",
      "source": [
        "hatOmega=simplify(R.T*R.diff(t))"
      ],
      "metadata": {
        "id": "URbH_JiADm-v"
      },
      "execution_count": null,
      "outputs": []
    },
    {
      "cell_type": "code",
      "source": [
        "hatOmega"
      ],
      "metadata": {
        "id": "Tnz6slsvHMQD"
      },
      "execution_count": null,
      "outputs": []
    },
    {
      "cell_type": "code",
      "source": [
        "hatOmegadot=hatOmega.diff(t)"
      ],
      "metadata": {
        "id": "7R6PowXVSj8x"
      },
      "execution_count": null,
      "outputs": []
    },
    {
      "cell_type": "code",
      "source": [
        "hatOmegadot"
      ],
      "metadata": {
        "id": "ng9NmFtgSpsj"
      },
      "execution_count": null,
      "outputs": []
    },
    {
      "cell_type": "code",
      "source": [
        "Omega=Matrix([-hatOmega[1,2],hatOmega[0,2],-hatOmega[0,1]])"
      ],
      "metadata": {
        "id": "YmsMI7FYIkEA"
      },
      "execution_count": null,
      "outputs": []
    },
    {
      "cell_type": "code",
      "source": [
        "Omega"
      ],
      "metadata": {
        "id": "YRqhiSu8I3R8"
      },
      "execution_count": null,
      "outputs": []
    },
    {
      "cell_type": "code",
      "source": [
        "Xdot=X.diff(t)\n",
        "Xddot=X.diff(t,2)"
      ],
      "metadata": {
        "id": "9JdZtr3LHp9k"
      },
      "execution_count": null,
      "outputs": []
    },
    {
      "cell_type": "code",
      "source": [
        "F=m*(hatOmega**2*X+2*hatOmega*Xdot+hatOmegadot*X+Xddot)"
      ],
      "metadata": {
        "id": "COdsNrgdHXIF"
      },
      "execution_count": null,
      "outputs": []
    },
    {
      "cell_type": "code",
      "source": [
        "F"
      ],
      "metadata": {
        "id": "Uk-aL6wdHxL1"
      },
      "execution_count": null,
      "outputs": []
    },
    {
      "cell_type": "code",
      "source": [
        "hatX=Matrix([[0,0,y],[0,0,0],[-y,0,0]])\n",
        "Ip=-m*hatX**2"
      ],
      "metadata": {
        "id": "GA2mw--EH3ZO"
      },
      "execution_count": null,
      "outputs": []
    },
    {
      "cell_type": "code",
      "source": [
        "pi=R*(Ip * Omega + m*hatX * Xdot)"
      ],
      "metadata": {
        "id": "Xjh2Byt4IR-q"
      },
      "execution_count": null,
      "outputs": []
    },
    {
      "cell_type": "code",
      "source": [
        "pi"
      ],
      "metadata": {
        "id": "I-2mr080O9E_"
      },
      "execution_count": null,
      "outputs": []
    },
    {
      "cell_type": "code",
      "source": [
        "y_expr = r * cos(omega * t)\n",
        "phi_expr = alpha * t\n",
        "theta_expr = beta * t\n",
        "\n",
        "y_dot_expr = y_expr.diff(t)\n",
        "y_ddot_expr = y_dot_expr.diff(t)\n",
        "\n",
        "phi_dot_expr = phi_expr.diff(t)\n",
        "phi_ddot_expr = phi_dot_expr.diff(t)\n",
        "theta_dot_expr = theta_expr.diff(t)\n",
        "theta_ddot_expr = theta_dot_expr.diff(t)\n",
        "\n",
        "F_subs = F.subs({\n",
        "    y: y_expr,\n",
        "    y.diff(t): y_dot_expr,\n",
        "    y.diff(t, 2): y_ddot_expr,\n",
        "    phi: phi_expr,\n",
        "    phi.diff(t): phi_dot_expr,\n",
        "    phi.diff(t,2): phi_ddot_expr,\n",
        "    theta: theta_expr,\n",
        "    theta.diff(t): theta_dot_expr,\n",
        "    theta.diff(t,2): theta_ddot_expr\n",
        "})\n",
        "\n",
        "F_simplified = simplify(F_subs)\n",
        "\n",
        "# Display the simplified force expression\n",
        "F_simplified"
      ],
      "metadata": {
        "id": "Tg7pcNZALOlD"
      },
      "execution_count": null,
      "outputs": []
    },
    {
      "cell_type": "code",
      "source": [
        "pi_subs= pi.subs({\n",
        "    y: y_expr,\n",
        "    y.diff(t): y_dot_expr,\n",
        "    y.diff(t, 2): y_ddot_expr,\n",
        "    phi: phi_expr,\n",
        "    phi.diff(t): phi_dot_expr,\n",
        "    phi.diff(t,2): phi_ddot_expr,\n",
        "    theta: theta_expr,\n",
        "    theta.diff(t): theta_dot_expr,\n",
        "    theta.diff(t,2): theta_ddot_expr\n",
        "})\n",
        "pi_simplified = simplify(pi_subs)\n",
        "pi_simplified"
      ],
      "metadata": {
        "id": "KO3UNdljOwIg"
      },
      "execution_count": null,
      "outputs": []
    },
    {
      "cell_type": "code",
      "source": [],
      "metadata": {
        "id": "FBR1jAKaPGb6"
      },
      "execution_count": null,
      "outputs": []
    },
    {
      "cell_type": "code",
      "source": [],
      "metadata": {
        "id": "gyqqHlAlPLA4"
      },
      "execution_count": null,
      "outputs": []
    }
  ]
}