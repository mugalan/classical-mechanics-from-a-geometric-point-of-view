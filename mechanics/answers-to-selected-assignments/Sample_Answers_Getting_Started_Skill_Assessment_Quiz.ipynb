{
  "nbformat": 4,
  "nbformat_minor": 0,
  "metadata": {
    "colab": {
      "provenance": [],
      "include_colab_link": true
    },
    "kernelspec": {
      "name": "python3",
      "display_name": "Python 3"
    },
    "language_info": {
      "name": "python"
    }
  },
  "cells": [
    {
      "cell_type": "markdown",
      "metadata": {
        "id": "view-in-github",
        "colab_type": "text"
      },
      "source": [
        "<a href=\"https://colab.research.google.com/github/mugalan/classical-mechanics-from-a-geometric-point-of-view/blob/main/mechanics/answers-to-selected-assignments/Sample_Answers_Getting_Started_Skill_Assessment_Quiz.ipynb\" target=\"_parent\"><img src=\"https://colab.research.google.com/assets/colab-badge.svg\" alt=\"Open In Colab\"/></a>"
      ]
    },
    {
      "cell_type": "markdown",
      "source": [
        "# **Importing Modules**"
      ],
      "metadata": {
        "id": "UefxrCbaxZzT"
      }
    },
    {
      "cell_type": "markdown",
      "source": [
        "#### Acknowledgement\n",
        "\n",
        "Sample answer based on the answer by E/19/251"
      ],
      "metadata": {
        "id": "acrBHZSzc0a-"
      }
    },
    {
      "cell_type": "code",
      "source": [
        "from sympy import *"
      ],
      "metadata": {
        "id": "-blsioSwdA3R"
      },
      "execution_count": null,
      "outputs": []
    },
    {
      "cell_type": "markdown",
      "source": [
        "# ***Question 1***"
      ],
      "metadata": {
        "id": "IF7WdIvYw9Nh"
      }
    },
    {
      "cell_type": "code",
      "execution_count": null,
      "metadata": {
        "id": "zfF87UoAw3FM"
      },
      "outputs": [],
      "source": [
        "s = symbols('s')"
      ]
    },
    {
      "cell_type": "code",
      "source": [
        "f1 = 1/(s**2 + 1.7**2)"
      ],
      "metadata": {
        "id": "BiquKEpTxIXp"
      },
      "execution_count": null,
      "outputs": []
    },
    {
      "cell_type": "code",
      "source": [
        "apart(f1, full=True).doit()"
      ],
      "metadata": {
        "id": "Hgr4CRyaxLHG"
      },
      "execution_count": null,
      "outputs": []
    },
    {
      "cell_type": "markdown",
      "source": [
        "# ***Question 2***"
      ],
      "metadata": {
        "id": "cC0LF-GSxnFU"
      }
    },
    {
      "cell_type": "code",
      "source": [
        "x, omega_n , zeta = symbols('x omega_n zeta', real=True)"
      ],
      "metadata": {
        "id": "wceZRtiWxqa5"
      },
      "execution_count": null,
      "outputs": []
    },
    {
      "cell_type": "code",
      "source": [
        "f = x**2 + 2*zeta*omega_n*x + omega_n**2\n",
        "f"
      ],
      "metadata": {
        "id": "DBiAiJSNx17w"
      },
      "execution_count": null,
      "outputs": []
    },
    {
      "cell_type": "code",
      "source": [
        "fx = f.subs({zeta:1.7, omega_n:1.9})\n",
        "fx"
      ],
      "metadata": {
        "id": "buY9kDMAx3R1"
      },
      "execution_count": null,
      "outputs": []
    },
    {
      "cell_type": "code",
      "source": [
        "solve(fx,x)"
      ],
      "metadata": {
        "id": "Upy4dPQmx_TN"
      },
      "execution_count": null,
      "outputs": []
    },
    {
      "cell_type": "markdown",
      "source": [
        "# ***Question 3***"
      ],
      "metadata": {
        "id": "BHiOYBODyTDm"
      }
    },
    {
      "cell_type": "code",
      "source": [
        "s = symbols('s')"
      ],
      "metadata": {
        "id": "0ad27F7Syl-G"
      },
      "execution_count": null,
      "outputs": []
    },
    {
      "cell_type": "code",
      "source": [
        "omega_n , zeta = symbols('omega_n zeta', real=True)\n",
        "G = 1/(s**2 + (2*zeta*omega_n*s) + (omega_n**2))\n",
        "G"
      ],
      "metadata": {
        "id": "d7tXPyCqyVz4"
      },
      "execution_count": null,
      "outputs": []
    },
    {
      "cell_type": "code",
      "source": [
        "Gs = G.subs({zeta:0.9,omega_n:1.1})\n",
        "Gs"
      ],
      "metadata": {
        "id": "eHSI6LlSynRp"
      },
      "execution_count": null,
      "outputs": []
    },
    {
      "cell_type": "code",
      "source": [
        "apart(Gs, full=True).doit()"
      ],
      "metadata": {
        "id": "rLGiBsQ6y5ib"
      },
      "execution_count": null,
      "outputs": []
    },
    {
      "cell_type": "markdown",
      "source": [
        "# ***Question 4***"
      ],
      "metadata": {
        "id": "VXZPJaxjy86f"
      }
    },
    {
      "cell_type": "code",
      "source": [
        "from sympy.vector import CoordSys3D\n",
        "N = CoordSys3D('N')"
      ],
      "metadata": {
        "id": "QR0PFXMvzGMv"
      },
      "execution_count": null,
      "outputs": []
    },
    {
      "cell_type": "code",
      "source": [
        "A = -0.9*N.i + 1.1* N.j - 0.3*N.k\n",
        "B = 0.1*N.i -1.5*N.j - 0.3*N.k"
      ],
      "metadata": {
        "id": "g_hkdonbzTVM"
      },
      "execution_count": null,
      "outputs": []
    },
    {
      "cell_type": "code",
      "source": [
        "A.cross(B).magnitude()"
      ],
      "metadata": {
        "id": "cM7CacdwzboF"
      },
      "execution_count": null,
      "outputs": []
    },
    {
      "cell_type": "markdown",
      "source": [
        "# ***Question 5***"
      ],
      "metadata": {
        "id": "xkwhFHUVSiwC"
      }
    },
    {
      "cell_type": "code",
      "source": [
        "omega_n , zeta = symbols('omega_n zeta', real=True)\n",
        "E = Matrix([[0,1],[-omega_n**2, -2*zeta*omega_n]])\n",
        "E"
      ],
      "metadata": {
        "id": "GNBhdk-JSm65"
      },
      "execution_count": null,
      "outputs": []
    },
    {
      "cell_type": "code",
      "source": [
        "latex(E.eigenvects())"
      ],
      "metadata": {
        "id": "I3I417FLTMD3"
      },
      "execution_count": null,
      "outputs": []
    },
    {
      "cell_type": "markdown",
      "source": [
        "$\\left[ \\left( \\omega_{n} \\left(- \\zeta - \\sqrt{\\left(\\zeta - 1\\right) \\left(\\zeta + 1\\right)}\\right), \\  \\left[ \\left[\\begin{matrix}\\frac{1}{- \\omega_{n} \\zeta - \\omega_{n} \\sqrt{\\zeta^{2} - 1}}\\\\1\\end{matrix}\\right]\\right]\\right), \\  \\left( \\omega_{n} \\left(- \\zeta + \\sqrt{\\left(\\zeta - 1\\right) \\left(\\zeta + 1\\right)}\\right),\\  \\left[ \\left[\\begin{matrix}\\frac{1}{- \\omega_{n} \\zeta + \\omega_{n} \\sqrt{\\zeta^{2} - 1}}\\\\1\\end{matrix}\\right]\\right]\\right)\\right]$"
      ],
      "metadata": {
        "id": "iP_bo___3F8f"
      }
    },
    {
      "cell_type": "markdown",
      "source": [
        "\\begin{align}\n",
        "  \\left[ \\left( \\omega_{n} \\left(- \\zeta - \\sqrt{\\left(\\zeta - 1\\right) \\left(\\zeta + 1\\right)}\\right), \\  1, \\  \\left[ \\left[\\begin{matrix}\\frac{1}{- \\omega_{n} \\zeta - \\omega_{n} \\sqrt{\\zeta^{2} - 1}}\\\\1\\end{matrix}\\right]\\right]\\right), \\  \\left( \\omega_{n} \\left(- \\zeta + \\sqrt{\\left(\\zeta - 1\\right) \\left(\\zeta + 1\\right)}\\right), \\  1, \\  \\left[ \\left[\\begin{matrix}\\frac{1}{- \\omega_{n} \\zeta + \\omega_{n} \\sqrt{\\zeta^{2} - 1}}\\\\1\\end{matrix}\\right]\\right]\\right)\\right]\n",
        "\\end{align}"
      ],
      "metadata": {
        "id": "aYc1iV58uNfu"
      }
    },
    {
      "cell_type": "code",
      "source": [
        "init_printing()\n",
        "E.eigenvects()"
      ],
      "metadata": {
        "id": "FrTQkFPI1SqP"
      },
      "execution_count": null,
      "outputs": []
    },
    {
      "cell_type": "code",
      "source": [
        "init_printing(pretty_print=False)\n",
        "E.eigenvects()"
      ],
      "metadata": {
        "id": "pkRJUU8S1vxx"
      },
      "execution_count": null,
      "outputs": []
    },
    {
      "cell_type": "code",
      "source": [
        "!pip install antlr4-python3-runtime\n",
        "from sympy.parsing.latex import parse_latex\n",
        "# Example LaTeX string\n",
        "latex_expr = r\"\\frac{x^2 + y}{z}\"\n",
        "\n",
        "# Convert LaTeX to SymPy expression\n",
        "sympy_expr = parse_latex(latex_expr)\n",
        "\n",
        "# Output the SymPy expression\n",
        "print(sympy_expr)\n",
        "\n",
        "# Use it like a regular SymPy expression\n",
        "x, y, z = symbols('x y z')\n",
        "result = sympy_expr + x\n",
        "print(result)"
      ],
      "metadata": {
        "id": "kXC8NXwa2I_h"
      },
      "execution_count": null,
      "outputs": []
    },
    {
      "cell_type": "code",
      "source": [],
      "metadata": {
        "id": "gYPek_Fs2tAv"
      },
      "execution_count": null,
      "outputs": []
    }
  ]
}