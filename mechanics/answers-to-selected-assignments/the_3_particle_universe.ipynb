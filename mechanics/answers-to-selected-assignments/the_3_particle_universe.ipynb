{
  "nbformat": 4,
  "nbformat_minor": 0,
  "metadata": {
    "colab": {
      "provenance": [],
      "include_colab_link": true
    },
    "kernelspec": {
      "name": "python3",
      "display_name": "Python 3"
    },
    "language_info": {
      "name": "python"
    }
  },
  "cells": [
    {
      "cell_type": "markdown",
      "metadata": {
        "id": "view-in-github",
        "colab_type": "text"
      },
      "source": [
        "<a href=\"https://colab.research.google.com/github/mugalan/classical-mechanics-from-a-geometric-point-of-view/blob/main/mechanics/answers-to-selected-assignments/the_3_particle_universe.ipynb\" target=\"_parent\"><img src=\"https://colab.research.google.com/assets/colab-badge.svg\" alt=\"Open In Colab\"/></a>"
      ]
    },
    {
      "cell_type": "markdown",
      "source": [
        "#The 3-Particle Universe"
      ],
      "metadata": {
        "id": "TK_nVBmLC2BC"
      }
    },
    {
      "cell_type": "markdown",
      "source": [
        "Consider the example of mutually interacting three interacting particles $P_1, P_2, P_3$ each of mass $m_1,m_2,m_3$ respectively. Let $x_1,x_2,x_3$ be the representation of these three particles with respect to some inertial frame $\\mathbf{e}$. This models the instance where $P_1$ and $P_2$ are two particles of interest and $P_3$ represents the interaction that these two have with the rest of the universe."
      ],
      "metadata": {
        "id": "IIwgS4uNT96K"
      }
    },
    {
      "cell_type": "markdown",
      "source": [
        "## The Center of Mass Motion of all the 3 Particles"
      ],
      "metadata": {
        "id": "cRWzTc5T94o6"
      }
    },
    {
      "cell_type": "markdown",
      "source": [
        "Consider the example of mutually interacting three interacting particles $P_1, P_2, P_3$ each of mass $m_1,m_2,m_3$ respectively. Let $x_1,x_2,x_3$ be the representation of these three particles with respect to some inertial frame $\\mathbf{e}$. This models the instance where $P_1$ and $P_2$ are two particles of interest and $P_3$ represents the interaction that these two have with the rest of the universe.\n",
        "\n",
        "The principle of conservation of momentum for these three particles in the inertial frame $\\mathbf{e}$ implies that:\n",
        "\n",
        "\\begin{align}\n",
        "m_1\\dot{x}_1+m_2\\dot{x}_2+m_3\\dot{x}_3= \\mathrm{constant}_{3\\times 1}.\n",
        "\\end{align}\n",
        "\n",
        "Differentiating this expression with respect to time we have:\n",
        "\n",
        "\\begin{align}\n",
        "m_1\\ddot{x}_1+m_2\\ddot{x}_2+m_3\\ddot{x}_3= 0_{3\\times 1}.\n",
        "\\end{align}\n",
        "\n",
        "Let $\\bar{x}_u$ be the center of mass of the 3-particle universe that is given by\n",
        "\n",
        "\\begin{align}\n",
        "m_1x_1+m_2x_2+m_3x_3=(m_1+m_2+m_3)\\bar{x}_u.\n",
        "\\end{align}\n",
        "\n",
        "Differentiating this twice we find\n",
        "\n",
        "\\begin{align}\n",
        "M_u\\ddot{\\bar{x}}_u&=0_{3\\times 1}\n",
        "\\end{align}\n",
        "\n",
        "where $(m_1+m_2+m_3)=M_u$.\n",
        "\n",
        "This shows that the center of mass of the 3 particle Universe is either at rest or is moving at constant velocity with respect to $\\mathbf{e}$ and any other inertial observer."
      ],
      "metadata": {
        "id": "L26hEM5E94o6"
      }
    },
    {
      "cell_type": "code",
      "source": [],
      "metadata": {
        "id": "2FaIjIGg93gq"
      },
      "execution_count": null,
      "outputs": []
    },
    {
      "cell_type": "markdown",
      "source": [
        "## The Center of Mass Motion of Two Particles Due to the Influence of a Third in the 3 Particle Universe"
      ],
      "metadata": {
        "id": "MFKS-sk5T-9g"
      }
    },
    {
      "cell_type": "markdown",
      "source": [
        "Consider the example of mutually interacting (but otherwise isolated) three interacting particles $P_1, P_2, P_3$ each of mass $m_1,m_2,m_3$ respectively. Let $x_1,x_2,x_3$ be the representation of these three particles with respect to some inertial frame $\\mathbf{e}$. This models the instance where $P_1$ and $P_2$ are two particles of interest and $P_3$ represents the interaction that these two have with the rest of the universe.\n",
        "\n",
        "The principle of conservation of momentum for these three particles in the inertial frame $\\mathbf{e}$ implies that:\n",
        "\n",
        "\\begin{align}\n",
        "m_1\\dot{x}_1+m_2\\dot{x}_2+m_3\\dot{x}_3= \\mathrm{constant}_{3\\times 1}.\n",
        "\\end{align}\n",
        "\n",
        "Differentiating this expression with respect to time we have:\n",
        "\n",
        "\\begin{align}\n",
        "m_1\\ddot{x}_1+m_2\\ddot{x}_2+m_3\\ddot{x}_3= 0_{3\\times 1}\n",
        "\\end{align}\n",
        "and hence\n",
        "\\begin{align}\n",
        "m_1\\ddot{x}_1=-m_2\\ddot{x}_2-m_3\\ddot{x}_3\n",
        "\\end{align}\n",
        "\n",
        "Lets define\n",
        "\n",
        "\\begin{align}\n",
        "f_{1}≜-m_2\\ddot{x}_2-m_3\\ddot{x}_3\n",
        "\\end{align}\n",
        "to be the force acting on $P_1$ due to the interaction with $P_2,P_3$.\n",
        "\n",
        "This should be true for all the other two poarticles as well. Thus we have\n",
        "\\begin{align}\n",
        "m_i\\ddot{x}_i=f_i\n",
        "\\end{align}\n",
        "where\n",
        "\\begin{align}\n",
        "f_i=\\sum_{j\\neq i}^3 f_{ij}\n",
        "\\end{align}\n",
        "with $f_{ij}$ representing the interaction of $P_j$ on $P_i$. Recall that\n",
        "pair wise particle interactions (two-particle Universe) tells us that:\n",
        "\\begin{align}\n",
        "f_{ij}≜-f_{ji}.\n",
        "\\end{align}\n",
        "Summarizing we have\n",
        "\n",
        "\\begin{align}\n",
        "m_i\\ddot{x}_i=\\sum_{j\\neq i}^3 f_{ij}.\n",
        "\\end{align}"
      ],
      "metadata": {
        "id": "tl7qrAl3C-et"
      }
    },
    {
      "cell_type": "markdown",
      "source": [
        "Lets assume our system of interest is $P_1,P_2$ and that $P_3$ represents the rest of the universe.\n",
        "\n",
        "Then we have\n",
        "\n",
        "\\begin{align}\n",
        "m_1\\ddot{x}_1=f_{12}+f_{13}\\\\\n",
        "m_2\\ddot{x}_2=f_{21}+f_{23}\\\\\n",
        "\\end{align}\n",
        "\n",
        "Making note of\n",
        "\n",
        "\\begin{align}\n",
        "f_{ij}≜-f_{ji}.\n",
        "\\end{align}\n",
        "\n",
        "we have\n",
        "\\begin{align}\n",
        "m_1\\ddot{x}_1+m_2\\ddot{x}_2=f_{13}+f_{23}.\n",
        "\\end{align}\n",
        "\n",
        "Let $\\bar{x}$ to be the center of mass of $P_1,P_2$. Then\n",
        "\\begin{align}\n",
        "m_1{x}_1+m_2{x}_2=(m_1+m_2)\\bar{x}=M\\bar{x}.\n",
        "\\end{align}\n",
        "where $M\\triangleq (m_1+m_2)$.\n",
        "\n",
        "Differentiating this we have\n",
        "\\begin{align}\n",
        "M\\ddot{\\bar{x}}=m_1\\ddot{x}_1+m_2\\ddot{x}_2=f_{13}+f_{23}.\n",
        "\\end{align}\n",
        "\n",
        "Thus we have\n",
        "\\begin{align}\n",
        "M\\ddot{\\bar{x}}=f_{13}+f_{23}=\\mathrm{resultant\\:interaction \\: on\\: 1 \\: and \\: 2\\: due \\: to \\: 3}.\n",
        "\\end{align}"
      ],
      "metadata": {
        "id": "zylqaorVbiPz"
      }
    },
    {
      "cell_type": "markdown",
      "source": [
        "## Total Angular Momentum"
      ],
      "metadata": {
        "id": "AlNRHG2xUKtV"
      }
    },
    {
      "cell_type": "markdown",
      "source": [
        "Let $O'$ be some point with representation $o_{3\\times 1}$ with respect to $\\mathbf{e}$. The angular momentum of the point $P_i$ about $O'$ with respect to $\\mathbf{e}$ is defined by\n",
        "\n",
        "\\begin{align}\n",
        "\\pi_i  \\triangleq (x_i-o)\\times m_i\\dot{x}_i\n",
        "\\end{align}\n",
        "\n",
        "The total angular momentum of the three particles is then\n",
        "\\begin{align}\n",
        "\\pi  \\triangleq \\sum_{i=1}^3(x_i-o)\\times m_i\\dot{x}_i.\n",
        "\\end{align}\n",
        "\n",
        "The rate of change of the total angular momentum of the 3 particle system is\n",
        "\n",
        "\\begin{align}\n",
        "\\dot{\\pi}  &\\triangleq \\sum_{i=1}^3(\\dot{x}_i-\\dot{o})\\times m_i\\dot{x}_i+(x_i-o)\\times m_i\\ddot{x}_i,\\\\\n",
        "&=\\sum_{i=1}^3-\\dot{o}\\times m_i\\dot{x}_i+(x_i-o)\\times m_i\\ddot{x}_i\\\\\n",
        "&=-\\dot{o}\\times \\sum_{i=1}^3 m_i\\dot{x}_i+\\sum_{i=1}^3(x_i-o)\\times {f}_i\\\\\n",
        "&=-\\dot{o}\\times \\sum_{i=1}^3 m_i\\dot{x}_i+\\sum_{i=1}^3(x_i-o)\\times \\sum_{j\\neq i}^3 f_{ij}\\\\\n",
        "&=-\\dot{o}\\times \\sum_{i=1}^3 m_i\\dot{x}_i+\\sum_{i=1}^3\\sum_{j\\neq i}^3(x_i-o)\\times  f_{ij}\\\\\n",
        "\\end{align}\n",
        "Notice that the 6 terms the last double summation can be re arranged to yield pariwise sums of the form\n",
        "\\begin{align}\n",
        "\\sum_{i=1}^3\\sum_{j\\neq i}^3(x_i-o)\\times  f_{ij}=\\left((x_1-o)\\times  f_{12}+(x_2-o)\\times  f_{21}\\right)+\n",
        "\\left((x_2-o)\\times  f_{23}+(x_3-o)\\times  f_{32}\\right)+\n",
        "\\left((x_3-o)\\times  f_{31}+(x_1-o)\\times  f_{13}\\right).\n",
        "\\end{align}\n"
      ],
      "metadata": {
        "id": "rubvtRi8UQVt"
      }
    },
    {
      "cell_type": "markdown",
      "source": [
        "Since $f_{ij}=-f_{ji}$ and if we assume that **mutual particle interactions lie along the direction of the line joining the two particles** we see that each of the pairs in the aobve summation become zero. For instance\n",
        "\\begin{align}\n",
        "\\left((x_1-o)\\times  f_{12}+(x_2-o)\\times  f_{21}\\right)=0_{3\\times 1}\n",
        "\\end{align}"
      ],
      "metadata": {
        "id": "pwFMJK_paATb"
      }
    },
    {
      "cell_type": "markdown",
      "source": [
        "Thus if we make the additional assumption that **mutual particle interactions lie along the direction of the line joining the two particles** we have"
      ],
      "metadata": {
        "id": "uOHnbcAHa3EX"
      }
    },
    {
      "cell_type": "markdown",
      "source": [
        "\\begin{align}\n",
        "\\dot{\\pi}  &=-\\dot{o}\\times \\sum_{i=1}^3 m_i\\dot{x}_i\\\\\n",
        "\\end{align}"
      ],
      "metadata": {
        "id": "GBOuwWv-a_qG"
      }
    },
    {
      "cell_type": "markdown",
      "source": [
        "From the principle of the conservation of momentum we have\n",
        "\\begin{align}\n",
        "\\sum_{i=1}^3m_i\\dot{x}_i=M_u\\dot{\\bar{x}}_u\n",
        "\\end{align}\n",
        "where $M_u$ is the total mass of the 3 particle universe and $\\bar{x}_u$ is the center of mass of the 3 particle universe.\n",
        "\n",
        "Then we have"
      ],
      "metadata": {
        "id": "jClVaskQbTL8"
      }
    },
    {
      "cell_type": "markdown",
      "source": [
        "\\begin{align}\n",
        "\\dot{\\pi}  &=-\\dot{o}\\times M_u\\dot{\\bar{x}}_u\\\\\n",
        "\\end{align}\n",
        "\n",
        "In particlular if we take the angular momentum with respect to the center of mass of the 3 particle universe then $o=\\bar{x}_u$ and hence\n",
        "\\begin{align}\n",
        "\\dot{\\pi}  &=-\\dot{\\bar{x}}_u\\times M_u\\dot{\\bar{x}}_u=0_{3\\times 1}\\\\\n",
        "\\end{align}\n",
        "and we have the conclusion that the total angular momentum of the 3 particle universe about its center of mass is conserved."
      ],
      "metadata": {
        "id": "97e27cGscOv0"
      }
    },
    {
      "cell_type": "markdown",
      "source": [
        "##Rate of Change of Angular Momentum of the Two Particles Due to the Influnece of the Third Paricle"
      ],
      "metadata": {
        "id": "mC9M1siqduhU"
      }
    },
    {
      "cell_type": "markdown",
      "source": [
        "Let us consider the case were our interest is in the behavior of $P_1$ and $P_2$ due the influence of $P_3$ on them."
      ],
      "metadata": {
        "id": "ulb1NicFd9EN"
      }
    },
    {
      "cell_type": "markdown",
      "source": [
        "The total angular momentum of the two particles is then\n",
        "\\begin{align}\n",
        "\\pi  \\triangleq \\sum_{i=1}^2(x_i-o)\\times m_i\\dot{x}_i.\n",
        "\\end{align}\n",
        "\n",
        "The rate of change of the total angular momentum of the 2 particlesis\n",
        "\n",
        "\\begin{align}\n",
        "\\dot{\\pi}  &=-\\dot{o}\\times \\sum_{i=1}^2 m_i\\dot{x}_i+\\sum_{i=1}^2\\sum_{j\\neq i}^3(x_i-o)\\times  f_{ij}\\\\\n",
        "\\end{align}\n",
        "Notice that the 4 terms the last double summation can be re arranged to yield pariwise sums of the form\n",
        "\\begin{align}\n",
        "\\sum_{i=1}^2\\sum_{j\\neq i}^3(x_i-o)\\times  f_{ij}&=\\left((x_1-o)\\times  f_{12}+(x_2-o)\\times  f_{21}\\right)+\n",
        "\\left((x_2-o)\\times  f_{23}+(x_1-o)\\times  f_{13}\\right)\\\\\n",
        "&=\\left((x_2-o)\\times  f_{23}+(x_1-o)\\times  f_{13}\\right)\n",
        "\\end{align}\n",
        "\\begin{align}\n",
        "\\dot{\\pi}  &=-\\dot{o}\\times M\\dot{\\bar{x}}+\\left((x_2-o)\\times  f_{23}+(x_1-o)\\times  f_{13}\\right)\n",
        "\\end{align}\n",
        "Here $M=(m_1+m_2)$ and $(m_1+m_2)\\bar{x}=(m_1x_1+m_2x_2)$.\n",
        "\n",
        "\n",
        "Notice that $(x_2-o)\\times  f_{23}$ is the moment of the interaction force of particle $P_3$ (the rest of the universe) on $P_2$ about $o$ and $(x_1-o)\\times  f_{13}$ is the moment of the interaction force of particle $P_3$ (the rest of the universe) on $P_1$ about $o$.\n",
        "\n",
        "Again if we take the moments about the center of mass of the two particles we have\n",
        "\n",
        "\\begin{align}\n",
        "\\dot{\\pi}  &=\\left((x_2-\\bar{x})\\times  f_{23}+(x_1-\\bar{x})\\times  f_{13}\\right).\n",
        "\\end{align}\n",
        "\n",
        "This states that the total rate of change of anglular momentum of the two particles $P_1,P_2$ about the center of mass of the two particles is equal to the total resultant of the moments of the external interactions acting on the two particles."
      ],
      "metadata": {
        "id": "W7rGVs1pehXZ"
      }
    },
    {
      "cell_type": "markdown",
      "source": [
        "## Simulation Example"
      ],
      "metadata": {
        "id": "pwWIQOjWGa6a"
      }
    },
    {
      "cell_type": "markdown",
      "source": [
        "\\begin{align}\n",
        "\\pi  \\triangleq (x_1-\\bar{x})\\times m_1\\dot{x}_1+(x_2-\\bar{x})\\times m_2\\dot{x}_2.\n",
        "\\end{align}"
      ],
      "metadata": {
        "id": "iQ6FVNINY6vc"
      }
    },
    {
      "cell_type": "markdown",
      "source": [
        "Consider the example where\n",
        "\n",
        "\\begin{align}\n",
        "f_{13} + f_{23} &= 0_{3\\times 1}.\n",
        "\\end{align}\n",
        "\n",
        "Then we see that\n",
        "\\begin{align}\n",
        "M\\ddot{\\bar{x}}=f_{13}+f_{23}=0_{3\\times 1}.\n",
        "\\end{align}\n",
        "and\n",
        "\\begin{align}\n",
        "\\dot{\\pi} &= (x_1 - \\bar{x}) \\times f_{13} + (x_2 - \\bar{x}) \\times f_{23}\\\\\n",
        "&= (x_1 - \\bar{x}) \\times f_{13} - (x_2 - \\bar{x}) \\times f_{13},\\\\\n",
        "&= (x_1 - \\bar{x} - x_2 + \\bar{x}) \\times f_{13},\\\\\n",
        "&= (x_1 - x_2) \\times f_{13}.\n",
        "\\end{align}\n",
        "\n",
        "Since we **assume that mutual particle interactions align along the line joining the two particles** we have that $f_{13}$ must be of the form:\n",
        "\n",
        "\\begin{align}\n",
        "f_{13}=\\gamma (x_1-x_3).\n",
        "\\end{align}\n",
        "\n",
        "Then we have:\n",
        "\\begin{align}\n",
        "\\tau &= \\gamma (x_1 - x_2) \\times (x_1 - x_3).\n",
        "\\end{align}\n",
        "\n",
        "Now since $f_{23}=-f_{13}$\n",
        "\n",
        "\\begin{align}\n",
        "(x_2-x_3)=-(x_1-x_3),\n",
        "\\end{align}\n",
        "and hence\n",
        "\\begin{align}\n",
        "x_3=\\frac{x_1+x_2}{2},\n",
        "\\end{align}\n",
        "and thus all three particles must lie along the same line and the 3rd particle is in the middle of the line joining the two particles.\n",
        "\n",
        "Furthermore we have\n",
        "\\begin{align}\n",
        "f_{13}=\\gamma (x_1-x_3)=\\frac{\\gamma}{2} (2x_1-x_1-x_2)=\\frac{\\gamma}{2} (x_1-x_2),\n",
        "\\end{align}\n",
        "and hence\n",
        "\\begin{align}\n",
        "\\dot{\\pi} &= (x_1 - x_2) \\times f_{13}=0_{3\\times 1}.\n",
        "\\end{align}\n",
        "\n",
        "Thus we can conclude that **the cneter of mass of the two particels** is either at rest or is moving in a straight line with respect to $\\mathbf{e}$ and that **the two particles are rotating (moving at constant angular momentum)** with respect to the center of mass of the two particles."
      ],
      "metadata": {
        "id": "_9CxS19eHXD3"
      }
    }
  ]
}