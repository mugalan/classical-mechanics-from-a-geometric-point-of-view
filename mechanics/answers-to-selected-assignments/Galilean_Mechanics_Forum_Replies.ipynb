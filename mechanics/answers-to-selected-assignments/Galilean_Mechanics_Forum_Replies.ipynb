{
  "nbformat": 4,
  "nbformat_minor": 0,
  "metadata": {
    "colab": {
      "provenance": [],
      "authorship_tag": "ABX9TyNbp8elVvyzhZkMPrfFG45Z",
      "include_colab_link": true
    },
    "kernelspec": {
      "name": "python3",
      "display_name": "Python 3"
    },
    "language_info": {
      "name": "python"
    }
  },
  "cells": [
    {
      "cell_type": "markdown",
      "metadata": {
        "id": "view-in-github",
        "colab_type": "text"
      },
      "source": [
        "<a href=\"https://colab.research.google.com/github/mugalan/classical-mechanics-from-a-geometric-point-of-view/blob/main/mechanics/answers-to-selected-assignments/Galilean_Mechanics_Forum_Replies.ipynb\" target=\"_parent\"><img src=\"https://colab.research.google.com/assets/colab-badge.svg\" alt=\"Open In Colab\"/></a>"
      ]
    },
    {
      "cell_type": "code",
      "execution_count": null,
      "metadata": {
        "id": "cAL-vgcyI3-q"
      },
      "outputs": [],
      "source": []
    },
    {
      "cell_type": "code",
      "source": [],
      "metadata": {
        "id": "5RLtm665KNIy"
      },
      "execution_count": null,
      "outputs": []
    },
    {
      "cell_type": "markdown",
      "source": [
        "Consider two ortho normal parallel frames  $\\mathbf{e}$  and  $\\mathbf{b}$.\n",
        "\n",
        "Let  $x_i$  and  $X_i$  be the representation of the position of a point  $P_i$  in the two frames respectively.\n",
        "\n",
        "Also let  $\\bar{x}$  be the representation of the origin of the  $\\mathbf{b}$  frame with respect to the  $\\mathbf{e}$  frame. Then we have:\n",
        "\n",
        "**Moment of Inertia in Frame $ \\mathbf{b} $:**\n",
        "\\begin{align*}\n",
        "\\mathbb{I}_{b_i} = m_i \\left(||X_i||^2I_{3 \\times 3} - X_i X_i^T \\right)\n",
        "\\end{align*}\n",
        "\n",
        "**Moment of Inertia in Frame $ \\mathbf{e} $:**\n",
        "\\begin{align*}\n",
        "\\mathbb{I}_{x_i} = m_i \\left(||x_i||^2 I_{3 \\times 3} - x_i x_i^T \\right)\n",
        "\\end{align*}\n",
        "\n",
        "**Coordinate Transformation:** The position of a point $ P_i $ in two frames $ \\mathbf{e} $ and $ \\mathbf{b} $ is related by:\n",
        "\\begin{align*}\n",
        "x_i = \\bar{x} + X_i\n",
        "\\end{align*}\n",
        "where $ \\bar{x} $ is the position of the origin of frame $ \\mathbf{b} $ relative to frame $ \\mathbf{e} $, and $ X_i $ is the position of point $ P_i $ in frame $ \\mathbf{b} $.\n",
        "\n",
        "**Expanded Moment of Inertia in Frame $ \\mathbf{e} $:**\n",
        "\\begin{align*}\n",
        "\\mathbb{I}_{x_i} = m_i \\left(||\\bar{x} + X_i||^2 I_{3 \\times 3} - (\\bar{x} + X_i)(\\bar{x} + X_i)^T \\right)\n",
        "\\end{align*}\n",
        "\n",
        "### Step 1: Expand the Moment of Inertia in Frame $ \\mathbf{e} $\n",
        "\n",
        "Let's expand the expression for $ \\mathbb{I}_{x_i} $ by using the binomial expansion:\n",
        "\n",
        "\\begin{align*}\n",
        "||\\bar{x} + X_i||^2 = ||\\bar{x}||^2 + ||X_i||^2 + 2\\bar{x}^T X_i\n",
        "\\end{align*}\n",
        "\n",
        "Thus, the term $ \\mathbb{I}_{x_i} $ can be rewritten as:\n",
        "\n",
        "\\begin{align*}\n",
        "\\mathbb{I}_{x_i} = m_i \\left( \\left(||\\bar{x}||^2 + ||X_i||^2 + 2\\bar{x}^T X_i\\right) I_{3 \\times 3} - (\\bar{x} + X_i)(\\bar{x} + X_i)^T \\right)\n",
        "\\end{align*}\n",
        "\n",
        "Expanding the product:\n",
        "\n",
        "\\begin{align*}\n",
        "\\mathbb{I}_{x_i} = m_i \\left( ||\\bar{x}||^2 I_{3 \\times 3} + ||X_i||^2 I_{3 \\times 3} + 2 \\bar{x}^T X_i I_{3 \\times 3} - \\bar{x}\\bar{x}^T - \\bar{x}X_i^T - X_i\\bar{x}^T - X_iX_i^T \\right)\n",
        "\\end{align*}\n",
        "\n",
        "### Step 2: Simplify the Expression\n",
        "\n",
        "Group the terms involving $ X_i $ and $ \\bar{x} $:\n",
        "\n",
        "\\begin{align*}\n",
        "\\mathbb{I}_{x_i} = m_i \\left( ||X_i||^2 I_{3 \\times 3} - X_iX_i^T \\right) + m_i \\left( ||\\bar{x}||^2 I_{3 \\times 3} - \\bar{x}\\bar{x}^T \\right) + m_i \\left( 2 \\bar{x}^T X_i I_{3 \\times 3} - \\bar{x}X_i^T - X_i\\bar{x}^T \\right)\n",
        "\\end{align*}\n",
        "\n",
        "Notice that the first term $ m_i \\left( ||X_i||^2 I_{3 \\times 3} - X_iX_i^T \\right) $ is exactly the moment of inertia in frame $ \\mathbf{b} $, $ \\mathbb{I}_{b_i} $:\n",
        "\n",
        "\\begin{align*}\n",
        "\\mathbb{I}_{x_i} = \\mathbb{I}_{b_i} + m_i \\left( ||\\bar{x}||^2 I_{3 \\times 3} - \\bar{x}\\bar{x}^T \\right) + m_i \\left( 2 \\bar{x}^T X_i I_{3 \\times 3} - \\bar{x}X_i^T - X_i\\bar{x}^T \\right)\n",
        "\\end{align*}\n",
        "\n",
        "### Step 3: Simplification of the Cross-Term\n",
        "\n",
        "Observe that the cross-terms $ 2 \\bar{x}^T X_i I_{3 \\times 3} - \\bar{x}X_i^T - X_i\\bar{x}^T $ actually simplify to zero:\n",
        "\n",
        "\\begin{align*}\n",
        "2 \\bar{x}^T X_i I_{3 \\times 3} - \\bar{x}X_i^T - X_i\\bar{x}^T = 0\n",
        "\\end{align*}\n",
        "\n",
        "This happens because:\n",
        "\n",
        "\\begin{align*}\n",
        "2 \\bar{x}^T X_i I_{3 \\times 3} = \\bar{x}X_i^T + X_i\\bar{x}^T\n",
        "\\end{align*}\n",
        "\n",
        "### Final Result: Parallel Axis Theorem\n",
        "\n",
        "Therefore, the expression simplifies to:\n",
        "\n",
        "\\begin{align*}\n",
        "\\mathbb{I}_{x_i} = \\mathbb{I}_{b_i} + m_i \\left( ||\\bar{x}||^2 I_{3 \\times 3} - \\bar{x}\\bar{x}^T \\right)\n",
        "\\end{align*}\n",
        "\n",
        "Summing over all particles $ i $, the total moment of inertia about the origin of frame $ \\mathbf{e} $ becomes:\n",
        "\n",
        "\\begin{align*}\n",
        "\\mathbb{I}_x &= \\sum_i \\mathbb{I}_{x_i}= \\sum_i \\mathbb{I}_{b_i} + \\left( \\sum_i m_i \\right) \\left( ||\\bar{x}||^2 I_{3 \\times 3} - \\bar{x}\\bar{x}^T \\right)\\\\\n",
        "& =\\mathbb{I}_{b} + M \\left( ||\\bar{x}||^2 I_{3 \\times 3} - \\bar{x}\\bar{x}^T \\right)\n",
        "\\end{align*}\n",
        "\n",
        "where $ \\sum_i m_i = M $ represents the total mass of the system.\n",
        "\n",
        "This is the Parallel Axis Theorem."
      ],
      "metadata": {
        "id": "-nKaSBfWQXcg"
      }
    }
  ]
}