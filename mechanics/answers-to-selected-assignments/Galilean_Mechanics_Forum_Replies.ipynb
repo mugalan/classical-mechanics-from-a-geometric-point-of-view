{
  "nbformat": 4,
  "nbformat_minor": 0,
  "metadata": {
    "colab": {
      "provenance": [],
      "include_colab_link": true
    },
    "kernelspec": {
      "name": "python3",
      "display_name": "Python 3"
    },
    "language_info": {
      "name": "python"
    }
  },
  "cells": [
    {
      "cell_type": "markdown",
      "metadata": {
        "id": "view-in-github",
        "colab_type": "text"
      },
      "source": [
        "<a href=\"https://colab.research.google.com/github/mugalan/classical-mechanics-from-a-geometric-point-of-view/blob/main/mechanics/answers-to-selected-assignments/Galilean_Mechanics_Forum_Replies.ipynb\" target=\"_parent\"><img src=\"https://colab.research.google.com/assets/colab-badge.svg\" alt=\"Open In Colab\"/></a>"
      ]
    },
    {
      "cell_type": "markdown",
      "source": [
        "#Import Python modules"
      ],
      "metadata": {
        "id": "uZ2dpkiv3RhU"
      }
    },
    {
      "cell_type": "code",
      "source": [
        "import numpy as np\n",
        "import scipy as sp\n",
        "from scipy.integrate import odeint\n",
        "import plotly.graph_objects as go\n",
        "\n",
        "import sympy as sym\n",
        "from sympy import symbols\n",
        "from sympy import *\n",
        "\n",
        "from sympy.physics.mechanics import dynamicsymbols, init_vprinting"
      ],
      "metadata": {
        "id": "hH6pq9F63Vdg"
      },
      "execution_count": 2,
      "outputs": []
    },
    {
      "cell_type": "markdown",
      "source": [
        "#Moment of inertia of an object"
      ],
      "metadata": {
        "id": "fH4OHfmqFeg7"
      }
    },
    {
      "cell_type": "code",
      "source": [
        "# Define the origin for both frames\n",
        "origin_e = np.array([0, 0, 0])\n",
        "origin_b = np.array([1, -1, 1])\n",
        "\n",
        "# Define the orthonormal vectors for frame e (standard basis)\n",
        "e1 = np.array([1, 0, 0])\n",
        "e2 = np.array([0, 1, 0])\n",
        "e3 = np.array([0, 0, 1])\n",
        "\n",
        "# Define the orthonormal vectors for frame b (rotated basis)\n",
        "b1 = np.array([1, 0, 0])\n",
        "b2 = np.array([0, 1, 0])\n",
        "b3 = np.array([0, 0, 1])\n",
        "\n",
        "# Define the point P in the space\n",
        "P = np.array([2, 1.5, 2.5])\n",
        "\n",
        "# Create figure\n",
        "fig = go.Figure()\n",
        "\n",
        "# Add frame e\n",
        "fig.add_trace(go.Scatter3d(x=[origin_e[0], e1[0]], y=[origin_e[1], e1[1]], z=[origin_e[2], e1[2]],\n",
        "                           mode='lines', name='axis-e1', line=dict(color='red', width=5)))\n",
        "fig.add_trace(go.Scatter3d(x=[origin_e[0], e2[0]], y=[origin_e[1], e2[1]], z=[origin_e[2], e2[2]],\n",
        "                           mode='lines', name='axis-e2', line=dict(color='red', width=5)))\n",
        "fig.add_trace(go.Scatter3d(x=[origin_e[0], e3[0]], y=[origin_e[1], e3[1]], z=[origin_e[2], e3[2]],\n",
        "                           mode='lines', name='axis-e3', line=dict(color='red', width=5)))\n",
        "\n",
        "# Add frame b\n",
        "fig.add_trace(go.Scatter3d(x=[origin_b[0], origin_b[0] + b1[0]], y=[origin_b[1], origin_b[1] + b1[1]], z=[origin_b[2], origin_b[2] + b1[2]],\n",
        "                           mode='lines', name='axis-b1', line=dict(color='blue', width=5)))\n",
        "fig.add_trace(go.Scatter3d(x=[origin_b[0], origin_b[0] + b2[0]], y=[origin_b[1], origin_b[1] + b2[1]], z=[origin_b[2], origin_b[2] + b2[2]],\n",
        "                           mode='lines', name='axis-b2', line=dict(color='blue', width=5)))\n",
        "fig.add_trace(go.Scatter3d(x=[origin_b[0], origin_b[0] + b3[0]], y=[origin_b[1], origin_b[1] + b3[1]], z=[origin_b[2], origin_b[2] + b3[2]],\n",
        "                           mode='lines', name='axis-b3', line=dict(color='blue', width=5)))\n",
        "\n",
        "# Add point P\n",
        "fig.add_trace(go.Scatter3d(x=[P[0]], y=[P[1]], z=[P[2]],\n",
        "                           mode='markers', name='Point P', marker=dict(color='black', size=10)))\n",
        "\n",
        "# Add line from origin of frame e to point P\n",
        "fig.add_trace(go.Scatter3d(x=[origin_e[0], P[0]], y=[origin_e[1], P[1]], z=[origin_e[2], P[2]],\n",
        "                           mode='lines', name='Representation in e', line=dict(color='orange', width=3, dash='dash')))\n",
        "\n",
        "# Add line from origin of frame b to point P\n",
        "fig.add_trace(go.Scatter3d(x=[origin_b[0], P[0]], y=[origin_b[1], P[1]], z=[origin_b[2], P[2]],\n",
        "                           mode='lines', name='Representation in b', line=dict(color='orange', width=3, dash='dash')))\n",
        "\n",
        "# Set the aspect ratio\n",
        "fig.update_layout(scene_aspectmode='cube')\n",
        "\n",
        "# Set axis labels\n",
        "fig.update_layout(scene=dict(\n",
        "    xaxis_title='X',\n",
        "    yaxis_title='Y',\n",
        "    zaxis_title='Z',\n",
        "    xaxis=dict(range=[-1, 2]),\n",
        "    yaxis=dict(range=[-2, 2]),\n",
        "    zaxis=dict(range=[-1, 3])\n",
        "))\n",
        "\n",
        "# Show the plot\n",
        "fig.show()\n"
      ],
      "metadata": {
        "id": "5RLtm665KNIy",
        "collapsed": true,
        "colab": {
          "base_uri": "https://localhost:8080/",
          "height": 542
        },
        "outputId": "82255148-0bc2-4656-b858-0dc75a711da3"
      },
      "execution_count": 1,
      "outputs": [
        {
          "output_type": "display_data",
          "data": {
            "text/html": [
              "<html>\n",
              "<head><meta charset=\"utf-8\" /></head>\n",
              "<body>\n",
              "    <div>            <script src=\"https://cdnjs.cloudflare.com/ajax/libs/mathjax/2.7.5/MathJax.js?config=TeX-AMS-MML_SVG\"></script><script type=\"text/javascript\">if (window.MathJax && window.MathJax.Hub && window.MathJax.Hub.Config) {window.MathJax.Hub.Config({SVG: {font: \"STIX-Web\"}});}</script>                <script type=\"text/javascript\">window.PlotlyConfig = {MathJaxConfig: 'local'};</script>\n",
              "        <script charset=\"utf-8\" src=\"https://cdn.plot.ly/plotly-2.35.2.min.js\"></script>                <div id=\"36833c97-0602-4457-a64d-2e2c7f671951\" class=\"plotly-graph-div\" style=\"height:525px; width:100%;\"></div>            <script type=\"text/javascript\">                                    window.PLOTLYENV=window.PLOTLYENV || {};                                    if (document.getElementById(\"36833c97-0602-4457-a64d-2e2c7f671951\")) {                    Plotly.newPlot(                        \"36833c97-0602-4457-a64d-2e2c7f671951\",                        [{\"line\":{\"color\":\"red\",\"width\":5},\"mode\":\"lines\",\"name\":\"axis-e1\",\"x\":[0,1],\"y\":[0,0],\"z\":[0,0],\"type\":\"scatter3d\"},{\"line\":{\"color\":\"red\",\"width\":5},\"mode\":\"lines\",\"name\":\"axis-e2\",\"x\":[0,0],\"y\":[0,1],\"z\":[0,0],\"type\":\"scatter3d\"},{\"line\":{\"color\":\"red\",\"width\":5},\"mode\":\"lines\",\"name\":\"axis-e3\",\"x\":[0,0],\"y\":[0,0],\"z\":[0,1],\"type\":\"scatter3d\"},{\"line\":{\"color\":\"blue\",\"width\":5},\"mode\":\"lines\",\"name\":\"axis-b1\",\"x\":[1,2],\"y\":[-1,-1],\"z\":[1,1],\"type\":\"scatter3d\"},{\"line\":{\"color\":\"blue\",\"width\":5},\"mode\":\"lines\",\"name\":\"axis-b2\",\"x\":[1,1],\"y\":[-1,0],\"z\":[1,1],\"type\":\"scatter3d\"},{\"line\":{\"color\":\"blue\",\"width\":5},\"mode\":\"lines\",\"name\":\"axis-b3\",\"x\":[1,1],\"y\":[-1,-1],\"z\":[1,2],\"type\":\"scatter3d\"},{\"marker\":{\"color\":\"black\",\"size\":10},\"mode\":\"markers\",\"name\":\"Point P\",\"x\":[2.0],\"y\":[1.5],\"z\":[2.5],\"type\":\"scatter3d\"},{\"line\":{\"color\":\"orange\",\"dash\":\"dash\",\"width\":3},\"mode\":\"lines\",\"name\":\"Representation in e\",\"x\":[0,2.0],\"y\":[0,1.5],\"z\":[0,2.5],\"type\":\"scatter3d\"},{\"line\":{\"color\":\"orange\",\"dash\":\"dash\",\"width\":3},\"mode\":\"lines\",\"name\":\"Representation in b\",\"x\":[1,2.0],\"y\":[-1,1.5],\"z\":[1,2.5],\"type\":\"scatter3d\"}],                        {\"template\":{\"data\":{\"histogram2dcontour\":[{\"type\":\"histogram2dcontour\",\"colorbar\":{\"outlinewidth\":0,\"ticks\":\"\"},\"colorscale\":[[0.0,\"#0d0887\"],[0.1111111111111111,\"#46039f\"],[0.2222222222222222,\"#7201a8\"],[0.3333333333333333,\"#9c179e\"],[0.4444444444444444,\"#bd3786\"],[0.5555555555555556,\"#d8576b\"],[0.6666666666666666,\"#ed7953\"],[0.7777777777777778,\"#fb9f3a\"],[0.8888888888888888,\"#fdca26\"],[1.0,\"#f0f921\"]]}],\"choropleth\":[{\"type\":\"choropleth\",\"colorbar\":{\"outlinewidth\":0,\"ticks\":\"\"}}],\"histogram2d\":[{\"type\":\"histogram2d\",\"colorbar\":{\"outlinewidth\":0,\"ticks\":\"\"},\"colorscale\":[[0.0,\"#0d0887\"],[0.1111111111111111,\"#46039f\"],[0.2222222222222222,\"#7201a8\"],[0.3333333333333333,\"#9c179e\"],[0.4444444444444444,\"#bd3786\"],[0.5555555555555556,\"#d8576b\"],[0.6666666666666666,\"#ed7953\"],[0.7777777777777778,\"#fb9f3a\"],[0.8888888888888888,\"#fdca26\"],[1.0,\"#f0f921\"]]}],\"heatmap\":[{\"type\":\"heatmap\",\"colorbar\":{\"outlinewidth\":0,\"ticks\":\"\"},\"colorscale\":[[0.0,\"#0d0887\"],[0.1111111111111111,\"#46039f\"],[0.2222222222222222,\"#7201a8\"],[0.3333333333333333,\"#9c179e\"],[0.4444444444444444,\"#bd3786\"],[0.5555555555555556,\"#d8576b\"],[0.6666666666666666,\"#ed7953\"],[0.7777777777777778,\"#fb9f3a\"],[0.8888888888888888,\"#fdca26\"],[1.0,\"#f0f921\"]]}],\"heatmapgl\":[{\"type\":\"heatmapgl\",\"colorbar\":{\"outlinewidth\":0,\"ticks\":\"\"},\"colorscale\":[[0.0,\"#0d0887\"],[0.1111111111111111,\"#46039f\"],[0.2222222222222222,\"#7201a8\"],[0.3333333333333333,\"#9c179e\"],[0.4444444444444444,\"#bd3786\"],[0.5555555555555556,\"#d8576b\"],[0.6666666666666666,\"#ed7953\"],[0.7777777777777778,\"#fb9f3a\"],[0.8888888888888888,\"#fdca26\"],[1.0,\"#f0f921\"]]}],\"contourcarpet\":[{\"type\":\"contourcarpet\",\"colorbar\":{\"outlinewidth\":0,\"ticks\":\"\"}}],\"contour\":[{\"type\":\"contour\",\"colorbar\":{\"outlinewidth\":0,\"ticks\":\"\"},\"colorscale\":[[0.0,\"#0d0887\"],[0.1111111111111111,\"#46039f\"],[0.2222222222222222,\"#7201a8\"],[0.3333333333333333,\"#9c179e\"],[0.4444444444444444,\"#bd3786\"],[0.5555555555555556,\"#d8576b\"],[0.6666666666666666,\"#ed7953\"],[0.7777777777777778,\"#fb9f3a\"],[0.8888888888888888,\"#fdca26\"],[1.0,\"#f0f921\"]]}],\"surface\":[{\"type\":\"surface\",\"colorbar\":{\"outlinewidth\":0,\"ticks\":\"\"},\"colorscale\":[[0.0,\"#0d0887\"],[0.1111111111111111,\"#46039f\"],[0.2222222222222222,\"#7201a8\"],[0.3333333333333333,\"#9c179e\"],[0.4444444444444444,\"#bd3786\"],[0.5555555555555556,\"#d8576b\"],[0.6666666666666666,\"#ed7953\"],[0.7777777777777778,\"#fb9f3a\"],[0.8888888888888888,\"#fdca26\"],[1.0,\"#f0f921\"]]}],\"mesh3d\":[{\"type\":\"mesh3d\",\"colorbar\":{\"outlinewidth\":0,\"ticks\":\"\"}}],\"scatter\":[{\"fillpattern\":{\"fillmode\":\"overlay\",\"size\":10,\"solidity\":0.2},\"type\":\"scatter\"}],\"parcoords\":[{\"type\":\"parcoords\",\"line\":{\"colorbar\":{\"outlinewidth\":0,\"ticks\":\"\"}}}],\"scatterpolargl\":[{\"type\":\"scatterpolargl\",\"marker\":{\"colorbar\":{\"outlinewidth\":0,\"ticks\":\"\"}}}],\"bar\":[{\"error_x\":{\"color\":\"#2a3f5f\"},\"error_y\":{\"color\":\"#2a3f5f\"},\"marker\":{\"line\":{\"color\":\"#E5ECF6\",\"width\":0.5},\"pattern\":{\"fillmode\":\"overlay\",\"size\":10,\"solidity\":0.2}},\"type\":\"bar\"}],\"scattergeo\":[{\"type\":\"scattergeo\",\"marker\":{\"colorbar\":{\"outlinewidth\":0,\"ticks\":\"\"}}}],\"scatterpolar\":[{\"type\":\"scatterpolar\",\"marker\":{\"colorbar\":{\"outlinewidth\":0,\"ticks\":\"\"}}}],\"histogram\":[{\"marker\":{\"pattern\":{\"fillmode\":\"overlay\",\"size\":10,\"solidity\":0.2}},\"type\":\"histogram\"}],\"scattergl\":[{\"type\":\"scattergl\",\"marker\":{\"colorbar\":{\"outlinewidth\":0,\"ticks\":\"\"}}}],\"scatter3d\":[{\"type\":\"scatter3d\",\"line\":{\"colorbar\":{\"outlinewidth\":0,\"ticks\":\"\"}},\"marker\":{\"colorbar\":{\"outlinewidth\":0,\"ticks\":\"\"}}}],\"scattermapbox\":[{\"type\":\"scattermapbox\",\"marker\":{\"colorbar\":{\"outlinewidth\":0,\"ticks\":\"\"}}}],\"scatterternary\":[{\"type\":\"scatterternary\",\"marker\":{\"colorbar\":{\"outlinewidth\":0,\"ticks\":\"\"}}}],\"scattercarpet\":[{\"type\":\"scattercarpet\",\"marker\":{\"colorbar\":{\"outlinewidth\":0,\"ticks\":\"\"}}}],\"carpet\":[{\"aaxis\":{\"endlinecolor\":\"#2a3f5f\",\"gridcolor\":\"white\",\"linecolor\":\"white\",\"minorgridcolor\":\"white\",\"startlinecolor\":\"#2a3f5f\"},\"baxis\":{\"endlinecolor\":\"#2a3f5f\",\"gridcolor\":\"white\",\"linecolor\":\"white\",\"minorgridcolor\":\"white\",\"startlinecolor\":\"#2a3f5f\"},\"type\":\"carpet\"}],\"table\":[{\"cells\":{\"fill\":{\"color\":\"#EBF0F8\"},\"line\":{\"color\":\"white\"}},\"header\":{\"fill\":{\"color\":\"#C8D4E3\"},\"line\":{\"color\":\"white\"}},\"type\":\"table\"}],\"barpolar\":[{\"marker\":{\"line\":{\"color\":\"#E5ECF6\",\"width\":0.5},\"pattern\":{\"fillmode\":\"overlay\",\"size\":10,\"solidity\":0.2}},\"type\":\"barpolar\"}],\"pie\":[{\"automargin\":true,\"type\":\"pie\"}]},\"layout\":{\"autotypenumbers\":\"strict\",\"colorway\":[\"#636efa\",\"#EF553B\",\"#00cc96\",\"#ab63fa\",\"#FFA15A\",\"#19d3f3\",\"#FF6692\",\"#B6E880\",\"#FF97FF\",\"#FECB52\"],\"font\":{\"color\":\"#2a3f5f\"},\"hovermode\":\"closest\",\"hoverlabel\":{\"align\":\"left\"},\"paper_bgcolor\":\"white\",\"plot_bgcolor\":\"#E5ECF6\",\"polar\":{\"bgcolor\":\"#E5ECF6\",\"angularaxis\":{\"gridcolor\":\"white\",\"linecolor\":\"white\",\"ticks\":\"\"},\"radialaxis\":{\"gridcolor\":\"white\",\"linecolor\":\"white\",\"ticks\":\"\"}},\"ternary\":{\"bgcolor\":\"#E5ECF6\",\"aaxis\":{\"gridcolor\":\"white\",\"linecolor\":\"white\",\"ticks\":\"\"},\"baxis\":{\"gridcolor\":\"white\",\"linecolor\":\"white\",\"ticks\":\"\"},\"caxis\":{\"gridcolor\":\"white\",\"linecolor\":\"white\",\"ticks\":\"\"}},\"coloraxis\":{\"colorbar\":{\"outlinewidth\":0,\"ticks\":\"\"}},\"colorscale\":{\"sequential\":[[0.0,\"#0d0887\"],[0.1111111111111111,\"#46039f\"],[0.2222222222222222,\"#7201a8\"],[0.3333333333333333,\"#9c179e\"],[0.4444444444444444,\"#bd3786\"],[0.5555555555555556,\"#d8576b\"],[0.6666666666666666,\"#ed7953\"],[0.7777777777777778,\"#fb9f3a\"],[0.8888888888888888,\"#fdca26\"],[1.0,\"#f0f921\"]],\"sequentialminus\":[[0.0,\"#0d0887\"],[0.1111111111111111,\"#46039f\"],[0.2222222222222222,\"#7201a8\"],[0.3333333333333333,\"#9c179e\"],[0.4444444444444444,\"#bd3786\"],[0.5555555555555556,\"#d8576b\"],[0.6666666666666666,\"#ed7953\"],[0.7777777777777778,\"#fb9f3a\"],[0.8888888888888888,\"#fdca26\"],[1.0,\"#f0f921\"]],\"diverging\":[[0,\"#8e0152\"],[0.1,\"#c51b7d\"],[0.2,\"#de77ae\"],[0.3,\"#f1b6da\"],[0.4,\"#fde0ef\"],[0.5,\"#f7f7f7\"],[0.6,\"#e6f5d0\"],[0.7,\"#b8e186\"],[0.8,\"#7fbc41\"],[0.9,\"#4d9221\"],[1,\"#276419\"]]},\"xaxis\":{\"gridcolor\":\"white\",\"linecolor\":\"white\",\"ticks\":\"\",\"title\":{\"standoff\":15},\"zerolinecolor\":\"white\",\"automargin\":true,\"zerolinewidth\":2},\"yaxis\":{\"gridcolor\":\"white\",\"linecolor\":\"white\",\"ticks\":\"\",\"title\":{\"standoff\":15},\"zerolinecolor\":\"white\",\"automargin\":true,\"zerolinewidth\":2},\"scene\":{\"xaxis\":{\"backgroundcolor\":\"#E5ECF6\",\"gridcolor\":\"white\",\"linecolor\":\"white\",\"showbackground\":true,\"ticks\":\"\",\"zerolinecolor\":\"white\",\"gridwidth\":2},\"yaxis\":{\"backgroundcolor\":\"#E5ECF6\",\"gridcolor\":\"white\",\"linecolor\":\"white\",\"showbackground\":true,\"ticks\":\"\",\"zerolinecolor\":\"white\",\"gridwidth\":2},\"zaxis\":{\"backgroundcolor\":\"#E5ECF6\",\"gridcolor\":\"white\",\"linecolor\":\"white\",\"showbackground\":true,\"ticks\":\"\",\"zerolinecolor\":\"white\",\"gridwidth\":2}},\"shapedefaults\":{\"line\":{\"color\":\"#2a3f5f\"}},\"annotationdefaults\":{\"arrowcolor\":\"#2a3f5f\",\"arrowhead\":0,\"arrowwidth\":1},\"geo\":{\"bgcolor\":\"white\",\"landcolor\":\"#E5ECF6\",\"subunitcolor\":\"white\",\"showland\":true,\"showlakes\":true,\"lakecolor\":\"white\"},\"title\":{\"x\":0.05},\"mapbox\":{\"style\":\"light\"}}},\"scene\":{\"aspectmode\":\"cube\",\"xaxis\":{\"title\":{\"text\":\"X\"},\"range\":[-1,2]},\"yaxis\":{\"title\":{\"text\":\"Y\"},\"range\":[-2,2]},\"zaxis\":{\"title\":{\"text\":\"Z\"},\"range\":[-1,3]}}},                        {\"responsive\": true}                    ).then(function(){\n",
              "                            \n",
              "var gd = document.getElementById('36833c97-0602-4457-a64d-2e2c7f671951');\n",
              "var x = new MutationObserver(function (mutations, observer) {{\n",
              "        var display = window.getComputedStyle(gd).display;\n",
              "        if (!display || display === 'none') {{\n",
              "            console.log([gd, 'removed!']);\n",
              "            Plotly.purge(gd);\n",
              "            observer.disconnect();\n",
              "        }}\n",
              "}});\n",
              "\n",
              "// Listen for the removal of the full notebook cells\n",
              "var notebookContainer = gd.closest('#notebook-container');\n",
              "if (notebookContainer) {{\n",
              "    x.observe(notebookContainer, {childList: true});\n",
              "}}\n",
              "\n",
              "// Listen for the clearing of the current output cell\n",
              "var outputEl = gd.closest('.output');\n",
              "if (outputEl) {{\n",
              "    x.observe(outputEl, {childList: true});\n",
              "}}\n",
              "\n",
              "                        })                };                            </script>        </div>\n",
              "</body>\n",
              "</html>"
            ]
          },
          "metadata": {}
        }
      ]
    },
    {
      "cell_type": "markdown",
      "source": [
        "\n",
        "#### Coordinate Transformation\n",
        "Given two orthonormal parallel frames $\\mathbf{e}$ and $\\mathbf{b}$, the position of a point $P_i$ in these two frames is related by:\n",
        "\n",
        "\\begin{align*}\n",
        "x_i = \\bar{x} + X_i\n",
        "\\end{align*}\n",
        "\n",
        "where $x_i$ is the position of $P_i$ in frame $\\mathbf{e}$, $X_i$ is the position in frame $\\mathbf{b}$, and $\\bar{x}$ is the position of the origin of frame $\\mathbf{b}$ with respect to frame $\\mathbf{e}$.\n",
        "\n",
        "#### Moment of Inertia in Frames $\\mathbf{e}$ and $\\mathbf{b}$\n",
        "The moment of inertia of a particle $P_i$ about the origin of the frame $\\mathbf{b}$ is:\n",
        "\n",
        "\\begin{align*}\n",
        "\\mathbb{I}_{b_i} = m_i \\left(||X_i||^2 I_{3 \\times 3} - X_i X_i^T \\right)\n",
        "\\end{align*}\n",
        "\n",
        "In frame $\\mathbf{e}$, the moment of inertia is:\n",
        "\n",
        "\\begin{align*}\n",
        "\\mathbb{I}_{x_i} = m_i \\left(||x_i||^2 I_{3 \\times 3} - x_i x_i^T \\right)\n",
        "\\end{align*}\n",
        "\n",
        "#### Expanded Moment of Inertia in Frame $\\mathbf{e}$\n",
        "Substituting $x_i = \\bar{x} + X_i$ into the expression for $\\mathbb{I}_{x_i}$:\n",
        "\n",
        "\\begin{align*}\n",
        "\\mathbb{I}_{x_i} = m_i \\left(||\\bar{x} + X_i||^2 I_{3 \\times 3} - (\\bar{x} + X_i)(\\bar{x} + X_i)^T \\right)\n",
        "\\end{align*}\n",
        "\n",
        "Expanding the terms:\n",
        "\n",
        "\\begin{align*}\n",
        "||\\bar{x} + X_i||^2 = ||\\bar{x}||^2 + ||X_i||^2 + 2\\bar{x}^T X_i\n",
        "\\end{align*}\n",
        "\n",
        "So,\n",
        "\n",
        "\\begin{align*}\n",
        "\\mathbb{I}_{x_i} = m_i \\left( \\left(||\\bar{x}||^2 + ||X_i||^2 + 2\\bar{x}^T X_i\\right) I_{3 \\times 3} - (\\bar{x}\\bar{x}^T + \\bar{x}X_i^T + X_i\\bar{x}^T + X_iX_i^T) \\right)\n",
        "\\end{align*}\n",
        "\n",
        "#### Grouping Terms\n",
        "We group the terms to separate the components involving $X_i$ and $\\bar{x}$:\n",
        "\n",
        "\\begin{align*}\n",
        "\\mathbb{I}_{x_i} = m_i \\left(||X_i||^2 I_{3 \\times 3} - X_iX_i^T \\right) + m_i \\left(||\\bar{x}||^2 I_{3 \\times 3} - \\bar{x}\\bar{x}^T \\right) + m_i \\left( 2 \\bar{x}^T X_i I_{3 \\times 3} - \\bar{x}X_i^T - X_i\\bar{x}^T \\right)\n",
        "\\end{align*}\n",
        "\n",
        "#### Cross-Term Consideration\n",
        "The cross-terms $2 \\bar{x}^T X_i I_{3 \\times 3} - \\bar{x}X_i^T - X_i\\bar{x}^T$ do not generally simplify to zero. However, when summed over all particles $i$, if the distribution of points is symmetric, these terms may cancel out. But in general, this term should be carefully evaluated based on the specific configuration of the system.\n",
        "\n",
        "Thus, the expression becomes:\n",
        "\n",
        "\\begin{align*}\n",
        "\\mathbb{I}_{x_i} = \\mathbb{I}_{b_i} + m_i \\left(||\\bar{x}||^2 I_{3 \\times 3} - \\bar{x}\\bar{x}^T \\right) + m_i \\left( 2 \\bar{x}^T X_i I_{3 \\times 3} - \\bar{x}X_i^T - X_i\\bar{x}^T \\right)\n",
        "\\end{align*}\n",
        "\n",
        "#### Summing Over All Particles\n",
        "The total moment of inertia about the origin of frame $\\mathbf{e}$ is:\n",
        "\n",
        "\\begin{align*}\n",
        "\\mathbb{I}_x &= \\sum_i \\mathbb{I}_{x_i} = \\sum_i \\mathbb{I}_{b_i} + \\left( \\sum_i m_i \\right) \\left( ||\\bar{x}||^2 I_{3 \\times 3} - \\bar{x}\\bar{x}^T \\right) + \\sum_i m_i \\left( 2 \\bar{x}^T X_i I_{3 \\times 3} - \\bar{x}X_i^T - X_i\\bar{x}^T \\right)\\\\\n",
        "&= \\mathbb{I}_{b} + M \\left( ||\\bar{x}||^2 I_{3 \\times 3} - \\bar{x}\\bar{x}^T \\right) + M \\left( 2 \\bar{x}^T \\bar{X} I_{3 \\times 3} - \\bar{x}\\bar{X}^T - \\bar{X}\\bar{x}^T \\right)\n",
        "\\end{align*}\n",
        "\n",
        "where\n",
        "\n",
        "\\begin{align*}\n",
        "M&=\\sum_i m_i \\\\\n",
        "\\bar{X}&=\\frac{ \\sum_i m_iX_i }{\\sum_i m_i }\n",
        "\\end{align*}\n",
        "\n",
        "\n",
        "#### Case where the cm coincides with the origin of the $\\mathbf{b}$ frame.\n",
        "\n",
        "Then $\\bar{X}=0_{3\\times 1}$ and hence the above reduces to the **parallel axis theorem**\n",
        "\n",
        "\\begin{align*}\n",
        "\\mathbb{I}_x &= \\mathbb{I}_{b} + M \\left( ||\\bar{x}||^2 I_{3 \\times 3} - \\bar{x}\\bar{x}^T \\right)\n",
        "\\end{align*}\n",
        "\n",
        "On can easily show that the last term is positive semi-definite.\n",
        "\n",
        "#### Case of a continuum object\n",
        "\n",
        "The moment of inertia of an infinitesimal volume element of the object is\n",
        "\\begin{align*}\n",
        "\\delta \\mathbb{I}_{b} &= \\rho \\left(||X||^2 I_{3 \\times 3} - X X^T \\right) \\:\\delta\\, \\mathrm{vol}\\\\\n",
        "\\mathbb{I}_{b} &= \\lim_{\\delta \\mathrm{vol}\\to 0}\\sum_{\\delta \\mathrm{vol}}\\delta \\mathbb{I}_{b}=\\lim_{\\delta \\mathrm{vol}\\to 0}\\sum_{\\delta \\mathrm{vol}}\\rho \\left(||X||^2 I_{3 \\times 3} - X X^T \\right) \\:\\delta\\, \\mathrm{vol}\\\\\n",
        "&=\\int_{\\mathrm{object}}\\rho \\left(||X||^2 I_{3 \\times 3} - X X^T \\right) \\:d\\mathrm{vol}\n",
        "\\end{align*}\n"
      ],
      "metadata": {
        "id": "-nKaSBfWQXcg"
      }
    },
    {
      "cell_type": "code",
      "source": [
        "import numpy as np\n",
        "import plotly.graph_objects as go\n",
        "\n",
        "# Define the vertices of the cube in the b frame (origin at the center of the cube)\n",
        "vertices_b = np.array([\n",
        "    [ 1,  1,  1],\n",
        "    [ 1,  1, -1],\n",
        "    [ 1, -1,  1],\n",
        "    [ 1, -1, -1],\n",
        "    [-1,  1,  1],\n",
        "    [-1,  1, -1],\n",
        "    [-1, -1,  1],\n",
        "    [-1, -1, -1]\n",
        "])\n",
        "\n",
        "# Mass of each vertex\n",
        "mass = 1\n",
        "M = 8 * mass  # Total mass\n",
        "\n",
        "# Translation vector for frame b with respect to frame e (frame e is shifted by (1,1,1))\n",
        "bar_x = np.array([1, -2, 1])\n",
        "\n",
        "# Calculate the inertia tensor in frame b\n",
        "I_b = np.zeros((3, 3))\n",
        "for r in vertices_b:\n",
        "    I_b += mass * (np.dot(r, r) * np.eye(3) - np.outer(r, r))\n",
        "\n",
        "# Calculate the inertia tensor in frame e (translated frame)\n",
        "I_e = np.zeros((3, 3))\n",
        "for r in vertices_b:\n",
        "    r_e = r + bar_x\n",
        "    I_e += mass * (np.dot(r_e, r_e) * np.eye(3) - np.outer(r_e, r_e))\n",
        "\n",
        "# Calculate the additional term\n",
        "term = M * (np.dot(bar_x, bar_x) * np.eye(3) - np.outer(bar_x, bar_x))\n",
        "\n",
        "# Verify the formula\n",
        "I_x = I_b + term\n",
        "\n",
        "# Display the results\n",
        "print(\"Inertia Tensor in frame b (I_b):\")\n",
        "print(I_b)\n",
        "print(\"\\nInertia Tensor in frame e (I_e):\")\n",
        "print(I_e)\n",
        "print(\"\\nM(||bar_x||^2 * I - bar_x * bar_x^T):\")\n",
        "print(term)\n",
        "print(\"\\nI_x = I_b + M(||bar_x||^2 * I - bar_x * bar_x^T):\")\n",
        "print(I_x)\n",
        "\n",
        "# Verify if I_x equals I_e\n",
        "if np.allclose(I_x, I_e):\n",
        "    print(\"\\nThe formula is verified: I_x equals I_e\")\n",
        "else:\n",
        "    print(\"\\nThe formula is NOT verified: I_x does not equal I_e\")\n",
        "\n",
        "# Plot the frames and vertices\n",
        "fig = go.Figure()\n",
        "\n",
        "\n",
        "# Plot vertices of objects\n",
        "vertices_e = vertices_b + bar_x\n",
        "fig.add_trace(go.Scatter3d(x=vertices_e[:, 0], y=vertices_e[:, 1], z=vertices_e[:, 2],\n",
        "                           mode='markers', name='Point particles',\n",
        "                           marker=dict(color='blue', size=5)))\n",
        "\n",
        "# Plot frame b axes\n",
        "fig.add_trace(go.Scatter3d(x=bar_x[0]+[0, 1], y=bar_x[1]+[0, 0], z=bar_x[2]+[0, 0], mode='lines', line=dict(color='blue', width=5), name='Frame b x-axis'))\n",
        "fig.add_trace(go.Scatter3d(x=bar_x[0]+[0, 0], y=bar_x[1]+[0, 1], z=bar_x[2]+[0, 0], mode='lines', line=dict(color='blue', width=5), name='Frame b y-axis'))\n",
        "fig.add_trace(go.Scatter3d(x=bar_x[0]+[0, 0], y=bar_x[1]+[0, 0], z=bar_x[2]+[0, 1], mode='lines', line=dict(color='blue', width=5), name='Frame b z-axis'))\n",
        "\n",
        "# Plot frame e axes\n",
        "fig.add_trace(go.Scatter3d(x=[0, 1], y=[0, 0], z=[0, 0], mode='lines', line=dict(color='red', width=5), name='Frame e x-axis'))\n",
        "fig.add_trace(go.Scatter3d(x=[0, 0], y=[0, 1], z=[0, 0], mode='lines', line=dict(color='red', width=5), name='Frame e y-axis'))\n",
        "fig.add_trace(go.Scatter3d(x=[0, 0], y=[0, 0], z=[0, 1], mode='lines', line=dict(color='red', width=5), name='Frame e z-axis'))\n",
        "\n",
        "# Set the aspect ratio\n",
        "fig.update_layout(scene_aspectmode='cube')\n",
        "\n",
        "# Set axis labels\n",
        "fig.update_layout(scene=dict(\n",
        "    xaxis_title='X',\n",
        "    yaxis_title='Y',\n",
        "    zaxis_title='Z',\n",
        "    xaxis=dict(range=[-1, 5]),\n",
        "    yaxis=dict(range=[-5, 5]),\n",
        "    zaxis=dict(range=[-1, 5])\n",
        "))\n",
        "\n",
        "# Show the plot\n",
        "fig.show()\n"
      ],
      "metadata": {
        "id": "OWRzd_B0oVOT"
      },
      "execution_count": null,
      "outputs": []
    },
    {
      "cell_type": "code",
      "source": [],
      "metadata": {
        "id": "-MZ2TVNFwuJ_"
      },
      "execution_count": null,
      "outputs": []
    },
    {
      "cell_type": "markdown",
      "source": [],
      "metadata": {
        "id": "_sDzP30j7LKQ"
      }
    },
    {
      "cell_type": "markdown",
      "source": [
        "#Is space independent of time?"
      ],
      "metadata": {
        "id": "bTUINvXLQA9W"
      }
    },
    {
      "cell_type": "markdown",
      "source": [
        "### 1. **Common Perception vs. Galilean Relativity**:\n",
        "   - The common perception is that space and time are independent: space is where events happen, and time tells when they happen, without any direct interplay between the two.\n",
        "   - In Galilean relativity, the relationships between the coordinates of space and time as seen by different inertial observers show that this separation is not as clear-cut as commonly perceived.\n",
        "\n",
        "### 2. **Space-Time Coordinates**:\n",
        "   - The observers $\\mathbf{e}$ and $\\mathbf{e}'$ are two Galilean inertial observers. Observer $\\mathbf{e}$ uses coordinates $(t, x)$, where $t$ is the time and $x$ is the spatial position, to describe an event. Similarly, observer $\\mathbf{e}'$ uses coordinates $(\\tau, \\xi)$ for the same event.\n",
        "   - The task is to find how these coordinates relate to each other.\n",
        "\n",
        "### 3. **Transformation of Time**:\n",
        "   - The argument begins by asserting that time is homogeneous and intervals of time are invariant across inertial observers. This assumption leads to the conclusion that $\\tau = t + a$, where $a$ is a constant. This means that the time coordinates of the two observers differ only by a constant shift.\n",
        "\n",
        "### 4. **Transformation of Space**:\n",
        "   - The spatial coordinates are assumed to transform as $\\xi = \\beta t + R x$, where $\\beta$ is a constant matrix (representing a velocity vector) and $R$ is a constant matrix (representing a rotation or possibly a reflection).\n",
        "   - The homogeneity of space leads to this linear transformation, where the matrix $R$ must be orthonormal (i.e., $R^T R = RR^T = I$) to preserve the lengths and angles, as these should be invariant under a change of inertial frame.\n",
        "\n",
        "### 5. **Relative Velocity**:\n",
        "   - The key result here is that if you consider the origin of $\\mathbf{e}'$ as observed by $\\mathbf{e}$, the relative velocity between the two frames $v$ is constant. This is derived from the fact that $v = \\dot{o} = -R^T \\beta$, meaning the velocity vector $v$ does not change over time.\n",
        "   - Hence, the frames $\\mathbf{e}$ and $\\mathbf{e}'$ must be translating at a constant velocity with respect to each other.\n",
        "\n",
        "### 6. **Galilean Transformation**:\n",
        "   - The final step is to express how the coordinates of an event in one frame translate to the other. The transformation $(t, x) \\rightarrow (t, R(x - vt))$ shows that space and time are intertwined: the spatial coordinates $\\xi$ in the frame $\\mathbf{e}'$ depend not only on the spatial coordinates $x$ in the frame $\\mathbf{e}$ but also on time $t$ and the relative velocity $v$.\n",
        "\n",
        "### 7. **Conclusion**:\n",
        "   - The Galilean transformation $x' = R(x - vt)$ clearly demonstrates that spatial coordinates in one inertial frame depend on both the spatial coordinates and the time in another frame. Therefore, this transformation suggests that space and time are not entirely independent, as the common perception would have it. Instead, they are interconnected in the context of relative motion.\n",
        "\n",
        "### **Summary**:\n",
        "This argument effectively shows that under Galilean relativity, space and time cannot be considered entirely independent. The transformation laws governing the relationship between coordinates in different inertial frames imply that spatial coordinates in one frame are influenced by both the spatial and temporal coordinates in another frame. Thus, the idea that spatial properties are independent of time is challenged, at least within the realm of classical mechanics and Galilean relativity."
      ],
      "metadata": {
        "id": "pgcAOXHWQEWx"
      }
    },
    {
      "cell_type": "markdown",
      "source": [
        "## Example"
      ],
      "metadata": {
        "id": "9HW9x6FbQKtP"
      }
    },
    {
      "cell_type": "markdown",
      "source": [
        "### Setup:\n",
        "- Consider two inertial observers $\\mathbf{e}$ and $\\mathbf{e}'$.\n",
        "- The origins of both frames $O$ and $O'$ coincide at time $t = 0$, i.e., $O = O'$ at $t = 0$.\n",
        "- $O'$ is moving with a constant velocity $v$ relative to $O$ along the $x$-axis.\n",
        "- A light flash occurs at the origin of $O'$ at $t = 0$, and this is event $A_1$.\n",
        "- Another light flash occurs at the origin of $O'$ at time $t = T$, and this is event $A_2$.\n",
        "\n",
        "### Events in the $ \\mathbf{e}' $ Frame:\n",
        "- **Event $A_1$**:\n",
        "  - In the $ \\mathbf{e}' $ frame, the coordinates are $(\\tau_1, \\xi_1)$.\n",
        "  - Since $O'$ is the origin in $ \\mathbf{e}' $, and the flash happens at $t = 0$, we have $\\tau_1 = 0$ and $\\xi_1 = 0$.\n",
        "\n",
        "- **Event $A_2$**:\n",
        "  - The second flash also occurs at the origin of $O'$, but at time $t = T$ in the $ \\mathbf{e} $ frame.\n",
        "  - In the $ \\mathbf{e}' $ frame, the coordinates of this event are $(\\tau_2, \\xi_2)$.\n",
        "  - Again, $\\xi_2 = 0$ since the flash happens at the origin of $O'$, and $\\tau_2 = T$.\n",
        "\n",
        "### Transforming to the $ \\mathbf{e} $ Frame:\n",
        "We now transform these events into the $ \\mathbf{e} $ frame using the Galilean transformation:\n",
        "\\begin{align*}\n",
        "\\tau = t \\quad \\text{and} \\quad \\xi = x - vt\n",
        "\\end{align*}\n",
        "For both events, we have:\n",
        "\n",
        "- **Event $A_1$**:\n",
        "  - In the $ \\mathbf{e} $ frame, the event occurs at time $t = 0$ and at the origin $x = 0$.\n",
        "  - Using the transformation:\n",
        "    \\begin{align*}\n",
        "    x_1 = \\xi_1 + vt_1 = 0 + v \\cdot 0 = 0\n",
        "    \\end{align*}\n",
        "  - So, in the $ \\mathbf{e} $ frame, $A_1$ is at $(t_1, x_1) = (0, 0)$.\n",
        "\n",
        "- **Event $A_2$**:\n",
        "  - In the $ \\mathbf{e} $ frame, the second flash occurs at time $t = T$.\n",
        "  - Since $O'$ is moving with velocity $v$, the position of $O'$ at time $T$ is $x = vT$.\n",
        "  - Therefore, in the $ \\mathbf{e} $ frame, the coordinates of event $A_2$ are:\n",
        "    \\begin{align*}\n",
        "    x_2 = \\xi_2 + vt_2 = 0 + vT = vT\n",
        "    \\end{align*}\n",
        "  - So, in the $ \\mathbf{e} $ frame, $A_2$ is at $(t_2, x_2) = (T, vT)$.\n",
        "\n",
        "### Spatial Distance Between Events:\n",
        "- In the $ \\mathbf{e}' $ frame, both events $A_1$ and $A_2$ occur at the same spatial location, so the spatial distance between them is zero:\n",
        "  \\begin{align*}\n",
        "  \\text{Spatial distance in } \\mathbf{e}': |\\xi_2 - \\xi_1| = 0\n",
        "  \\end{align*}\n",
        "  \n",
        "- In the $ \\mathbf{e} $ frame, however, the spatial distance between these two events is:\n",
        "  \\begin{align*}\n",
        "  \\text{Spatial distance in } \\mathbf{e}: |x_2 - x_1| = |vT - 0| = vT\n",
        "  \\end{align*}\n",
        "\n",
        "### Conclusion:\n",
        "This example clearly demonstrates that the spatial distance between the two events $A_1$ and $A_2$ is zero in the frame $ \\mathbf{e}' $, but non-zero (and equal to $vT$) in the frame $ \\mathbf{e} $. This shows that the concept of spatial distance is not invariant under a change of inertial reference frames in Galilean relativity.\n",
        "\n",
        "Thus, the perception that spatial properties are independent of time is indeed incorrect, as this example illustrates how the spatial separation between two events depends on the relative motion between the observers. This dependence on the relative velocity $v$ indicates that space and time are interlinked, even in the realm of classical mechanics."
      ],
      "metadata": {
        "id": "-0dnYB51QMXS"
      }
    },
    {
      "cell_type": "markdown",
      "source": [
        "### Simulaion"
      ],
      "metadata": {
        "id": "AsahLhQIRaXT"
      }
    },
    {
      "cell_type": "code",
      "source": [
        "import matplotlib.pyplot as plt\n",
        "import numpy as np\n",
        "\n",
        "# Parameters\n",
        "T = 10          # Time interval between two events\n",
        "v = 2           # Relative velocity of O' with respect to O\n",
        "\n",
        "# Event coordinates in frame e'\n",
        "tau1, xi1 = 0, 0\n",
        "tau2, xi2 = T, 0\n",
        "\n",
        "# Transform to frame e\n",
        "t1, x1 = tau1, xi1 + v * tau1\n",
        "t2, x2 = tau2, xi2 + v * tau2\n",
        "\n",
        "# Plotting\n",
        "plt.figure(figsize=(10, 6))\n",
        "\n",
        "# Plot the events in the e' frame\n",
        "plt.plot([xi1, xi2], [tau1, tau2], 'bo-', label=\"Frame e'\", markersize=10)\n",
        "for i, txt in enumerate(['A1', 'A2']):\n",
        "    plt.annotate(txt, (0, [0, T][i]), textcoords=\"offset points\", xytext=(10,-10), ha='center', fontsize=12)\n",
        "\n",
        "# Plot the events in the e frame\n",
        "plt.plot([x1, x2], [t1, t2], 'ro-', label=\"Frame e\", markersize=10)\n",
        "for i, txt in enumerate(['A1', 'A2']):\n",
        "    plt.annotate(txt, ([0, v * T][i], [0, T][i]), textcoords=\"offset points\", xytext=(-15,10), ha='center', fontsize=12)\n",
        "\n",
        "# Annotations\n",
        "plt.axhline(0, color='black', linewidth=0.5)\n",
        "plt.axvline(0, color='black', linewidth=0.5)\n",
        "plt.xlabel(\"Space (x)\", fontsize=14)\n",
        "plt.ylabel(\"Time (t)\", fontsize=14)\n",
        "plt.title(\"Simulation of Events in Two Inertial Frames\", fontsize=16)\n",
        "plt.legend()\n",
        "plt.grid(True)\n",
        "plt.xlim(-1, max(v*T, 1) + 1)\n",
        "plt.ylim(-1, T + 1)\n",
        "plt.show()\n"
      ],
      "metadata": {
        "id": "BA3gGn4HReZv"
      },
      "execution_count": null,
      "outputs": []
    },
    {
      "cell_type": "markdown",
      "source": [
        "#Vector Spaces"
      ],
      "metadata": {
        "id": "xfLSTR5HEaMm"
      }
    },
    {
      "cell_type": "markdown",
      "source": [
        "## Definition"
      ],
      "metadata": {
        "id": "46ewuaQcLk_M"
      }
    },
    {
      "cell_type": "markdown",
      "source": [
        "A **vector space** (also known as a **linear space**) is a fundamental concept in mathematics, particularly in linear algebra. It is a set that is equipped with two operations: vector addition and scalar multiplication. The set and these operations must satisfy a number of specific properties or axioms. Here's a formal definition:\n",
        "\n",
        "### Definition of a Vector Space\n",
        "\n",
        "A **vector space** $ V $ over a field $ F $ (such as the real numbers $ \\mathbb{R} $ or complex numbers $ \\mathbb{C} $) is a set along with two operations:\n",
        "\n",
        "1. **Vector Addition**: An operation $ +: V \\times V \\rightarrow V $ that takes any two vectors $ u, v \\in V $ and returns a vector $ u + v \\in V $.\n",
        "2. **Scalar Multiplication**: An operation $ \\cdot : F \\times V \\rightarrow V $ that takes any scalar $ a \\in F $ and vector $ v \\in V $ and returns a vector $ a \\cdot v \\in V $.\n",
        "\n",
        "These operations must satisfy the following axioms for all vectors $ u, v, w \\in V $ and scalars $ a, b \\in F $:\n",
        "\n",
        "1. **Closure under Addition**: $ u + v \\in V $.\n",
        "2. **Associativity of Addition**: $ u + (v + w) = (u + v) + w $.\n",
        "3. **Commutativity of Addition**: $ u + v = v + u $.\n",
        "4. **Existence of an Additive Identity**: There exists an element $ 0 \\in V $ (called the zero vector) such that $ u + 0 = u $ for all $ u \\in V $.\n",
        "5. **Existence of Additive Inverses**: For each $ u \\in V $, there exists an element $ -u \\in V $ such that $ u + (-u) = 0 $.\n",
        "6. **Closure under Scalar Multiplication**: $ a \\cdot u \\in V $.\n",
        "7. **Compatibility of Scalar Multiplication with Field Multiplication**: $ a \\cdot (b \\cdot u) = (a \\cdot b) \\cdot u $.\n",
        "8. **Identity Element of Scalar Multiplication**: $ 1 \\cdot u = u $, where $ 1 $ is the multiplicative identity in $ F $.\n",
        "9. **Distributivity of Scalar Multiplication with respect to Vector Addition**: $ a \\cdot (u + v) = a \\cdot u + a \\cdot v $.\n",
        "10. **Distributivity of Scalar Multiplication with respect to Field Addition**: $ (a + b) \\cdot u = a \\cdot u + b \\cdot u $.\n",
        "\n",
        "A set $ V $ that satisfies these properties, along with its defined operations, constitutes a vector space over the field $ F $."
      ],
      "metadata": {
        "id": "HTjynt6wLn87"
      }
    },
    {
      "cell_type": "markdown",
      "source": [
        "## Examples"
      ],
      "metadata": {
        "id": "z4x8JX4yL6iv"
      }
    },
    {
      "cell_type": "markdown",
      "source": [
        "Certainly! Here are several distinct types of examples of vector spaces:\n",
        "\n",
        "### 1. **Real Coordinate Space ($ \\mathbb{R}^n $)**\n",
        "\n",
        "**Definition**: The set of all ordered $ n $-tuples of real numbers, denoted by $ \\mathbb{R}^n $.\n",
        "\n",
        "- **Elements**: Vectors are of the form $ (x_1, x_2, \\ldots, x_n) $ where each $ x_i \\in \\mathbb{R} $.\n",
        "- **Operations**:\n",
        "  - **Vector Addition**: $ (x_1, x_2, \\ldots, x_n) + (y_1, y_2, \\ldots, y_n) = (x_1 + y_1, x_2 + y_2, \\ldots, x_n + y_n) $.\n",
        "  - **Scalar Multiplication**: $ a \\cdot (x_1, x_2, \\ldots, x_n) = (a \\cdot x_1, a \\cdot x_2, \\ldots, a \\cdot x_n) $ for $ a \\in \\mathbb{R} $.\n",
        "\n",
        "**Example**: $ \\mathbb{R}^2 $ is the set of all ordered pairs of real numbers, often visualized as the model for the 2D plane. $ \\mathbb{R}^3 $ is the set of all ordered triples of real numbers, visualized as the model for the 3D space.\n",
        "\n",
        "### 2. **Complex Coordinate Space ($ \\mathbb{C}^n $)**\n",
        "\n",
        "**Definition**: The set of all ordered $ n $-tuples of complex numbers, denoted by $ \\mathbb{C}^n $.\n",
        "\n",
        "- **Elements**: Vectors are of the form $ (z_1, z_2, \\ldots, z_n) $ where each $ z_i \\in \\mathbb{C} $.\n",
        "- **Operations**:\n",
        "  - **Vector Addition**: $ (z_1, z_2, \\ldots, z_n) + (w_1, w_2, \\ldots, w_n) = (z_1 + w_1, z_2 + w_2, \\ldots, z_n + w_n) $.\n",
        "  - **Scalar Multiplication**: $ a \\cdot (z_1, z_2, \\ldots, z_n) = (a \\cdot z_1, a \\cdot z_2, \\ldots, a \\cdot z_n) $ for $ a \\in \\mathbb{C} $.\n",
        "\n",
        "**Example**: $ \\mathbb{C}^2 $ is the set of all ordered pairs of complex numbers.\n",
        "\n",
        "### 3. **Polynomial Space ($ P_n $)**\n",
        "\n",
        "**Definition**: The set of all polynomials of degree less than or equal to $ n $ with coefficients in a field $ F $, denoted by $ P_n(F) $.\n",
        "\n",
        "- **Elements**: Polynomials of the form $ a_0 + a_1 x + a_2 x^2 + \\ldots + a_n x^n $, where $ a_i \\in F $.\n",
        "- **Operations**:\n",
        "  - **Vector Addition**: $ (a_0 + a_1 x + \\ldots + a_n x^n) + (b_0 + b_1 x + \\ldots + b_n x^n) = (a_0 + b_0) + (a_1 + b_1)x + \\ldots + (a_n + b_n)x^n $.\n",
        "  - **Scalar Multiplication**: $ c \\cdot (a_0 + a_1 x + \\ldots + a_n x^n) = (c a_0) + (c a_1)x + \\ldots + (c a_n)x^n $ for $ c \\in F $.\n",
        "\n",
        "**Example**: $ P_2(\\mathbb{R}) $ is the space of all quadratic polynomials with real coefficients, such as $ 2 + 3x - x^2 $.\n",
        "\n",
        "### 4. **Matrix Space ($ M_{m \\times n}(F) $)**\n",
        "\n",
        "**Definition**: The set of all $ m \\times n $ matrices with entries in a field $ F $, denoted by $ M_{m \\times n}(F) $.\n",
        "\n",
        "- **Elements**: Matrices of the form $ A = [a_{ij}] $ where $ a_{ij} \\in F $ for $ 1 \\leq i \\leq m $ and $ 1 \\leq j \\leq n $.\n",
        "- **Operations**:\n",
        "  - **Matrix Addition**: $ [a_{ij}] + [b_{ij}] = [a_{ij} + b_{ij}] $.\n",
        "  - **Scalar Multiplication**: $ c \\cdot [a_{ij}] = [c \\cdot a_{ij}] $ for $ c \\in F $.\n",
        "\n",
        "**Example**: $ M_{2 \\times 2}(\\mathbb{R}) $ is the space of all 2x2 matrices with real entries.\n",
        "\n",
        "### 5. **Function Space ($ C[a, b] $)**\n",
        "\n",
        "**Definition**: The set of all continuous functions defined on a closed interval $[a, b]$ with values in $ \\mathbb{R} $, denoted by $ C[a, b] $.\n",
        "\n",
        "- **Elements**: Continuous functions $ f: [a, b] \\rightarrow \\mathbb{R} $.\n",
        "- **Operations**:\n",
        "  - **Function Addition**: $ (f + g)(x) = f(x) + g(x) $.\n",
        "  - **Scalar Multiplication**: $ (c \\cdot f)(x) = c \\cdot f(x) $ for $ c \\in \\mathbb{R} $.\n",
        "\n",
        "**Example**: The set of all continuous functions from the interval $[0, 1]$ to $\\mathbb{R}$.\n",
        "\n",
        "### 6. **Infinite-Dimensional Sequence Space ($ l^2 $)**\n",
        "\n",
        "**Definition**: The set of all infinite sequences of real numbers $ (a_1, a_2, a_3, \\ldots) $ such that the series $ \\sum_{i=1}^\\infty |a_i|^2 $ converges, denoted by $ l^2 $.\n",
        "\n",
        "- **Elements**: Sequences $ (a_1, a_2, a_3, \\ldots) $ with $ \\sum_{i=1}^\\infty |a_i|^2 < \\infty $.\n",
        "- **Operations**:\n",
        "  - **Sequence Addition**: $ (a_1, a_2, \\ldots) + (b_1, b_2, \\ldots) = (a_1 + b_1, a_2 + b_2, \\ldots) $.\n",
        "  - **Scalar Multiplication**: $ c \\cdot (a_1, a_2, \\ldots) = (c \\cdot a_1, c \\cdot a_2, \\ldots) $ for $ c \\in \\mathbb{R} $.\n",
        "\n",
        "**Example**: The space $ l^2 $ is used in functional analysis and quantum mechanics, where sequences represent states or wavefunctions.\n",
        "\n",
        "### 7. **Set of All Linear Transformations**\n",
        "\n",
        "**Definition**: The set of all linear transformations from one vector space $ V $ to another vector space $ W $, denoted by $ \\text{Hom}(V, W) $.\n",
        "\n",
        "- **Elements**: Linear transformations (functions) $ T: V \\rightarrow W $ that satisfy linearity.\n",
        "- **Operations**:\n",
        "  - **Addition of Transformations**: $ (T_1 + T_2)(v) = T_1(v) + T_2(v) $ for all $ v \\in V $.\n",
        "  - **Scalar Multiplication**: $ (c \\cdot T)(v) = c \\cdot T(v) $ for $ c \\in F $ and all $ v \\in V $.\n",
        "\n",
        "**Example**: The space of all $ 2 \\times 2 $ matrices can be seen as the set of all linear transformations from $ \\mathbb{R}^2 $ to itself.\n",
        "\n",
        "These examples illustrate a variety of vector spaces, including finite-dimensional, infinite-dimensional, function spaces, and spaces of transformations, each with distinct elements and operations but all satisfying the vector space axioms."
      ],
      "metadata": {
        "id": "jjIWrQWoMGdf"
      }
    },
    {
      "cell_type": "markdown",
      "source": [
        "## The example of a $ 3 \\times 3$ skew-symmetric matrices $so (3)$"
      ],
      "metadata": {
        "id": "vZevC9fQNX_P"
      }
    },
    {
      "cell_type": "markdown",
      "source": [
        "A **skew-symmetric matrix** (also known as an **antisymmetric matrix**) is a square matrix $ A $ that satisfies the condition $ A^T = -A $, where $ A^T $ is the transpose of $ A $. This means that for all elements $ a_{ij} $ in the matrix, $ a_{ij} = -a_{ji} $. Consequently, all diagonal elements of a skew-symmetric matrix must be zero (since $ a_{ii} = -a_{ii} $ implies $ a_{ii} = 0 $).\n",
        "\n",
        "### Example of a 3×3 Skew-Symmetric Matrix\n",
        "\n",
        "A general form of a $ 3 \\times 3 $ skew-symmetric matrix can be written as:\n",
        "\n",
        "\\begin{align}\n",
        "A = \\begin{bmatrix}\n",
        "0 & a & b \\\\\n",
        "-a & 0 & c \\\\\n",
        "-b & -c & 0\n",
        "\\end{bmatrix}\n",
        "\\end{align}\n",
        "\n",
        "where $ a, b, $ and $ c $ are any real numbers.\n",
        "\n",
        "Here is a specific example of a $ 3 \\times 3 $ skew-symmetric matrix:\n",
        "\n",
        "\\begin{align}\n",
        "A = \\begin{bmatrix}\n",
        "0 & 2 & -3 \\\\\n",
        "-2 & 0 & 4 \\\\\n",
        "3 & -4 & 0\n",
        "\\end{bmatrix}\n",
        "\\end{align}\n",
        "\n",
        "#### Verification:\n",
        "\n",
        "1. **Transpose** of matrix $ A $ is:\n",
        "\n",
        "\\begin{align}\n",
        "A^T = \\begin{bmatrix}\n",
        "0 & -2 & 3 \\\\\n",
        "2 & 0 & -4 \\\\\n",
        "-3 & 4 & 0\n",
        "\\end{bmatrix}\n",
        "\\end{align}\n",
        "\n",
        "2. **Negative of the transpose** of matrix $ A $ is:\n",
        "\n",
        "\\begin{align}\n",
        "-A = \\begin{bmatrix}\n",
        "0 & -2 & 3 \\\\\n",
        "2 & 0 & -4 \\\\\n",
        "-3 & 4 & 0\n",
        "\\end{bmatrix}\n",
        "\\end{align}\n",
        "\n",
        "Since $ A^T = -A $, the matrix $ A $ is indeed skew-symmetric.\n",
        "\n",
        "### Properties of Skew-Symmetric Matrices\n",
        "\n",
        "1. **Zero Diagonal**: All diagonal elements of a skew-symmetric matrix are zero.\n",
        "   \n",
        "2. **Odd-Dimensional Determinant**: The determinant of a skew-symmetric matrix of odd order (like $ 3 \\times 3 $) is always zero.\n",
        "\n",
        "3. **Eigenvalues**: All eigenvalues of a skew-symmetric matrix are either zero or purely imaginary (of the form $ \\pm i \\lambda $ where $ \\lambda \\in \\mathbb{R} $).\n",
        "\n",
        "These properties make skew-symmetric matrices particularly interesting in various applications, including physics and computer graphics, where they often represent rotations and angular velocities."
      ],
      "metadata": {
        "id": "8aD7CZ0oNfeP"
      }
    },
    {
      "cell_type": "markdown",
      "source": [
        "### Proof that $so(3)$ is a vector space"
      ],
      "metadata": {
        "id": "L2sj8lVZNjIS"
      }
    },
    {
      "cell_type": "markdown",
      "source": [
        "1. **Closure under Addition**:\n",
        "\n",
        "   Let $ A, B \\in V $ be two skew-symmetric matrices. By definition, $ A^T = -A $ and $ B^T = -B $.\n",
        "\n",
        "   Consider $ A + B $:\n",
        "   \\begin{align}\n",
        "   (A + B)^T = A^T + B^T = (-A) + (-B) = -(A + B).\n",
        "   \\end{align}\n",
        "\n",
        "   Thus, $ A + B $ is also skew-symmetric, so $ A + B \\in V $.\n",
        "\n",
        "2. **Closure under Scalar Multiplication**:\n",
        "\n",
        "   Let $ A \\in V $ and let $ c $ be a scalar.\n",
        "\n",
        "   Consider $ cA $:\n",
        "   \\begin{align}\n",
        "   (cA)^T = cA^T = c(-A) = -(cA).\n",
        "   \\end{align}\n",
        "\n",
        "   Thus, $ cA $ is also skew-symmetric, so $ cA \\in V $.\n",
        "\n",
        "3. **Associativity of Addition**:\n",
        "\n",
        "   Matrix addition is associative for all matrices, including skew-symmetric ones. For any $ A, B, C \\in V $:\n",
        "   \\begin{align}\n",
        "   (A + B) + C = A + (B + C).\n",
        "   \\end{align}\n",
        "\n",
        "4. **Commutativity of Addition**:\n",
        "\n",
        "   Matrix addition is commutative for all matrices, including skew-symmetric ones. For any $ A, B \\in V $:\n",
        "   \\begin{align}\n",
        "   A + B = B + A.\n",
        "   \\end{align}\n",
        "\n",
        "5. **Existence of Additive Identity**:\n",
        "\n",
        "   The zero matrix $ O $, where all elements are zero, is skew-symmetric because $ O^T = O = -O $. For any $ A \\in V $:\n",
        "   \\begin{align}\n",
        "   A + O = A.\n",
        "   \\end{align}\n",
        "\n",
        "   Thus, the zero matrix is the additive identity.\n",
        "\n",
        "6. **Existence of Additive Inverses**:\n",
        "\n",
        "   For any $ A \\in V $, $ -A $ is also skew-symmetric because:\n",
        "   \\begin{align}\n",
        "   (-A)^T = -A^T = -(-A) = A.\n",
        "   \\end{align}\n",
        "\n",
        "   Moreover:\n",
        "   \\begin{align}\n",
        "   A + (-A) = O.\n",
        "   \\end{align}\n",
        "\n",
        "   Thus, $ -A $ is the additive inverse of $ A $.\n",
        "\n",
        "7. **Distributivity of Scalar Multiplication with respect to Vector Addition**:\n",
        "\n",
        "   For any scalar $ c $ and matrices $ A, B \\in V $:\n",
        "   \\begin{align}\n",
        "   c(A + B) = cA + cB.\n",
        "   \\end{align}\n",
        "\n",
        "   This is a property of matrix scalar multiplication.\n",
        "\n",
        "8. **Distributivity of Scalar Multiplication with respect to Field Addition**:\n",
        "\n",
        "   For any scalars $ c, d $ and matrix $ A \\in V $:\n",
        "   \\begin{align}\n",
        "   (c + d)A = cA + dA.\n",
        "   \\end{align}\n",
        "\n",
        "   This is a property of matrix scalar multiplication.\n",
        "\n",
        "9. **Compatibility of Scalar Multiplication with Field Multiplication**:\n",
        "\n",
        "   For any scalars $ c, d $ and matrix $ A \\in V $:\n",
        "   \\begin{align}\n",
        "   c(dA) = (cd)A.\n",
        "   \\end{align}\n",
        "\n",
        "   This is a property of matrix scalar multiplication.\n",
        "\n",
        "10. **Identity Element of Scalar Multiplication**:\n",
        "\n",
        "    For any matrix $ A \\in V $:\n",
        "    \\begin{align}\n",
        "    1A = A.\n",
        "    \\end{align}\n",
        "\n",
        "    This is a property of scalar multiplication with the multiplicative identity 1.\n",
        "\n",
        "### $so(3)$ is a Vectorspace\n",
        "\n",
        "Since the set of all $ 3 \\times 3 $ skew-symmetric matrices satisfies all the axioms for a vector space under matrix addition and scalar multiplication, it forms a vector space."
      ],
      "metadata": {
        "id": "VnxQxkpaNt2a"
      }
    },
    {
      "cell_type": "markdown",
      "source": [
        "## The space of directoed line segments in space"
      ],
      "metadata": {
        "id": "pkmfCyCpQH0I"
      }
    },
    {
      "cell_type": "markdown",
      "source": [
        "To demonstrate the relationship between the **equivalence classes of directed line segments**, the **parallelogram law**, and the **$i, j, k$ representation** in 3-dimensional space, let's break down each concept and show how they are interconnected in the context of vector spaces.\n",
        "\n",
        "### 1. The $i, j, k$ Representation of Vectors\n",
        "\n",
        "In 3-dimensional space, any vector can be represented as a linear combination of the standard basis vectors:\n",
        "\n",
        "- **$i$**: A unit vector in the direction of the x-axis, represented as $ (1, 0, 0) $.\n",
        "- **$j$**: A unit vector in the direction of the y-axis, represented as $ (0, 1, 0) $.\n",
        "- **$k$**: A unit vector in the direction of the z-axis, represented as $ (0, 0, 1) $.\n",
        "\n",
        "A vector $ \\mathbf{v} $ in $ \\mathbb{R}^3 $ can be expressed as:\n",
        "\n",
        "\\begin{align}\n",
        "\\mathbf{v} = v_1 \\mathbf{i} + v_2 \\mathbf{j} + v_3 \\mathbf{k},\n",
        "\\end{align}\n",
        "\n",
        "where $ v_1, v_2, $ and $ v_3 $ are the components of the vector along the x, y, and z axes, respectively.\n",
        "\n",
        "### 2. Parallelogram Law for Vector Addition\n",
        "\n",
        "The **parallelogram law** states that if two vectors $ \\mathbf{u} $ and $ \\mathbf{v} $ are placed tail-to-tail, then the sum $ \\mathbf{u} + \\mathbf{v} $ is represented by the diagonal of the parallelogram that has $ \\mathbf{u} $ and $ \\mathbf{v} $ as its adjacent sides.\n",
        "\n",
        "In vector form:\n",
        "\n",
        "\\begin{align}\n",
        "\\mathbf{u} = u_1 \\mathbf{i} + u_2 \\mathbf{j} + u_3 \\mathbf{k}, \\quad \\mathbf{v} = v_1 \\mathbf{i} + v_2 \\mathbf{j} + v_3 \\mathbf{k}.\n",
        "\\end{align}\n",
        "\n",
        "The sum $ \\mathbf{u} + \\mathbf{v} $ is:\n",
        "\n",
        "\\begin{align}\n",
        "\\mathbf{u} + \\mathbf{v} = (u_1 + v_1) \\mathbf{i} + (u_2 + v_2) \\mathbf{j} + (u_3 + v_3) \\mathbf{k}.\n",
        "\\end{align}\n",
        "\n",
        "### 3. Demonstrating the Relationship Using Directed Line Segments\n",
        "\n",
        "Consider two directed line segments, represented by vectors $ \\mathbf{u} $ and $ \\mathbf{v} $, originating from a common point (say the origin, $ (0, 0, 0) $) in 3D space:\n",
        "\n",
        "- **Vector $ \\mathbf{u} $**: Points from the origin to point $ A = (u_1, u_2, u_3) $.\n",
        "- **Vector $ \\mathbf{v} $**: Points from the origin to point $ B = (v_1, v_2, v_3) $.\n",
        "\n",
        "To find the vector sum $ \\mathbf{u} + \\mathbf{v} $, we place the tail of vector $ \\mathbf{v} $ at the head of vector $ \\mathbf{u} $. The resulting vector, drawn from the tail of $ \\mathbf{u} $ to the head of $ \\mathbf{v} $, represents $ \\mathbf{u} + \\mathbf{v} $.\n",
        "\n",
        "#### Geometric Interpretation:\n",
        "\n",
        "1. **Placing Vectors in Standard Position**:\n",
        "\n",
        "   Both vectors start from the origin:\n",
        "   \\begin{align}\n",
        "   \\mathbf{u} = u_1 \\mathbf{i} + u_2 \\mathbf{j} + u_3 \\mathbf{k}, \\quad \\mathbf{v} = v_1 \\mathbf{i} + v_2 \\mathbf{j} + v_3 \\mathbf{k}.\n",
        "   \\end{align}\n",
        "\n",
        "2. **Applying the Parallelogram Law**:\n",
        "\n",
        "   By placing the vectors tail-to-tail, the parallelogram is formed by drawing lines parallel to $ \\mathbf{u} $ and $ \\mathbf{v} $ starting from the endpoints of each vector. The diagonal of this parallelogram represents the vector $ \\mathbf{u} + \\mathbf{v} $:\n",
        "\n",
        "   \\begin{align}\n",
        "   \\mathbf{u} + \\mathbf{v} = (u_1 + v_1) \\mathbf{i} + (u_2 + v_2) \\mathbf{j} + (u_3 + v_3) \\mathbf{k}.\n",
        "   \\end{align}\n",
        "\n",
        "3. **Calculating the Resulting Vector**:\n",
        "\n",
        "   The resulting vector $ \\mathbf{u} + \\mathbf{v} $ ends at the point $ (u_1 + v_1, u_2 + v_2, u_3 + v_3) $.\n",
        "\n",
        "### 4. Connecting the Concepts\n",
        "\n",
        "- **Equivalence Class of Directed Line Segments**: Vectors $ \\mathbf{u} $ and $ \\mathbf{v} $ are represented as equivalence classes of directed line segments based on their magnitude and direction.\n",
        "- **$i, j, k$ Representation**: The components $ u_1, u_2, u_3 $ and $ v_1, v_2, v_3 $ are the coordinates in the $i, j, k$ basis that describe each vector.\n",
        "- **Parallelogram Law**: The sum $ \\mathbf{u} + \\mathbf{v} $ forms the diagonal of the parallelogram defined by vectors $ \\mathbf{u} $ and $ \\mathbf{v} $.\n",
        "\n",
        "### Example\n",
        "\n",
        "Let's consider two specific vectors:\n",
        "\n",
        "\\begin{align}\n",
        "\\mathbf{u} = 2\\mathbf{i} + 3\\mathbf{j} + \\mathbf{k}, \\quad \\mathbf{v} = \\mathbf{i} - 2\\mathbf{j} + 4\\mathbf{k}.\n",
        "\\end{align}\n",
        "\n",
        "Using the $i, j, k$ representation, compute their sum:\n",
        "\n",
        "\\begin{align}\n",
        "\\mathbf{u} + \\mathbf{v} = (2 + 1) \\mathbf{i} + (3 - 2) \\mathbf{j} + (1 + 4) \\mathbf{k} = 3\\mathbf{i} + \\mathbf{j} + 5\\mathbf{k}.\n",
        "\\end{align}\n",
        "\n",
        "- **Geometrically**, the vector $ \\mathbf{u} + \\mathbf{v} $ represents the diagonal of a parallelogram formed by the two original vectors when placed tail-to-tail.\n",
        "- **In vector notation**, the result follows directly from adding their corresponding components in the $i, j, k$ representation.\n",
        "\n",
        "\n",
        "The **equivalence classes of directed line segments**, the **parallelogram law**, and the **$i, j, k$ representation** are all interconnected through the concept of vectors in 3-dimensional space. The $i, j, k$ representation provides a concrete way to perform operations on vectors, while the parallelogram law gives a geometric interpretation of vector addition."
      ],
      "metadata": {
        "id": "ndCmpfBrQMtO"
      }
    },
    {
      "cell_type": "markdown",
      "source": [
        "## Inner Product on a Vector Space"
      ],
      "metadata": {
        "id": "v--0nxMtSR3I"
      }
    },
    {
      "cell_type": "markdown",
      "source": [
        "An **inner product** on a vector space is a function that associates each pair of vectors in the space with a scalar, satisfying certain properties. The inner product provides a way to define geometric concepts like length and angle in vector spaces.\n",
        "\n",
        "### Definition of an Inner Product\n",
        "\n",
        "Let $ V $ be a vector space over the field $ \\mathbb{R} $ (real numbers) or $ \\mathbb{C} $ (complex numbers). An **inner product** on $ V $ is a function\n",
        "\n",
        "\\begin{align}\n",
        "\\langle\\langle \\cdot, \\cdot \\rangle\\rangle : V \\times V \\to \\mathbb{R} \\quad \\text{(or } \\mathbb{C} \\text{)}\n",
        "\\end{align}\n",
        "\n",
        "that satisfies the following properties for all vectors $ \\mathbf{u}, \\mathbf{v}, \\mathbf{w} \\in V $ and all scalars $ c \\in \\mathbb{R} $ (or $ \\mathbb{C} $):\n",
        "\n",
        "1. **Conjugate Symmetry**:  \n",
        "   \\begin{align}\n",
        "   \\langle\\langle \\mathbf{u}, \\mathbf{v} \\rangle\\rangle = \\overline{\\langle\\langle \\mathbf{v}, \\mathbf{u} \\rangle\\rangle},\n",
        "   \\end{align}\n",
        "   where $ \\overline{\\langle\\langle \\mathbf{v}, \\mathbf{u} \\rangle\\rangle} $ denotes the complex conjugate of $ \\langle\\langle \\mathbf{v}, \\mathbf{u} \\rangle\\rangle $. In the case of a real vector space, this property reduces to:\n",
        "   \\begin{align}\n",
        "   \\langle\\langle \\mathbf{u}, \\mathbf{v} \\rangle\\rangle = \\langle\\langle \\mathbf{v}, \\mathbf{u} \\rangle\\rangle.\n",
        "   \\end{align}\n",
        "\n",
        "2. **Linearity in the First Argument** (or **Conjugate Linearity** for complex vector spaces):\n",
        "   \\begin{align}\n",
        "   \\langle\\langle c \\mathbf{u} + \\mathbf{v}, \\mathbf{w} \\rangle\\rangle = c \\langle\\langle \\mathbf{u}, \\mathbf{w} \\rangle\\rangle + \\langle\\langle \\mathbf{v}, \\mathbf{w} \\rangle\\rangle.\n",
        "   \\end{align}\n",
        "   If the vector space is over $ \\mathbb{C} $, then linearity in the first argument is replaced by:\n",
        "   \\begin{align}\n",
        "   \\langle\\langle c \\mathbf{u} + \\mathbf{v}, \\mathbf{w} \\rangle\\rangle = c \\langle\\langle \\mathbf{u}, \\mathbf{w} \\rangle\\rangle + \\langle\\langle \\mathbf{v}, \\mathbf{w} \\rangle\\rangle.\n",
        "   \\end{align}\n",
        "\n",
        "3. **Positive-Definiteness**:\n",
        "   \\begin{align}\n",
        "   \\langle\\langle \\mathbf{v}, \\mathbf{v} \\rangle\\rangle \\geq 0,\n",
        "   \\end{align}\n",
        "   and $ \\langle\\langle \\mathbf{v}, \\mathbf{v} \\rangle\\rangle = 0 $ if and only if $ \\mathbf{v} = \\mathbf{0} $.\n",
        "\n",
        "### Geometric Interpretation\n",
        "\n",
        "The inner product $ \\langle\\langle \\mathbf{u}, \\mathbf{v} \\rangle\\rangle $ provides a way to measure the \"angle\" between two vectors and their \"lengths\" (or magnitudes). For example:\n",
        "\n",
        "- The **length** (or norm) of a vector $ \\mathbf{v} $ is given by $ \\|\\mathbf{v}\\| = \\sqrt{\\langle\\langle \\mathbf{v}, \\mathbf{v} \\rangle\\rangle} $.\n",
        "- Two vectors $ \\mathbf{u} $ and $ \\mathbf{v} $ are **orthogonal** (perpendicular) if $ \\langle\\langle \\mathbf{u}, \\mathbf{v} \\rangle\\rangle = 0 $.\n",
        "\n",
        "### Examples\n",
        "\n",
        "1. **Euclidean Inner Product** in $ \\mathbb{R}^n $:\n",
        "\n",
        "   For vectors $ \\mathbf{u} = (u_1, u_2, \\ldots, u_n) $ and $ \\mathbf{v} = (v_1, v_2, \\ldots, v_n) $ in $ \\mathbb{R}^n $, the inner product is defined as:\n",
        "\n",
        "   \\begin{align}\n",
        "   \\langle\\langle \\mathbf{u}, \\mathbf{v} \\rangle\\rangle = u_1 v_1 + u_2 v_2 + \\cdots + u_n v_n.\n",
        "   \\end{align}\n",
        "\n",
        "2. **Complex Inner Product** in $ \\mathbb{C}^n $:\n",
        "\n",
        "   For vectors $ \\mathbf{u} = (u_1, u_2, \\ldots, u_n) $ and $ \\mathbf{v} = (v_1, v_2, \\ldots, v_n) $ in $ \\mathbb{C}^n $, the inner product is defined as:\n",
        "\n",
        "   \\begin{align}\n",
        "   \\langle\\langle \\mathbf{u}, \\mathbf{v} \\rangle\\rangle = u_1 \\overline{v_1} + u_2 \\overline{v_2} + \\cdots + u_n \\overline{v_n},\n",
        "   \\end{align}\n",
        "\n",
        "   where $ \\overline{v_i} $ denotes the complex conjugate of $ v_i $.\n",
        "\n",
        "By satisfying these properties, the inner product structure provides a foundation for many geometric and algebraic concepts in vector spaces."
      ],
      "metadata": {
        "id": "PQPbRZNTSXz8"
      }
    },
    {
      "cell_type": "markdown",
      "source": [
        "### Inner Product on $so(3)$"
      ],
      "metadata": {
        "id": "I75c7r4fT5_l"
      }
    },
    {
      "cell_type": "markdown",
      "source": [
        "To define an inner product on the vector space of $3 \\times 3$ skew-symmetric matrices, we will use the expression $-\\frac{1}{2} \\text{tr}(AB)$. We will prove that this expression satisfies all the properties of an inner product without explicitly computing the product of two matrices. Instead, we will use properties of the trace and skew-symmetric matrices.\n",
        "\n",
        "### Definition of Inner Product on Skew-Symmetric Matrices\n",
        "\n",
        "Let $A$ and $B$ be $3 \\times 3$ skew-symmetric matrices. The proposed inner product is:\n",
        "\n",
        "\\begin{align}\n",
        "\\langle\\langle A, B \\rangle\\rangle = -\\frac{1}{2} \\text{tr}(AB).\n",
        "\\end{align}\n",
        "\n",
        "### Properties of Skew-Symmetric Matrices and Trace\n",
        "\n",
        "Recall that a matrix $A$ is **skew-symmetric** if $A^T = -A$. Skew-symmetric matrices have the following properties:\n",
        "\n",
        "1. **Diagonal elements are zero**: $a_{ii} = 0$.\n",
        "2. **Transpose property**: $A^T = -A$.\n",
        "3. **Trace of a matrix**: For any square matrix $M$, the trace $\\text{tr}(M)$ is the sum of its diagonal elements.\n",
        "\n",
        "### Inner Product Properties to Verify\n",
        "\n",
        "To show that $\\langle\\langle A, B \\rangle\\rangle = -\\frac{1}{2} \\text{tr}(AB)$ defines a valid inner product on the vector space of $3 \\times 3$ skew-symmetric matrices, we need to verify the following properties:\n",
        "\n",
        "1. **Conjugate Symmetry**: $\\langle\\langle A, B \\rangle\\rangle = \\overline{\\langle\\langle B, A \\rangle\\rangle}$.\n",
        "2. **Linearity in the First Argument**: $\\langle\\langle cA + B, C \\rangle\\rangle = c\\langle\\langle A, C \\rangle\\rangle + \\langle\\langle B, C \\rangle\\rangle$ for any scalar $c$.\n",
        "3. **Positive-Definiteness**: $\\langle\\langle A, A \\rangle\\rangle \\geq 0$ and $\\langle\\langle A, A \\rangle\\rangle = 0$ if and only if $A = 0$.\n",
        "\n",
        "### 1. Conjugate Symmetry\n",
        "\n",
        "For matrices $A$ and $B$, we need to show:\n",
        "\n",
        "\\begin{align}\n",
        "\\langle\\langle A, B \\rangle\\rangle = \\overline{\\langle\\langle B, A \\rangle\\rangle}.\n",
        "\\end{align}\n",
        "\n",
        "Since $A$ and $B$ are real skew-symmetric matrices:\n",
        "\n",
        "\\begin{align}\n",
        "\\langle\\langle A, B \\rangle\\rangle = -\\frac{1}{2} \\text{tr}(AB).\n",
        "\\end{align}\n",
        "\n",
        "Using the property of the trace $\\text{tr}(AB) = \\text{tr}(BA)$, we get:\n",
        "\n",
        "\\begin{align}\n",
        "\\langle\\langle B, A \\rangle\\rangle = -\\frac{1}{2} \\text{tr}(BA) = -\\frac{1}{2} \\text{tr}(AB) = \\langle\\langle A, B \\rangle\\rangle.\n",
        "\\end{align}\n",
        "\n",
        "Thus, $\\langle\\langle A, B \\rangle\\rangle = \\langle\\langle B, A \\rangle\\rangle$, satisfying the conjugate symmetry condition (for real matrices, this means they are symmetric in terms).\n",
        "\n",
        "### 2. Linearity in the First Argument\n",
        "\n",
        "We need to show:\n",
        "\n",
        "\\begin{align}\n",
        "\\langle\\langle cA + B, C \\rangle\\rangle = c\\langle\\langle A, C \\rangle\\rangle + \\langle\\langle B, C \\rangle\\rangle.\n",
        "\\end{align}\n",
        "\n",
        "Compute the inner product:\n",
        "\n",
        "\\begin{align}\n",
        "\\langle\\langle cA + B, C \\rangle\\rangle = -\\frac{1}{2} \\text{tr}((cA + B)C).\n",
        "\\end{align}\n",
        "\n",
        "Using linearity of matrix multiplication and trace:\n",
        "\n",
        "\\begin{align}\n",
        "\\text{tr}((cA + B)C) = \\text{tr}(cAC + BC) = c \\text{tr}(AC) + \\text{tr}(BC).\n",
        "\\end{align}\n",
        "\n",
        "Then:\n",
        "\n",
        "\\begin{align}\n",
        "\\langle\\langle cA + B, C \\rangle\\rangle = -\\frac{1}{2}(c \\text{tr}(AC) + \\text{tr}(BC)).\n",
        "\\end{align}\n",
        "\n",
        "Distributing the $-\\frac{1}{2}$:\n",
        "\n",
        "\\begin{align}\n",
        "\\langle\\langle cA + B, C \\rangle\\rangle = c(-\\frac{1}{2} \\text{tr}(AC)) + (-\\frac{1}{2} \\text{tr}(BC)).\n",
        "\\end{align}\n",
        "\n",
        "So:\n",
        "\n",
        "\\begin{align}\n",
        "\\langle\\langle cA + B, C \\rangle\\rangle = c \\langle\\langle A, C \\rangle\\rangle + \\langle\\langle B, C \\rangle\\rangle.\n",
        "\\end{align}\n",
        "\n",
        "This confirms linearity in the first argument.\n",
        "\n",
        "### 3. Positive-Definiteness\n",
        "\n",
        "We need to show:\n",
        "\n",
        "\\begin{align}\n",
        "\\langle\\langle A, A \\rangle\\rangle \\geq 0 \\quad \\text{and} \\quad \\langle\\langle A, A \\rangle\\rangle = 0 \\text{ if and only if } A = 0.\n",
        "\\end{align}\n",
        "\n",
        "Compute the inner product:\n",
        "\n",
        "\\begin{align}\n",
        "\\langle\\langle A, A \\rangle\\rangle = -\\frac{1}{2} \\text{tr}(AA).\n",
        "\\end{align}\n",
        "\n",
        "Note that $AA^T = -A^2$ and since $A$ is skew-symmetric, $A^T = -A$ and $A^2$ is symmetric and negative semi-definite.\n",
        "\n",
        "For any skew-symmetric matrix $A$:\n",
        "\n",
        "\\begin{align}\n",
        "\\text{tr}(A^2) \\leq 0.\n",
        "\\end{align}\n",
        "\n",
        "Since the trace of a symmetric negative semi-definite matrix $A^2$ is non-positive, $-\\frac{1}{2} \\text{tr}(A^2) \\geq 0$.\n",
        "\n",
        "Moreover, $\\langle\\langle A, A \\rangle\\rangle = 0$ if and only if $\\text{tr}(A^2) = 0$. Since $A^2$ is a positive semi-definite matrix, this implies $A = 0$.\n",
        "\n",
        "Thus, we conclude that:\n",
        "\n",
        "\\begin{align}\n",
        "\\langle\\langle A, A \\rangle\\rangle \\geq 0, \\quad \\text{and} \\quad \\langle\\langle A, A \\rangle\\rangle = 0 \\text{ if and only if } A = 0.\n",
        "\\end{align}\n",
        "\n",
        "\n",
        "The expression $\\langle\\langle A, B \\rangle\\rangle = -\\frac{1}{2} \\text{tr}(AB)$ satisfies all the properties of an inner product on the vector space of $3 \\times 3$ skew-symmetric matrices: conjugate symmetry, linearity, and positive-definiteness. Therefore, it is a valid inner product."
      ],
      "metadata": {
        "id": "KBeA87ZjT-na"
      }
    },
    {
      "cell_type": "markdown",
      "source": [
        "#The 3-Particle Universe"
      ],
      "metadata": {
        "id": "TK_nVBmLC2BC"
      }
    },
    {
      "cell_type": "markdown",
      "source": [
        "Consider the example of mutually interacting three interacting particles $P_1, P_2, P_3$ each of mass $m_1,m_2,m_3$ respectively. Let $x_1,x_2,x_3$ be the representation of these three particles with respect to some inertial frame $\\mathbf{e}$. This models the instance where $P_1$ and $P_2$ are two particles of interest and $P_3$ represents the interaction that these two have with the rest of the universe."
      ],
      "metadata": {
        "id": "IIwgS4uNT96K"
      }
    },
    {
      "cell_type": "markdown",
      "source": [
        "## The Center of Mass Motion of all the 3 Particles"
      ],
      "metadata": {
        "id": "cRWzTc5T94o6"
      }
    },
    {
      "cell_type": "markdown",
      "source": [
        "Consider the example of mutually interacting three interacting particles $P_1, P_2, P_3$ each of mass $m_1,m_2,m_3$ respectively. Let $x_1,x_2,x_3$ be the representation of these three particles with respect to some inertial frame $\\mathbf{e}$. This models the instance where $P_1$ and $P_2$ are two particles of interest and $P_3$ represents the interaction that these two have with the rest of the universe.\n",
        "\n",
        "The principle of conservation of momentum for these three particles in the inertial frame $\\mathbf{e}$ implies that:\n",
        "\n",
        "\\begin{align}\n",
        "m_1\\dot{x}_1+m_2\\dot{x}_2+m_3\\dot{x}_3= \\mathrm{constant}_{3\\times 1}.\n",
        "\\end{align}\n",
        "\n",
        "Differentiating this expression with respect to time we have:\n",
        "\n",
        "\\begin{align}\n",
        "m_1\\ddot{x}_1+m_2\\ddot{x}_2+m_3\\ddot{x}_3= 0_{3\\times 1}.\n",
        "\\end{align}\n",
        "\n",
        "Let $\\bar{x}_u$ be the center of mass of the 3-particle universe that is given by\n",
        "\n",
        "\\begin{align}\n",
        "m_1x_1+m_2x_2+m_3x_3=(m_1+m_2+m_3)\\bar{x}_u.\n",
        "\\end{align}\n",
        "\n",
        "Differentiating this twice we find\n",
        "\n",
        "\\begin{align}\n",
        "M_u\\ddot{\\bar{x}}_u&=0_{3\\times 1}\n",
        "\\end{align}\n",
        "\n",
        "where $(m_1+m_2+m_3)=M_u$.\n",
        "\n",
        "This shows that the center of mass of the 3 particle Universe is either at rest or is moving at constant velocity with respect to $\\mathbf{e}$ and any other inertial observer."
      ],
      "metadata": {
        "id": "L26hEM5E94o6"
      }
    },
    {
      "cell_type": "code",
      "source": [],
      "metadata": {
        "id": "2FaIjIGg93gq"
      },
      "execution_count": null,
      "outputs": []
    },
    {
      "cell_type": "markdown",
      "source": [
        "## The Center of Mass Motion of Two Particles Due to the Influence of a Third in the 3 Particle Universe"
      ],
      "metadata": {
        "id": "MFKS-sk5T-9g"
      }
    },
    {
      "cell_type": "markdown",
      "source": [
        "Consider the example of mutually interacting (but otherwise isolated) three interacting particles $P_1, P_2, P_3$ each of mass $m_1,m_2,m_3$ respectively. Let $x_1,x_2,x_3$ be the representation of these three particles with respect to some inertial frame $\\mathbf{e}$. This models the instance where $P_1$ and $P_2$ are two particles of interest and $P_3$ represents the interaction that these two have with the rest of the universe.\n",
        "\n",
        "The principle of conservation of momentum for these three particles in the inertial frame $\\mathbf{e}$ implies that:\n",
        "\n",
        "\\begin{align}\n",
        "m_1\\dot{x}_1+m_2\\dot{x}_2+m_3\\dot{x}_3= \\mathrm{constant}_{3\\times 1}.\n",
        "\\end{align}\n",
        "\n",
        "Differentiating this expression with respect to time we have:\n",
        "\n",
        "\\begin{align}\n",
        "m_1\\ddot{x}_1+m_2\\ddot{x}_2+m_3\\ddot{x}_3= 0_{3\\times 1}\n",
        "\\end{align}\n",
        "and hence\n",
        "\\begin{align}\n",
        "m_1\\ddot{x}_1=-m_2\\ddot{x}_2-m_3\\ddot{x}_3\n",
        "\\end{align}\n",
        "\n",
        "Lets define\n",
        "\n",
        "\\begin{align}\n",
        "f_{1}≜-m_2\\ddot{x}_2-m_3\\ddot{x}_3\n",
        "\\end{align}\n",
        "to be the force acting on $P_1$ due to the interaction with $P_2,P_3$.\n",
        "\n",
        "This should be true for all the other two poarticles as well. Thus we have\n",
        "\\begin{align}\n",
        "m_i\\ddot{x}_i=f_i\n",
        "\\end{align}\n",
        "where\n",
        "\\begin{align}\n",
        "f_i=\\sum_{j\\neq i}^3 f_{ij}\n",
        "\\end{align}\n",
        "with $f_{ij}$ representing the interaction of $P_j$ on $P_i$. Recall that\n",
        "pair wise particle interactions (two-particle Universe) tells us that:\n",
        "\\begin{align}\n",
        "f_{ij}≜-f_{ji}.\n",
        "\\end{align}\n",
        "Summarizing we have\n",
        "\n",
        "\\begin{align}\n",
        "m_i\\ddot{x}_i=\\sum_{j\\neq i}^3 f_{ij}.\n",
        "\\end{align}"
      ],
      "metadata": {
        "id": "tl7qrAl3C-et"
      }
    },
    {
      "cell_type": "markdown",
      "source": [
        "Lets assume our system of interest is $P_1,P_2$ and that $P_3$ represents the rest of the universe.\n",
        "\n",
        "Then we have\n",
        "\n",
        "\\begin{align}\n",
        "m_1\\ddot{x}_1=f_{12}+f_{13}\\\\\n",
        "m_2\\ddot{x}_2=f_{21}+f_{23}\\\\\n",
        "\\end{align}\n",
        "\n",
        "Making note of\n",
        "\n",
        "\\begin{align}\n",
        "f_{ij}≜-f_{ji}.\n",
        "\\end{align}\n",
        "\n",
        "we have\n",
        "\\begin{align}\n",
        "m_1\\ddot{x}_1+m_2\\ddot{x}_2=f_{13}+f_{23}.\n",
        "\\end{align}\n",
        "\n",
        "Let $\\bar{x}$ to be the center of mass of $P_1,P_2$. Then\n",
        "\\begin{align}\n",
        "m_1{x}_1+m_2{x}_2=(m_1+m_2)\\bar{x}=M\\bar{x}.\n",
        "\\end{align}\n",
        "where $M\\triangleq (m_1+m_2)$.\n",
        "\n",
        "Differentiating this we have\n",
        "\\begin{align}\n",
        "M\\ddot{\\bar{x}}=m_1\\ddot{x}_1+m_2\\ddot{x}_2=f_{13}+f_{23}.\n",
        "\\end{align}\n",
        "\n",
        "Thus we have\n",
        "\\begin{align}\n",
        "M\\ddot{\\bar{x}}=f_{13}+f_{23}=\\mathrm{resultant\\:interaction \\: on\\: 1 \\: and \\: 2\\: due \\: to \\: 3}.\n",
        "\\end{align}"
      ],
      "metadata": {
        "id": "zylqaorVbiPz"
      }
    },
    {
      "cell_type": "markdown",
      "source": [
        "## Total Angular Momentum"
      ],
      "metadata": {
        "id": "AlNRHG2xUKtV"
      }
    },
    {
      "cell_type": "markdown",
      "source": [
        "Let $O'$ be some point with representation $o_{3\\times 1}$ with respect to $\\mathbf{e}$. The angular momentum of the point $P_i$ about $O'$ with respect to $\\mathbf{e}$ is defined by\n",
        "\n",
        "\\begin{align}\n",
        "\\pi_i  \\triangleq (x_i-o)\\times m_i\\dot{x}_i\n",
        "\\end{align}\n",
        "\n",
        "The total angular momentum of the three particles is then\n",
        "\\begin{align}\n",
        "\\pi  \\triangleq \\sum_{i=1}^3(x_i-o)\\times m_i\\dot{x}_i.\n",
        "\\end{align}\n",
        "\n",
        "The rate of change of the total angular momentum of the 3 particle system is\n",
        "\n",
        "\\begin{align}\n",
        "\\dot{\\pi}  &\\triangleq \\sum_{i=1}^3(\\dot{x}_i-\\dot{o})\\times m_i\\dot{x}_i+(x_i-o)\\times m_i\\ddot{x}_i,\\\\\n",
        "&=\\sum_{i=1}^3-\\dot{o}\\times m_i\\dot{x}_i+(x_i-o)\\times m_i\\ddot{x}_i\\\\\n",
        "&=-\\dot{o}\\times \\sum_{i=1}^3 m_i\\dot{x}_i+\\sum_{i=1}^3(x_i-o)\\times {f}_i\\\\\n",
        "&=-\\dot{o}\\times \\sum_{i=1}^3 m_i\\dot{x}_i+\\sum_{i=1}^3(x_i-o)\\times \\sum_{j\\neq i}^3 f_{ij}\\\\\n",
        "&=-\\dot{o}\\times \\sum_{i=1}^3 m_i\\dot{x}_i+\\sum_{i=1}^3\\sum_{j\\neq i}^3(x_i-o)\\times  f_{ij}\\\\\n",
        "\\end{align}\n",
        "Notice that the 6 terms the last double summation can be re arranged to yield pariwise sums of the form\n",
        "\\begin{align}\n",
        "\\sum_{i=1}^3\\sum_{j\\neq i}^3(x_i-o)\\times  f_{ij}=\\left((x_1-o)\\times  f_{12}+(x_2-o)\\times  f_{21}\\right)+\n",
        "\\left((x_2-o)\\times  f_{23}+(x_3-o)\\times  f_{32}\\right)+\n",
        "\\left((x_3-o)\\times  f_{31}+(x_1-o)\\times  f_{13}\\right).\n",
        "\\end{align}\n"
      ],
      "metadata": {
        "id": "rubvtRi8UQVt"
      }
    },
    {
      "cell_type": "markdown",
      "source": [
        "Since $f_{ij}=-f_{ji}$ and if we assume that **mutual particle interactions lie along the direction of the line joining the two particles** we see that each of the pairs in the aobve summation become zero. For instance\n",
        "\\begin{align}\n",
        "\\left((x_1-o)\\times  f_{12}+(x_2-o)\\times  f_{21}\\right)=0_{3\\times 1}\n",
        "\\end{align}"
      ],
      "metadata": {
        "id": "pwFMJK_paATb"
      }
    },
    {
      "cell_type": "markdown",
      "source": [
        "Thus if we make the additional assumption that **mutual particle interactions lie along the direction of the line joining the two particles** we have"
      ],
      "metadata": {
        "id": "uOHnbcAHa3EX"
      }
    },
    {
      "cell_type": "markdown",
      "source": [
        "\\begin{align}\n",
        "\\dot{\\pi}  &=-\\dot{o}\\times \\sum_{i=1}^3 m_i\\dot{x}_i\\\\\n",
        "\\end{align}"
      ],
      "metadata": {
        "id": "GBOuwWv-a_qG"
      }
    },
    {
      "cell_type": "markdown",
      "source": [
        "From the principle of the conservation of momentum we have\n",
        "\\begin{align}\n",
        "\\sum_{i=1}^3m_i\\dot{x}_i=M_u\\dot{\\bar{x}}_u\n",
        "\\end{align}\n",
        "where $M_u$ is the total mass of the 3 particle universe and $\\bar{x}_u$ is the center of mass of the 3 particle universe.\n",
        "\n",
        "Then we have"
      ],
      "metadata": {
        "id": "jClVaskQbTL8"
      }
    },
    {
      "cell_type": "markdown",
      "source": [
        "\\begin{align}\n",
        "\\dot{\\pi}  &=-\\dot{o}\\times M_u\\dot{\\bar{x}}_u\\\\\n",
        "\\end{align}\n",
        "\n",
        "In particlular if we take the angular momentum with respect to the center of mass of the 3 particle universe then $o=\\bar{x}_u$ and hence\n",
        "\\begin{align}\n",
        "\\dot{\\pi}  &=-\\dot{\\bar{x}}_u\\times M_u\\dot{\\bar{x}}_u=0_{3\\times 1}\\\\\n",
        "\\end{align}\n",
        "and we have the conclusion that the total angular momentum of the 3 particle universe about its center of mass is conserved."
      ],
      "metadata": {
        "id": "97e27cGscOv0"
      }
    },
    {
      "cell_type": "markdown",
      "source": [
        "##Rate of Change of Angular Momentum of the Two Particles Due to the Influnece of the Third Paricle"
      ],
      "metadata": {
        "id": "mC9M1siqduhU"
      }
    },
    {
      "cell_type": "markdown",
      "source": [
        "Let us consider the case were our interest is in the behavior of $P_1$ and $P_2$ due the influence of $P_3$ on them."
      ],
      "metadata": {
        "id": "ulb1NicFd9EN"
      }
    },
    {
      "cell_type": "markdown",
      "source": [
        "The total angular momentum of the two particles is then\n",
        "\\begin{align}\n",
        "\\pi  \\triangleq \\sum_{i=1}^2(x_i-o)\\times m_i\\dot{x}_i.\n",
        "\\end{align}\n",
        "\n",
        "The rate of change of the total angular momentum of the 2 particlesis\n",
        "\n",
        "\\begin{align}\n",
        "\\dot{\\pi}  &=-\\dot{o}\\times \\sum_{i=1}^2 m_i\\dot{x}_i+\\sum_{i=1}^2\\sum_{j\\neq i}^3(x_i-o)\\times  f_{ij}\\\\\n",
        "\\end{align}\n",
        "Notice that the 4 terms the last double summation can be re arranged to yield pariwise sums of the form\n",
        "\\begin{align}\n",
        "\\sum_{i=1}^2\\sum_{j\\neq i}^3(x_i-o)\\times  f_{ij}&=\\left((x_1-o)\\times  f_{12}+(x_2-o)\\times  f_{21}\\right)+\n",
        "\\left((x_2-o)\\times  f_{23}+(x_1-o)\\times  f_{13}\\right)\\\\\n",
        "&=\\left((x_2-o)\\times  f_{23}+(x_1-o)\\times  f_{13}\\right)\n",
        "\\end{align}\n",
        "\\begin{align}\n",
        "\\dot{\\pi}  &=-\\dot{o}\\times M\\dot{\\bar{x}}+\\left((x_2-o)\\times  f_{23}+(x_1-o)\\times  f_{13}\\right)\n",
        "\\end{align}\n",
        "Here $M=(m_1+m_2)$ and $(m_1+m_2)\\bar{x}=(m_1x_1+m_2x_2)$.\n",
        "\n",
        "\n",
        "Notice that $(x_2-o)\\times  f_{23}$ is the moment of the interaction force of particle $P_3$ (the rest of the universe) on $P_2$ about $o$ and $(x_1-o)\\times  f_{13}$ is the moment of the interaction force of particle $P_3$ (the rest of the universe) on $P_1$ about $o$.\n",
        "\n",
        "Again if we take the moments about the center of mass of the two particles we have\n",
        "\n",
        "\\begin{align}\n",
        "\\dot{\\pi}  &=\\left((x_2-\\bar{x})\\times  f_{23}+(x_1-\\bar{x})\\times  f_{13}\\right).\n",
        "\\end{align}\n",
        "\n",
        "This states that the total rate of change of anglular momentum of the two particles $P_1,P_2$ about the center of mass of the two particles is equal to the total resultant of the moments of the external interactions acting on the two particles."
      ],
      "metadata": {
        "id": "W7rGVs1pehXZ"
      }
    },
    {
      "cell_type": "markdown",
      "source": [
        "## Simulation Example"
      ],
      "metadata": {
        "id": "pwWIQOjWGa6a"
      }
    },
    {
      "cell_type": "markdown",
      "source": [
        "\\begin{align}\n",
        "\\pi  \\triangleq (x_1-\\bar{x})\\times m_1\\dot{x}_1+(x_2-\\bar{x})\\times m_2\\dot{x}_2.\n",
        "\\end{align}"
      ],
      "metadata": {
        "id": "iQ6FVNINY6vc"
      }
    },
    {
      "cell_type": "markdown",
      "source": [
        "Consider the example where\n",
        "\n",
        "\\begin{align}\n",
        "f_{13} + f_{23} &= 0_{3\\times 1}.\n",
        "\\end{align}\n",
        "\n",
        "Then we see that\n",
        "\\begin{align}\n",
        "M\\ddot{\\bar{x}}=f_{13}+f_{23}=0_{3\\times 1}.\n",
        "\\end{align}\n",
        "and\n",
        "\\begin{align}\n",
        "\\dot{\\pi} &= (x_1 - \\bar{x}) \\times f_{13} + (x_2 - \\bar{x}) \\times f_{23}\\\\\n",
        "&= (x_1 - \\bar{x}) \\times f_{13} - (x_2 - \\bar{x}) \\times f_{13},\\\\\n",
        "&= (x_1 - \\bar{x} - x_2 + \\bar{x}) \\times f_{13},\\\\\n",
        "&= (x_1 - x_2) \\times f_{13}.\n",
        "\\end{align}\n",
        "\n",
        "Since we **assume that mutual particle interactions align along the line joining the two particles** we have that $f_{13}$ must be of the form:\n",
        "\n",
        "\\begin{align}\n",
        "f_{13}=\\gamma (x_1-x_3).\n",
        "\\end{align}\n",
        "\n",
        "Then we have:\n",
        "\\begin{align}\n",
        "\\tau &= \\gamma (x_1 - x_2) \\times (x_1 - x_3).\n",
        "\\end{align}\n",
        "\n",
        "Now since $f_{23}=-f_{13}$\n",
        "\n",
        "\\begin{align}\n",
        "(x_2-x_3)=-(x_1-x_3),\n",
        "\\end{align}\n",
        "and hence\n",
        "\\begin{align}\n",
        "x_3=\\frac{x_1+x_2}{2},\n",
        "\\end{align}\n",
        "and thus all three particles must lie along the same line and the 3rd particle is in the middle of the line joining the two particles.\n",
        "\n",
        "Furthermore we have\n",
        "\\begin{align}\n",
        "f_{13}=\\gamma (x_1-x_3)=\\frac{\\gamma}{2} (2x_1-x_1-x_2)=\\frac{\\gamma}{2} (x_1-x_2),\n",
        "\\end{align}\n",
        "and hence\n",
        "\\begin{align}\n",
        "\\dot{\\pi} &= (x_1 - x_2) \\times f_{13}=0_{3\\times 1}.\n",
        "\\end{align}\n",
        "\n",
        "Thus we can conclude that **the cneter of mass of the two particels** is either at rest or is moving in a straight line with respect to $\\mathbf{e}$ and that **the two particles are rotating (moving at constant angular momentum)** with respect to the center of mass of the two particles."
      ],
      "metadata": {
        "id": "_9CxS19eHXD3"
      }
    },
    {
      "cell_type": "markdown",
      "source": [
        "# Sample Answer to the example of an oscillatory motion of a bead in a moving frame"
      ],
      "metadata": {
        "id": "l3gPLX__2R2V"
      }
    },
    {
      "cell_type": "markdown",
      "source": [
        "Consider three orthonormal frames $\\mathbf{e}$, $\\mathbf{c}$ and $\\mathbf{b}$ with coinciding origins. At any given time instant $t$ the frame $\\mathbf{c}$ is related to the frame $\\mathbf{e}$ by a counter clockwise rotation about the third axis by an angle $\\phi=\\alpha\\, t$ and the frame $\\mathbf{b}$ is related to the frame $\\mathbf{c}$ by a counter clockwise rotation about the first axis by an angle $\\theta=\\beta \\, t$ where $\\alpha$ and $\\beta$ are constant. Let $\\mathbf{b}=\\mathbf{e}R(t)$ where $R(t)\\in SO(3)$.\n",
        "\n",
        "A particle $P$ of mass $m$ is moving in space in such a way that it oscillates about the origin of the frames along the $\\mathbf{b}_2$ axis at a frequency of $\\omega$ rad/s with an amplitude of $r$ m. That is if $y$ is the displacement of $P$ along the $\\mathbf{b}_2$ axis then $y(t)=r\\cos(\\omega t)$."
      ],
      "metadata": {
        "id": "qBZXeDJ72XKX"
      }
    },
    {
      "cell_type": "code",
      "source": [
        "ydot"
      ],
      "metadata": {
        "id": "y8U4ol01D8xU",
        "outputId": "c22fa06f-5ae8-435d-f467-ecadbb6be16d",
        "colab": {
          "base_uri": "https://localhost:8080/",
          "height": 37
        }
      },
      "execution_count": 52,
      "outputs": [
        {
          "output_type": "execute_result",
          "data": {
            "text/plain": [
              "ẏ"
            ],
            "text/latex": "$\\displaystyle \\dot{y}$"
          },
          "metadata": {},
          "execution_count": 52
        }
      ]
    },
    {
      "cell_type": "markdown",
      "source": [
        "$\\mathbf{c}=\\mathbf{e}R_3(\\phi)$ and $\\mathbf{b}=\\mathbf{c}R_1(\\theta)$.\n",
        "\n",
        "Hence\n",
        "\\begin{align}\n",
        "\\mathbf{b}=\\mathbf{c}R_1(\\theta)=\\mathbf{e}R_3(\\phi)R_1(\\theta)\n",
        "\\end{align}"
      ],
      "metadata": {
        "id": "khkrMlx44xYn"
      }
    },
    {
      "cell_type": "markdown",
      "source": [
        "The angular velocity of the frame $\\mathbf{b}$ with respect to $\\mathbf{e}$ is the $\\mathbb{R}^3$ version of $\\widehat{\\Omega}=R^T\\dot{R}$.\n",
        "\n",
        "\\begin{align}\n",
        "\\widehat{\\Omega}&=R_1^TR_3^T(\\dot{R}_3R_1+R_3\\dot{R}_1)\\\\\n",
        "=&R_1^T(R_3^T\\dot{R}_3R_1+\\dot{R}_1)\\\\\n",
        "=&R_1(R_3^T\\dot{R}_3)R_1+R_1^T\\dot{R}_1\\\\\n",
        "\\end{align}\n",
        "which gives\n",
        "\\begin{align}\n",
        "\\Omega=&\\dot{\\phi}\\:R_1^T{e}_3+\\dot{\\theta}\\:{e}_1\\\\\n",
        "\\end{align}\n",
        "where\n",
        "$e_1=[1,0,0]^T$ and $e_3=[0,0,1]^T$."
      ],
      "metadata": {
        "id": "85Y7pgpv-qqU"
      }
    },
    {
      "cell_type": "markdown",
      "source": [
        "The motion variables of the particles in the $\\mathbf{e}$:\n",
        "\n",
        "\\begin{align}\n",
        "x&=RX\\\\\n",
        "\\dot{x}&=R\\left(\\widehat{\\Omega}X+\\dot{X}\\right)\\\\\n",
        "\\ddot{x}&=R\\left(\\widehat{\\Omega}^2X+2\\widehat{\\Omega}\\dot{X}+\\ddot{X}\\right)\n",
        "\\end{align}\n",
        "\n",
        "The angular momentum of the particle about the origin of the frames:\n",
        "\\begin{align}\n",
        "\\pi&=x\\times m\\dot{x}\\\\\n",
        "&=mR\\left(X\\times\\left(\\widehat{\\Omega}X+\\dot{X}\\right)\\right)\\\\\n",
        "&=R\\left(-m\\widehat{X}^2\\Omega+mX\\times\\dot{X}\\right)\\\\\n",
        "&=R\\left(\\mathbb{I}_p\\Omega+mX\\times\\dot{X}\\right)\n",
        "\\end{align}\n",
        "where $\\mathbb{I}_p\\triangleq-m\\widehat{X}^2$\n",
        "\n",
        "The rate of change of angular mometum is:\n",
        "\\begin{align}\n",
        "\\dot{\\pi}&=x\\times f\\\\\n",
        "&=R(X\\times F)\n",
        "\\end{align}\n",
        "where $f$ is the representation of the forces acting on the particle in the $\\mathbf{e}$ frame and $F$ is the representation of the forces acting on the particle in the $\\mathbf{b}$ frame."
      ],
      "metadata": {
        "id": "CXmQUzTZ6IBA"
      }
    },
    {
      "cell_type": "markdown",
      "source": [
        "If $F$ is the forces acting on the particle and represented in the $\\mathbf{b}$ frame we have from Newtons equations (assuming that the $\\mathbf{b}$ frame is an inertial frame):\n",
        "\\begin{align}\n",
        "m\\ddot{x}&=RF\n",
        "\\end{align}\n",
        "which gives\n",
        "\\begin{align}\n",
        "m\\left(\\widehat{\\Omega}^2X+2\\widehat{\\Omega}\\dot{X}+\\ddot{X}\\right)&=F\n",
        "\\end{align}"
      ],
      "metadata": {
        "id": "w4DeecTd7PW_"
      }
    },
    {
      "cell_type": "code",
      "source": [
        "init_vprinting()\n",
        "m, r, t, omega=symbols('m, r, t, omega')\n",
        "y, alpha, beta, phi, theta=dynamicsymbols('y, alpha, beta, phi, theta',real=True)"
      ],
      "metadata": {
        "id": "EeDPvAbk2sFn"
      },
      "execution_count": 63,
      "outputs": []
    },
    {
      "cell_type": "code",
      "source": [
        "X=Matrix([0,y,0])"
      ],
      "metadata": {
        "id": "KFR8C_mGG1gF"
      },
      "execution_count": 64,
      "outputs": []
    },
    {
      "cell_type": "code",
      "source": [
        "R1_theta=Matrix([[1,0,0],[0,cos(theta),sin(theta)],[0,sin(theta),cos(theta)]])\n",
        "R3_phi=Matrix([[cos(phi),-sin(phi),0],[sin(phi),cos(phi),0],[0,0,1]])\n",
        "R=R3_phi @ R1_theta"
      ],
      "metadata": {
        "id": "_xSMvNHd38Zc"
      },
      "execution_count": 65,
      "outputs": []
    },
    {
      "cell_type": "code",
      "source": [
        "hatOmega=simplify(R.T*R.diff(t))"
      ],
      "metadata": {
        "id": "URbH_JiADm-v"
      },
      "execution_count": 67,
      "outputs": []
    },
    {
      "cell_type": "code",
      "source": [
        "hatOmega"
      ],
      "metadata": {
        "id": "Tnz6slsvHMQD",
        "outputId": "37c3e485-59bf-454d-a7cf-38d2abda5ee5",
        "colab": {
          "base_uri": "https://localhost:8080/",
          "height": 83
        }
      },
      "execution_count": 80,
      "outputs": [
        {
          "output_type": "execute_result",
          "data": {
            "text/plain": [
              "⎡   0      -cos(θ)⋅φ̇   -sin(θ)⋅φ̇ ⎤\n",
              "⎢                                ⎥\n",
              "⎢cos(θ)⋅φ̇      0       cos(2⋅θ)⋅θ̇⎥\n",
              "⎢                                ⎥\n",
              "⎣sin(θ)⋅φ̇  cos(2⋅θ)⋅θ̇      0     ⎦"
            ],
            "text/latex": "$\\displaystyle \\left[\\begin{matrix}0 & - \\cos{\\left(\\theta \\right)} \\dot{\\phi} & - \\sin{\\left(\\theta \\right)} \\dot{\\phi}\\\\\\cos{\\left(\\theta \\right)} \\dot{\\phi} & 0 & \\cos{\\left(2 \\theta \\right)} \\dot{\\theta}\\\\\\sin{\\left(\\theta \\right)} \\dot{\\phi} & \\cos{\\left(2 \\theta \\right)} \\dot{\\theta} & 0\\end{matrix}\\right]$"
          },
          "metadata": {},
          "execution_count": 80
        }
      ]
    },
    {
      "cell_type": "code",
      "source": [
        "Omega=Matrix([-hatOmega[1,2],hatOmega[0,2],-hatOmega[0,1]])"
      ],
      "metadata": {
        "id": "YmsMI7FYIkEA"
      },
      "execution_count": 79,
      "outputs": []
    },
    {
      "cell_type": "code",
      "source": [
        "Omega"
      ],
      "metadata": {
        "id": "YRqhiSu8I3R8",
        "outputId": "acd5d942-8b35-45f3-aa45-c8dc2ba8313c",
        "colab": {
          "base_uri": "https://localhost:8080/",
          "height": 83
        }
      },
      "execution_count": 81,
      "outputs": [
        {
          "output_type": "execute_result",
          "data": {
            "text/plain": [
              "⎡-cos(2⋅θ)⋅θ̇⎤\n",
              "⎢           ⎥\n",
              "⎢ -sin(θ)⋅φ̇ ⎥\n",
              "⎢           ⎥\n",
              "⎣ cos(θ)⋅φ̇  ⎦"
            ],
            "text/latex": "$\\displaystyle \\left[\\begin{matrix}- \\cos{\\left(2 \\theta \\right)} \\dot{\\theta}\\\\- \\sin{\\left(\\theta \\right)} \\dot{\\phi}\\\\\\cos{\\left(\\theta \\right)} \\dot{\\phi}\\end{matrix}\\right]$"
          },
          "metadata": {},
          "execution_count": 81
        }
      ]
    },
    {
      "cell_type": "code",
      "source": [
        "Xdot=X.diff(t)\n",
        "Xddot=Xdot.diff(t)"
      ],
      "metadata": {
        "id": "9JdZtr3LHp9k"
      },
      "execution_count": 69,
      "outputs": []
    },
    {
      "cell_type": "code",
      "source": [
        "F=m*(hatOmega**2*X+2*hatOmega*Xdot+Xddot)"
      ],
      "metadata": {
        "id": "COdsNrgdHXIF"
      },
      "execution_count": 70,
      "outputs": []
    },
    {
      "cell_type": "code",
      "source": [
        "F"
      ],
      "metadata": {
        "id": "Uk-aL6wdHxL1",
        "outputId": "1fd06912-9f63-4a2c-c402-c92d1d2c8a5b",
        "colab": {
          "base_uri": "https://localhost:8080/",
          "height": 108
        }
      },
      "execution_count": 71,
      "outputs": [
        {
          "output_type": "execute_result",
          "data": {
            "text/plain": [
              "⎡m⋅(-y⋅sin(θ)⋅cos(2⋅θ)⋅φ̇⋅θ̇ - 2⋅cos(θ)⋅φ̇⋅ẏ)⎤\n",
              "⎢                                         ⎥\n",
              "⎢   ⎛⎛     2     2      2       2⎞      ⎞ ⎥\n",
              "⎢ m⋅⎝⎝- cos (θ)⋅φ̇  + cos (2⋅θ)⋅θ̇ ⎠⋅y + ÿ⎠ ⎥\n",
              "⎢                                         ⎥\n",
              "⎢  ⎛                   2                 ⎞⎥\n",
              "⎣m⋅⎝- y⋅sin(θ)⋅cos(θ)⋅φ̇  + 2⋅cos(2⋅θ)⋅θ̇⋅ẏ⎠⎦"
            ],
            "text/latex": "$\\displaystyle \\left[\\begin{matrix}m \\left(- y \\sin{\\left(\\theta \\right)} \\cos{\\left(2 \\theta \\right)} \\dot{\\phi} \\dot{\\theta} - 2 \\cos{\\left(\\theta \\right)} \\dot{\\phi} \\dot{y}\\right)\\\\m \\left(\\left(- \\cos^{2}{\\left(\\theta \\right)} \\dot{\\phi}^{2} + \\cos^{2}{\\left(2 \\theta \\right)} \\dot{\\theta}^{2}\\right) y + \\ddot{y}\\right)\\\\m \\left(- y \\sin{\\left(\\theta \\right)} \\cos{\\left(\\theta \\right)} \\dot{\\phi}^{2} + 2 \\cos{\\left(2 \\theta \\right)} \\dot{\\theta} \\dot{y}\\right)\\end{matrix}\\right]$"
          },
          "metadata": {},
          "execution_count": 71
        }
      ]
    },
    {
      "cell_type": "code",
      "source": [
        "hatX=Matrix([[0,0,y],[0,0,0],[-y,0,0]])\n",
        "Ip=-m*hatX**2"
      ],
      "metadata": {
        "id": "GA2mw--EH3ZO"
      },
      "execution_count": 75,
      "outputs": []
    },
    {
      "cell_type": "code",
      "source": [
        "pi=R*()"
      ],
      "metadata": {
        "id": "Xjh2Byt4IR-q"
      },
      "execution_count": null,
      "outputs": []
    }
  ]
}