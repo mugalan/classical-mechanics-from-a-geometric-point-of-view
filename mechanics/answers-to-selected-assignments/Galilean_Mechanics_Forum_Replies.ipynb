{
  "nbformat": 4,
  "nbformat_minor": 0,
  "metadata": {
    "colab": {
      "provenance": [],
      "include_colab_link": true
    },
    "kernelspec": {
      "name": "python3",
      "display_name": "Python 3"
    },
    "language_info": {
      "name": "python"
    }
  },
  "cells": [
    {
      "cell_type": "markdown",
      "metadata": {
        "id": "view-in-github",
        "colab_type": "text"
      },
      "source": [
        "<a href=\"https://colab.research.google.com/github/mugalan/classical-mechanics-from-a-geometric-point-of-view/blob/main/mechanics/answers-to-selected-assignments/Galilean_Mechanics_Forum_Replies.ipynb\" target=\"_parent\"><img src=\"https://colab.research.google.com/assets/colab-badge.svg\" alt=\"Open In Colab\"/></a>"
      ]
    },
    {
      "cell_type": "markdown",
      "source": [
        "#Import Python modules"
      ],
      "metadata": {
        "id": "uZ2dpkiv3RhU"
      }
    },
    {
      "cell_type": "code",
      "source": [
        "import numpy as np\n",
        "import scipy as sp\n",
        "from scipy.integrate import odeint\n",
        "import plotly.graph_objects as go\n",
        "\n",
        "import sympy as sym\n",
        "from sympy import symbols\n",
        "from sympy import *\n",
        "\n",
        "from sympy.physics.mechanics import dynamicsymbols, init_vprinting"
      ],
      "metadata": {
        "id": "hH6pq9F63Vdg"
      },
      "execution_count": null,
      "outputs": []
    },
    {
      "cell_type": "code",
      "source": [
        "init_vprinting()"
      ],
      "metadata": {
        "id": "BgGsaPhtKjPb"
      },
      "execution_count": null,
      "outputs": []
    },
    {
      "cell_type": "markdown",
      "source": [
        "$\\mathbf{c}=\\mathbf{e}R_1(\\theta_1)$ and $\\mathbf{b}=\\mathbf{c}R_2(\\theta_2)$.\n",
        "\n",
        "Hence\n",
        "\\begin{align}\n",
        "\\mathbf{b}=\\mathbf{c}R_2(\\theta_2)=\\mathbf{e}R_1(\\theta_1)R_2(\\theta_2)\n",
        "\\end{align}\n",
        "Hence\n",
        "\\begin{align}\n",
        "R=R_1(\\theta_1)R_2(\\theta_2)\n",
        "\\end{align}"
      ],
      "metadata": {
        "id": "WOiITZ_CWZ0R"
      }
    },
    {
      "cell_type": "code",
      "source": [
        "init_vprinting()\n",
        "theta_1, theta_2=dynamicsymbols('theta_1, theta_2',real=True)"
      ],
      "metadata": {
        "id": "X4Um4KmBWO4T"
      },
      "execution_count": null,
      "outputs": []
    },
    {
      "cell_type": "code",
      "source": [
        "R1_theta=Matrix([[1,0,0],[0,cos(theta_1),-sin(theta_1)],[0,sin(theta_1),cos(theta_1)]])\n",
        "R2_theta=Matrix([[cos(theta_2),0,sin(theta_2)],[0,1,0],[-sin(theta_2),0,cos(theta_2)]])\n",
        "R=R1_theta @ R2_theta"
      ],
      "metadata": {
        "id": "waw_yhXkWD6P"
      },
      "execution_count": null,
      "outputs": []
    },
    {
      "cell_type": "code",
      "source": [
        "R1_theta"
      ],
      "metadata": {
        "id": "eQzX3qR2Xsk8",
        "outputId": "ddba4f60-321c-471a-85f4-4f8d00460a87",
        "colab": {
          "base_uri": "https://localhost:8080/",
          "height": 78
        }
      },
      "execution_count": null,
      "outputs": [
        {
          "output_type": "execute_result",
          "data": {
            "text/plain": [
              "⎡1     0        0    ⎤\n",
              "⎢                    ⎥\n",
              "⎢0  cos(θ₁)  -sin(θ₁)⎥\n",
              "⎢                    ⎥\n",
              "⎣0  sin(θ₁)  cos(θ₁) ⎦"
            ],
            "text/latex": "$\\displaystyle \\left[\\begin{matrix}1 & 0 & 0\\\\0 & \\cos{\\left(\\theta_{1} \\right)} & - \\sin{\\left(\\theta_{1} \\right)}\\\\0 & \\sin{\\left(\\theta_{1} \\right)} & \\cos{\\left(\\theta_{1} \\right)}\\end{matrix}\\right]$"
          },
          "metadata": {},
          "execution_count": 6
        }
      ]
    },
    {
      "cell_type": "code",
      "source": [
        "R2_theta"
      ],
      "metadata": {
        "id": "8X-ar6_2XzA6",
        "outputId": "3d1539f3-a855-4d63-c58e-bcf49de5d15a",
        "colab": {
          "base_uri": "https://localhost:8080/",
          "height": 78
        }
      },
      "execution_count": null,
      "outputs": [
        {
          "output_type": "execute_result",
          "data": {
            "text/plain": [
              "⎡cos(θ₂)   0  sin(θ₂)⎤\n",
              "⎢                    ⎥\n",
              "⎢   0      1     0   ⎥\n",
              "⎢                    ⎥\n",
              "⎣-sin(θ₂)  0  cos(θ₂)⎦"
            ],
            "text/latex": "$\\displaystyle \\left[\\begin{matrix}\\cos{\\left(\\theta_{2} \\right)} & 0 & \\sin{\\left(\\theta_{2} \\right)}\\\\0 & 1 & 0\\\\- \\sin{\\left(\\theta_{2} \\right)} & 0 & \\cos{\\left(\\theta_{2} \\right)}\\end{matrix}\\right]$"
          },
          "metadata": {},
          "execution_count": 7
        }
      ]
    },
    {
      "cell_type": "code",
      "source": [
        "R"
      ],
      "metadata": {
        "id": "FkqRjYHOX2bc",
        "outputId": "518bdf4f-83a5-4072-f6d6-b3bcb85a0712",
        "colab": {
          "base_uri": "https://localhost:8080/",
          "height": 78
        }
      },
      "execution_count": null,
      "outputs": [
        {
          "output_type": "execute_result",
          "data": {
            "text/plain": [
              "⎡    cos(θ₂)          0         sin(θ₂)     ⎤\n",
              "⎢                                           ⎥\n",
              "⎢sin(θ₁)⋅sin(θ₂)   cos(θ₁)  -sin(θ₁)⋅cos(θ₂)⎥\n",
              "⎢                                           ⎥\n",
              "⎣-sin(θ₂)⋅cos(θ₁)  sin(θ₁)  cos(θ₁)⋅cos(θ₂) ⎦"
            ],
            "text/latex": "$\\displaystyle \\left[\\begin{matrix}\\cos{\\left(\\theta_{2} \\right)} & 0 & \\sin{\\left(\\theta_{2} \\right)}\\\\\\sin{\\left(\\theta_{1} \\right)} \\sin{\\left(\\theta_{2} \\right)} & \\cos{\\left(\\theta_{1} \\right)} & - \\sin{\\left(\\theta_{1} \\right)} \\cos{\\left(\\theta_{2} \\right)}\\\\- \\sin{\\left(\\theta_{2} \\right)} \\cos{\\left(\\theta_{1} \\right)} & \\sin{\\left(\\theta_{1} \\right)} & \\cos{\\left(\\theta_{1} \\right)} \\cos{\\left(\\theta_{2} \\right)}\\end{matrix}\\right]$"
          },
          "metadata": {},
          "execution_count": 8
        }
      ]
    },
    {
      "cell_type": "markdown",
      "source": [
        "#Prof of:\n",
        "\n",
        "$\\widehat{RX}=R\\widehat{X}R^T$"
      ],
      "metadata": {
        "id": "9QnxNvR__-37"
      }
    },
    {
      "cell_type": "markdown",
      "source": [
        "For any $X,Y\\in \\mathbb{R}^3$.. specifically any two $3\\times 1$ matrices and any $R\\in SO(3)$\n",
        "\n",
        "\\begin{align*}\n",
        "\\widehat{RX}Y=(RX)\\times Y = (RX)\\times (RR^TY)= R\\left(X\\times (R^TY)\\right)=R\\left(\\widehat{X}(R^TY)\\right)=R\\widehat{X}R^TY\n",
        "\\end{align*}\n",
        "\n",
        "Since this is true for all $Y$ we have\n",
        "\\begin{align*}\n",
        "\\widehat{RX}=R\\widehat{X}R^T\n",
        "\\end{align*}"
      ],
      "metadata": {
        "id": "g1TnskuAAJhl"
      }
    }
  ]
}