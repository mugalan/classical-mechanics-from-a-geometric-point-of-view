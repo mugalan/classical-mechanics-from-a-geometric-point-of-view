r_from_quaternions{
  "nbformat": 4,
  "nbformat_minor": 0,
  "metadata": {
    "colab": {
      "provenance": [],
      "include_colab_link": true
    },
    "kernelspec": {
      "name": "python3",
      "display_name": "Python 3"
    },
    "language_info": {
      "name": "python"
    }
  },
  "cells": [
    {
      "cell_type": "markdown",
      "metadata": {
        "id": "view-in-github",
        "colab_type": "text"
      },
      "source": [
        "<a href=\"https://colab.research.google.com/github/mugalan/classical-mechanics-from-a-geometric-point-of-view/blob/main/mechanics/answers-to-selected-assignments/Assignment_InertialObservers_SampleAnswers.ipynb\" target=\"_parent\"><img src=\"https://colab.research.google.com/assets/colab-badge.svg\" alt=\"Open In Colab\"/></a>"
      ]
    },
    {
      "cell_type": "markdown",
      "metadata": {
        "id": "4e6JifAFk_ga"
      },
      "source": [
        "# Assignment: Inertial Observers\n",
        "\n",
        "* This is Assignment#1 on Classical Mechanics. It is intended to get you to relate our standard notions of physical space and time to the laws of Galilean Galilei.\n",
        "\n",
        "\n",
        "* These assignments supplement the note:\n",
        "\n",
        "https://github.com/mugalan/classical-mechanics-from-a-geometric-point-of-view/blob/main/mechanics/class-notes/Mugas_Classical_Mechanics.ipynb"
      ]
    },
    {
      "cell_type": "markdown",
      "metadata": {
        "id": "YV8qrDvI-TXW"
      },
      "source": [
        "# Setting Up"
      ]
    },
    {
      "cell_type": "code",
      "metadata": {
        "id": "1ZbQxewK90S4"
      },
      "source": [
        "import numpy as np\n",
        "import scipy as sp\n",
        "from scipy.integrate import odeint\n",
        "import math\n",
        "from numpy import linalg\n",
        "import sympy\n",
        "\n",
        "from sympy import symbols\n",
        "from sympy import *\n",
        "\n",
        "import plotly.graph_objects as go"
      ],
      "execution_count": null,
      "outputs": []
    },
    {
      "cell_type": "code",
      "metadata": {
        "id": "CHMEesw6-A5e"
      },
      "source": [
        "import numpy as np\n",
        "import plotly.graph_objects as go\n",
        "import math\n",
        "\n",
        "class MugasRigidBodyFunctions:\n",
        "\n",
        "    def __init__(self):\n",
        "        pass\n",
        "\n",
        "    def simulate_dy_system(self, dynamic_system_model, t_max, dt, x0, sys_para, fig_title, x_label, y_label):\n",
        "        t = np.linspace(0, t_max, int(t_max/dt+1))\n",
        "        sol = odeint(dynamic_system_model, x0, t, args=(sys_para,))\n",
        "\n",
        "        fig = go.Figure()\n",
        "        for sol_col in sol.T:\n",
        "            fig.add_trace(go.Scatter(x=t, y=sol_col, mode='lines+markers', name=f'x{sol_col + 1}'))\n",
        "\n",
        "        fig.update_layout(title=fig_title, xaxis=dict(title=x_label), yaxis=dict(title=y_label))\n",
        "        fig.show()\n",
        "        return t, sol, fig\n",
        "\n",
        "    def hat_matrix(self, x):\n",
        "        return np.array([[0., -x[2], x[1]],[x[2], 0., -x[0]],[-x[1], x[0], 0.]])\n",
        "\n",
        "    def q_from_axis_angles(self, theta, unit_axis):\n",
        "        return np.concatenate(([np.cos(theta/2)], np.sin(theta/2) * np.array(unit_axis)))\n",
        "\n",
        "    def r_from_quaternions(self, q):\n",
        "        q0, w = q[0], q[1:]\n",
        "        return np.identity(3) + 2*q0*self.hat_matrix(w) + 2*self.hat_matrix(w) @ self.hat_matrix(w)\n",
        "\n",
        "    def rotation_matrix_2_euler_angles(self, R):\n",
        "        # Handle unique solutions and default cases\n",
        "        if R[2, 2] < 1:\n",
        "            if R[2, 2] > -1:\n",
        "                return np.pi - math.atan2(R[0, 2], R[1, 2]), math.acos(R[2, 2]), np.pi - math.atan2(R[2, 0], -R[2, 1])\n",
        "            return -math.atan2(R[0, 1], -R[0, 0]), np.pi, 0\n",
        "        return math.atan2(R[0, 1], R[0, 0]), 0, 0\n",
        "\n",
        "    def re3_equals_gamma(self, gamma):\n",
        "        theta = math.acos(gamma[2])\n",
        "        n = [-gamma[1]/np.sin(theta), gamma[0]/np.sin(theta), 0]\n",
        "        return self.r_from_quaternions(self.q_from_axis_angles(theta, n))\n",
        "\n",
        "    def rotate_and_translate(self, object_vertices, R, o):\n",
        "        return np.array([[o[0], o[1], o[2]]]).T + R @ object_vertices\n",
        "\n",
        "    def add_orth_norm_frame(self, fig, o, R, axis_range, axis_color):\n",
        "        e = [np.array([1,0,0]), np.array([0,1,0]), np.array([0,0,1])]\n",
        "        b = [R @ ei for ei in e]\n",
        "\n",
        "        for bi in b:\n",
        "            fig.add_trace(go.Scatter3d(\n",
        "                x=[o[0], o[0] + bi[0]],\n",
        "                y=[o[1], o[1] + bi[1]],\n",
        "                z=[o[2], o[2] + bi[2]],\n",
        "                hoverinfo='x+y+z',\n",
        "                mode='lines',\n",
        "                line=dict(width=8, color=axis_color)\n",
        "            ))\n",
        "\n",
        "        fig.update_layout(\n",
        "            showlegend=False,\n",
        "            scene=dict(\n",
        "                xaxis=dict(range=axis_range[0], autorange=False),\n",
        "                yaxis=dict(range=axis_range[1], autorange=False),\n",
        "                zaxis=dict(range=axis_range[2], autorange=False),\n",
        "                aspectratio=dict(x=1, y=1, z=1)\n",
        "            )\n",
        "        )\n",
        "        return fig\n",
        "\n",
        "\n",
        "    import plotly.graph_objects as go\n",
        "\n",
        "    def animate_particle_motion(self, xx, axis_range, fig_title):\n",
        "        x_vals, y_vals, z_vals = zip(*xx)\n",
        "\n",
        "        trace_particle = go.Scatter3d(\n",
        "            x=[x_vals[0]], y=[y_vals[0]], z=[z_vals[0]],\n",
        "            mode=\"markers\",\n",
        "            marker=dict(color=\"red\", size=10)\n",
        "        )\n",
        "\n",
        "        trace_path = go.Scatter3d(\n",
        "            x=x_vals, y=y_vals, z=z_vals,\n",
        "            mode=\"lines\",\n",
        "            line=dict(color=\"blue\", width=2),\n",
        "            name='Path'\n",
        "        )\n",
        "\n",
        "        layout = go.Layout(\n",
        "            title_text=fig_title,\n",
        "            hovermode=\"closest\",\n",
        "            updatemenus=[dict(\n",
        "                type=\"buttons\",\n",
        "                buttons=[dict(\n",
        "                    label=\"Play\",\n",
        "                    method=\"animate\",\n",
        "                    args=[None]\n",
        "                )]\n",
        "            )],\n",
        "            scene=dict(\n",
        "                xaxis=dict(range=axis_range[0], autorange=False),\n",
        "                yaxis=dict(range=axis_range[1], autorange=False),\n",
        "                zaxis=dict(range=axis_range[2], autorange=False),\n",
        "                aspectratio=dict(x=1, y=1, z=1)\n",
        "            )\n",
        "        )\n",
        "\n",
        "        frames = [go.Frame(\n",
        "            data=[go.Scatter3d(\n",
        "                x=[point[0]], y=[point[1]], z=[point[2]],\n",
        "                mode=\"markers\",\n",
        "                marker=dict(color=\"red\", size=10),\n",
        "                name='Particle'\n",
        "            )]) for point in xx]\n",
        "\n",
        "        fig = go.Figure(data=[trace_particle, trace_path], layout=layout, frames=frames)\n",
        "        fig.show()\n",
        "        return fig\n",
        "\n",
        "\n",
        "\n",
        "    def cube_vertices(self, cube_dimensions):\n",
        "        l, w, h = cube_dimensions['l'], cube_dimensions['w'], cube_dimensions['h']\n",
        "        xp, yp, zp = cube_dimensions['xp'], cube_dimensions['yp'], cube_dimensions['zp']\n",
        "\n",
        "        X = [-xp, -xp, l-xp, l-xp, -xp, -xp, l-xp, l-xp]\n",
        "        Y = [-yp, w-yp, w-yp, -yp, -yp, w-yp, w-yp, -yp]\n",
        "        Z = [-zp, -zp, -zp, -zp, h-zp, h-zp, h-zp, h-zp]\n",
        "\n",
        "        return [X, Y, Z]\n",
        "\n",
        "    def animated_cube_flat_shading(self, cube_vertices, fig_title):\n",
        "\n",
        "        def generate_mesh3d(x, y, z, **kwargs):\n",
        "            indices = {\n",
        "                \"i\": [7, 0, 0, 0, 4, 4, 6, 6, 4, 0, 3, 2],\n",
        "                \"j\": [3, 4, 1, 2, 5, 6, 5, 2, 0, 1, 6, 3],\n",
        "                \"k\": [0, 7, 2, 3, 6, 7, 1, 1, 5, 5, 7, 6]\n",
        "            }\n",
        "            return go.Mesh3d(x=x, y=y, z=z, **indices, **kwargs)\n",
        "\n",
        "        # Create Mesh3D for each set of cube vertices\n",
        "        frames = [go.Frame(data=[generate_mesh3d(*vertices, opacity=0.6, color='#DC143C', flatshading=True, name='y')]) for vertices in cube_vertices]\n",
        "\n",
        "        # Create initial Mesh3D using the first set of cube vertices\n",
        "        trace_mesh3d = generate_mesh3d(*cube_vertices[0], opacity=0.6, color='#DC143C', flatshading=True, name='y')\n",
        "\n",
        "        fig = go.Figure(data=[trace_mesh3d], frames=frames)\n",
        "\n",
        "        # Define layout\n",
        "        fig.update_layout(\n",
        "            title=fig_title,\n",
        "            width=600,\n",
        "            height=600,\n",
        "            scene=dict(\n",
        "                xaxis=dict(range=[-5., 5.], autorange=False),\n",
        "                yaxis=dict(range=[-5., 5.], autorange=False),\n",
        "                zaxis=dict(range=[-5., 5.], autorange=False),\n",
        "                aspectratio=dict(x=1, y=1, z=1)\n",
        "            ),\n",
        "            updatemenus=[dict(\n",
        "                type=\"buttons\",\n",
        "                buttons=[dict(\n",
        "                    label=\"Play\",\n",
        "                    method=\"animate\",\n",
        "                    args=[None, {\n",
        "                        \"frame\": {\n",
        "                            \"duration\": 10,\n",
        "                            \"easing\": \"linear\"\n",
        "                        },\n",
        "                        \"mode\": \"immediate\",\n",
        "                        \"fromcurrent\": True,\n",
        "                        \"transition\": {\"duration\": 10}\n",
        "                    }]\n",
        "                )]\n",
        "            )]\n",
        "        )\n",
        "\n",
        "        fig.show()\n",
        "        return fig\n",
        "\n",
        "\n",
        "    def eulers_method(self, dt, Tmax, parameters, ICs):\n",
        "        M, II = parameters['M'], parameters['II']\n",
        "        invII = np.linalg.inv(II)\n",
        "        timeSteps = np.arange(0, Tmax+dt, dt)\n",
        "        R, o, omega, doto, Xc = ICs[0][0], ICs[0][1], ICs[1], ICs[2], ICs[3]\n",
        "        spi = R @ II @ R.T @ omega\n",
        "        p = M * doto\n",
        "        Xout = [ICs]\n",
        "\n",
        "        for t in timeSteps:\n",
        "            taue, fe = externalForceModel(self, parameters, X)\n",
        "            taua, fa = actuator(self, parameters, t, X, taue, fe)\n",
        "\n",
        "            dspi = taue + taua\n",
        "            dp = fe + fa\n",
        "\n",
        "            if np.linalg.norm(omega) >= 0.0001:\n",
        "                nomega = omega / np.linalg.norm(omega)\n",
        "                thetaomegat = dt * np.linalg.norm(omega)\n",
        "                qomegat = np.concatenate(([np.cos(thetaomegat/2)], np.sin(thetaomegat/2) * nomega))\n",
        "                R = self.r_from_quaternionsns(qomegat) @ R\n",
        "\n",
        "            o += dt * doto\n",
        "            spi += dt * dspi\n",
        "            p += dt * dp\n",
        "            doto = p / M\n",
        "            omega = R @ invII @ R.T @ spi\n",
        "            X = [[R, o], omega, doto, Xc]\n",
        "            Xout.append(X)\n",
        "\n",
        "        return Xout\n",
        "\n",
        "    def runga_kutta_method(self, dt, Tmax, parameters, ICs):\n",
        "        M, II = parameters['M'], parameters['II']\n",
        "        invII = np.linalg.inv(II)\n",
        "        timeSteps = np.arange(0, Tmax+dt, dt)\n",
        "        Xout = [ICs]\n",
        "\n",
        "        for t in timeSteps:\n",
        "            Y1 = self.rk4_function(0.5*dt, X, t, X, parameters)\n",
        "            Y2 = self.rk4_function(0.5*dt, X, t+0.5*dt, Y1, parameters)\n",
        "            Y3 = self.rk4_function(dt, X, t+0.5*dt, Y2, parameters)\n",
        "\n",
        "            values = [self.rigid_body_system(parameters, t+i*dt, X_j) for i, X_j in enumerate([X, Y1, Y2, Y3])]\n",
        "            thetas, n_omegas, dotos, dps, dspis, dXcs = zip(*values)\n",
        "\n",
        "            omegak = (dt/6.0) * sum(t * n for t, n in zip(thetas, n_omegas))\n",
        "            nomegak = omegak/np.linalg.norm(omegak) if np.linalg.norm(omegak) >= 0.0001 else np.array([0, 0, 0])\n",
        "            qomegak = np.concatenate(([np.cos(np.linalg.norm(omegak)/2)], np.sin(np.linalg.norm(omegak)/2) * nomegak))\n",
        "            Rk = self.r_from_quaternions(qomegak) @ X[0][0]\n",
        "\n",
        "            ok = X[0][1] + dt * np.mean(dotos)\n",
        "            pk = X[2] + dt * np.mean(dps)\n",
        "            spik = X[0][0] @ II @ X[0][0].T @ X[1] + dt * np.mean(dspis)\n",
        "            Xck = X[3] + dt * np.mean(dXcs)\n",
        "\n",
        "            omegak = Rk @ invII @ Rk.T @ spik\n",
        "            X = [[Rk, ok], omegak, pk, Xck]\n",
        "            Xout.append(X)\n",
        "\n",
        "        return Xout\n",
        "\n",
        "    def rk4_function(self, dtk, X, tk, Xk, parameters):\n",
        "        M, II = parameters['M'], parameters['II']\n",
        "        thetaomega1, nomega1, doto1, dp1, dspi1, dXc1 = self.rigid_body_system(parameters, tk, Xk)\n",
        "        qomega1 = np.concatenate(([np.cos(dtk*thetaomega1/2)], np.sin(dtk*thetaomega1/2) * nomega1))\n",
        "        R1 = self.r_from_quaternions(qomega1) @ X[0][0]\n",
        "        p1 = X[2] + dtk * dp1\n",
        "        spi1 = X[0][0] @ II @ X[0][0].T @ X[1] + dtk * dspi1\n",
        "        omega1 = R1 @ np.linalg.inv(II) @ R1.T @ spi1\n",
        "        X1 = [[R1, X[0][1] + dtk * doto1], omega1, p1, X[3] + dtk * dXc1]\n",
        "        return X1\n",
        "\n",
        "\n",
        "    def simulating_a_cube(self, dt, Tmax, cubeDimensions, parameters,ICs):\n",
        "        XX=self.cube_vertices(cubeDimensions);\n",
        "\n",
        "        #Xs=self.eulers_method(dt,Tmax,parameters,ICs);\n",
        "        Xs=self.runga_kutta_method(dt,Tmax,parameters,ICs);\n",
        "        ICR=ICs[0][0];\n",
        "        XX0=ICR @ XX;\n",
        "\n",
        "        rotatedVertices=[[XX0]]\n",
        "        for X in Xs:\n",
        "        #print(X[0])\n",
        "            R=X[0][0];\n",
        "            o=X[0][1];\n",
        "            XXi=self.rotate_and_translate(XX,R,o);\n",
        "            XX0=XXi;\n",
        "            rotatedVertices+=[[XX0]];\n",
        "        return rotatedVertices\n",
        "\n",
        "\n",
        "    def rigid_body_system(self, parameters, t, X):\n",
        "        barX, M = parameters['CM'], parameters['M']\n",
        "        R, omega, p = X[0][0], X[1], X[2]\n",
        "\n",
        "        taue, fe = externalForceModel(self, parameters, X)\n",
        "        taua, fa = actuator(self, parameters, t, X, taue, fe)\n",
        "\n",
        "        doto = p / M\n",
        "        dp = fe + fa\n",
        "        dspi = taue + taua\n",
        "        dXc = np.array([0., 0., 0.])  # External Dynamics #controller_dynamics(self, t, X, taue, fe, parameters)\n",
        "\n",
        "        if np.linalg.norm(omega) >= 0.0001:\n",
        "            nomega = omega / np.linalg.norm(omega)\n",
        "            thetaomega = np.linalg.norm(omega)\n",
        "        else:\n",
        "            nomega = np.array([0, 0, 0])\n",
        "            thetaomega = 0\n",
        "\n",
        "        return [thetaomega, nomega, doto, dp, dspi, dXc]\n",
        "\n",
        "    def animate_2D_scatter_plot(self, x, YY, xlabel, ylabel, title):\n",
        "        layout = go.Layout(\n",
        "            xaxis={'title': xlabel},\n",
        "            yaxis={'title': ylabel, 'range': [1.1 * YY.min(), 1.1 * YY.max()]},\n",
        "            title={'text': title, 'y': 0.9, 'x': 0.5, 'xanchor': 'center', 'yanchor': 'top'},\n",
        "            scene=dict(aspectratio=dict(x=1, y=1)),\n",
        "            hovermode=\"closest\",\n",
        "            updatemenus=[dict(type=\"buttons\",\n",
        "                            buttons=[dict(label=\"Play\",\n",
        "                                            method=\"animate\",\n",
        "                                            args=[None])])]\n",
        "        )\n",
        "\n",
        "        frames = [go.Frame(data=[go.Scatter(x=x, y=y)]) for y in YY]\n",
        "\n",
        "        fig = go.Figure(data=[go.Scatter(x=x, y=YY[0, :])], layout=layout, frames=frames)\n",
        "\n",
        "        # fig.show()\n",
        "        return fig"
      ],
      "execution_count": null,
      "outputs": []
    },
    {
      "cell_type": "code",
      "metadata": {
        "id": "u9V2W4x5-JDL"
      },
      "source": [
        "mr=MugasRigidBodyFunctions()"
      ],
      "execution_count": null,
      "outputs": []
    },
    {
      "cell_type": "markdown",
      "source": [
        "#Q1 Plot an orthonormal frame\n"
      ],
      "metadata": {
        "id": "Q299dFoyphTq"
      }
    },
    {
      "cell_type": "markdown",
      "source": [
        "You may use the following or a similar package\n",
        "\n",
        "https://plotly.com/python/"
      ],
      "metadata": {
        "id": "8qcyXjc2egGq"
      }
    },
    {
      "cell_type": "code",
      "source": [
        "#Adding a Frame\n",
        "fig = go.Figure()\n",
        "fig=mr.add_orth_norm_frame(fig,np.array([0,0,0]),np.array([[1,0,0],[0,1,0],[0,0,1]]),[[-2,2],[-2,2],[-2,2]],'blue')\n",
        "fig.show()"
      ],
      "metadata": {
        "id": "9XwanQexp2R1"
      },
      "execution_count": null,
      "outputs": []
    },
    {
      "cell_type": "markdown",
      "metadata": {
        "id": "NR_nS8_Mvs6P"
      },
      "source": [
        "# Q2 - A point $P$ in space has the Euclidean representations $P\\equiv (1,1,1)$ with respect to some inertial frame $\\mathbf{e}$ with origin coinciding with a point $O$ in space. Find the angle that $OP$ makes with the plane spanned by the $\\mathbf{e}_1$, $\\mathbf{e}_2$ directions. Verify your answer and plot an orthonormal frame and the point $P$ in that frame.\n"
      ]
    },
    {
      "cell_type": "code",
      "metadata": {
        "id": "WiYUOGFO-6Ar"
      },
      "source": [
        "P=[1,1,1]; Q=[1,1,0]; O=[0,0,0];\n",
        "PQ=np.array(P)-np.array(Q)\n",
        "lengthPQ=linalg.norm(PQ)\n",
        "anglePQ=np.arccos(np.array(P).dot(np.array(Q))/(linalg.norm(P)*linalg.norm(Q)))\n",
        "print(['length='+str(lengthPQ), 'angle='+str(180*anglePQ/np.pi)])"
      ],
      "execution_count": null,
      "outputs": []
    },
    {
      "cell_type": "code",
      "metadata": {
        "id": "kK7XiSdH_YNB"
      },
      "source": [
        "#Adding a Frame\n",
        "fig = go.Figure()\n",
        "fig=mr.add_orth_norm_frame(fig,O,np.array([[1,0,0],[0,1,0],[0,0,1]]),[[-2,2],[-2,2],[-2,2]],'blue')\n",
        "fig.show()"
      ],
      "execution_count": null,
      "outputs": []
    },
    {
      "cell_type": "code",
      "metadata": {
        "id": "LGShI_9F_aay"
      },
      "source": [
        "#Adding the Points\n",
        "fig.add_trace(go.Scatter3d(x=[O[0],P[0]], y=[O[1],P[1]], z=[O[2],P[2]], hoverinfo='x+y+z', mode='lines', line=dict(width=8)))\n",
        "fig.add_trace(go.Scatter3d(x=[O[0],Q[0]], y=[O[1],Q[1]], z=[O[2],Q[2]], hoverinfo='x+y+z', mode='lines', line=dict(width=8)))"
      ],
      "execution_count": null,
      "outputs": []
    },
    {
      "cell_type": "markdown",
      "metadata": {
        "id": "jq41romZv71V"
      },
      "source": [
        "# Q3 - **(Extra Credit Question)** Let $\\mathbf{e}$ and $\\mathbf{e}'$ be two inertial observers and let $A$ be some space-time event. Let the quadruple $(t,x)\\in \\mathbb{R}^4$, where $t\\in \\mathbb{R}$ and  $x\\in \\mathbb{R}^3$, be the representation of the space-time event $A$ that corresponds to $\\mathbf{e}$ while let  $(\\tau,\\xi)\\in \\mathbb{R}^4$ where $\\tau\\in \\mathbb{R}$ and  $\\xi\\in \\mathbb{R}^3$ be the representation of the space-time event $A$ that corresponds to $\\mathbf{e}'$.\n",
        "When comparing the motion described in the two frames we need to know how the two representations (coordinates) are related to each other. Specifically we will show that inertial observers must necessarily be translating at constant velocity with respect to each other without rotations. We do this by showing the following:\n",
        "\n",
        "* The assumption that time is homogeneous and that all intervals of time are inertial observer invariant means that necessarily $\\tau=t+a$ where $a$ is a constant.\n",
        "\n",
        "* Homogeneity of space implies that necessarily  $\\xi=\\alpha+\\beta t+R x$ where $\\alpha, \\beta$ are constant $3\\times 1$ matrices and $R$ is a constant $3\\times 3$ matrix.\n",
        "\n",
        "* The assumption that space intervals are inertial observer independent implies that $R$ is an orthonormal constant transformation (that is $R^TR=RR^T=I$).\n",
        "\n",
        "* Let $O'$ be the origin of the orthonormal frame used by $\\mathbf{e}'$ to make spatial measurements. If the space-time event $O'$ has the representation $(t,o)$ according to the observer $\\mathbf{e}$ then since $v=\\dot{o}=-R^{T}\\beta=\\mathrm{constant}$ we see that the velocity of the $\\mathbf{e}'$ frame with respect to the $\\mathbf{e}$ given by $v=\\dot{o}$ must be a constant.  If both clocks of $\\mathbf{e}$ and $\\mathbf{e}'$ are synchronized (that is $a=0$) and if a certain space-time event $A$ has the representation $(t,x)$ according to $\\mathbf{e}$ then the space-time event $A$ has the representation $(t,R(x-vt))$ according to $\\mathbf{e}'$.\n"
      ]
    },
    {
      "cell_type": "markdown",
      "metadata": {
        "id": "aiGI04sf3cYJ"
      },
      "source": [
        "## Sample Answer: The relationship between two inertial observers\n",
        "\n"
      ]
    },
    {
      "cell_type": "markdown",
      "metadata": {
        "id": "5ZcU2iAm_pUS"
      },
      "source": [
        "The construction of the orthonormal frame and the use of the clock allows an observer $\\mathbf{e}$ to assign the ordered quadruple $(t,x)\\in \\mathbb{R}^4$ where $t\\in \\mathbb{R}$ and  $x\\in \\mathbb{R}^3$ to a space-time event in a unique way. A different measurement system, $\\mathbf{e}'$ may provide a different identification  $(\\tau,\\xi)\\in \\mathbb{R}^4$ where $\\tau\\in \\mathbb{R}$ and  $\\xi\\in \\mathbb{R}^3$ for space time events.\n",
        "\n",
        "Let $A$ be some some such space-time event. Let the quadruple $(t,x)\\in \\mathbb{R}^4$ be the representation of the space-time event $A$ in $\\mathbf{e}$ while let  $(\\tau,\\xi)\\in \\mathbb{R}^4$ be the representation of the space-time event $A$ in $\\mathbf{e}'$.\n",
        "\n",
        "When comparing the motion described in the two frames we need to know how the two representations (coordinates) are related to each other. Specifically we will provide a sketch of a proof that inertial observers must necessarily be translating at constant velocity with respect to each other without rotations. We do this by showing the following:\n",
        "\n",
        "* The assumption that time is homogeneous and that all intervals of time are inertial observer invariant means that necessarily $\\tau=t+a$ where $a$ is a constant.\n",
        "\n",
        "* Homogeneity of space implies that necessarily  $\\xi=\\alpha+\\beta t+R x$ where $\\alpha,\\beta$ are constant $3\\times 1$ matrices and $R$ is a constant $3\\times 3$ matrix.\n",
        "\n",
        "* The assumption that space intervals are inertial observer independent implies that $R$ is an orthonormal constant transformation (that is $R^TR=RR^T=I$).\n",
        "\n",
        "* Since time and space are both homogeneous without loss of generality we may assume that the clocks are synchronized and origin of the two frames coincide at the time of synchronization of the clocks. This implies that $a=0$ and $\\alpha=0_{3\\times 1}$.\n",
        "\n",
        "* Let $O'$ be the origin of the orthonormal frame used by $\\mathbf{e}'$ to make spatial measurements. If the space-time event $O'$ has the representation $(t,o)$ according to the observer $\\mathbf{e}$ then since $v=\\dot{o}=-R^{T}\\beta=\\mathrm{constant}$ we see that the velocity of the $\\mathbf{e}'$ frame with respect to the $\\mathbf{e}$ given by $v=\\dot{o}$ must be a constant.  If both clocks of $\\mathbf{e}$ and $\\mathbf{e}'$ are synchronized (that is $a=0$) and if a certain space-time event $A$ has the representation $(t,x)$ according to $\\mathbf{e}$ then the space-time event $A$ has the representation $(t,R(x-vt))$ according to $\\mathbf{e}'$.\n"
      ]
    },
    {
      "cell_type": "markdown",
      "metadata": {
        "id": "haBjfMWL5XAo"
      },
      "source": [
        "####A rough justification of the above claims"
      ]
    },
    {
      "cell_type": "markdown",
      "metadata": {
        "id": "9a6Ucdxn5gNi"
      },
      "source": [
        "When comparing the motion described by the two observers we need to know how the two representations (coordinates) are related to each other.  That is we must find the functions $\\tau(t,x)$ and $\\xi(t,x)$.\n",
        "The homogeneity assumption of space-time implies that\n",
        "\\begin{align}\n",
        "\\tau(t_1+T,x_1+a)-\\tau(t_2+T,x_2+a)&=\\tau(t_1,x_1)-\\tau(t_2,x_2)\\\\\n",
        "\\xi(t_1+T,x_1+a)-\\xi(t_2+T,x_2+a)&=\\xi(t_1,x_1)-\\xi(t_2,x_2)\n",
        "\\end{align}\n",
        "for all $a, T$ and $t_1,t_2,x_1,x_2$. This necessarily implies that\n",
        "\\begin{align}\n",
        "\\tau&=a+b t+c x,\\\\\n",
        "\\xi&=\\gamma+\\beta t+R x\n",
        "\\end{align}\n",
        "where $a,b,c,\\gamma, \\beta, R$ are all constant. Here $a,b\\in \\mathbb{R}$ and $c,\\gamma, \\beta\\in \\mathbb{R}^3$ and $R$ is a $3\\times 3$ matrix.\n",
        "\n",
        "\n",
        "The assumption that time is independent of space implies that $c=0$ and the assumption that all inertial observers see the same intervals of time means that necessarily  $b=1$ and hence that $\\tau=t+a$. Hence all inertial observers measure time up to an ambiguity of an additive constant and thus  without loss of generality we may assume that all observers have synchronized their clocks and hence that $a=0$. This also implies that a *universal clock* exists.\n",
        "\n",
        "\n",
        "The assumption that space intervals are inertial observer independent implies that the distance between two simultaneous events is the same. That is $||\\xi(t,x_1)-\\xi(t,x_2)||=||x_1-x_2||$ for all $t,x_1,x_2$. Thus $||R (x_1-x_2)||=||x_1-x_2||$ for all $x_1, x_2$. Thus necessarily $R$ must be an orthogonal\\footnote{A matrix that satisfies the properties $R^TR=RR^T=I$ is called an orthogonal transformation.} constant transformation.\n",
        "\n",
        "Since the space is observed to be homogeneous by all inertial observers without loss of generality we may choose $\\gamma=0$ (note that choosing $\\gamma=0$ amounts to assuming that the origin of the spatial frames of both observers coincide at the time instant $t=0$ and does not sacrifice any generality since the space is homogeneous we can parallel translate the frames until they coincide at the time instant $t=0$).  Thus we see that the representation of the same space-time event by two different inertial observers are related by\n",
        "\\begin{align}\n",
        "(\\tau,\\xi)=(t,\\beta t+Rx).\n",
        "\\end{align}\n",
        "\n",
        "Let $O'$ be the origin of the orthonormal frame used by $\\mathbf{e}'$. If the space-time event $O'$ has the representation $(t,o)$ according to the observer $\\mathbf{e}$, it has the representation $(t,\\beta t+ Ro)=(t,0)$ according to the observer $\\mathbf{e}'$. Thus we have that $\\beta=-R\\dot{o}=-Rv$ where $v=\\dot{o}$ and hence that the velocity of the center of the $\\mathbf{e}'$ frame with respect to the $\\mathbf{e}$ frame, given by $v=\\dot{o}=-R^T\\beta$, must be a constant. **That is we see that all inertial observers must necessarily be translate at constant velocity with respect to each other without rotation.**\n",
        "\n",
        "This also shows that the representation of a space-time event denoted by $(t,x)$ according to $\\mathbf{e}$ must necessarily have the representation $\\left(t,R(x-vt)\\right)$ for some constant $v\\in \\mathbb{R}^3$ according to any other inertial frame $\\mathbf{e}'$. **Space appears to be homogeneous only for such observers.** In particular we can see that this is not the case for observers rotating with respect to an inertial observer $\\mathbf{e}$. That is a rotating observer will not observe space to be homogeneous (Show that this is true.).\n",
        "\n",
        "Since $R$ is a constant, without loss of generality, one can always pick the orthonormal frame used by $\\mathbf{e}'$ to be parallel to the one used by $\\mathbf{e}$ so that $R=I_{3\\times 3}$. Then we see that $\\xi(t)=x(t)-vt$ in parallel translating inertial frames. **It is traditional to refer to parallel frames that translate at constant velocities with respect to each other as {inertial frames}.**"
      ]
    },
    {
      "cell_type": "markdown",
      "source": [
        "####Is space independent of time?"
      ],
      "metadata": {
        "id": "XETqEcMfXlQS"
      }
    },
    {
      "cell_type": "markdown",
      "source": [
        "Please refer to the discussion\n",
        "\n",
        "https://github.com/mugalan/classical-mechanics-from-a-geometric-point-of-view/blob/main/mechanics/answers-to-selected-assignments/is_space_independent_of_time.ipynb"
      ],
      "metadata": {
        "id": "6js9F9TeXoxf"
      }
    },
    {
      "cell_type": "markdown",
      "metadata": {
        "id": "Rdkx26gwwal_"
      },
      "source": [
        "# Q4 -  An inertial observer $\\mathbf{e}$ notices that an object is moving in a straight line at a constant velocity. Show that all other inertial observers will also agree that the object is moving in a straight line at a constant velocity."
      ]
    },
    {
      "cell_type": "markdown",
      "metadata": {
        "id": "-CkbnlE-wkx5"
      },
      "source": [
        "# Q5 - An inertial observer $\\mathbf{e}$ notices that an object is moving in a straight line at a constant acceleration (for example such as the free falling object under gravity). Show that other inertial observers need not agree that the object is moving in a straight line.\n"
      ]
    },
    {
      "cell_type": "markdown",
      "source": [
        "#Q6 - An inertial observer  notices that an object is moving in a circle at a constant rate in the  frame with the center coniciding with the center of a the  frame. Show that other inertial observers need not agree that the object is moving in a circle."
      ],
      "metadata": {
        "id": "Od3BlRUtq0GD"
      }
    },
    {
      "cell_type": "markdown",
      "metadata": {
        "id": "8zwyAFaAfiLS"
      },
      "source": [
        "# Answers to Q4, Q5 and Q6"
      ]
    },
    {
      "cell_type": "markdown",
      "metadata": {
        "id": "8--9YOQaALj9"
      },
      "source": [
        "Let $\\mathbf{e}$ and $\\mathbf{e}'$ represent two inertial observers with $\\mathbf{e}'$ moving  parallel to $\\mathbf{e}$ at a constant velocity $v=[v_1\\:\\:\\:v_2\\:\\:\\:v_3]^T$.\n",
        "\n",
        "If $(t,x)$ is a representation of a point $P$ in $\\mathbf{e}$ we have seen in Q5 that this same point has the representation $\\left(t,(x-vt)\\right)$ in the $\\mathbf{e}'$ frame.\n",
        "\n",
        "If the point $P$ is seen to be moving in a straight line by $\\mathbf{e}$ (without loss of generality say a straight line through the origin) then $x(t)=f(t)\\,a$ where $a=[a_1\\:\\:\\:a_2\\:\\:\\:a_3]$ is a constant and $f(\\cdot)$ is some function of time. Then this point has the representation $\\left(t,(f(t)\\,a-vt)\\right)$ in the $\\mathbf{e}'$ frame."
      ]
    },
    {
      "cell_type": "markdown",
      "metadata": {
        "id": "aq8Zrx83ffwi"
      },
      "source": [
        "## Answer to Q5"
      ]
    },
    {
      "cell_type": "markdown",
      "metadata": {
        "id": "o8pXdTx3f53c"
      },
      "source": [
        "If $P$ is observed in $\\mathbf{e}$ to move in a straight line at a constant velocity then $f(t)\\simeq t$ and then in the $\\mathbf{e}'$ frame this point has the representation $\\left(t,t(a-v)\\right)$ and hence is observed to be moving in a straight line as well."
      ]
    },
    {
      "cell_type": "code",
      "metadata": {
        "id": "tdnFRu3KwtiX"
      },
      "source": [
        "a=np.array([1,0,0]);\n",
        "v=np.array([0,0,1])\n",
        "tt=np.linspace(0,5,101)\n",
        "zeta=np.zeros((len(tt),3));\n",
        "for i,t in enumerate(tt):\n",
        "  zeta[i,:]=t*(a-v);"
      ],
      "execution_count": null,
      "outputs": []
    },
    {
      "cell_type": "code",
      "metadata": {
        "id": "BN0qpk7wxSxR"
      },
      "source": [
        "fig=mr.animate_particle_motion(zeta,[[-3,3],[-3,3],[-3,3]],'Motion in the e-prime frame')"
      ],
      "execution_count": null,
      "outputs": []
    },
    {
      "cell_type": "markdown",
      "metadata": {
        "id": "23V9PVu_qI90"
      },
      "source": [
        "## Answer to Q6"
      ]
    },
    {
      "cell_type": "markdown",
      "metadata": {
        "id": "FO5QZl32qPvi"
      },
      "source": [
        "If $P$ is observed in $\\mathbf{e}$ to move in a straight line at a constant acceleration then $f(t)\\simeq t^2$ and then in the $\\mathbf{e}'$ frame this point has the representation $\\left(t,t(at-v)\\right)$ and hence is observed to be moving in a **curved** path."
      ]
    },
    {
      "cell_type": "code",
      "metadata": {
        "id": "HZk9MsIXq0ET"
      },
      "source": [
        "a=np.array([0,0,-1]);\n",
        "v=np.array([1,0,0])\n",
        "tt=np.linspace(0,5,101)\n",
        "zeta=np.zeros((len(tt),3));\n",
        "for i,t in enumerate(tt):\n",
        "  zeta[i,:]=t*(t*a-v);"
      ],
      "execution_count": null,
      "outputs": []
    },
    {
      "cell_type": "code",
      "metadata": {
        "id": "yunQnrpxtW-p"
      },
      "source": [
        "fig=mr.animate_particle_motion(zeta,[[-3,3],[-3,3],[-3,3]],'Motion in the e-prime frame')"
      ],
      "execution_count": null,
      "outputs": []
    },
    {
      "cell_type": "markdown",
      "metadata": {
        "id": "rzzvdtSSra9Z"
      },
      "source": [
        "## Answer to Q7"
      ]
    },
    {
      "cell_type": "markdown",
      "metadata": {
        "id": "3GecZpCura9a"
      },
      "source": [
        "If $P$ is observed in $\\mathbf{e}$ to move in a circle at a constant rate in the $\\mathbf{e}_1,\\mathbf{e}_2$ plane then $P$ has the representation $\\left(t, (\\sin{(\\omega t)},\\cos{(\\omega t)},0)\\right)$. Then in the $\\mathbf{e}'$ frame that is moving in the $\\mathbf{e}_3$ direction at a constant rate $v$ we see that this point has the representation $\\left(t, (\\sin{(\\omega t)},\\cos{(\\omega t)},-vt)\\right)$ and hence is observed to be moving in a **helical** path."
      ]
    },
    {
      "cell_type": "code",
      "metadata": {
        "id": "oVsQkBbOra9a"
      },
      "source": [
        "v=np.array([0,0,1])\n",
        "w=4;\n",
        "tt=np.linspace(0,5,101)\n",
        "zeta=np.zeros((len(tt),3));\n",
        "for i,t in enumerate(tt):\n",
        "    a=np.array([np.sin(w*t),np.cos(w*t),0]);\n",
        "    zeta[i,:]=(a-v*t);"
      ],
      "execution_count": null,
      "outputs": []
    },
    {
      "cell_type": "code",
      "metadata": {
        "id": "aQFZoL5kra9b"
      },
      "source": [
        "fig=mr.animate_particle_motion(zeta,[[-3,3],[-3,3],[-3,3]],'Motion in the e-prime frame')"
      ],
      "execution_count": null,
      "outputs": []
    },
    {
      "cell_type": "code",
      "metadata": {
        "id": "bcSg9EXura9b"
      },
      "source": [],
      "execution_count": null,
      "outputs": []
    }
  ]
}