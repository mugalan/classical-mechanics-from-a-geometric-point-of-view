{
  "nbformat": 4,
  "nbformat_minor": 0,
  "metadata": {
    "colab": {
      "provenance": [],
      "include_colab_link": true
    },
    "kernelspec": {
      "name": "python3",
      "display_name": "Python 3"
    },
    "language_info": {
      "name": "python"
    }
  },
  "cells": [
    {
      "cell_type": "markdown",
      "metadata": {
        "id": "view-in-github",
        "colab_type": "text"
      },
      "source": [
        "<a href=\"https://colab.research.google.com/github/mugalan/classical-mechanics-from-a-geometric-point-of-view/blob/main/mechanics/answers-to-selected-assignments/Sample_answer_to_oscillatory_motion_in_moving_frames.ipynb\" target=\"_parent\"><img src=\"https://colab.research.google.com/assets/colab-badge.svg\" alt=\"Open In Colab\"/></a>"
      ]
    },
    {
      "cell_type": "markdown",
      "source": [
        "#Import Python modules"
      ],
      "metadata": {
        "id": "uZ2dpkiv3RhU"
      }
    },
    {
      "cell_type": "code",
      "source": [
        "import numpy as np\n",
        "import scipy as sp\n",
        "from scipy.integrate import odeint\n",
        "import plotly.graph_objects as go\n",
        "\n",
        "import sympy as sym\n",
        "from sympy import symbols\n",
        "from sympy import *\n",
        "\n",
        "from sympy.physics.mechanics import dynamicsymbols, init_vprinting"
      ],
      "metadata": {
        "id": "hH6pq9F63Vdg"
      },
      "execution_count": null,
      "outputs": []
    },
    {
      "cell_type": "code",
      "source": [
        "init_vprinting()"
      ],
      "metadata": {
        "id": "BgGsaPhtKjPb"
      },
      "execution_count": null,
      "outputs": []
    },
    {
      "cell_type": "markdown",
      "source": [
        "# Sample Answer to the example of an oscillatory motion of a bead in a moving frame"
      ],
      "metadata": {
        "id": "l3gPLX__2R2V"
      }
    },
    {
      "cell_type": "markdown",
      "source": [
        "Consider three orthonormal frames $\\mathbf{e}$, $\\mathbf{c}$ and $\\mathbf{b}$ with coinciding origins. At any given time instant $t$ the frame $\\mathbf{c}$ is related to the frame $\\mathbf{e}$ by a counter clockwise rotation about the third axis by an angle $\\phi=\\alpha\\, t$ and the frame $\\mathbf{b}$ is related to the frame $\\mathbf{c}$ by a counter clockwise rotation about the first axis by an angle $\\theta=\\beta \\, t$ where $\\alpha$ and $\\beta$ are constant. Let $\\mathbf{b}=\\mathbf{e}R(t)$ where $R(t)\\in SO(3)$.\n",
        "\n",
        "A particle $P$ of mass $m$ is moving in space in such a way that it oscillates about the origin of the frames along the $\\mathbf{b}_2$ axis at a frequency of $\\omega$ rad/s with an amplitude of $r$ m. That is if $y$ is the displacement of $P$ along the $\\mathbf{b}_2$ axis then $y(t)=r\\cos(\\omega t)$."
      ],
      "metadata": {
        "id": "qBZXeDJ72XKX"
      }
    },
    {
      "cell_type": "markdown",
      "source": [
        "$\\mathbf{c}=\\mathbf{e}R_3(\\phi)$ and $\\mathbf{b}=\\mathbf{c}R_1(\\theta)$.\n",
        "\n",
        "Hence\n",
        "\\begin{align}\n",
        "\\mathbf{b}=\\mathbf{c}R_1(\\theta)=\\mathbf{e}R_3(\\phi)R_1(\\theta)\n",
        "\\end{align}"
      ],
      "metadata": {
        "id": "khkrMlx44xYn"
      }
    },
    {
      "cell_type": "markdown",
      "source": [
        "The angular velocity of the frame $\\mathbf{b}$ with respect to $\\mathbf{e}$ is the $\\mathbb{R}^3$ version of $\\widehat{\\Omega}=R^T\\dot{R}$.\n",
        "\n",
        "\\begin{align}\n",
        "\\widehat{\\Omega}&=R_1^TR_3^T(\\dot{R}_3R_1+R_3\\dot{R}_1)\\\\\n",
        "=&R_1^T(R_3^T\\dot{R}_3R_1+\\dot{R}_1)\\\\\n",
        "=&R_1(R_3^T\\dot{R}_3)R_1+R_1^T\\dot{R}_1\\\\\n",
        "\\end{align}\n",
        "which gives\n",
        "\\begin{align}\n",
        "\\Omega=&\\dot{\\phi}\\:R_1^T{e}_3+\\dot{\\theta}\\:{e}_1\\\\\n",
        "\\end{align}\n",
        "where\n",
        "$e_1=[1,0,0]^T$ and $e_3=[0,0,1]^T$."
      ],
      "metadata": {
        "id": "85Y7pgpv-qqU"
      }
    },
    {
      "cell_type": "markdown",
      "source": [
        "The motion variables of the particles in the $\\mathbf{e}$:\n",
        "\n",
        "\\begin{align}\n",
        "x&=RX\\\\\n",
        "\\dot{x}&=R\\left(\\widehat{\\Omega}X+\\dot{X}\\right)\\\\\n",
        "\\ddot{x}&=R\\left(\\widehat{\\Omega}^2X+2\\widehat{\\Omega}\\dot{X}+\\widehat{\\dot{\\Omega}}X+\\ddot{X}\\right)\n",
        "\\end{align}\n",
        "\n",
        "The angular momentum of the particle about the origin of the frames:\n",
        "\\begin{align}\n",
        "\\pi&=x\\times m\\dot{x}\\\\\n",
        "&=mR\\left(X\\times\\left(\\widehat{\\Omega}X+\\dot{X}\\right)\\right)\\\\\n",
        "&=R\\left(-m\\widehat{X}^2\\Omega+mX\\times\\dot{X}\\right)\\\\\n",
        "&=R\\left(\\mathbb{I}_p\\Omega+mX\\times\\dot{X}\\right)\n",
        "\\end{align}\n",
        "where $\\mathbb{I}_p\\triangleq-m\\widehat{X}^2$\n",
        "\n",
        "The rate of change of angular mometum is:\n",
        "\\begin{align}\n",
        "\\dot{\\pi}&=x\\times f\\\\\n",
        "&=R(X\\times F)\n",
        "\\end{align}\n",
        "where $f$ is the representation of the forces acting on the particle in the $\\mathbf{e}$ frame and $F$ is the representation of the forces acting on the particle in the $\\mathbf{b}$ frame."
      ],
      "metadata": {
        "id": "CXmQUzTZ6IBA"
      }
    },
    {
      "cell_type": "markdown",
      "source": [
        "If $F$ is the forces acting on the particle and represented in the $\\mathbf{b}$ frame we have from Newtons equations (assuming that the $\\mathbf{b}$ frame is an inertial frame):\n",
        "\\begin{align}\n",
        "m\\ddot{x}&=RF\n",
        "\\end{align}\n",
        "which gives\n",
        "\\begin{align}\n",
        "m\\left(\\widehat{\\Omega}^2X+2\\widehat{\\Omega}\\dot{X}+\\widehat{\\dot{\\Omega}}X+\\ddot{X}\\right)&=F\n",
        "\\end{align}"
      ],
      "metadata": {
        "id": "w4DeecTd7PW_"
      }
    },
    {
      "cell_type": "markdown",
      "source": [
        "## Symbolic computation"
      ],
      "metadata": {
        "id": "UmoYa1qpT3qT"
      }
    },
    {
      "cell_type": "code",
      "source": [
        "init_vprinting()\n",
        "m, r, t, alpha, beta, omega=symbols('m, r, t, alpha, beta, omega')\n",
        "y, phi, theta=dynamicsymbols('y, phi, theta',real=True)"
      ],
      "metadata": {
        "id": "EeDPvAbk2sFn"
      },
      "execution_count": null,
      "outputs": []
    },
    {
      "cell_type": "code",
      "source": [
        "X=Matrix([0,y,0])"
      ],
      "metadata": {
        "id": "KFR8C_mGG1gF"
      },
      "execution_count": null,
      "outputs": []
    },
    {
      "cell_type": "code",
      "source": [
        "R1_theta=Matrix([[1,0,0],[0,cos(theta),-sin(theta)],[0,sin(theta),cos(theta)]])\n",
        "R3_phi=Matrix([[cos(phi),-sin(phi),0],[sin(phi),cos(phi),0],[0,0,1]])\n",
        "R=R3_phi @ R1_theta"
      ],
      "metadata": {
        "id": "_xSMvNHd38Zc"
      },
      "execution_count": null,
      "outputs": []
    },
    {
      "cell_type": "code",
      "source": [
        "hatOmega=simplify(R.T*R.diff(t))"
      ],
      "metadata": {
        "id": "URbH_JiADm-v"
      },
      "execution_count": null,
      "outputs": []
    },
    {
      "cell_type": "code",
      "source": [
        "hatOmega"
      ],
      "metadata": {
        "id": "Tnz6slsvHMQD"
      },
      "execution_count": null,
      "outputs": []
    },
    {
      "cell_type": "code",
      "source": [
        "hatOmegadot=hatOmega.diff(t)"
      ],
      "metadata": {
        "id": "7R6PowXVSj8x"
      },
      "execution_count": null,
      "outputs": []
    },
    {
      "cell_type": "code",
      "source": [
        "hatOmegadot"
      ],
      "metadata": {
        "id": "ng9NmFtgSpsj"
      },
      "execution_count": null,
      "outputs": []
    },
    {
      "cell_type": "code",
      "source": [
        "Omega=Matrix([-hatOmega[1,2],hatOmega[0,2],-hatOmega[0,1]])"
      ],
      "metadata": {
        "id": "YmsMI7FYIkEA"
      },
      "execution_count": null,
      "outputs": []
    },
    {
      "cell_type": "code",
      "source": [
        "Omega"
      ],
      "metadata": {
        "id": "YRqhiSu8I3R8"
      },
      "execution_count": null,
      "outputs": []
    },
    {
      "cell_type": "code",
      "source": [
        "Xdot=X.diff(t)\n",
        "Xddot=X.diff(t,2)"
      ],
      "metadata": {
        "id": "9JdZtr3LHp9k"
      },
      "execution_count": null,
      "outputs": []
    },
    {
      "cell_type": "code",
      "source": [
        "F=m*(hatOmega**2*X+2*hatOmega*Xdot+hatOmegadot*X+Xddot)"
      ],
      "metadata": {
        "id": "COdsNrgdHXIF"
      },
      "execution_count": null,
      "outputs": []
    },
    {
      "cell_type": "code",
      "source": [
        "F"
      ],
      "metadata": {
        "id": "Uk-aL6wdHxL1"
      },
      "execution_count": null,
      "outputs": []
    },
    {
      "cell_type": "code",
      "source": [
        "hatX=Matrix([[0,0,y],[0,0,0],[-y,0,0]])\n",
        "Ip=-m*hatX**2"
      ],
      "metadata": {
        "id": "GA2mw--EH3ZO"
      },
      "execution_count": null,
      "outputs": []
    },
    {
      "cell_type": "code",
      "source": [
        "pi=R*(Ip * Omega + m*hatX * Xdot)"
      ],
      "metadata": {
        "id": "Xjh2Byt4IR-q"
      },
      "execution_count": null,
      "outputs": []
    },
    {
      "cell_type": "code",
      "source": [
        "pi"
      ],
      "metadata": {
        "id": "I-2mr080O9E_"
      },
      "execution_count": null,
      "outputs": []
    },
    {
      "cell_type": "code",
      "source": [
        "y_expr = r * cos(omega * t)\n",
        "phi_expr = alpha * t\n",
        "theta_expr = beta * t\n",
        "\n",
        "y_dot_expr = y_expr.diff(t)\n",
        "y_ddot_expr = y_dot_expr.diff(t)\n",
        "\n",
        "phi_dot_expr = phi_expr.diff(t)\n",
        "phi_ddot_expr = phi_dot_expr.diff(t)\n",
        "theta_dot_expr = theta_expr.diff(t)\n",
        "theta_ddot_expr = theta_dot_expr.diff(t)\n",
        "\n",
        "F_subs = F.subs({\n",
        "    y: y_expr,\n",
        "    y.diff(t): y_dot_expr,\n",
        "    y.diff(t, 2): y_ddot_expr,\n",
        "    phi: phi_expr,\n",
        "    phi.diff(t): phi_dot_expr,\n",
        "    phi.diff(t,2): phi_ddot_expr,\n",
        "    theta: theta_expr,\n",
        "    theta.diff(t): theta_dot_expr,\n",
        "    theta.diff(t,2): theta_ddot_expr\n",
        "})\n",
        "\n",
        "F_simplified = simplify(F_subs)\n",
        "\n",
        "# Display the simplified force expression\n",
        "F_simplified"
      ],
      "metadata": {
        "id": "Tg7pcNZALOlD"
      },
      "execution_count": null,
      "outputs": []
    },
    {
      "cell_type": "code",
      "source": [
        "pi_subs= pi.subs({\n",
        "    y: y_expr,\n",
        "    y.diff(t): y_dot_expr,\n",
        "    y.diff(t, 2): y_ddot_expr,\n",
        "    phi: phi_expr,\n",
        "    phi.diff(t): phi_dot_expr,\n",
        "    phi.diff(t,2): phi_ddot_expr,\n",
        "    theta: theta_expr,\n",
        "    theta.diff(t): theta_dot_expr,\n",
        "    theta.diff(t,2): theta_ddot_expr\n",
        "})\n",
        "pi_simplified = simplify(pi_subs)\n",
        "pi_simplified"
      ],
      "metadata": {
        "id": "KO3UNdljOwIg"
      },
      "execution_count": null,
      "outputs": []
    },
    {
      "cell_type": "code",
      "source": [],
      "metadata": {
        "id": "FBR1jAKaPGb6"
      },
      "execution_count": null,
      "outputs": []
    },
    {
      "cell_type": "code",
      "source": [],
      "metadata": {
        "id": "gyqqHlAlPLA4"
      },
      "execution_count": null,
      "outputs": []
    }
  ]
}