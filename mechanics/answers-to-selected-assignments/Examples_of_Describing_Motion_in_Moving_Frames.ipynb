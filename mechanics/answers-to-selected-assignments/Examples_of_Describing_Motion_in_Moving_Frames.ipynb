{
  "nbformat": 4,
  "nbformat_minor": 0,
  "metadata": {
    "colab": {
      "provenance": [],
      "include_colab_link": true
    },
    "kernelspec": {
      "name": "python3",
      "display_name": "Python 3"
    },
    "language_info": {
      "name": "python"
    }
  },
  "cells": [
    {
      "cell_type": "markdown",
      "metadata": {
        "id": "view-in-github",
        "colab_type": "text"
      },
      "source": [
        "<a href=\"https://colab.research.google.com/github/mugalan/classical-mechanics-from-a-geometric-point-of-view/blob/main/mechanics/answers-to-selected-assignments/Examples_of_Describing_Motion_in_Moving_Frames.ipynb\" target=\"_parent\"><img src=\"https://colab.research.google.com/assets/colab-badge.svg\" alt=\"Open In Colab\"/></a>"
      ]
    },
    {
      "cell_type": "markdown",
      "metadata": {
        "id": "VRHgjvu0jFRO"
      },
      "source": [
        "Examples of Description of Motion in Moving Frames\n",
        "\n",
        "* This solution was worked out by Chathuska Chamith (chathushkachamith11@gmail.com)\n"
      ]
    },
    {
      "cell_type": "code",
      "metadata": {
        "id": "KjEhi6yOSxqH"
      },
      "source": [
        "import math as m\n",
        "import numpy as np\n",
        "from scipy.integrate import odeint\n",
        "import plotly.graph_objects as go\n",
        "\n",
        "from sympy import symbols\n",
        "from sympy import *\n",
        "\n",
        "from sympy.physics.mechanics import dynamicsymbols\n",
        "\n",
        "#\n",
        "from sympy.physics.vector import init_vprinting\n",
        "init_vprinting(pretty_print=False)"
      ],
      "execution_count": null,
      "outputs": []
    },
    {
      "cell_type": "code",
      "metadata": {
        "id": "DEcc83Z6jNqx"
      },
      "source": [
        "class mugas_dynamic_systems_simulation_functions:\n",
        "\n",
        "  def __init__(self):\n",
        "    self=[];\n",
        "\n",
        "  def simulateDySystem(self, dynamicSystemModel, Tmax, dT, X0, sysPara, figTitle, xLabel, yLabel):\n",
        "    t = np.linspace(0, Tmax, int(Tmax/dT+1))\n",
        "    sol = odeint(dynamicSystemModel, X0, t, args=(sysPara,));\n",
        "    self.soln=sol;\n",
        "    fig = go.Figure()\n",
        "    [nt,nS]=sol.shape;\n",
        "\n",
        "    # Add traces\n",
        "    for nn in range(nS):\n",
        "      fig.add_trace(go.Scatter(x=t, y=sol[:,nn], mode='lines+markers', name='x'+str(nn+1)))\n",
        "      fig.update_layout(title=figTitle, xaxis=dict(title=xLabel),yaxis=dict(title=yLabel))\n",
        "\n",
        "    fig.show()\n",
        "    return [t,sol,fig]\n",
        "\n",
        "  def Q3simu(X_0, Parem, dT, tsampl):\n",
        "    X_n = X_0\n",
        "    X_n = np.array(X_n)\n",
        "    X_n = np.t\n",
        "    #for i in range(tsampl):\n",
        "\n",
        "\n",
        "  def animate_particle_motion(self, XX, axisRange, figTitle):\n",
        "    xx=[jj[0] for jj in XX]\n",
        "    yy=[jj[1] for jj in XX]\n",
        "    zz=[jj[2] for jj in XX]\n",
        "\n",
        "    fig = go.Figure(\n",
        "        data=[go.Scatter3d(x=[xx[0]], y=[yy[0]],z=[zz[0]],\n",
        "                        mode=\"markers\",\n",
        "                        marker=dict(color=\"red\", size=10)),\n",
        "              go.Scatter3d(x=xx, y=yy,z=zz, name='Path',\n",
        "                        mode=\"lines\",\n",
        "                        line=dict(color=\"blue\", width=2))],\n",
        "        layout=go.Layout(\n",
        "            scene = dict(\n",
        "                        xaxis=dict(range=axisRange[0], autorange=False),\n",
        "                        yaxis=dict(range=axisRange[1], autorange=False),\n",
        "                        zaxis=dict(range=axisRange[2], autorange=False),\n",
        "                        aspectratio=dict(x=1, y=1, z=1),\n",
        "            ),\n",
        "            title_text=figTitle, hovermode=\"closest\",\n",
        "            updatemenus=[dict(type=\"buttons\",\n",
        "                              buttons=[dict(label=\"Play\",\n",
        "                                            method=\"animate\",\n",
        "                                            args=[None])])]),\n",
        "        frames=[go.Frame(\n",
        "            data=[go.Scatter3d(\n",
        "                x=[p[0]],\n",
        "                y=[p[1]],\n",
        "                z=[p[2]],\n",
        "                name='Particle',\n",
        "                mode=\"markers\",\n",
        "                marker=dict(color=\"red\", size=10))])\n",
        "\n",
        "            for p in XX]\n",
        "    )\n",
        "\n",
        "    fig.show()\n",
        "    return fig"
      ],
      "execution_count": null,
      "outputs": []
    },
    {
      "cell_type": "code",
      "source": [
        "md=mugas_dynamic_systems_simulation_functions()"
      ],
      "metadata": {
        "id": "cK1LqZc6XY1s"
      },
      "execution_count": null,
      "outputs": []
    },
    {
      "cell_type": "markdown",
      "metadata": {
        "id": "rEzM2SMGJSC_"
      },
      "source": [
        "# Q1 - Consider the bead in a slotted disk as shown below and answer the questions that follow."
      ]
    },
    {
      "cell_type": "markdown",
      "metadata": {
        "id": "dgrlgEbeJA0x"
      },
      "source": [
        "![disk_2D.png](data:image/png;base64,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)"
      ]
    },
    {
      "cell_type": "markdown",
      "metadata": {
        "id": "ufdXua-dGtaW"
      },
      "source": [
        "Consider the ball of mass $m$ constrained to move as shown in the figure above. The orthonormal frame $\\mathbf{e}$ is an earth fixed frame with origin at the centre of the disk and the orthonormal frame $\\mathbf{b}$ is fixed to the disk with origin at the centre of the disk.  The disk is rotating about the $\\mathbf{e}_3$ axis. Gravity acts in the negative $\\mathbf{e}_3$ direction and the disk and the mass lies on a smooth horizontal surface. The un-stretched length of the spring is $y_0$.\n",
        "\n",
        "The position of the ball can be represented as $x$ in the $\\mathbf{e}$ frame and as $X$ in the $\\mathbf{b}$ frame. The forces acting on the ball can be represented as $f$ in the $\\mathbf{e}$ frame and as $F$ in the $\\mathbf{b}$ frame. Answer the following with detailed justification:\n",
        "\n",
        "* Write down $x$ and $X$.\n",
        "\n",
        "* Write down $f$ and $F$.\n",
        "\n",
        "* Show that the two frames $\\mathbf{b}$ and $\\mathbf{e}$ are related by $\\mathbf{b}=\\mathbf{e}\\,R$ where $R\\in SO(3)$ and is explicitly given by\n",
        "\n",
        "\\begin{align}\n",
        "R=\\begin{bmatrix} \\cos{\\theta} & -\\sin{\\theta} & 0\\\\ \\sin{\\theta} & \\cos{\\theta} & 0\\\\ 0 & 0 & 1\n",
        "\\end{bmatrix}\n",
        "\\end{align}\n",
        "\n",
        "* Show that\n",
        "\\begin{align}\n",
        "\\widehat{\\Omega}=\\begin{bmatrix} 0 & -\\dot{\\theta} & 0\\\\ \\dot{\\theta} & 0 & 0\\\\ 0 & 0 & 0\n",
        "\\end{bmatrix}\n",
        "\\end{align}\n",
        "\n",
        "* Show that\n",
        "\\begin{align}\n",
        "\\widehat{\\Omega}^2=-\\dot{\\theta}^2\\begin{bmatrix} 1 & 0 & 0\\\\ 0 & 1 & 0\\\\ 0 & 0 & 0\n",
        "\\end{bmatrix}\n",
        "\\end{align}\n",
        "\n",
        "* Show that\n",
        "\n",
        "\\begin{align}\n",
        "\\ddot{x}=R\\left(\\widehat{\\Omega}^2X+2\\widehat{\\Omega}X+\\dot{\\widehat{\\Omega}}X+\\ddot{X}\\right)\n",
        "\\end{align}\n",
        "\n",
        "* Show that Newton's equations for the ball is given by\n",
        "\\begin{align}\n",
        "m\\left(\\widehat{\\Omega}^2X+2\\widehat{\\Omega}X+\\dot{\\widehat{\\Omega}}X+\\ddot{X}\\right)=F.\n",
        "\\end{align}\n",
        "\n",
        "* Thus show that\n",
        "\\begin{align}\n",
        "\\begin{bmatrix}\n",
        "m(\\ddot{y}-y\\dot{\\theta}^2) \\\\ m(2\\dot{y}\\dot{\\theta}+y\\ddot{\\theta})\\\\ 0\n",
        "\\end{bmatrix}=\n",
        "\\begin{bmatrix}\n",
        "-k(y-y_0) \\\\ N_2\\\\ N_3-mg\n",
        "\\end{bmatrix}.\n",
        "\\end{align}\n",
        "\n",
        "* Simulate the motion for different initial conditions.\n"
      ]
    },
    {
      "cell_type": "code",
      "metadata": {
        "id": "qHET5KxRHmEP"
      },
      "source": [
        "# Defining X, F, R\n",
        "theta, y = dynamicsymbols('theta y')\n",
        "k, y0, N2, N3, m, g, t = symbols('k y_0 N_2 N_3 m g t', real=True)\n",
        "\n",
        "X = Matrix([y, 0, 0])\n",
        "\n",
        "F = Matrix([-k*(y-y0), N2, N3-m*g])\n",
        "\n",
        "R = Matrix([[cos(theta), -sin(theta), 0], [sin(theta), cos(theta), 0], [0, 0, 1]])"
      ],
      "execution_count": null,
      "outputs": []
    },
    {
      "cell_type": "markdown",
      "metadata": {
        "id": "K0OOmRaUfdN6"
      },
      "source": [
        "Newton's equations in the moving frame $\\mathbf{b}$ is\n",
        "\\begin{align}\n",
        "m\\left(\\widehat{\\Omega}^2X+2\\widehat{\\Omega}\\dot{X}+\\dot{\\widehat{\\Omega}}X+\\ddot{X}\\right)=F\n",
        "\\end{align}"
      ]
    },
    {
      "cell_type": "markdown",
      "metadata": {
        "id": "0l5AZwx0aHwS"
      },
      "source": [
        "Finding $\\widehat{\\Omega}$\n",
        "\\begin{align}\n",
        "\\widehat{\\Omega}=R^T\\dot{R}\n",
        "\\end{align}"
      ]
    },
    {
      "cell_type": "code",
      "metadata": {
        "id": "FO697Pn7dyHy"
      },
      "source": [
        "dR = Derivative(R)\n",
        "dR = dR.doit()\n",
        "OmegaHat = simplify(R.T @ dR)\n",
        "OmegaHat"
      ],
      "execution_count": null,
      "outputs": []
    },
    {
      "cell_type": "code",
      "source": [
        "latex(OmegaHat)"
      ],
      "metadata": {
        "id": "LPwZXuZS5bbr"
      },
      "execution_count": null,
      "outputs": []
    },
    {
      "cell_type": "markdown",
      "metadata": {
        "id": "7AB9uGVRc_xy"
      },
      "source": [
        "Finding $\\widehat{\\Omega}^2$"
      ]
    },
    {
      "cell_type": "code",
      "metadata": {
        "id": "iF3xCoqGd5_6"
      },
      "source": [
        "OmegaHatSquare = simplify(OmegaHat ** 2)\n",
        "OmegaHatSquare"
      ],
      "execution_count": null,
      "outputs": []
    },
    {
      "cell_type": "markdown",
      "source": [
        "Finding $\\left(\\widehat{\\Omega}^2X+2\\widehat{\\Omega}\\dot{X}+\\dot{\\widehat{\\Omega}}X+\\ddot{X}\\right)$"
      ],
      "metadata": {
        "id": "w6rgzfoVT-H5"
      }
    },
    {
      "cell_type": "code",
      "metadata": {
        "id": "2qtXpL1Djrwx"
      },
      "source": [
        "dOmegaHat = Derivative(OmegaHat)\n",
        "dOmegaHat = simplify(dOmegaHat)\n",
        "\n",
        "dX = Derivative(X)\n",
        "dX = simplify(dX)\n",
        "ddX = Derivative(dX)\n",
        "ddX = simplify(ddX)\n",
        "#Find\n",
        "RHS = OmegaHatSquare*X + 2*OmegaHat*dX + dOmegaHat*X + ddX"
      ],
      "execution_count": null,
      "outputs": []
    },
    {
      "cell_type": "code",
      "metadata": {
        "id": "fy69PIQDfr6a"
      },
      "source": [
        "RHS"
      ],
      "execution_count": null,
      "outputs": []
    },
    {
      "cell_type": "code",
      "metadata": {
        "id": "JE4Xgg1-yfXy"
      },
      "source": [
        "F"
      ],
      "execution_count": null,
      "outputs": []
    },
    {
      "cell_type": "markdown",
      "metadata": {
        "id": "HxPigVg__SZo"
      },
      "source": [
        "Hence equations of motion for the bead are\n",
        "\\begin{align}\n",
        "\\begin{bmatrix}\n",
        "m(\\ddot{y}-y\\dot{\\theta}^2) \\\\ m(2\\dot{y}\\dot{\\theta}+y\\ddot{\\theta})\\\\ 0\n",
        "\\end{bmatrix}=\n",
        "\\begin{bmatrix}\n",
        "-k(y-y_0) \\\\ N_2\\\\ N_3-mg\n",
        "\\end{bmatrix}.\n",
        "\\end{align}"
      ]
    },
    {
      "cell_type": "markdown",
      "metadata": {
        "id": "ejHgpTOjo0t7"
      },
      "source": [
        "Consider $\\ddot{y}=-(k/m)(y-y_0)+y\\dot{\\theta}^2$\n",
        "\n",
        "Let $X_1=y$ and $X_2=\\dot{y}$\n",
        "\n",
        "Then, $\\dot{X_1}=X_2$\n",
        "\n",
        "and $\\dot{X_2}=-(k/m)(X_1-y_0)+X_1\\dot{\\theta}^2$\n",
        "\n",
        "If $X=\\begin{bmatrix}\n",
        "X_1 \\\\ X_2\n",
        "\\end{bmatrix}$\n",
        "\n",
        "Then\n",
        "\\begin{align}\n",
        "\\dot{X}=f(X)\n",
        "\\end{align}\n",
        "\n",
        "Where\n",
        "\\begin{align}\n",
        "f(X)=\\begin{bmatrix}\n",
        "X_2 \\\\ -(k/m)(X_1-y_0)+X_1\\dot{\\theta}^2\n",
        "\\end{bmatrix}\n",
        "\\end{align}\n",
        "\n",
        "Augmenting the state with $\\theta$ we have\n",
        "\\begin{align}\n",
        "X=\\begin{bmatrix}\n",
        "X_1 \\\\ X_2 \\\\ X_3\n",
        "\\end{bmatrix}\n",
        "\\end{align}\n",
        "\n",
        "where $X_3=\\theta$\n",
        "\n",
        "Then\n",
        "\\begin{align}\n",
        "\\dot{X}=f(X)\n",
        "\\end{align}\n",
        "\n",
        "Where\n",
        "\\begin{align}\n",
        "f(X)=\\begin{bmatrix}\n",
        "X_2 \\\\ -(k/m)(X_1-y_0)+X_1\\dot{\\theta}^2 \\\\ \\dot{\\theta}\n",
        "\\end{bmatrix}\n",
        "\\end{align}"
      ]
    },
    {
      "cell_type": "code",
      "metadata": {
        "id": "_3erM4lrSthR"
      },
      "source": [
        "def bead_in_slotted_disk (X,t, parameters):\n",
        "  g=9.806;\n",
        "  m=1;\n",
        "  k=5;\n",
        "  y0 = parameters[1];\n",
        "  dtheta=parameters[0];\n",
        "  y=X[0];\n",
        "  dy=X[1];\n",
        "  ddy=y*dtheta**2-(k/m)*(y-y0);\n",
        "  return [dy, ddy, dtheta]"
      ],
      "execution_count": null,
      "outputs": []
    },
    {
      "cell_type": "code",
      "metadata": {
        "id": "aBR_wG24U_iW"
      },
      "source": [
        "def simulateDySystem(dynamicSystemModel, Tmax, dT, X0, sysPara, figTitle, xLabel, yLabel):\n",
        "    t = np.linspace(0, Tmax, int(Tmax/dT+1))\n",
        "    sol = odeint(dynamicSystemModel, X0, t, args=(sysPara,));\n",
        "    #self.soln=sol;\n",
        "    fig = go.Figure()\n",
        "    [nt,nS]=sol.shape;\n",
        "\n",
        "    # Add traces\n",
        "    for nn in range(nS):\n",
        "      fig.add_trace(go.Scatter(x=t, y=sol[:,nn], mode='lines+markers', name='x'+str(nn+1)))\n",
        "      fig.update_layout(title=figTitle, xaxis=dict(title=xLabel),yaxis=dict(title=yLabel))\n",
        "\n",
        "    fig.show()\n",
        "    return [t,sol,fig]"
      ],
      "execution_count": null,
      "outputs": []
    },
    {
      "cell_type": "code",
      "metadata": {
        "id": "lMCbu0chVnU_"
      },
      "source": [
        "Natural_Length=0.8;\n",
        "omega=0.5;\n",
        "y=1\n",
        "dy=0\n",
        "theta_init=0\n",
        "[t,sol,fig]=simulateDySystem(bead_in_slotted_disk, 25,0.05, [1,0,theta_init], [omega, Natural_Length], 'Bead_in_slotted_disk', 'Time / t', '$y,\\dot{y},\\\\theta$')"
      ],
      "execution_count": null,
      "outputs": []
    },
    {
      "cell_type": "code",
      "metadata": {
        "id": "Pg4ZVq8fjVGA"
      },
      "source": [
        "md=mugas_dynamic_systems_simulation_functions()"
      ],
      "execution_count": null,
      "outputs": []
    },
    {
      "cell_type": "code",
      "metadata": {
        "id": "Tu_DaxDiLvwH"
      },
      "source": [
        "XX=np.zeros((len(t),3));\n",
        "for i,tt in enumerate(t):\n",
        "  y=sol[i][0]\n",
        "  theta = sol[i][2]\n",
        "  # write as x=RX as well\n",
        "  XX[i,:]=[y*np.cos(theta),y*np.sin(theta),0];"
      ],
      "execution_count": null,
      "outputs": []
    },
    {
      "cell_type": "code",
      "metadata": {
        "id": "MYGYjCe5L3v3"
      },
      "source": [
        "fig=md.animate_particle_motion(XX,[[-2,2],[-2,2],[-2,2]],'Motion Observed in the e-frame')"
      ],
      "execution_count": null,
      "outputs": []
    },
    {
      "cell_type": "markdown",
      "metadata": {
        "id": "RvI4kqUeKY2z"
      },
      "source": [
        "# Q2 - Consider a ball of mass $m$ constrained to move as shown in the figure below. The orthonormal frame $\\mathbf{e}$ is an earth fixed frame with origin at the centre of the disk. The orthonormal frame $\\mathbf{b}$ is fixed to the disk. The disk is rotating about a vertical axis (that is about the $\\mathbf{e}_3$ axis). Write down the equations of motion of the mass and simulate the system for various different initial conditions."
      ]
    },
    {
      "cell_type": "markdown",
      "metadata": {
        "id": "kUfF4KajKi6l"
      },
      "source": [
        "![RotatingDiskMassInSlot1.png](data:image/png;base64,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)"
      ]
    },
    {
      "cell_type": "code",
      "source": [
        "# Defining X, F, R\n",
        "theta, y = dynamicsymbols('theta y')\n",
        "k, d, N1, N3, m, g, t = symbols('k d N_1 N_3 m g t', real=True)\n",
        "\n",
        "X = Matrix([0, y, d])\n",
        "\n",
        "F = Matrix([N1,-k*y, N3-m*g])\n",
        "\n",
        "R = Matrix([[cos(theta), -sin(theta), 0], [sin(theta), cos(theta), 0], [0, 0, 1]])\n",
        "dR = Derivative(R)\n",
        "dR = dR.doit()\n",
        "OmegaHat = simplify(R.T @ dR)\n",
        "OmegaHatSquare = simplify(OmegaHat ** 2)\n",
        "\n",
        "dOmegaHat = Derivative(OmegaHat)\n",
        "dOmegaHat = simplify(dOmegaHat)\n",
        "\n",
        "dX = Matrix([0,Derivative(y),0])\n",
        "dX = simplify(dX)\n",
        "ddX = Derivative(dX)\n",
        "ddX = simplify(ddX)\n",
        "#Find\n",
        "RHS = OmegaHatSquare*X + 2*OmegaHat*dX + dOmegaHat*X + ddX\n"
      ],
      "metadata": {
        "id": "nKLlXnAsXMHB"
      },
      "execution_count": null,
      "outputs": []
    },
    {
      "cell_type": "code",
      "source": [
        "RHS"
      ],
      "metadata": {
        "id": "EdAAygvlYGQc"
      },
      "execution_count": null,
      "outputs": []
    },
    {
      "cell_type": "code",
      "source": [
        "F"
      ],
      "metadata": {
        "id": "AJXGPBNCbpUv"
      },
      "execution_count": null,
      "outputs": []
    },
    {
      "cell_type": "markdown",
      "source": [
        "Equations of motion are\n",
        "$m\\ddot{y}=my\\dot{\\theta}^2-ky$"
      ],
      "metadata": {
        "id": "fCBvko-Mb0qE"
      }
    },
    {
      "cell_type": "code",
      "metadata": {
        "id": "x8wg7UkaQyrv"
      },
      "source": [
        "def bead_in_slotted_disk_2(X, t, sysParameters):\n",
        "  X1=X[0]; X2=X[1]; X3 = X[2];\n",
        "  m=sysParameters[0]; k=sysParameters[1];\n",
        "  thetaDot=sysParameters[2];\n",
        "  dXdt=[X2, thetaDot**2*X1-k*X1/m, thetaDot];\n",
        "  return dXdt"
      ],
      "execution_count": null,
      "outputs": []
    },
    {
      "cell_type": "code",
      "metadata": {
        "id": "oFfOaUAGSSW2"
      },
      "source": [
        "m=1; k=4; y0=0.4; dtheta=0.2; thetai = 0;\n",
        "[t,sol,fig]=md.simulateDySystem(bead_in_slotted_disk_2, 32,0.2, [1.5,0,thetai], [m,k,dtheta], '$y(t) \\hspace{3mm}and\\hspace{3mm} \\dot{y}(t)\\hspace{3mm} vs\\hspace{3mm} t$', 'Time / t', '$y, \\dot{y}, \\\\theta$')"
      ],
      "execution_count": null,
      "outputs": []
    },
    {
      "cell_type": "code",
      "source": [
        "d = 2"
      ],
      "metadata": {
        "id": "CKZ_4ElKLqxP"
      },
      "execution_count": null,
      "outputs": []
    },
    {
      "cell_type": "code",
      "metadata": {
        "id": "JpHuU1MNROe4"
      },
      "source": [
        "XX=np.zeros((len(t),3));\n",
        "for i,tt in enumerate(t):\n",
        "  y=sol[i][0]\n",
        "  theta = sol[i][2]\n",
        "  XX[i,:]=[-y*np.sin(theta),y*np.cos(theta),d];"
      ],
      "execution_count": null,
      "outputs": []
    },
    {
      "cell_type": "code",
      "metadata": {
        "id": "R9H-QQxeTPNf"
      },
      "source": [
        "fig=md.animate_particle_motion(XX,[[-3,3],[-3,3],[-3,3]],'Motion Observed in the e-frame')"
      ],
      "execution_count": null,
      "outputs": []
    },
    {
      "cell_type": "markdown",
      "metadata": {
        "id": "QpDDAUu_K7eC"
      },
      "source": [
        "# Q3 - Consider a ball of mass $m$ constrained to move as shown in figure. The orthonormal frame $\\mathbf{e}$ is an earth fixed frame with origin at the centre of the disk. The orthonormal frame $\\mathbf{c}$ is fixed to the disk. The disk is rotating about a vertical axis (that is about the $\\mathbf{e}_3$ axis) and about an axis through its centre that is perpendicular to the disk (that is about the $\\mathbf{c}_1$ axis). Write down the equations of motion of the mass and simulate its motion for various different initial conditions."
      ]
    },
    {
      "cell_type": "markdown",
      "metadata": {
        "id": "3uUhW-9JLJO9"
      },
      "source": [
        "![RotatingDiskMassInSlot2.png](data:image/png;base64,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)"
      ]
    },
    {
      "cell_type": "code",
      "metadata": {
        "id": "wSKve3ZWV0K_"
      },
      "source": [
        "theta, phi, y = dynamicsymbols('theta phi y')\n",
        "k, d, y0, N1, N3, m, g, t = symbols('k d y_0 N_2 N_3 m g t', real=True)"
      ],
      "execution_count": null,
      "outputs": []
    },
    {
      "cell_type": "code",
      "metadata": {
        "id": "F7qQtzCeoTNd"
      },
      "source": [
        "R3 = Matrix([[cos(theta), -sin(theta), 0], [sin(theta), cos(theta), 0], [0, 0, 1]])\n",
        "R1 = Matrix([[1, 0, 0], [0, cos(phi), -sin(phi)], [0, sin(phi), cos(phi)]])\n",
        "\n",
        "R = R3 @ R1\n",
        "\n",
        "X = Matrix([0, y, d])\n",
        "\n",
        "F = Matrix([N1, -k*(y-y0), N3])-m*g*R1 @ Matrix([0, 0, 1])\n",
        "dR = Derivative(R)\n",
        "dR = dR.doit()\n",
        "OmegaHat = simplify(R.T @ dR)\n",
        "OmegaHatSquare = simplify(OmegaHat ** 2)"
      ],
      "execution_count": null,
      "outputs": []
    },
    {
      "cell_type": "code",
      "source": [
        "R3"
      ],
      "metadata": {
        "id": "u0RRIY81SdZ6"
      },
      "execution_count": null,
      "outputs": []
    },
    {
      "cell_type": "code",
      "metadata": {
        "id": "1tPKIU1sY8de"
      },
      "source": [
        "dOmegaHat = Derivative(OmegaHat)\n",
        "dOmegaHat = simplify(dOmegaHat)\n",
        "\n",
        "dX = Matrix([0,Derivative(y),0])\n",
        "dX = simplify(dX)\n",
        "ddX = Derivative(dX)\n",
        "ddX = simplify(ddX)\n",
        "\n",
        "RHS = OmegaHatSquare*X + 2*OmegaHat*dX + dOmegaHat*X + ddX\n",
        "RHS"
      ],
      "execution_count": null,
      "outputs": []
    },
    {
      "cell_type": "code",
      "metadata": {
        "id": "Via-g_JPZpqg"
      },
      "source": [
        "F"
      ],
      "execution_count": null,
      "outputs": []
    },
    {
      "cell_type": "markdown",
      "source": [
        "Angular Momentum of the mass is given by\n",
        "\\begin{align*}\n",
        "\\pi_p&=R\\left(-m_p\\widehat{X}_p^2\\Omega+m_pX_p\\times \\dot{X}_p\\right),\n",
        "\\end{align*}"
      ],
      "metadata": {
        "id": "eSsHtfFtRYYc"
      }
    },
    {
      "cell_type": "code",
      "source": [
        "Omega=Matrix([[-OmegaHat[1,2]],[OmegaHat[0,2]],[-OmegaHat[0,1]]])"
      ],
      "metadata": {
        "id": "nFVvaZ1_SiVf"
      },
      "execution_count": null,
      "outputs": []
    },
    {
      "cell_type": "code",
      "source": [
        "Xhat=Matrix([[0, -X[2], X[1]],[X[2],0,-X[0]],[-X[1], X[0], 0]])"
      ],
      "metadata": {
        "id": "GkEPtih7TbIH"
      },
      "execution_count": null,
      "outputs": []
    },
    {
      "cell_type": "code",
      "source": [
        "Pi=m*(-Xhat**2@Omega+Xhat@dX)"
      ],
      "metadata": {
        "id": "nHXSkTwxRXen"
      },
      "execution_count": null,
      "outputs": []
    },
    {
      "cell_type": "code",
      "source": [
        "{m}**2*(-{d}*{dy} + ({d}**2 + {y}**2)*{dphi})**2 + {m}**2*({d}**2*sin({phi})*{dtheta} - {d}*{y}*cos({phi})*{dtheta})**2 + {m}**2*(-{d}*{y}*sin({phi})*{dtheta} + {y}**2*cos({phi})*{dtheta})**2"
      ],
      "metadata": {
        "id": "cmBDGGHFU5yJ"
      },
      "execution_count": null,
      "outputs": []
    },
    {
      "cell_type": "code",
      "metadata": {
        "id": "WccVbqnPaJI1"
      },
      "source": [
        "def bead_in_slotted_disk_3 (X,t, parameters):\n",
        "  g=9.806;\n",
        "  m=1;\n",
        "  k=5;\n",
        "  y0 = parameters[0];\n",
        "  d = parameters[1]\n",
        "  dtheta=parameters[2];\n",
        "  dphi = parameters[3];\n",
        "\n",
        "  y=X[0];\n",
        "  dy=X[1];\n",
        "  phi =X[3]\n",
        "  ddy=y*dphi**2-(k/m)*(y-y0)+y*cos(phi)*cos(phi)*dtheta**2+(d/2)*sin(2*phi)*dtheta**2+m*g*sin(phi);\n",
        "  return [dy, ddy, dtheta, dphi]\n",
        "\n",
        "def simulateDySystem(dynamicSystemModel, Tmax, dT, X0, sysPara, figTitle, xLabel, yLabel):\n",
        "    t = np.linspace(0, Tmax, int(Tmax/dT+1))\n",
        "    sol = odeint(dynamicSystemModel, X0, t, args=(sysPara,));\n",
        "    #self.soln=sol;\n",
        "    fig = go.Figure()\n",
        "    [nt,nS]=sol.shape;\n",
        "\n",
        "    # Add traces\n",
        "    for nn in range(nS):\n",
        "      fig.add_trace(go.Scatter(x=t, y=sol[:,nn], mode='lines+markers', name='x'+str(nn+1)))\n",
        "      fig.update_layout(title=figTitle, xaxis=dict(title=xLabel),yaxis=dict(title=yLabel))\n",
        "\n",
        "    fig.show()\n",
        "    return [t,sol,fig]"
      ],
      "execution_count": null,
      "outputs": []
    },
    {
      "cell_type": "markdown",
      "source": [
        "Rotating with the initial conditions of $\\dot{\\theta}=0.5$ and $\\dot{\\phi}=0.4$"
      ],
      "metadata": {
        "id": "Uaew6_5kUhoI"
      }
    },
    {
      "cell_type": "code",
      "metadata": {
        "id": "vH-YNaQuaScl"
      },
      "source": [
        "Length=0.8;\n",
        "dtheta=0.5;\n",
        "dphi=0.4\n",
        "theta = 0;\n",
        "phi = 0\n",
        "d = 1\n",
        "[t,sol,fig]=simulateDySystem(bead_in_slotted_disk_3, 25,0.1, [1,0,theta, phi], [Length, d, dtheta, dphi], 'bead_in_slotted_disk_3', 'Time / t', '$y,\\dot{y},\\\\theta,\\\\phi$')"
      ],
      "execution_count": null,
      "outputs": []
    },
    {
      "cell_type": "code",
      "source": [
        "md=mugas_dynamic_systems_simulation_functions()"
      ],
      "metadata": {
        "id": "_NA0jzq1ABD5"
      },
      "execution_count": null,
      "outputs": []
    },
    {
      "cell_type": "code",
      "metadata": {
        "id": "YW53COFYq3SP"
      },
      "source": [
        "XX=np.zeros((len(t),3));\n",
        "for i,tt in enumerate(t):\n",
        "  y=sol[i][0]\n",
        "  phi = sol[i][3]\n",
        "  theta = sol[i][2]\n",
        "  XX[i,:]=[-y*np.sin(theta)*np.cos(phi),y*np.cos(phi)*np.cos(theta),y*np.sin(phi)];\n",
        "\n",
        "fig=md.animate_particle_motion(XX,[[-3,3],[-3,3],[-1,5]],'Motion Observed in the e-frame')"
      ],
      "execution_count": null,
      "outputs": []
    },
    {
      "cell_type": "markdown",
      "metadata": {
        "id": "D3sQVMlxKhzj"
      },
      "source": [
        "# Q4 -  Consider the rotating spring pendulum shown in figure below (Figure copied from G. T. Greenwood).  The mass of the point $P$ is $m$. The un-stretched length of the spring is $L_0$. Neglecting friction and the moment of inertia of the spring derive the equations of motion of the system if the arm is rotating at a constant angular velocity of $\\Omega$. Derive the equations of motion for the particle and simulate its motion for various different initial conditions.\n",
        "\n",
        "\n"
      ]
    },
    {
      "cell_type": "markdown",
      "metadata": {
        "id": "wP42CTjGLeeC"
      },
      "source": [
        "![RotatingSpringPendulum.jpg](data:image/jpeg;base64,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)"
      ]
    },
    {
      "cell_type": "code",
      "metadata": {
        "id": "-YRkdzkY8pj7"
      },
      "source": [
        "theta, phi, y = dynamicsymbols('theta phi y')\n",
        "k, d, y0, m, g, N1, N2, t = symbols('k d y_0 m g N_1 N_2 t')"
      ],
      "execution_count": null,
      "outputs": []
    },
    {
      "cell_type": "code",
      "metadata": {
        "id": "dtSYV4c4-ZzS"
      },
      "source": [
        "R3 = Matrix([[cos(phi), -sin(phi), 0], [sin(phi), cos(phi), 0], [0, 0, 1]])\n",
        "# R1 = Matrix([[1, 0, 0], [0, cos(phi - (pi/2)), -sin(phi - (pi/2))], [0, sin(phi - (pi/2)), cos(phi - (pi/2))]])\n",
        "R1 = Matrix([[1, 0, 0], [0, cos(theta), -sin(theta)], [0, sin(theta), cos(theta)]])\n",
        "\n",
        "\n",
        "R = R3 @ R1\n",
        "X = Matrix([d, 0, -y])\n",
        "\n",
        "F = Matrix([N1, -m*g*sin(theta), k*(y-y0)-m*g*cos(theta)])\n",
        "\n",
        "dR = Derivative(R)\n",
        "dR = dR.doit()\n",
        "OmegaHat = simplify(R.T @ dR)\n",
        "OmegaHatSquare = simplify(OmegaHat ** 2)\n",
        "dOmegaHat = Derivative(OmegaHat)\n",
        "dOmegaHat = simplify(dOmegaHat)\n",
        "\n",
        "dX = Matrix([0, 0, -Derivative(y)])\n",
        "dX = simplify(dX)\n",
        "ddX = Derivative(dX)\n",
        "ddX = simplify(ddX)\n",
        "\n",
        "RHS = OmegaHatSquare*X + 2*OmegaHat*dX + dOmegaHat*X + ddX\n",
        "RHS"
      ],
      "execution_count": null,
      "outputs": []
    },
    {
      "cell_type": "code",
      "metadata": {
        "id": "X667SGtTDp6g"
      },
      "source": [
        "F"
      ],
      "execution_count": null,
      "outputs": []
    },
    {
      "cell_type": "code",
      "metadata": {
        "id": "p24gmywIEIXB"
      },
      "source": [
        "def bead_in_spring (X,t, parameters):\n",
        "  g=9.806;\n",
        "  m=1;\n",
        "  k=8;\n",
        "  y0 = parameters[0];\n",
        "  d = parameters[1]\n",
        "  dphi=parameters[2];\n",
        "\n",
        "  y=X[0];\n",
        "  theta=X[1]\n",
        "  phi = X[2]\n",
        "  dy=X[3];\n",
        "  dtheta =X[4]\n",
        "  ddy=y*dtheta**2-(k/m)*(y-y0)+y*sin(theta)*sin(theta)*dphi**2+g*cos(theta)+d*sin(theta)*dphi**2;\n",
        "  ddtheta = -2*dtheta*(dy/y)+d*cos(theta)*(dphi**2)/y-g*sin(theta)/y+(sin(2*theta)/2)*dphi**2\n",
        "  # ddphi = (sin(2*phi)*dtheta**2)/2-2*dphi*(dy/y)+g*sin(theta)/y\n",
        "  return [dy, dtheta, dphi, ddy, ddtheta]\n",
        "\n",
        "def simulateDySystem(dynamicSystemModel, Tmax, dT, X0, sysPara, figTitle, xLabel, yLabel):\n",
        "    t = np.linspace(0, Tmax, int(Tmax/dT+1))\n",
        "    sol = odeint(dynamicSystemModel, X0, t, args=(sysPara,));\n",
        "    #self.soln=sol;\n",
        "    fig = go.Figure()\n",
        "    [nt,nS]=sol.shape;\n",
        "\n",
        "    # Add traces\n",
        "    for nn in range(nS):\n",
        "      fig.add_trace(go.Scatter(x=t, y=sol[:,nn], mode='lines+markers', name='x'+str(nn+1)))\n",
        "      fig.update_layout(title=figTitle, xaxis=dict(title=xLabel),yaxis=dict(title=yLabel))\n",
        "\n",
        "    fig.show()\n",
        "    return [t,sol,fig]"
      ],
      "execution_count": null,
      "outputs": []
    },
    {
      "cell_type": "code",
      "metadata": {
        "id": "6UFhgXlYELTh"
      },
      "source": [
        "Length=0.6;\n",
        "dtheta=0;\n",
        "dphi = 0.5\n",
        "theta = np.pi/3;\n",
        "phi = 0\n",
        "d = 10\n",
        "y = 1\n",
        "dy= 0\n",
        "[t,sol,fig]=simulateDySystem(bead_in_spring, 15,0.01, [y, theta, phi, dy, dtheta], [Length, d, dphi], 'bead_in_spring', 'Time / t', '$y,\\\\theta,\\\\phi,\\dot{y},\\dot{\\\\theta}$')"
      ],
      "execution_count": null,
      "outputs": []
    },
    {
      "cell_type": "code",
      "metadata": {
        "id": "FYKhd6RaIELx"
      },
      "source": [
        "XX=np.zeros((len(t),3));\n",
        "for i,tt in enumerate(t):\n",
        "  y=sol[i][0]\n",
        "  phi = sol[i][2]\n",
        "  theta = sol[i][1]\n",
        "  XX[i,:]=[-d*np.sin(phi)-y*np.sin(theta)*np.sin(phi),d*np.cos(phi)+y*np.sin(theta)*np.cos(phi),-y*np.cos(theta)];\n",
        "\n",
        "fig=md.animate_particle_motion(XX,[[-15,15],[-15,15],[-15,15]],'Motion Observed in the e-frame')"
      ],
      "execution_count": null,
      "outputs": []
    },
    {
      "cell_type": "markdown",
      "metadata": {
        "id": "Ecujqlz0JSzK"
      },
      "source": [
        "# Q5 -  Consider the particle that is constrained to move in a rotating hoop as shown in the figure below.  The mass of the bead is $m$ and the radius of the hoop is $r$. Neglecting friction derive the equations of motion of the bead if the bead is rotating at a constant angular velocity of $\\omega$. Simulate its motion for various different initial conditions.\n",
        "\n",
        "\n"
      ]
    },
    {
      "cell_type": "markdown",
      "metadata": {
        "id": "4Jx3QJkyKbLD"
      },
      "source": [
        "![hoop_main 2.png](data:image/png;base64,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)"
      ]
    },
    {
      "cell_type": "code",
      "source": [
        "theta, phi= dynamicsymbols('theta phi')\n",
        "r, m, g, N1, N2, t = symbols('r m g N_1 N_2 t', real=True)"
      ],
      "metadata": {
        "id": "IChoQx7Mh94-"
      },
      "execution_count": null,
      "outputs": []
    },
    {
      "cell_type": "code",
      "source": [
        "R3 = Matrix([[cos(phi), -sin(phi), 0], [sin(phi), cos(phi), 0], [0, 0, 1]])\n",
        "# R1 = Matrix([[1, 0, 0], [0, cos(phi - (pi/2)), -sin(phi - (pi/2))], [0, sin(phi - (pi/2)), cos(phi - (pi/2))]])\n",
        "R1 = Matrix([[1, 0, 0], [0, cos(theta), -sin(theta)], [0, sin(theta), cos(theta)]])\n",
        "\n",
        "\n",
        "R = R3 @ R1\n",
        "X = Matrix([0, r, 0])\n",
        "\n",
        "\n",
        "F = Matrix([N1, -m*g*sin(theta), k*(y-y0)-m*g*cos(theta)])\n",
        "\n",
        "dR = Derivative(R)\n",
        "dR = dR.doit()\n",
        "OmegaHat = simplify(R.T @ dR)\n",
        "OmegaHatSquare = simplify(OmegaHat ** 2)\n",
        "dOmegaHat = Derivative(OmegaHat)\n",
        "dOmegaHat = simplify(dOmegaHat)\n",
        "\n",
        "dX = Matrix([0, 0, 0])\n",
        "ddX = Matrix([0, 0, 0])\n",
        "\n",
        "RHS = OmegaHatSquare*X + 2*OmegaHat*dX + dOmegaHat*X + ddX\n",
        "RHS"
      ],
      "metadata": {
        "id": "gg1k9Km8hrDh"
      },
      "execution_count": null,
      "outputs": []
    },
    {
      "cell_type": "code",
      "metadata": {
        "id": "TD2-VxyABsaH"
      },
      "source": [
        "F"
      ],
      "execution_count": null,
      "outputs": []
    },
    {
      "cell_type": "code",
      "metadata": {
        "id": "7F9fdtHPbBMj"
      },
      "source": [
        "def bead_in_ring (X,t, parameters):\n",
        "  g=9.806;\n",
        "  m=1;\n",
        "  r = parameters[0]\n",
        "  dphi=parameters[1];\n",
        "\n",
        "  theta=X[0];\n",
        "  dtheta=X[1]\n",
        "  ddtheta = -g*cos(theta)/r - (sin(2*theta)*dphi**2)/2\n",
        "  return [dtheta, ddtheta, dphi]\n",
        "\n",
        "def simulateDySystem(dynamicSystemModel, Tmax, dT, X0, sysPara, figTitle, xLabel, yLabel):\n",
        "    t = np.linspace(0, Tmax, int(Tmax/dT+1))\n",
        "    sol = odeint(dynamicSystemModel, X0, t, args=(sysPara,));\n",
        "    #self.soln=sol;\n",
        "    fig = go.Figure()\n",
        "    [nt,nS]=sol.shape;\n",
        "\n",
        "    # Add traces\n",
        "    for nn in range(nS):\n",
        "      fig.add_trace(go.Scatter(x=t, y=sol[:,nn], mode='lines+markers', name='x'+str(nn+1)))\n",
        "      fig.update_layout(title=figTitle, xaxis=dict(title=xLabel),yaxis=dict(title=yLabel))\n",
        "\n",
        "    fig.show()\n",
        "    return [t,sol,fig]"
      ],
      "execution_count": null,
      "outputs": []
    },
    {
      "cell_type": "code",
      "metadata": {
        "id": "Wx2ZQnobbBMk"
      },
      "source": [
        "dtheta=0;\n",
        "theta = np.pi/3\n",
        "phi=0\n",
        "dphi = 0.6\n",
        "r = 1\n",
        "\n",
        "[t,sol,fig]=simulateDySystem(bead_in_ring, 5,0.01, [theta, dtheta, phi], [r, dphi], 'bead_in_ring', 'Time / t', '$\\\\theta,\\dot{\\\\theta},\\\\phi$')"
      ],
      "execution_count": null,
      "outputs": []
    },
    {
      "cell_type": "code",
      "metadata": {
        "id": "feNmCgg3bBMk"
      },
      "source": [
        "XX=np.zeros((len(t),3));\n",
        "for i,tt in enumerate(t):\n",
        "  phi = sol[i][2]\n",
        "  theta=sol[i][0]\n",
        "  XX[i,:]=[-r*np.sin(phi)*np.cos(theta),r*np.cos(phi)*np.cos(theta),r*np.sin(theta)];\n",
        "\n",
        "fig=md.animate_particle_motion(XX,[[-1.2,1.2],[-1.2,1.2],[-1.2,1.2]],'Motion Observed in the e-frame')"
      ],
      "execution_count": null,
      "outputs": []
    },
    {
      "cell_type": "markdown",
      "source": [
        "# Q6 - Consider three orthonormal frames $\\mathbf{e}$, $\\mathbf{c}$ and $\\mathbf{b}$ with coinciding origins. At any given time instant $t$ the frame $\\mathbf{c}$ is related to the frame $\\mathbf{e}$ by a counter clockwise rotation about the third axis by an angle $\\phi=\\alpha\\, t$ and the frame $\\mathbf{b}$ is related to the frame $\\mathbf{c}$ by a counter clockwise rotation about the first axis by an angle $\\theta=\\beta \\, t$ where $\\alpha$ and $\\beta$ are constant. Let $\\mathbf{b}=\\mathbf{e}R(t)$ where $R(t)\\in SO(3)$. A particle $P$ of mass $m$ is moving in space in such a way that it oscillates about the origin of the frames along the $\\mathbf{b}_2$ axis at a frequency of $\\omega$ rad/s with an amplitude of $r$ m. That is if $y$ is the displacement of $P$ along the $\\mathbf{b}_2$ axis then $y(t)=r\\cos(\\omega t)$. Find the force acting on the particle in the $\\mathbf{b}$ frame and the angular momentum in the $\\mathbf{e}$ frame."
      ],
      "metadata": {
        "id": "F9LatFkp7EMQ"
      }
    },
    {
      "cell_type": "markdown",
      "source": [
        "$\\mathbf{c}=\\mathbf{e}R_3(\\phi)$ and $\\mathbf{b}=\\mathbf{c}R_1(\\theta)$.\n",
        "\n",
        "Hence\n",
        "\\begin{align}\n",
        "\\mathbf{b}=\\mathbf{c}R_1(\\theta)=\\mathbf{e}R_3(\\phi)R_1(\\theta)\n",
        "\\end{align}"
      ],
      "metadata": {
        "id": "gCLLVua17tYK"
      }
    },
    {
      "cell_type": "markdown",
      "source": [
        "The angular velocity of the frame $\\mathbf{b}$ with respect to $\\mathbf{e}$ is the $\\mathbb{R}^3$ version of $\\widehat{\\Omega}=R^T\\dot{R}$.\n",
        "\n",
        "\\begin{align}\n",
        "\\widehat{\\Omega}&=R_1^TR_3^T(\\dot{R}_3R_1+R_3\\dot{R}_1)\\\\\n",
        "=&R_1^T(R_3^T\\dot{R}_3R_1+\\dot{R}_1)\\\\\n",
        "=&R_1(R_3^T\\dot{R}_3)R_1+R_1^T\\dot{R}_1\\\\\n",
        "\\end{align}\n",
        "which gives\n",
        "\\begin{align}\n",
        "\\Omega=&\\dot{\\phi}\\:R_1^T{e}_3+\\dot{\\theta}\\:{e}_1\n",
        "\\end{align}\n",
        "where\n",
        "$e_1=[1,0,0]^T$ and $e_3=[0,0,1]^T$.\n",
        "\n",
        "Simplifying we get\n",
        "\n",
        "which gives\n",
        "\\begin{align}\n",
        "\\Omega&=\\dot{\\phi}\\:\\begin{bmatrix}0\\\\\\sin{\\theta}\\\\\\cos{\\theta}\\end{bmatrix}+\\dot{\\theta}\\:\\begin{bmatrix}1\\\\0\\\\0\\end{bmatrix}=\\:\\begin{bmatrix}\\dot{\\theta}\\\\\\dot{\\phi}\\sin{\\theta}\\\\\\dot{\\phi}\\cos{\\theta}\\end{bmatrix}\n",
        "\\end{align}\n",
        "where\n",
        "$e_1=[1,0,0]^T$ and $e_3=[0,0,1]^T$."
      ],
      "metadata": {
        "id": "W0kIsen374Lc"
      }
    },
    {
      "cell_type": "markdown",
      "source": [
        "The motion variables of the particles in the $\\mathbf{e}$:\n",
        "\n",
        "\\begin{align}\n",
        "x&=RX\\\\\n",
        "\\dot{x}&=R\\left(\\widehat{\\Omega}X+\\dot{X}\\right)\\\\\n",
        "\\ddot{x}&=R\\left(\\widehat{\\Omega}^2X+2\\widehat{\\Omega}\\dot{X}+\\widehat{\\dot{\\Omega}}X+\\ddot{X}\\right)\n",
        "\\end{align}\n",
        "\n",
        "The angular momentum of the particle about the origin of the frames:\n",
        "\\begin{align}\n",
        "\\pi&=x\\times m\\dot{x}\\\\\n",
        "&=mR\\left(X\\times\\left(\\widehat{\\Omega}X+\\dot{X}\\right)\\right)\\\\\n",
        "&=R\\left(-m\\widehat{X}^2\\Omega+mX\\times\\dot{X}\\right)\\\\\n",
        "&=R\\left(\\mathbb{I}_p\\Omega+mX\\times\\dot{X}\\right)\n",
        "\\end{align}\n",
        "where $\\mathbb{I}_p\\triangleq-m\\widehat{X}^2$\n",
        "\n",
        "The rate of change of angular mometum is:\n",
        "\\begin{align}\n",
        "\\dot{\\pi}&=x\\times f\\\\\n",
        "&=R(X\\times F)\n",
        "\\end{align}\n",
        "where $f$ is the representation of the forces acting on the particle in the $\\mathbf{e}$ frame and $F$ is the representation of the forces acting on the particle in the $\\mathbf{b}$ frame.\n",
        "\n",
        "Simplifying we get"
      ],
      "metadata": {
        "id": "ABREUexz78pf"
      }
    },
    {
      "cell_type": "markdown",
      "source": [
        "If $F$ is the forces acting on the particle and represented in the $\\mathbf{b}$ frame we have from Newtons equations (assuming that the $\\mathbf{b}$ frame is an inertial frame):\n",
        "\\begin{align}\n",
        "m\\ddot{x}&=RF\n",
        "\\end{align}\n",
        "which gives\n",
        "\\begin{align}\n",
        "m\\left(\\widehat{\\Omega}^2X+2\\widehat{\\Omega}\\dot{X}+\\widehat{\\dot{\\Omega}}X+\\ddot{X}\\right)&=F\n",
        "\\end{align}"
      ],
      "metadata": {
        "id": "GKx30pzG89CQ"
      }
    },
    {
      "cell_type": "markdown",
      "source": [
        "##Symbolic Computations"
      ],
      "metadata": {
        "id": "jxIWerIW9Cf0"
      }
    },
    {
      "cell_type": "code",
      "source": [
        "init_vprinting()\n",
        "m, r, t, alpha, beta, omega=symbols('m, r, t, alpha, beta, omega')\n",
        "y, phi, theta=dynamicsymbols('y, phi, theta',real=True)"
      ],
      "metadata": {
        "id": "CPDmxtns9Fy4"
      },
      "execution_count": null,
      "outputs": []
    },
    {
      "cell_type": "code",
      "source": [
        "X=Matrix([0,y,0])"
      ],
      "metadata": {
        "id": "O-54_pKh8rdh"
      },
      "execution_count": null,
      "outputs": []
    },
    {
      "cell_type": "code",
      "source": [
        "R1_theta=Matrix([[1,0,0],[0,cos(theta),-sin(theta)],[0,sin(theta),cos(theta)]])\n",
        "R3_phi=Matrix([[cos(phi),-sin(phi),0],[sin(phi),cos(phi),0],[0,0,1]])\n",
        "R=R3_phi @ R1_theta"
      ],
      "metadata": {
        "id": "R1LgOwJ89J_J"
      },
      "execution_count": null,
      "outputs": []
    },
    {
      "cell_type": "code",
      "source": [
        "hatOmega=simplify(R.T*R.diff(t))"
      ],
      "metadata": {
        "id": "MXBZV0-c9Nmb"
      },
      "execution_count": null,
      "outputs": []
    },
    {
      "cell_type": "code",
      "source": [
        "hatOmega"
      ],
      "metadata": {
        "id": "6WSqVgoj9R9p"
      },
      "execution_count": null,
      "outputs": []
    },
    {
      "cell_type": "code",
      "source": [
        "hatOmegadot=hatOmega.diff(t)"
      ],
      "metadata": {
        "id": "-q2iAiNy9fKb"
      },
      "execution_count": null,
      "outputs": []
    },
    {
      "cell_type": "code",
      "source": [
        "hatOmegadot"
      ],
      "metadata": {
        "id": "-cjzmrVu9ic0"
      },
      "execution_count": null,
      "outputs": []
    },
    {
      "cell_type": "code",
      "source": [
        "Omega=Matrix([-hatOmega[1,2],hatOmega[0,2],-hatOmega[0,1]])"
      ],
      "metadata": {
        "id": "TrVc6Xdo9lMy"
      },
      "execution_count": null,
      "outputs": []
    },
    {
      "cell_type": "code",
      "source": [
        "Omega"
      ],
      "metadata": {
        "id": "PaM7UnE59pZy"
      },
      "execution_count": null,
      "outputs": []
    },
    {
      "cell_type": "code",
      "source": [
        "Xdot=X.diff(t)\n",
        "Xddot=X.diff(t,2)"
      ],
      "metadata": {
        "id": "H3AJYXtz9vTO"
      },
      "execution_count": null,
      "outputs": []
    },
    {
      "cell_type": "code",
      "source": [
        "F=m*(hatOmega**2*X+2*hatOmega*Xdot+hatOmegadot*X+Xddot)"
      ],
      "metadata": {
        "id": "e2KX6Ots96ve"
      },
      "execution_count": null,
      "outputs": []
    },
    {
      "cell_type": "code",
      "source": [
        "F"
      ],
      "metadata": {
        "id": "JvW5Tl4j92C9"
      },
      "execution_count": null,
      "outputs": []
    },
    {
      "cell_type": "code",
      "source": [
        "hatX=Matrix([[0,0,y],[0,0,0],[-y,0,0]])\n",
        "Ip=-m*hatX**2"
      ],
      "metadata": {
        "id": "21XhLDVv95sz"
      },
      "execution_count": null,
      "outputs": []
    },
    {
      "cell_type": "code",
      "source": [
        "pi=R*(Ip * Omega + m*hatX * Xdot)"
      ],
      "metadata": {
        "id": "I6uD3DsN9_Od"
      },
      "execution_count": null,
      "outputs": []
    },
    {
      "cell_type": "code",
      "source": [
        "pi"
      ],
      "metadata": {
        "id": "67Oo2dbI-CtX"
      },
      "execution_count": null,
      "outputs": []
    },
    {
      "cell_type": "code",
      "source": [
        "y_expr = r * cos(omega * t)\n",
        "phi_expr = alpha * t\n",
        "theta_expr = beta * t\n",
        "\n",
        "y_dot_expr = y_expr.diff(t)\n",
        "y_ddot_expr = y_dot_expr.diff(t)\n",
        "\n",
        "phi_dot_expr = phi_expr.diff(t)\n",
        "phi_ddot_expr = phi_dot_expr.diff(t)\n",
        "theta_dot_expr = theta_expr.diff(t)\n",
        "theta_ddot_expr = theta_dot_expr.diff(t)\n",
        "\n",
        "F_subs = F.subs({\n",
        "    y: y_expr,\n",
        "    y.diff(t): y_dot_expr,\n",
        "    y.diff(t, 2): y_ddot_expr,\n",
        "    phi: phi_expr,\n",
        "    phi.diff(t): phi_dot_expr,\n",
        "    phi.diff(t,2): phi_ddot_expr,\n",
        "    theta: theta_expr,\n",
        "    theta.diff(t): theta_dot_expr,\n",
        "    theta.diff(t,2): theta_ddot_expr\n",
        "})\n",
        "\n",
        "F_simplified = simplify(F_subs)\n",
        "\n",
        "# Display the simplified force expression\n",
        "F_simplified"
      ],
      "metadata": {
        "id": "Uiug2J5s-Hpt"
      },
      "execution_count": null,
      "outputs": []
    },
    {
      "cell_type": "code",
      "source": [
        "pi_subs= pi.subs({\n",
        "    y: y_expr,\n",
        "    y.diff(t): y_dot_expr,\n",
        "    y.diff(t, 2): y_ddot_expr,\n",
        "    phi: phi_expr,\n",
        "    phi.diff(t): phi_dot_expr,\n",
        "    phi.diff(t,2): phi_ddot_expr,\n",
        "    theta: theta_expr,\n",
        "    theta.diff(t): theta_dot_expr,\n",
        "    theta.diff(t,2): theta_ddot_expr\n",
        "})\n",
        "pi_simplified = simplify(pi_subs)\n",
        "pi_simplified"
      ],
      "metadata": {
        "id": "OAd217-r-Ms_"
      },
      "execution_count": null,
      "outputs": []
    }
  ]
}