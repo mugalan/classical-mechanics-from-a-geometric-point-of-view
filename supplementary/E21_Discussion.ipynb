{
  "nbformat": 4,
  "nbformat_minor": 0,
  "metadata": {
    "colab": {
      "provenance": [],
      "include_colab_link": true
    },
    "kernelspec": {
      "name": "python3",
      "display_name": "Python 3"
    },
    "language_info": {
      "name": "python"
    }
  },
  "cells": [
    {
      "cell_type": "markdown",
      "metadata": {
        "id": "view-in-github",
        "colab_type": "text"
      },
      "source": [
        "<a href=\"https://colab.research.google.com/github/mugalan/classical-mechanics-from-a-geometric-point-of-view/blob/main/supplementary/E21_Discussion.ipynb\" target=\"_parent\"><img src=\"https://colab.research.google.com/assets/colab-badge.svg\" alt=\"Open In Colab\"/></a>"
      ]
    },
    {
      "cell_type": "markdown",
      "source": [
        "# **Importing Modules**"
      ],
      "metadata": {
        "id": "UefxrCbaxZzT"
      }
    },
    {
      "cell_type": "code",
      "source": [
        "import numpy as np\n",
        "import scipy as sp\n",
        "from scipy.integrate import odeint\n",
        "import math\n",
        "from numpy import linalg\n",
        "import sympy\n",
        "\n",
        "from sympy import symbols\n",
        "from sympy import *\n",
        "from sympy.physics.mechanics import dynamicsymbols, init_vprinting\n",
        "init_vprinting(pretty_print=True)\n",
        "\n",
        "import plotly.graph_objects as go"
      ],
      "metadata": {
        "id": "-blsioSwdA3R"
      },
      "execution_count": 6,
      "outputs": []
    },
    {
      "cell_type": "code",
      "source": [
        "class MugasRigidBodyFunctions:\n",
        "\n",
        "    def __init__(self):\n",
        "        pass\n",
        "\n",
        "    def simulate_dy_system(self, dynamic_system_model, t_max, dt, x0, sys_para, fig_title, x_label, y_label):\n",
        "        t = np.linspace(0, t_max, int(t_max/dt+1))\n",
        "        sol = odeint(dynamic_system_model, x0, t, args=(sys_para,))\n",
        "\n",
        "        fig = go.Figure()\n",
        "        for sol_col in sol.T:\n",
        "            fig.add_trace(go.Scatter(x=t, y=sol_col, mode='lines+markers'))\n",
        "\n",
        "        fig.update_layout(title=fig_title, xaxis=dict(title=x_label), yaxis=dict(title=y_label))\n",
        "        fig.show()\n",
        "        return t, sol, fig\n",
        "\n",
        "    def hat_matrix(self, x):\n",
        "        return np.array([[0., -x[2], x[1]],[x[2], 0., -x[0]],[-x[1], x[0], 0.]])\n",
        "\n",
        "    def q_from_axis_angles(self, theta, unit_axis):\n",
        "        return np.concatenate(([np.cos(theta/2)], np.sin(theta/2) * np.array(unit_axis)))\n",
        "\n",
        "    def r_from_quaternions(self, q):\n",
        "        q0, w = q[0], q[1:]\n",
        "        return np.identity(3) + 2*q0*self.hat_matrix(w) + 2*self.hat_matrix(w) @ self.hat_matrix(w)\n",
        "\n",
        "    def rotation_matrix_2_euler_angles(self, R):\n",
        "        # Handle unique solutions and default cases\n",
        "        if R[2, 2] < 1:\n",
        "            if R[2, 2] > -1:\n",
        "                return np.pi - math.atan2(R[0, 2], R[1, 2]), math.acos(R[2, 2]), np.pi - math.atan2(R[2, 0], -R[2, 1])\n",
        "            return -math.atan2(R[0, 1], -R[0, 0]), np.pi, 0\n",
        "        return math.atan2(R[0, 1], R[0, 0]), 0, 0\n",
        "\n",
        "    def re3_equals_gamma(self, gamma):\n",
        "        theta = math.acos(gamma[2])\n",
        "        n = [-gamma[1]/np.sin(theta), gamma[0]/np.sin(theta), 0]\n",
        "        return self.r_from_quaternions(self.q_from_axis_angles(theta, n))\n",
        "\n",
        "    def rotate_and_translate(self, object_vertices, R, o):\n",
        "        return np.array([[o[0], o[1], o[2]]]).T + R @ object_vertices\n",
        "\n",
        "    def add_orth_norm_frame(self, fig, o, R, axis_range, axis_color):\n",
        "        e = [np.array([1,0,0]), np.array([0,1,0]), np.array([0,0,1])]\n",
        "        b = [R @ ei for ei in e]\n",
        "\n",
        "        for bi in b:\n",
        "            fig.add_trace(go.Scatter3d(\n",
        "                x=[o[0], o[0] + bi[0]],\n",
        "                y=[o[1], o[1] + bi[1]],\n",
        "                z=[o[2], o[2] + bi[2]],\n",
        "                hoverinfo='x+y+z',\n",
        "                mode='lines',\n",
        "                line=dict(width=8, color=axis_color)\n",
        "            ))\n",
        "\n",
        "        fig.update_layout(\n",
        "            showlegend=False,\n",
        "            scene=dict(\n",
        "                xaxis=dict(range=axis_range[0], autorange=False),\n",
        "                yaxis=dict(range=axis_range[1], autorange=False),\n",
        "                zaxis=dict(range=axis_range[2], autorange=False),\n",
        "                aspectratio=dict(x=1, y=1, z=1)\n",
        "            )\n",
        "        )\n",
        "        return fig\n",
        "\n",
        "    def animate_particle_motion(self, xx, axis_range, fig_title):\n",
        "        x_vals, y_vals, z_vals = zip(*xx)\n",
        "\n",
        "        trace_particle = go.Scatter3d(\n",
        "            x=[x_vals[0]], y=[y_vals[0]], z=[z_vals[0]],\n",
        "            mode=\"markers\",\n",
        "            marker=dict(color=\"red\", size=10)\n",
        "        )\n",
        "\n",
        "        trace_path = go.Scatter3d(\n",
        "            x=x_vals, y=y_vals, z=z_vals,\n",
        "            mode=\"lines\",\n",
        "            line=dict(color=\"blue\", width=2),\n",
        "            name='Path'\n",
        "        )\n",
        "\n",
        "        layout = go.Layout(\n",
        "            title_text=fig_title,\n",
        "            hovermode=\"closest\",\n",
        "            updatemenus=[dict(\n",
        "                type=\"buttons\",\n",
        "                buttons=[dict(\n",
        "                    label=\"Play\",\n",
        "                    method=\"animate\",\n",
        "                    args=[None]\n",
        "                )]\n",
        "            )],\n",
        "            scene=dict(\n",
        "                xaxis=dict(range=axis_range[0], autorange=False),\n",
        "                yaxis=dict(range=axis_range[1], autorange=False),\n",
        "                zaxis=dict(range=axis_range[2], autorange=False),\n",
        "                aspectratio=dict(x=1, y=1, z=1)\n",
        "            )\n",
        "        )\n",
        "\n",
        "        frames = [go.Frame(\n",
        "            data=[go.Scatter3d(\n",
        "                x=[point[0]], y=[point[1]], z=[point[2]],\n",
        "                mode=\"markers\",\n",
        "                marker=dict(color=\"red\", size=10),\n",
        "                name='Particle'\n",
        "            )]) for point in xx]\n",
        "\n",
        "        fig = go.Figure(data=[trace_particle, trace_path], layout=layout, frames=frames)\n",
        "        fig.show()\n",
        "        return fig\n",
        "\n",
        "\n",
        "\n",
        "    def cube_vertices(self, cube_dimensions):\n",
        "        l, w, h = cube_dimensions['l'], cube_dimensions['w'], cube_dimensions['h']\n",
        "        xp, yp, zp = cube_dimensions['xp'], cube_dimensions['yp'], cube_dimensions['zp']\n",
        "\n",
        "        X = [-xp, -xp, l-xp, l-xp, -xp, -xp, l-xp, l-xp]\n",
        "        Y = [-yp, w-yp, w-yp, -yp, -yp, w-yp, w-yp, -yp]\n",
        "        Z = [-zp, -zp, -zp, -zp, h-zp, h-zp, h-zp, h-zp]\n",
        "\n",
        "        return [X, Y, Z]\n",
        "\n",
        "    def animated_cube_flat_shading(self, cubeVertices,figTitle):\n",
        "        fig = go.Figure(\n",
        "            frames=[go.Frame(data=[\n",
        "            go.Mesh3d(\n",
        "                # 8 vertices of a cube\n",
        "                x=xx[0][0],\n",
        "                y=xx[0][1],\n",
        "                z=xx[0][2],\n",
        "                # i, j and k give the vertices of triangles\n",
        "                i = [7, 0, 0, 0, 4, 4, 6, 6, 4, 0, 3, 2],\n",
        "                j = [3, 4, 1, 2, 5, 6, 5, 2, 0, 1, 6, 3],\n",
        "                k = [0, 7, 2, 3, 6, 7, 1, 1, 5, 5, 7, 6],\n",
        "                name='y',\n",
        "                opacity=0.6,\n",
        "                color='#DC143C',\n",
        "                flatshading = True)]) for xx in cubeVertices])\n",
        "\n",
        "        fig.add_trace(go.Mesh3d(\n",
        "                # 8 vertices of a cube\n",
        "                x=cubeVertices[0][0][0],\n",
        "                y=cubeVertices[0][0][1],\n",
        "                z=cubeVertices[0][0][2],\n",
        "                # i, j and k give the vertices of triangles\n",
        "                i = [7, 0, 0, 0, 4, 4, 6, 6, 4, 0, 3, 2],\n",
        "                j = [3, 4, 1, 2, 5, 6, 5, 2, 0, 1, 6, 3],\n",
        "                k = [0, 7, 2, 3, 6, 7, 1, 1, 5, 5, 7, 6],\n",
        "                name='y',\n",
        "                opacity=0.6,\n",
        "                color='#DC143C',\n",
        "                flatshading = True)\n",
        "            )\n",
        "\n",
        "        duration=10;\n",
        "        fig.update_layout(\n",
        "            title=figTitle,width=600,height=600,\n",
        "            scene=dict(xaxis=dict(range=[-5., 5.], autorange=False),yaxis=dict(range=[-5., 5.], autorange=False),zaxis=dict(range=[-5., 5.], autorange=False),aspectratio=dict(x=1, y=1, z=1),),\n",
        "            updatemenus=[dict(type=\"buttons\",\n",
        "                                buttons=[dict(label=\"Play\",\n",
        "                                                method=\"animate\",\n",
        "                                                args=[None, {\"frame\": {\"duration\": duration},\"mode\": \"immediate\",\"fromcurrent\": True, \"transition\": {\"duration\": duration, \"easing\": \"linear\"},}]\n",
        "                                                )])])\n",
        "        len(fig.frames)\n",
        "        fig.show()\n",
        "        return fig\n",
        "\n",
        "\n",
        "    def eulers_method(self, dt, Tmax, parameters, ICs):\n",
        "        M, II = parameters['M'], parameters['II']\n",
        "        invII = np.linalg.inv(II)\n",
        "        timeSteps = np.arange(0, Tmax+dt, dt)\n",
        "        R, o, omega, doto, Xc = ICs[0][0], ICs[0][1], ICs[1], ICs[2], ICs[3]\n",
        "        spi = R @ II @ R.T @ omega\n",
        "        p = M * doto\n",
        "        Xout = [ICs]\n",
        "\n",
        "        for t in timeSteps:\n",
        "            taue, fe = externalForceModel(self, parameters, X)\n",
        "            taua, fa = actuator(self, parameters, t, X, taue, fe)\n",
        "\n",
        "            dspi = taue + taua\n",
        "            dp = fe + fa\n",
        "\n",
        "            if np.linalg.norm(omega) >= 0.0001:\n",
        "                nomega = omega / np.linalg.norm(omega)\n",
        "                thetaomegat = dt * np.linalg.norm(omega)\n",
        "                qomegat = np.concatenate(([np.cos(thetaomegat/2)], np.sin(thetaomegat/2) * nomega))\n",
        "                R = self.r_from_quaternionsns(qomegat) @ R\n",
        "\n",
        "            o += dt * doto\n",
        "            spi += dt * dspi\n",
        "            p += dt * dp\n",
        "            doto = p / M\n",
        "            omega = R @ invII @ R.T @ spi\n",
        "            X = [[R, o], omega, doto, Xc]\n",
        "            Xout.append(X)\n",
        "\n",
        "        return Xout\n",
        "\n",
        "    def runga_kutta_method(self, dt, Tmax, parameters, ICs):\n",
        "        M, II = parameters['M'], parameters['II']\n",
        "        invII = np.linalg.inv(II)\n",
        "        timeSteps = np.arange(0, Tmax+dt, dt)\n",
        "        X=ICs;\n",
        "        Xout=[X];\n",
        "\n",
        "        for t in timeSteps:\n",
        "            Y1 = self.rk4_function(0.5*dt, X, t, X, parameters)\n",
        "            Y2 = self.rk4_function(0.5*dt, X, t+0.5*dt, Y1, parameters)\n",
        "            Y3 = self.rk4_function(dt, X, t+0.5*dt, Y2, parameters)\n",
        "\n",
        "            values = [self.rigid_body_system(parameters, t+i*dt, X_j) for i, X_j in enumerate([X, Y1, Y2, Y3])]\n",
        "            thetas, n_omegas, dotos, dps, dspis, dXcs = zip(*values)\n",
        "\n",
        "            omegak = (dt/6.0) * sum(t * n for t, n in zip(thetas, n_omegas))\n",
        "            nomegak = omegak/np.linalg.norm(omegak) if np.linalg.norm(omegak) >= 0.0001 else np.array([0, 0, 0])\n",
        "            qomegak = np.concatenate(([np.cos(np.linalg.norm(omegak)/2)], np.sin(np.linalg.norm(omegak)/2) * nomegak))\n",
        "            Rk = self.r_from_quaternions(qomegak) @ X[0][0]\n",
        "\n",
        "            ok = X[0][1] + dt * np.mean(dotos)\n",
        "            pk = X[2] + dt * np.mean(dps)\n",
        "            spik = X[0][0] @ II @ X[0][0].T @ X[1] + dt * np.mean(dspis)\n",
        "            Xck = X[3] + dt * np.mean(dXcs)\n",
        "\n",
        "            omegak = Rk @ invII @ Rk.T @ spik\n",
        "            X = [[Rk, ok], omegak, pk, Xck]\n",
        "            Xout.append(X)\n",
        "\n",
        "        return Xout\n",
        "\n",
        "    def rk4_function(self, dtk, X, tk, Xk, parameters):\n",
        "        M, II = parameters['M'], parameters['II']\n",
        "        thetaomega1, nomega1, doto1, dp1, dspi1, dXc1 = self.rigid_body_system(parameters, tk, Xk)\n",
        "        qomega1 = np.concatenate(([np.cos(dtk*thetaomega1/2)], np.sin(dtk*thetaomega1/2) * nomega1))\n",
        "        R1 = self.r_from_quaternions(qomega1) @ X[0][0]\n",
        "        p1 = X[2] + dtk * dp1\n",
        "        spi1 = X[0][0] @ II @ X[0][0].T @ X[1] + dtk * dspi1\n",
        "        omega1 = R1 @ np.linalg.inv(II) @ R1.T @ spi1\n",
        "        X1 = [[R1, X[0][1] + dtk * doto1], omega1, p1, X[3] + dtk * dXc1]\n",
        "        return X1\n",
        "\n",
        "\n",
        "    def simulating_a_cube(self, dt, Tmax, cubeDimensions, parameters,ICs):\n",
        "        XX=self.cube_vertices(cubeDimensions);\n",
        "\n",
        "        #Xs=self.eulers_method(dt,Tmax,parameters,ICs);\n",
        "        Xs=self.runga_kutta_method(dt,Tmax,parameters,ICs);\n",
        "        ICR=ICs[0][0];\n",
        "        XX0=ICR @ XX;\n",
        "\n",
        "        rotatedVertices=[[XX0]]\n",
        "        for X in Xs:\n",
        "        #print(X[0])\n",
        "            R=X[0][0];\n",
        "            o=X[0][1];\n",
        "            XXi=self.rotate_and_translate(XX,R,o);\n",
        "            XX0=XXi;\n",
        "            rotatedVertices+=[[XX0]];\n",
        "        return rotatedVertices\n",
        "\n",
        "\n",
        "    def rigid_body_system(self, parameters, t, X):\n",
        "        barX, M = parameters['CM'], parameters['M']\n",
        "        R, omega, p = X[0][0], X[1], X[2]\n",
        "\n",
        "        taue, fe = externalForceModel(self, parameters, X)\n",
        "        taua, fa = actuator(self, parameters, t, X, taue, fe)\n",
        "\n",
        "        doto = p / M\n",
        "        dp = fe + fa\n",
        "        dspi = taue + taua\n",
        "        dXc = np.array([0., 0., 0.])  # External Dynamics #controller_dynamics(self, t, X, taue, fe, parameters)\n",
        "\n",
        "        if np.linalg.norm(omega) >= 0.0001:\n",
        "            nomega = omega / np.linalg.norm(omega)\n",
        "            thetaomega = np.linalg.norm(omega)\n",
        "        else:\n",
        "            nomega = np.array([0, 0, 0])\n",
        "            thetaomega = 0\n",
        "\n",
        "        return [thetaomega, nomega, doto, dp, dspi, dXc]\n",
        "\n",
        "    def animate_2D_scatter_plot(self, x, YY, xlabel, ylabel, title):\n",
        "        layout = go.Layout(\n",
        "            xaxis={'title': xlabel},\n",
        "            yaxis={'title': ylabel, 'range': [1.1 * YY.min(), 1.1 * YY.max()]},\n",
        "            title={'text': title, 'y': 0.9, 'x': 0.5, 'xanchor': 'center', 'yanchor': 'top'},\n",
        "            scene=dict(aspectratio=dict(x=1, y=1)),\n",
        "            hovermode=\"closest\",\n",
        "            updatemenus=[dict(type=\"buttons\",\n",
        "                            buttons=[dict(label=\"Play\",\n",
        "                                            method=\"animate\",\n",
        "                                            args=[None])])]\n",
        "        )\n",
        "\n",
        "        frames = [go.Frame(data=[go.Scatter(x=x, y=y)]) for y in YY]\n",
        "\n",
        "        fig = go.Figure(data=[go.Scatter(x=x, y=YY[0, :])], layout=layout, frames=frames)\n",
        "\n",
        "        # fig.show()\n",
        "        return fig\n",
        "\n",
        "\n",
        "def LinearSystemModel(X, t, A):\n",
        "  dXdt=A @ X;\n",
        "  return dXdt\n",
        "\n",
        "mr=MugasRigidBodyFunctions()"
      ],
      "metadata": {
        "id": "aZIoU88UAaEF"
      },
      "execution_count": 4,
      "outputs": []
    },
    {
      "cell_type": "markdown",
      "source": [
        "# ***Question***"
      ],
      "metadata": {
        "id": "BHiOYBODyTDm"
      }
    },
    {
      "cell_type": "markdown",
      "source": [
        "Find $\\alpha$ the coefficient of the partial fraction expansion of\n",
        "\\begin{align*}\n",
        "G(s)=\\frac{1}{s^2+2\\zeta\\omega_n s+\\omega_n^2}=\\frac{i\\alpha}{s+p}-\\frac{i{\\alpha}}{s+\\bar{p}}\n",
        "\\end{align*}\n",
        "\n",
        "where $\\zeta<1$"
      ],
      "metadata": {
        "id": "Y3iwapaaIm9z"
      }
    },
    {
      "cell_type": "markdown",
      "source": [
        "## Procedure"
      ],
      "metadata": {
        "id": "bpicQD8iKe3W"
      }
    },
    {
      "cell_type": "markdown",
      "source": [
        "Find the roots of\n",
        "\\begin{align*}\n",
        "f(s)=s^2+2\\zeta\\omega_n s+\\omega_n^2\n",
        "\\end{align*}"
      ],
      "metadata": {
        "id": "ZdHQF_3tKIoG"
      }
    },
    {
      "cell_type": "code",
      "source": [
        "s, omega_n , zeta = symbols('s omega_n zeta', real=True)\n",
        "fs = s**2 + (2*zeta*omega_n*s) + (omega_n**2)\n",
        "solve(fs, s)"
      ],
      "metadata": {
        "id": "oSHNDS3eJagN",
        "outputId": "cc68c701-a7da-48c8-faa9-09044b7f9e74",
        "colab": {
          "base_uri": "https://localhost:8080/",
          "height": 47
        }
      },
      "execution_count": 26,
      "outputs": [
        {
          "output_type": "execute_result",
          "data": {
            "text/plain": [
              "⎡   ⎛        ________⎞     ⎛        ________⎞⎤\n",
              "⎢   ⎜       ╱  2     ⎟     ⎜       ╱  2     ⎟⎥\n",
              "⎣ωₙ⋅⎝-ζ - ╲╱  ζ  - 1 ⎠, ωₙ⋅⎝-ζ + ╲╱  ζ  - 1 ⎠⎦"
            ],
            "text/latex": "$\\displaystyle \\left[ \\omega_{n} \\left(- \\zeta - \\sqrt{\\zeta^{2} - 1}\\right), \\  \\omega_{n} \\left(- \\zeta + \\sqrt{\\zeta^{2} - 1}\\right)\\right]$"
          },
          "metadata": {},
          "execution_count": 26
        }
      ]
    },
    {
      "cell_type": "code",
      "source": [
        "import matplotlib.pyplot as plt\n",
        "\n",
        "# Define parameters\n",
        "omega_n = 1  # Natural frequency\n",
        "zeta = np.linspace(0, 2, 500)  # Damping ratio range\n",
        "\n",
        "# Compute roots\n",
        "s1 = -omega_n * zeta + omega_n * np.sqrt(zeta**2 - 1 + 0j)  # Root 1\n",
        "s2 = -omega_n * zeta - omega_n * np.sqrt(zeta**2 - 1 + 0j)  # Root 2\n",
        "\n",
        "# Separate real and imaginary parts\n",
        "s1_real, s1_imag = s1.real, s1.imag\n",
        "s2_real, s2_imag = s2.real, s2.imag\n",
        "\n",
        "# Plot the roots\n",
        "plt.figure(figsize=(10, 6))\n",
        "\n",
        "plt.plot(s1_real, s1_imag, label=\"Root 1 (Real vs Imag)\", color=\"blue\")\n",
        "plt.plot(s2_real, s2_imag, label=\"Root 2 (Real vs Imag)\", color=\"red\")\n",
        "plt.axhline(0, color=\"black\", linestyle=\"--\", linewidth=0.8)\n",
        "plt.axvline(0, color=\"black\", linestyle=\"--\", linewidth=0.8)\n",
        "\n",
        "plt.title(\"Roots of the Polynomial $\\omega_{n}^2 + 2 \\omega_{n} s \\zeta + s^2$\")\n",
        "plt.xlabel(\"Real Part\")\n",
        "plt.ylabel(\"Imaginary Part\")\n",
        "plt.grid(True)\n",
        "plt.legend()\n",
        "plt.show()\n"
      ],
      "metadata": {
        "id": "75JXx7G2EXEn"
      },
      "execution_count": null,
      "outputs": []
    },
    {
      "cell_type": "code",
      "source": [
        "s = symbols('s')"
      ],
      "metadata": {
        "id": "0ad27F7Syl-G"
      },
      "execution_count": 15,
      "outputs": []
    },
    {
      "cell_type": "code",
      "source": [
        "omega_n , zeta = symbols('omega_n zeta', real=True)\n",
        "G = 1/(s**2 + (2*zeta*omega_n*s) + (omega_n**2))\n",
        "G"
      ],
      "metadata": {
        "id": "d7tXPyCqyVz4",
        "colab": {
          "base_uri": "https://localhost:8080/",
          "height": 55
        },
        "outputId": "32bdc927-5cb6-4065-98c8-7ffb41a28472"
      },
      "execution_count": 16,
      "outputs": [
        {
          "output_type": "execute_result",
          "data": {
            "text/plain": [
              "         1         \n",
              "───────────────────\n",
              "  2               2\n",
              "ωₙ  + 2⋅ωₙ⋅s⋅ζ + s "
            ],
            "text/latex": "$\\displaystyle \\frac{1}{\\omega_{n}^{2} + 2 \\omega_{n} s \\zeta + s^{2}}$"
          },
          "metadata": {},
          "execution_count": 16
        }
      ]
    },
    {
      "cell_type": "code",
      "source": [],
      "metadata": {
        "id": "-_vKCcGWCzQe"
      },
      "execution_count": null,
      "outputs": []
    },
    {
      "cell_type": "code",
      "source": [
        "Gs = G.subs({zeta:0.9,omega_n:1.1})\n",
        "Gs"
      ],
      "metadata": {
        "id": "eHSI6LlSynRp"
      },
      "execution_count": null,
      "outputs": []
    },
    {
      "cell_type": "code",
      "source": [
        "apart(Gs, full=True).doit()"
      ],
      "metadata": {
        "id": "rLGiBsQ6y5ib"
      },
      "execution_count": null,
      "outputs": []
    },
    {
      "cell_type": "markdown",
      "source": [
        "#Question"
      ],
      "metadata": {
        "id": "pToowISmCg7S"
      }
    },
    {
      "cell_type": "markdown",
      "source": [
        "Find the eigenvalues and eigenvectors of\n",
        "\n",
        "\\begin{align*}\n",
        "A=\\left[\\begin{matrix}0 & 1\\\\- \\omega_{n}^{2} & - 2 \\omega_{n} \\zeta\\end{matrix}\\right]\n",
        "\\end{align*}"
      ],
      "metadata": {
        "id": "r8AQTX30CjVK"
      }
    },
    {
      "cell_type": "code",
      "source": [
        "omega_n , zeta = symbols('omega_n zeta', real=True)\n",
        "E = Matrix([[0,1],[-omega_n**2, -2*zeta*omega_n]])\n",
        "E"
      ],
      "metadata": {
        "id": "GNBhdk-JSm65",
        "colab": {
          "base_uri": "https://localhost:8080/",
          "height": 58
        },
        "outputId": "b82efa9a-1910-4bbf-fe33-b17160809a29"
      },
      "execution_count": 20,
      "outputs": [
        {
          "output_type": "execute_result",
          "data": {
            "text/plain": [
              "⎡ 0       1   ⎤\n",
              "⎢             ⎥\n",
              "⎢   2         ⎥\n",
              "⎣-ωₙ   -2⋅ωₙ⋅ζ⎦"
            ],
            "text/latex": "$\\displaystyle \\left[\\begin{matrix}0 & 1\\\\- \\omega_{n}^{2} & - 2 \\omega_{n} \\zeta\\end{matrix}\\right]$"
          },
          "metadata": {},
          "execution_count": 20
        }
      ]
    },
    {
      "cell_type": "code",
      "source": [
        "E.eigenvals()"
      ],
      "metadata": {
        "colab": {
          "base_uri": "https://localhost:8080/",
          "height": 47
        },
        "id": "LDdjBQ1OC3tp",
        "outputId": "f2ac25d9-db47-4a05-bc5f-c64a48264da7"
      },
      "execution_count": 21,
      "outputs": [
        {
          "output_type": "execute_result",
          "data": {
            "text/plain": [
              "⎧   ⎛       _________________⎞        ⎛       _________________⎞   ⎫\n",
              "⎨ωₙ⋅⎝-ζ - ╲╱ (ζ - 1)⋅(ζ + 1) ⎠: 1, ωₙ⋅⎝-ζ + ╲╱ (ζ - 1)⋅(ζ + 1) ⎠: 1⎬\n",
              "⎩                                                                  ⎭"
            ],
            "text/latex": "$\\displaystyle \\left\\{ \\omega_{n} \\left(- \\zeta - \\sqrt{\\left(\\zeta - 1\\right) \\left(\\zeta + 1\\right)}\\right) : 1, \\  \\omega_{n} \\left(- \\zeta + \\sqrt{\\left(\\zeta - 1\\right) \\left(\\zeta + 1\\right)}\\right) : 1\\right\\}$"
          },
          "metadata": {},
          "execution_count": 21
        }
      ]
    },
    {
      "cell_type": "code",
      "source": [
        "E.eigenvects()"
      ],
      "metadata": {
        "id": "I3I417FLTMD3",
        "colab": {
          "base_uri": "https://localhost:8080/",
          "height": 68
        },
        "outputId": "3c0ab6fc-af4f-439e-f37d-c9d0438e07a1"
      },
      "execution_count": 22,
      "outputs": [
        {
          "output_type": "execute_result",
          "data": {
            "text/plain": [
              "⎡⎛                                  ⎡⎡               _________________⎤⎤⎞  ⎛                       ↪\n",
              "⎢⎜                                  ⎢⎢  2⋅ζ   -ζ - ╲╱ (ζ - 1)⋅(ζ + 1) ⎥⎥⎟  ⎜                       ↪\n",
              "⎢⎜   ⎛       _________________⎞     ⎢⎢- ─── - ────────────────────────⎥⎥⎟  ⎜   ⎛       ___________ ↪\n",
              "⎢⎜ωₙ⋅⎝-ζ - ╲╱ (ζ - 1)⋅(ζ + 1) ⎠, 1, ⎢⎢  ωₙ               ωₙ           ⎥⎥⎟, ⎜ωₙ⋅⎝-ζ + ╲╱ (ζ - 1)⋅(ζ ↪\n",
              "⎢⎜                                  ⎢⎢                                ⎥⎥⎟  ⎜                       ↪\n",
              "⎣⎝                                  ⎣⎣               1                ⎦⎦⎠  ⎝                       ↪\n",
              "\n",
              "↪             ⎡⎡               _________________⎤⎤⎞⎤\n",
              "↪             ⎢⎢  2⋅ζ   -ζ + ╲╱ (ζ - 1)⋅(ζ + 1) ⎥⎥⎟⎥\n",
              "↪ ______⎞     ⎢⎢- ─── - ────────────────────────⎥⎥⎟⎥\n",
              "↪  + 1) ⎠, 1, ⎢⎢  ωₙ               ωₙ           ⎥⎥⎟⎥\n",
              "↪             ⎢⎢                                ⎥⎥⎟⎥\n",
              "↪             ⎣⎣               1                ⎦⎦⎠⎦"
            ],
            "text/latex": "$\\displaystyle \\left[ \\left( \\omega_{n} \\left(- \\zeta - \\sqrt{\\left(\\zeta - 1\\right) \\left(\\zeta + 1\\right)}\\right), \\  1, \\  \\left[ \\left[\\begin{matrix}- \\frac{2 \\zeta}{\\omega_{n}} - \\frac{- \\zeta - \\sqrt{\\left(\\zeta - 1\\right) \\left(\\zeta + 1\\right)}}{\\omega_{n}}\\\\1\\end{matrix}\\right]\\right]\\right), \\  \\left( \\omega_{n} \\left(- \\zeta + \\sqrt{\\left(\\zeta - 1\\right) \\left(\\zeta + 1\\right)}\\right), \\  1, \\  \\left[ \\left[\\begin{matrix}- \\frac{2 \\zeta}{\\omega_{n}} - \\frac{- \\zeta + \\sqrt{\\left(\\zeta - 1\\right) \\left(\\zeta + 1\\right)}}{\\omega_{n}}\\\\1\\end{matrix}\\right]\\right]\\right)\\right]$"
          },
          "metadata": {},
          "execution_count": 22
        }
      ]
    },
    {
      "cell_type": "code",
      "source": [
        "init_printing()\n",
        "E.eigenvects()"
      ],
      "metadata": {
        "id": "FrTQkFPI1SqP"
      },
      "execution_count": null,
      "outputs": []
    },
    {
      "cell_type": "code",
      "source": [
        "init_printing(pretty_print=False)\n",
        "E.eigenvects()"
      ],
      "metadata": {
        "id": "pkRJUU8S1vxx"
      },
      "execution_count": null,
      "outputs": []
    },
    {
      "cell_type": "code",
      "source": [],
      "metadata": {
        "id": "gYPek_Fs2tAv"
      },
      "execution_count": null,
      "outputs": []
    },
    {
      "cell_type": "markdown",
      "source": [
        "#Describe the behavior of this system"
      ],
      "metadata": {
        "id": "VZbGdGOzDJqZ"
      }
    },
    {
      "cell_type": "markdown",
      "source": [
        "![image.png](data:image/png;base64,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)"
      ],
      "metadata": {
        "id": "8iymsdK6DNxW"
      }
    },
    {
      "cell_type": "markdown",
      "source": [
        "Newtons equations for this approximately modelled system will give\n",
        "\\begin{align*}\n",
        "m\\ddot{x}+c\\dot{x}+kx=F\n",
        "\\end{align*}\n",
        "\n",
        "This can be reduced to the form\n",
        "\n",
        "\\begin{align*}\n",
        "\\ddot{x}+2\\zeta \\omega_n\\dot{x}+\\omega_n^2x=\\frac{1}{m}F\n",
        "\\end{align*}\n",
        "where we have set $\\omega_n^2=k/m$ and $2\\zeta\\omega_n=c/m$."
      ],
      "metadata": {
        "id": "8LJpt-3HDi9I"
      }
    },
    {
      "cell_type": "markdown",
      "source": [
        "The transfer function representation of this system is\n",
        "\\begin{align*}\n",
        "X(s)=G(s)U(s)\n",
        "\\end{align*}\n",
        "where $U(s)=F(s)/m$ and\n",
        "\\begin{align*}\n",
        "G(s)=\\frac{1}{\\omega_{n}^{2} + 2 \\omega_{n} s \\zeta + s^{2}}\n",
        "\\end{align*}"
      ],
      "metadata": {
        "id": "C6r8f4pLEZMd"
      }
    },
    {
      "cell_type": "markdown",
      "source": [
        "This system can also be written down as a first order matrix ODE\n",
        "\\begin{align*}\n",
        "\\dot{Y}=AY+BF\n",
        "\\end{align*}\n",
        "where\n",
        "\\begin{align*}\n",
        "A=\\left[\\begin{matrix}0 & 1\\\\- \\omega_{n}^{2} & - 2 \\omega_{n} \\zeta\\end{matrix}\\right]\n",
        "\\end{align*}\n",
        "and\n",
        "\\begin{align*}\n",
        "B=\\left[\\begin{matrix}0 \\\\\\frac{1}{m}\\end{matrix}\\right]\n",
        "\\end{align*}"
      ],
      "metadata": {
        "id": "NKnYqRZTE9IW"
      }
    },
    {
      "cell_type": "code",
      "source": [
        "m=1; k=10; c=float(m*2*0.1*sqrt(k/m));\n",
        "A=np.array([[0,1],[-k/m,-c/m]]);\n",
        "[t,sol,fig]=mr.simulate_dy_system(LinearSystemModel, 10,0.01, [1,0], A, 'Spring Mass System', 'Time / t', 'x')"
      ],
      "metadata": {
        "id": "EQ59AA-ZBD0k"
      },
      "execution_count": null,
      "outputs": []
    },
    {
      "cell_type": "markdown",
      "source": [
        "#WEC"
      ],
      "metadata": {
        "id": "2qlj4qdQBBo6"
      }
    },
    {
      "cell_type": "markdown",
      "source": [
        "https://chatgpt.com/share/67558833-bb70-800b-9312-11b9ee8c0b6d"
      ],
      "metadata": {
        "id": "X7akM2yrHHoE"
      }
    },
    {
      "cell_type": "code",
      "source": [],
      "metadata": {
        "id": "9r5QxCYFBAo5"
      },
      "execution_count": null,
      "outputs": []
    }
  ]
}